{
 "cells": [
  {
   "cell_type": "markdown",
   "id": "48072217-c0ed-4657-9610-c3cca8d87556",
   "metadata": {
    "tags": []
   },
   "source": [
    "# Import Flight Datasets & Librairies"
   ]
  },
  {
   "cell_type": "code",
   "execution_count": 1,
   "id": "00cd2116-e279-405d-a4e9-b48c6dabb475",
   "metadata": {},
   "outputs": [],
   "source": [
    "import pandas as pd\n",
    "import numpy as np\n",
    "import matplotlib.pyplot as plt\n",
    "import seaborn as sns\n",
    "pd.set_option(\"display.max_columns\", 120)"
   ]
  },
  {
   "cell_type": "code",
   "execution_count": 2,
   "id": "6e96e3c2-37da-41ca-8f7e-10013c42f962",
   "metadata": {},
   "outputs": [],
   "source": [
    "flights_sample_train= pd.read_csv('../../data/raw/Cleaned-flights_sample_training.csv')\n",
    "flights_sample_test= pd.read_csv('../../data/raw/Cleaned-flights_sample_testing.csv')\n",
    "\n",
    "flights_test= pd.read_csv('../../data/raw/Cleaned-flights_test.csv')"
   ]
  },
  {
   "cell_type": "markdown",
   "id": "30a1b541-f89e-49f9-b121-b33043022069",
   "metadata": {},
   "source": [
    "Let's keep the first 7x days of Jan 2020 for the test, as requested."
   ]
  },
  {
   "cell_type": "code",
   "execution_count": 3,
   "id": "2bee03f9-f5db-44f6-8c1d-b50babee738f",
   "metadata": {},
   "outputs": [],
   "source": [
    "flights_test = flights_test[(flights_test['Flight Year'] == 2020) & (flights_test['Flight Month'] == 1) & (flights_test['Flight Day'] <= 7)]"
   ]
  },
  {
   "cell_type": "markdown",
   "id": "aaf9a01e-ad55-49df-bfc8-13563e67a7e6",
   "metadata": {
    "tags": []
   },
   "source": [
    "# STEP 3 - Feature Engineering"
   ]
  },
  {
   "cell_type": "markdown",
   "id": "4393c321-53c1-40e8-b19d-e9d981dd53ac",
   "metadata": {
    "tags": []
   },
   "source": [
    "## 3.1 - Importing enrichment data"
   ]
  },
  {
   "cell_type": "markdown",
   "id": "94c4ecdb-79cf-489a-9bc7-0aee99593805",
   "metadata": {
    "tags": []
   },
   "source": [
    "### 3.1a: Import weather info"
   ]
  },
  {
   "cell_type": "code",
   "execution_count": 4,
   "id": "f2db41d3-d85f-4b01-909c-d45da1ee2c71",
   "metadata": {},
   "outputs": [],
   "source": [
    "enr_weather = pd.read_csv(\"../../data/processed/flights_enrichment_weather.csv\")"
   ]
  },
  {
   "cell_type": "markdown",
   "id": "348064ff-960c-410b-a271-bf7d12a3ad1b",
   "metadata": {},
   "source": [
    "Add the weather of the departure airports"
   ]
  },
  {
   "cell_type": "code",
   "execution_count": 5,
   "id": "a77eacca-1ac3-4d48-92b3-289525a47ba1",
   "metadata": {},
   "outputs": [],
   "source": [
    "flights_sample_train = flights_sample_train.merge(enr_weather, how='left', left_on=['Flight Year', 'Flight Month', 'Flight Day', 'Origin Airport (IATA Code)'], right_on=['Year', 'Month', 'Day', 'iata_code'])\n",
    "flights_sample_test = flights_sample_test.merge(enr_weather, how='left', left_on=['Flight Year', 'Flight Month', 'Flight Day', 'Origin Airport (IATA Code)'], right_on=['Year', 'Month', 'Day', 'iata_code'])\n",
    "flights_test = flights_test.merge(enr_weather, how='left', left_on=['Flight Year', 'Flight Month', 'Flight Day', 'Origin Airport (IATA Code)'], right_on=['Year', 'Month', 'Day', 'iata_code'])\n"
   ]
  },
  {
   "cell_type": "markdown",
   "id": "423ac274-d671-4074-8f9f-7186ae1fd157",
   "metadata": {},
   "source": [
    "Add the weather of the destination airports"
   ]
  },
  {
   "cell_type": "code",
   "execution_count": 6,
   "id": "be53ab1c-bbdf-4951-a172-8691a5e8135c",
   "metadata": {},
   "outputs": [],
   "source": [
    "flights_sample_train = flights_sample_train.merge(enr_weather, how='left', left_on=['Flight Year', 'Flight Month', 'Flight Day', 'Destination Airport (IATA Code)'], right_on=['Year', 'Month', 'Day', 'iata_code'], suffixes=('_origin', '_destination'))\n",
    "flights_sample_test = flights_sample_test.merge(enr_weather, how='left', left_on=['Flight Year', 'Flight Month', 'Flight Day', 'Destination Airport (IATA Code)'], right_on=['Year', 'Month', 'Day', 'iata_code'], suffixes=('_origin', '_destination'))\n",
    "flights_test = flights_test.merge(enr_weather, how='left', left_on=['Flight Year', 'Flight Month', 'Flight Day', 'Destination Airport (IATA Code)'], right_on=['Year', 'Month', 'Day', 'iata_code'], suffixes=('_origin', '_destination'))"
   ]
  },
  {
   "cell_type": "code",
   "execution_count": 7,
   "id": "ab144de9-9363-4fa5-914e-af0281549d35",
   "metadata": {},
   "outputs": [],
   "source": [
    "flights_sample_test = flights_sample_test.drop(['Year_origin', 'Month_origin', 'Day_origin', 'iata_code_origin', 'Station_origin', 'Year_destination', 'Month_destination', 'Day_destination', 'iata_code_destination', 'Station_destination'], axis=1)\n",
    "flights_sample_train = flights_sample_train.drop(['Year_origin', 'Month_origin', 'Day_origin', 'iata_code_origin', 'Station_origin', 'Year_destination', 'Month_destination', 'Day_destination', 'iata_code_destination', 'Station_destination'], axis=1)\n",
    "flights_test = flights_test.drop(['Year_origin', 'Month_origin', 'Day_origin', 'iata_code_origin', 'Station_origin', 'Year_destination', 'Month_destination', 'Day_destination', 'iata_code_destination', 'Station_destination'], axis=1)"
   ]
  },
  {
   "cell_type": "markdown",
   "id": "3822c97d-f821-4d8f-b71d-4a4698615d0e",
   "metadata": {
    "tags": []
   },
   "source": [
    "### 3.1b: Import additional airport details"
   ]
  },
  {
   "cell_type": "code",
   "execution_count": 8,
   "id": "a4b0ab33-e2e4-46ba-9edb-420a84d4b9ea",
   "metadata": {
    "tags": []
   },
   "outputs": [],
   "source": [
    "enr_airport = pd.read_csv(\"../../data/processed/flights_enrichment_airportLocation.csv\")\n",
    "\n",
    "#Rename the columns\n",
    "enr_airport = enr_airport.rename(columns={\"type\":\"Airport Type\", \"iata_code\": \"Airport (IATA Code)\", \"latitude_deg\": \"Latitude\", \"longitude_deg\": \"Longitude\", \"local_region\": \"Region\", \"country_name\": \"Country\", \"elevation_ft\": \"Elevation (ft)\"})\n",
    "\n",
    "# Drop unrelevant columns\n",
    "enr_airport = enr_airport.drop(columns=[\"local_code\", \"name\", \"Region\", \"Country\"])\n",
    "\n",
    "enr_airport = enr_airport.dropna(subset=[\"Airport (IATA Code)\"])"
   ]
  },
  {
   "cell_type": "code",
   "execution_count": 9,
   "id": "c842a5b8-c360-4129-b1b2-bbc9fcc5ee82",
   "metadata": {},
   "outputs": [
    {
     "data": {
      "text/html": [
       "<div>\n",
       "<style scoped>\n",
       "    .dataframe tbody tr th:only-of-type {\n",
       "        vertical-align: middle;\n",
       "    }\n",
       "\n",
       "    .dataframe tbody tr th {\n",
       "        vertical-align: top;\n",
       "    }\n",
       "\n",
       "    .dataframe thead th {\n",
       "        text-align: right;\n",
       "    }\n",
       "</style>\n",
       "<table border=\"1\" class=\"dataframe\">\n",
       "  <thead>\n",
       "    <tr style=\"text-align: right;\">\n",
       "      <th></th>\n",
       "      <th>Airport (IATA Code)</th>\n",
       "      <th>Latitude</th>\n",
       "      <th>Longitude</th>\n",
       "      <th>Elevation (ft)</th>\n",
       "      <th>Airport Type</th>\n",
       "    </tr>\n",
       "  </thead>\n",
       "  <tbody>\n",
       "    <tr>\n",
       "      <th>0</th>\n",
       "      <td>LHR</td>\n",
       "      <td>51.470600</td>\n",
       "      <td>-0.461941</td>\n",
       "      <td>83.0</td>\n",
       "      <td>large_airport</td>\n",
       "    </tr>\n",
       "    <tr>\n",
       "      <th>1</th>\n",
       "      <td>LAX</td>\n",
       "      <td>33.942501</td>\n",
       "      <td>-118.407997</td>\n",
       "      <td>125.0</td>\n",
       "      <td>large_airport</td>\n",
       "    </tr>\n",
       "    <tr>\n",
       "      <th>2</th>\n",
       "      <td>ORD</td>\n",
       "      <td>41.978600</td>\n",
       "      <td>-87.904800</td>\n",
       "      <td>672.0</td>\n",
       "      <td>large_airport</td>\n",
       "    </tr>\n",
       "    <tr>\n",
       "      <th>3</th>\n",
       "      <td>JFK</td>\n",
       "      <td>40.639447</td>\n",
       "      <td>-73.779317</td>\n",
       "      <td>13.0</td>\n",
       "      <td>large_airport</td>\n",
       "    </tr>\n",
       "    <tr>\n",
       "      <th>4</th>\n",
       "      <td>ATL</td>\n",
       "      <td>33.636700</td>\n",
       "      <td>-84.428101</td>\n",
       "      <td>1026.0</td>\n",
       "      <td>large_airport</td>\n",
       "    </tr>\n",
       "    <tr>\n",
       "      <th>...</th>\n",
       "      <td>...</td>\n",
       "      <td>...</td>\n",
       "      <td>...</td>\n",
       "      <td>...</td>\n",
       "      <td>...</td>\n",
       "    </tr>\n",
       "    <tr>\n",
       "      <th>35564</th>\n",
       "      <td>MLV</td>\n",
       "      <td>-13.064900</td>\n",
       "      <td>142.453600</td>\n",
       "      <td>276.0</td>\n",
       "      <td>small_airport</td>\n",
       "    </tr>\n",
       "    <tr>\n",
       "      <th>35577</th>\n",
       "      <td>MEP</td>\n",
       "      <td>2.389148</td>\n",
       "      <td>103.874183</td>\n",
       "      <td>10.0</td>\n",
       "      <td>small_airport</td>\n",
       "    </tr>\n",
       "    <tr>\n",
       "      <th>35596</th>\n",
       "      <td>ETE</td>\n",
       "      <td>12.933000</td>\n",
       "      <td>36.167000</td>\n",
       "      <td>2650.0</td>\n",
       "      <td>small_airport</td>\n",
       "    </tr>\n",
       "    <tr>\n",
       "      <th>35687</th>\n",
       "      <td>MDO</td>\n",
       "      <td>59.449902</td>\n",
       "      <td>-146.307007</td>\n",
       "      <td>100.0</td>\n",
       "      <td>small_airport</td>\n",
       "    </tr>\n",
       "    <tr>\n",
       "      <th>35694</th>\n",
       "      <td>MQG</td>\n",
       "      <td>-22.010600</td>\n",
       "      <td>17.370000</td>\n",
       "      <td>5125.0</td>\n",
       "      <td>small_airport</td>\n",
       "    </tr>\n",
       "  </tbody>\n",
       "</table>\n",
       "<p>8035 rows × 5 columns</p>\n",
       "</div>"
      ],
      "text/plain": [
       "      Airport (IATA Code)   Latitude   Longitude  Elevation (ft)  \\\n",
       "0                     LHR  51.470600   -0.461941            83.0   \n",
       "1                     LAX  33.942501 -118.407997           125.0   \n",
       "2                     ORD  41.978600  -87.904800           672.0   \n",
       "3                     JFK  40.639447  -73.779317            13.0   \n",
       "4                     ATL  33.636700  -84.428101          1026.0   \n",
       "...                   ...        ...         ...             ...   \n",
       "35564                 MLV -13.064900  142.453600           276.0   \n",
       "35577                 MEP   2.389148  103.874183            10.0   \n",
       "35596                 ETE  12.933000   36.167000          2650.0   \n",
       "35687                 MDO  59.449902 -146.307007           100.0   \n",
       "35694                 MQG -22.010600   17.370000          5125.0   \n",
       "\n",
       "        Airport Type  \n",
       "0      large_airport  \n",
       "1      large_airport  \n",
       "2      large_airport  \n",
       "3      large_airport  \n",
       "4      large_airport  \n",
       "...              ...  \n",
       "35564  small_airport  \n",
       "35577  small_airport  \n",
       "35596  small_airport  \n",
       "35687  small_airport  \n",
       "35694  small_airport  \n",
       "\n",
       "[8035 rows x 5 columns]"
      ]
     },
     "execution_count": 9,
     "metadata": {},
     "output_type": "execute_result"
    }
   ],
   "source": [
    "enr_airport"
   ]
  },
  {
   "cell_type": "markdown",
   "id": "c442a014-17bf-432a-973b-1de302d7eb09",
   "metadata": {},
   "source": [
    "Add to departure airports"
   ]
  },
  {
   "cell_type": "code",
   "execution_count": 10,
   "id": "bd7843eb-27c1-4442-86c2-22bd9e098549",
   "metadata": {},
   "outputs": [],
   "source": [
    "flights_sample_train = flights_sample_train.merge(enr_airport, how='left', left_on='Origin Airport (IATA Code)', right_on='Airport (IATA Code)')\n",
    "flights_sample_test = flights_sample_test.merge(enr_airport, how='left', left_on='Origin Airport (IATA Code)', right_on='Airport (IATA Code)')\n",
    "flights_test = flights_test.merge(enr_airport, how='left', left_on='Origin Airport (IATA Code)', right_on='Airport (IATA Code)')"
   ]
  },
  {
   "cell_type": "markdown",
   "id": "ed1894f0-c948-4bd6-b4cc-b3b402fa32dc",
   "metadata": {},
   "source": [
    "Add to destination airports"
   ]
  },
  {
   "cell_type": "code",
   "execution_count": 11,
   "id": "1c72e041-0b1a-428f-bc8e-0d95fa679c21",
   "metadata": {},
   "outputs": [],
   "source": [
    "flights_sample_train = pd.merge(flights_sample_train, enr_airport, how='left', left_on='Destination Airport (IATA Code)', right_on='Airport (IATA Code)')\n",
    "flights_sample_test = pd.merge(flights_sample_test, enr_airport, how='left', left_on='Destination Airport (IATA Code)', right_on='Airport (IATA Code)')\n",
    "flights_test = pd.merge(flights_test, enr_airport, how='left', left_on='Destination Airport (IATA Code)', right_on='Airport (IATA Code)')"
   ]
  },
  {
   "cell_type": "markdown",
   "id": "96b3c123-c138-4ce0-b782-46ae7a4a1a04",
   "metadata": {},
   "source": [
    "Some final cleanup:"
   ]
  },
  {
   "cell_type": "code",
   "execution_count": 12,
   "id": "26fb7474-760e-4ab0-bddd-384d69f5352f",
   "metadata": {},
   "outputs": [],
   "source": [
    "flights_sample_train = flights_sample_train.drop(['Airport (IATA Code)_x', 'Airport (IATA Code)_y', 'Latitude_x', 'Latitude_y', 'Longitude_x', 'Longitude_y', 'Elevation (ft)_x', 'Elevation (ft)_y'], axis=1)\n",
    "flights_sample_train = flights_sample_train.rename(columns={'Airport Type_x': 'Airport Type_origin', 'Airport Type_y': 'Airport Type_destination'})\n",
    "\n",
    "flights_sample_test = flights_sample_test.drop(['Airport (IATA Code)_x', 'Airport (IATA Code)_y', 'Latitude_x', 'Latitude_y', 'Longitude_x', 'Longitude_y', 'Elevation (ft)_x', 'Elevation (ft)_y'], axis=1)\n",
    "flights_sample_test = flights_sample_test.rename(columns={'Airport Type_x': 'Airport Type_origin', 'Airport Type_y': 'Airport Type_destination'})\n",
    "\n",
    "flights_test = flights_test.drop(['Airport (IATA Code)_x', 'Airport (IATA Code)_y', 'Latitude_x', 'Latitude_y', 'Longitude_x', 'Longitude_y', 'Elevation (ft)_x', 'Elevation (ft)_y'], axis=1)\n",
    "flights_test = flights_test.rename(columns={'Airport Type_x': 'Airport Type_origin', 'Airport Type_y': 'Airport Type_destination'})"
   ]
  },
  {
   "cell_type": "markdown",
   "id": "5a5b8e9a-05a0-4b38-9e78-2fc470d11070",
   "metadata": {
    "tags": []
   },
   "source": [
    "### 3.1c: Add Airport Busyness Score"
   ]
  },
  {
   "cell_type": "code",
   "execution_count": 13,
   "id": "a6e1639d-605f-480f-adfc-8438167ce0fd",
   "metadata": {},
   "outputs": [],
   "source": [
    "busyness_scores = pd.read_csv('../../data/processed/flights_enrichment_busyness_score.csv')"
   ]
  },
  {
   "cell_type": "markdown",
   "id": "66e9314c-f06b-4b65-9621-6f812d153741",
   "metadata": {},
   "source": [
    "Create an ID column for each arrival / departure airports"
   ]
  },
  {
   "cell_type": "code",
   "execution_count": 14,
   "id": "ff7e2000-8a7d-4d4a-bdd4-35ec17212ee5",
   "metadata": {},
   "outputs": [],
   "source": [
    "flights_sample_train['OriginID'] = flights_sample_train['Flight Year'].astype(str) + \"-\" + flights_sample_train['Flight Month'].astype(str) + \"-\" +  flights_sample_train['Flight Day'].astype(str) + \"-\" +  flights_sample_train['Origin Airport (IATA Code)'].astype(str)\n",
    "flights_sample_train['ArrivalID'] = flights_sample_train['Flight Year'].astype(str) + \"-\" + flights_sample_train['Flight Month'].astype(str) + \"-\" +  flights_sample_train['Flight Day'].astype(str) + \"-\" +  flights_sample_train['Destination Airport (IATA Code)'].astype(str)\n",
    "\n",
    "flights_sample_test['OriginID'] = flights_sample_test['Flight Year'].astype(str) + \"-\" + flights_sample_test['Flight Month'].astype(str) + \"-\" +  flights_sample_test['Flight Day'].astype(str) + \"-\" +  flights_sample_test['Origin Airport (IATA Code)'].astype(str)\n",
    "flights_sample_test['ArrivalID'] = flights_sample_test['Flight Year'].astype(str) + \"-\" + flights_sample_test['Flight Month'].astype(str) + \"-\" +  flights_sample_test['Flight Day'].astype(str) + \"-\" +  flights_sample_test['Destination Airport (IATA Code)'].astype(str)\n",
    "\n",
    "flights_test['OriginID'] = flights_test['Flight Year'].astype(str) + \"-\" + flights_test['Flight Month'].astype(str) + \"-\" +  flights_test['Flight Day'].astype(str) + \"-\" +  flights_test['Origin Airport (IATA Code)'].astype(str)\n",
    "flights_test['ArrivalID'] = flights_test['Flight Year'].astype(str) + \"-\" + flights_test['Flight Month'].astype(str) + \"-\" +  flights_test['Flight Day'].astype(str) + \"-\" +  flights_test['Destination Airport (IATA Code)'].astype(str)"
   ]
  },
  {
   "cell_type": "markdown",
   "id": "951e2d7e-8e56-4aca-a529-fb95ea6af98e",
   "metadata": {},
   "source": [
    "Add the data to the flights"
   ]
  },
  {
   "cell_type": "code",
   "execution_count": 15,
   "id": "77d3bd83-c25e-496f-b8a4-e02fa67f71d6",
   "metadata": {},
   "outputs": [],
   "source": [
    "flights_sample_train = pd.merge(flights_sample_train, busyness_scores, how='left', left_on='OriginID', right_on='ID')\n",
    "flights_sample_train = pd.merge(flights_sample_train, busyness_scores, how='left', left_on='ArrivalID', right_on='ID')\n",
    "flights_sample_train = flights_sample_train.drop(['ID_x', 'ID_y'], axis=1)\n",
    "\n",
    "flights_sample_test = pd.merge(flights_sample_test, busyness_scores, how='left', left_on='OriginID', right_on='ID')\n",
    "flights_sample_test = pd.merge(flights_sample_test, busyness_scores, how='left', left_on='ArrivalID', right_on='ID')\n",
    "flights_sample_test = flights_sample_test.drop(['ID_x', 'ID_y'], axis=1)\n",
    "\n",
    "flights_test = pd.merge(flights_test, busyness_scores, how='left', left_on='OriginID', right_on='ID')\n",
    "flights_test = pd.merge(flights_test, busyness_scores, how='left', left_on='ArrivalID', right_on='ID')\n",
    "flights_test = flights_test.drop(['ID_x', 'ID_y'], axis=1)"
   ]
  },
  {
   "cell_type": "markdown",
   "id": "d4de0430-9e68-4665-bc1e-51d2990ae5d8",
   "metadata": {},
   "source": [
    "Let's do a bit of cleaning"
   ]
  },
  {
   "cell_type": "code",
   "execution_count": 16,
   "id": "cbfafe80-d0fc-4e00-97db-afb3fa65b3c9",
   "metadata": {},
   "outputs": [],
   "source": [
    "# remove  the x and y columns\n",
    "flights_sample_test = flights_sample_test.drop(['Flight Year_y', 'Flight Month_y', 'Flight Day_y', 'Flight Weekday_y', 'Airport (IATA Code)_y', 'Flight Year_x', 'Flight Month_x', 'Flight Day_x', 'Flight Weekday_x', 'Airport (IATA Code)_x'], axis=1)\n",
    "flights_sample_train = flights_sample_train.drop(['Flight Year_y', 'Flight Month_y', 'Flight Day_y', 'Flight Weekday_y', 'Airport (IATA Code)_y', 'Flight Year_x', 'Flight Month_x', 'Flight Day_x', 'Flight Weekday_x', 'Airport (IATA Code)_x'], axis=1)\n",
    "flights_test = flights_test.drop(['Flight Year_y', 'Flight Month_y', 'Flight Day_y', 'Flight Weekday_y', 'Airport (IATA Code)_y', 'Flight Year_x', 'Flight Month_x', 'Flight Day_x', 'Flight Weekday_x', 'Airport (IATA Code)_x'], axis=1)\n",
    "\n",
    "#rename the average flights, busyness score columns and flights count columns x to origin and y to destination\n",
    "flights_sample_test = flights_sample_test.rename(columns={'Flights Count_x': 'Flights Count_origin', 'Average Flights Per Day_x': 'Average Flights Per Day_origin', 'Busyness Score_x': 'Busyness Score_origin', 'Flights Count_y': 'Flights Count_destination', 'Average Flights Per Day_y': 'Average Flights Per Day_destination', 'Busyness Score_y': 'Busyness Score_destination'})\n",
    "flights_sample_train = flights_sample_train.rename(columns={'Flights Count_x': 'Flights Count_origin', 'Average Flights Per Day_x': 'Average Flights Per Day_origin', 'Busyness Score_x': 'Busyness Score_origin', 'Flights Count_y': 'Flights Count_destination', 'Average Flights Per Day_y': 'Average Flights Per Day_destination', 'Busyness Score_y': 'Busyness Score_destination'})\n",
    "flights_test = flights_test.rename(columns={'Flights Count_x': 'Flights Count_origin', 'Average Flights Per Day_x': 'Average Flights Per Day_origin', 'Busyness Score_x': 'Busyness Score_origin', 'Flights Count_y': 'Flights Count_destination', 'Average Flights Per Day_y': 'Average Flights Per Day_destination', 'Busyness Score_y': 'Busyness Score_destination'})\n",
    "\n",
    "#delete origin and arrival id columns\n",
    "flights_sample_test = flights_sample_test.drop(['OriginID', 'ArrivalID'], axis=1)\n",
    "flights_sample_train = flights_sample_train.drop(['OriginID', 'ArrivalID'], axis=1)\n",
    "flights_test = flights_test.drop(['OriginID', 'ArrivalID'], axis=1)\n"
   ]
  },
  {
   "cell_type": "markdown",
   "id": "2fad9e2f-67ac-48e0-9a09-41abd883a9a9",
   "metadata": {
    "tags": []
   },
   "source": [
    "### Add additional loading and passenger details"
   ]
  },
  {
   "cell_type": "code",
   "execution_count": 17,
   "id": "2093f841-f8bc-4fa2-9ac9-4804df415b3d",
   "metadata": {},
   "outputs": [],
   "source": [
    "passengers = pd.read_csv(\"../../data/processed/flights_enrichment_avgpayload_passengers.csv\", index_col=False)\n",
    "\n",
    "# Cleaning\n",
    "passengers = passengers.rename(columns={\"averagepayload_lbs\": \"Average payload (lbs)\", \"availableseats\": \"Average number of available seats\", \"distanceinterval_x500mi\": \"Distance interval (x500mi)\", \"aircraftgroup\": \"Aircraft group\", \"aircrafttype\": \"Aircraft type\", \"aircraftconfiguration\": \"Aircraft configuration\", \"serviceclass\": \"Service class\"})\n",
    "passengers = passengers.drop(columns=[\"Unnamed: 0\"])"
   ]
  },
  {
   "cell_type": "code",
   "execution_count": 18,
   "id": "dd835ad3-9ede-4ee1-9553-53c2f32bdf10",
   "metadata": {},
   "outputs": [
    {
     "name": "stdout",
     "output_type": "stream",
     "text": [
      "<class 'pandas.core.frame.DataFrame'>\n",
      "RangeIndex: 170839 entries, 0 to 170838\n",
      "Data columns (total 11 columns):\n",
      " #   Column                                Non-Null Count   Dtype  \n",
      "---  ------                                --------------   -----  \n",
      " 0   routeid                               170839 non-null  object \n",
      " 1   Proportion of freight to the payload  48469 non-null   float64\n",
      " 2   Proportion of mail to the payload     11770 non-null   float64\n",
      " 3   Proportion of filled seats            124271 non-null  float64\n",
      " 4   Average payload (lbs)                 170221 non-null  float64\n",
      " 5   Average number of available seats     144940 non-null  float64\n",
      " 6   Distance interval (x500mi)            68999 non-null   float64\n",
      " 7   Aircraft group                        170839 non-null  object \n",
      " 8   Aircraft type                         170839 non-null  object \n",
      " 9   Aircraft configuration                170839 non-null  object \n",
      " 10  Service class                         170839 non-null  object \n",
      "dtypes: float64(6), object(5)\n",
      "memory usage: 14.3+ MB\n"
     ]
    }
   ],
   "source": [
    "passengers.info()"
   ]
  },
  {
   "cell_type": "code",
   "execution_count": 19,
   "id": "852b2d36-5ca0-41af-b2bc-bc06c71c8735",
   "metadata": {},
   "outputs": [],
   "source": [
    "# Create routeid column (used to add enrichment)\n",
    "flights_sample_train['routeid'] = flights_sample_train['Operator - Unique Carrier Code'] + '-' + flights_sample_train['Origin Airport (IATA Code)'] + '-' + flights_sample_train['Destination Airport (IATA Code)']\n",
    "flights_sample_test['routeid'] = flights_sample_test['Operator - Unique Carrier Code'] + '-' + flights_sample_test['Origin Airport (IATA Code)'] + '-' + flights_sample_test['Destination Airport (IATA Code)']\n",
    "flights_test['routeid'] = flights_test['Operator - Unique Carrier Code'] + '-' + flights_test['Origin Airport (IATA Code)'] + '-' + flights_test['Destination Airport (IATA Code)']"
   ]
  },
  {
   "cell_type": "code",
   "execution_count": 20,
   "id": "0b8739c6-0b74-45b8-9fd0-a0f464852b96",
   "metadata": {},
   "outputs": [],
   "source": [
    "# Adding the enrichment\n",
    "flights_sample_train = flights_sample_train.merge(passengers, on=\"routeid\", how=\"left\", suffixes=(\"_1\", \"_2\"))\n",
    "flights_sample_test = flights_sample_test.merge(passengers, on=\"routeid\", how=\"left\", suffixes=(\"_1\", \"_2\"))\n",
    "flights_test = flights_test.merge(passengers, on=\"routeid\", how=\"left\", suffixes=(\"_1\", \"_2\"))\n",
    "\n",
    "# Drop the routeid column\n",
    "flights_sample_train = flights_sample_train.drop(columns=[\"routeid\"])\n",
    "flights_sample_test = flights_sample_test.drop(columns=[\"routeid\"])\n",
    "flights_test = flights_test.drop(columns=[\"routeid\"])"
   ]
  },
  {
   "cell_type": "markdown",
   "id": "eebf45b4-9e09-45eb-9613-a46495bf2161",
   "metadata": {},
   "source": [
    "### Reordering the columns"
   ]
  },
  {
   "cell_type": "code",
   "execution_count": 21,
   "id": "fd08fb65-60af-4837-a84f-47272ad750f2",
   "metadata": {},
   "outputs": [],
   "source": [
    "flights_sample_train = flights_sample_train[['Marketer - Unique Carrier Code', 'Operator - Unique Carrier Code', 'Different Marketer & Operator Carrier Code', 'Tail Number', 'Flight Number', 'Flight Year', 'Flight Month', 'Flight Day', 'Flight Weekday', 'Aircraft group', 'Aircraft type', 'Aircraft configuration', 'Service class', 'Proportion of freight to the payload', 'Proportion of mail to the payload', 'Proportion of filled seats', 'Average payload (lbs)', 'Average number of available seats', 'Distance interval (x500mi)', 'Distance (miles)', 'Scheduled Elapsed Time', 'Origin Airport (IATA Code)', 'Airport Type_origin', 'Flights Count_origin', 'Average Flights Per Day_origin', 'Busyness Score_origin', 'Scheduled Departure Time (local time)', 'Scheduled hour of departure', 'Precipitation (mm)_origin', 'Snowfall (mm)_origin', 'Maximum Temperature (*C)_origin', 'Avg Pressure for the day (hPa)_origin', 'Avg Wind Speed (m/s)_origin', 'Avg Humidity (%)_origin', 'Fog_origin', 'Thunder_origin', 'Smoke_or_Haze_origin', 'Destination Airport (IATA Code)', 'Airport Type_destination', 'Flights Count_destination', 'Average Flights Per Day_destination', 'Busyness Score_destination', 'Scheduled Arrival Time (local time)', 'Scheduled hour of arrival', 'Precipitation (mm)_destination', 'Snowfall (mm)_destination', 'Maximum Temperature (*C)_destination', 'Avg Pressure for the day (hPa)_destination', 'Avg Wind Speed (m/s)_destination', 'Avg Humidity (%)_destination', 'Fog_destination', 'Thunder_destination', 'Smoke_or_Haze_destination', 'Departure Delay (minutes)', 'Arrival Delay (minutes)', 'Carrier Delay (minutes)', 'Weather Delay (minutes)', 'National Air System Delay (minutes)', 'Security Delay (minutes)', 'Late Aircraft Delay (minutes)', 'cancelled', 'cancellation_code', 'diverted']]\n",
    "\n",
    "flights_sample_test = flights_sample_test[['Marketer - Unique Carrier Code', 'Operator - Unique Carrier Code', 'Different Marketer & Operator Carrier Code', 'Tail Number', 'Flight Number', 'Flight Year', 'Flight Month', 'Flight Day', 'Flight Weekday', 'Aircraft group', 'Aircraft type', 'Aircraft configuration', 'Service class', 'Proportion of freight to the payload', 'Proportion of mail to the payload', 'Proportion of filled seats', 'Average payload (lbs)', 'Average number of available seats', 'Distance interval (x500mi)', 'Distance (miles)', 'Scheduled Elapsed Time', 'Origin Airport (IATA Code)', 'Airport Type_origin', 'Flights Count_origin', 'Average Flights Per Day_origin', 'Busyness Score_origin', 'Scheduled Departure Time (local time)', 'Scheduled hour of departure', 'Precipitation (mm)_origin', 'Snowfall (mm)_origin', 'Maximum Temperature (*C)_origin', 'Avg Pressure for the day (hPa)_origin', 'Avg Wind Speed (m/s)_origin', 'Avg Humidity (%)_origin', 'Fog_origin', 'Thunder_origin', 'Smoke_or_Haze_origin', 'Destination Airport (IATA Code)', 'Airport Type_destination', 'Flights Count_destination', 'Average Flights Per Day_destination', 'Busyness Score_destination', 'Scheduled Arrival Time (local time)', 'Scheduled hour of arrival', 'Precipitation (mm)_destination', 'Snowfall (mm)_destination', 'Maximum Temperature (*C)_destination', 'Avg Pressure for the day (hPa)_destination', 'Avg Wind Speed (m/s)_destination', 'Avg Humidity (%)_destination', 'Fog_destination', 'Thunder_destination', 'Smoke_or_Haze_destination', 'Departure Delay (minutes)', 'Arrival Delay (minutes)', 'Carrier Delay (minutes)', 'Weather Delay (minutes)', 'National Air System Delay (minutes)', 'Security Delay (minutes)', 'Late Aircraft Delay (minutes)', 'cancelled', 'cancellation_code', 'diverted']]\n",
    "\n",
    "flights_test = flights_test[['Marketer - Unique Carrier Code', 'Operator - Unique Carrier Code', 'Different Marketer & Operator Carrier Code', 'Tail Number', 'Flight Number', 'Flight Year', 'Flight Month', 'Flight Day', 'Flight Weekday', 'Aircraft group', 'Aircraft type', 'Aircraft configuration', 'Service class', 'Proportion of freight to the payload', 'Proportion of mail to the payload', 'Proportion of filled seats', 'Average payload (lbs)', 'Average number of available seats', 'Distance interval (x500mi)', 'Distance (miles)', 'Scheduled Elapsed Time', 'Origin Airport (IATA Code)', 'Airport Type_origin', 'Flights Count_origin', 'Average Flights Per Day_origin', 'Busyness Score_origin', 'Scheduled Departure Time (local time)', 'Scheduled hour of departure', 'Precipitation (mm)_origin', 'Snowfall (mm)_origin', 'Maximum Temperature (*C)_origin', 'Avg Pressure for the day (hPa)_origin', 'Avg Wind Speed (m/s)_origin', 'Avg Humidity (%)_origin', 'Fog_origin', 'Thunder_origin', 'Smoke_or_Haze_origin', 'Destination Airport (IATA Code)', 'Airport Type_destination', 'Flights Count_destination', 'Average Flights Per Day_destination', 'Busyness Score_destination', 'Scheduled Arrival Time (local time)', 'Scheduled hour of arrival', 'Precipitation (mm)_destination', 'Snowfall (mm)_destination', 'Maximum Temperature (*C)_destination', 'Avg Pressure for the day (hPa)_destination', 'Avg Wind Speed (m/s)_destination', 'Avg Humidity (%)_destination', 'Fog_destination', 'Thunder_destination', 'Smoke_or_Haze_destination']]\n"
   ]
  },
  {
   "cell_type": "markdown",
   "id": "fec2b143-d7c7-4a6c-802f-c43c4ad50988",
   "metadata": {},
   "source": [
    "## 3.2 - Variable Transformation"
   ]
  },
  {
   "cell_type": "markdown",
   "id": "42f69b2b-c785-4d4f-ba09-3171b4e501f9",
   "metadata": {
    "tags": []
   },
   "source": [
    "### Drop"
   ]
  },
  {
   "cell_type": "raw",
   "id": "26797d75-bd19-4c6e-8b7c-5fbffe9fd4db",
   "metadata": {},
   "source": [
    "flights_sample.drop('averagefreight_lbs', axis=1, inplace=True) \n",
    "flights_sample.drop('averagemail_lbs', axis=1, inplace=True) \n",
    "flights_sample.drop('averagepassengers', axis=1, inplace=True) \n",
    "flights_sample.drop('Scheduled Arrival Time (local time)', axis=1, inplace=True) \n",
    "flights_sample.drop('Scheduled Departure Time (local time)', axis=1, inplace=True) \n",
    "\n",
    "flights_sample.drop('Flight Year', axis=1, inplace=True) \n",
    "flights_sample.drop('Marketer - Unique Carrier Code', axis=1, inplace=True) \n",
    "#flights_sample.drop('Operator - Unique Carrier Code', axis=1, inplace=True)\n",
    "flights_sample.drop('TAVG (*C)_dep', axis=1, inplace=True) \n",
    "flights_sample.drop('TAVG (*C)_arr', axis=1, inplace=True) \n",
    "\n",
    "flights_sample.drop('Tail Number', axis=1, inplace=True) \n",
    "flights_sample.drop('Distance (miles)', axis=1, inplace=True) \n",
    "flights_sample.drop('Flight Number', axis=1, inplace=True) \n",
    "flights_sample.drop('Origin Airport (IATA Code)', axis=1, inplace=True) \n",
    "flights_sample.drop('TMAX (*C)_dep', axis=1, inplace=True) \n",
    "flights_sample.drop('TMIN (*C)_dep', axis=1, inplace=True) \n",
    "flights_sample.drop('latitude_deg_dep', axis=1, inplace=True) \n",
    "flights_sample.drop('longitude_deg_dep', axis=1, inplace=True) \n",
    "flights_sample.drop('local_region_dep', axis=1, inplace=True) \n",
    "flights_sample.drop('Destination Airport (IATA Code)', axis=1, inplace=True) \n",
    "flights_sample.drop('TMAX (*C)_arr', axis=1, inplace=True) \n",
    "flights_sample.drop('TMIN (*C)_arr', axis=1, inplace=True) \n",
    "flights_sample.drop('latitude_deg_arr', axis=1, inplace=True) \n",
    "flights_sample.drop('longitude_deg_arr', axis=1, inplace=True) \n",
    "flights_sample.drop('local_region_arr', axis=1, inplace=True) "
   ]
  },
  {
   "cell_type": "markdown",
   "id": "4768baab-412a-4749-ba37-2272cfe4ff48",
   "metadata": {
    "tags": []
   },
   "source": [
    "### Bin"
   ]
  },
  {
   "cell_type": "code",
   "execution_count": null,
   "id": "fa2c03a1-d605-4a27-994b-806cee65d170",
   "metadata": {},
   "outputs": [],
   "source": []
  },
  {
   "cell_type": "markdown",
   "id": "eff916f5-ba32-41f7-a906-465451a08d4a",
   "metadata": {
    "tags": []
   },
   "source": [
    "### Scale"
   ]
  },
  {
   "cell_type": "raw",
   "id": "df5b45b7-2afa-4c32-b691-e88c53f086a6",
   "metadata": {},
   "source": [
    "scaler = MinMaxScaler()\n",
    "scaler.fit(flights_sample[['Scheduled Elapsed Time']])\n",
    "flights_sample['Scheduled Elapsed Time'] = scaler.transform(flights_sample[['Scheduled Elapsed Time']])\n",
    "\n",
    "scaler = MinMaxScaler()\n",
    "scaler.fit(flights_sample[['averagepayload_lbs']])\n",
    "flights_sample['averagepayload_lbs'] = scaler.transform(flights_sample[['averagepayload_lbs']])\n",
    "\n",
    "scaler = MinMaxScaler()\n",
    "scaler.fit(flights_sample[['PRCP (mm)_dep']])\n",
    "flights_sample['PRCP (mm)_dep'] = scaler.transform(flights_sample[['PRCP (mm)_dep']])\n",
    "\n",
    "scaler = MinMaxScaler()\n",
    "scaler.fit(flights_sample[['SNOW (mm)_dep']])\n",
    "flights_sample['SNOW (mm)_dep'] = scaler.transform(flights_sample[['SNOW (mm)_dep']])\n",
    "\n",
    "scaler = MinMaxScaler()\n",
    "scaler.fit(flights_sample[['elevation_ft_dep']])\n",
    "flights_sample['elevation_ft_dep'] = scaler.transform(flights_sample[['elevation_ft_dep']])\n",
    "\n",
    "scaler = MinMaxScaler()\n",
    "scaler.fit(flights_sample[['Departure Busyness Score']])\n",
    "flights_sample['Departure Busyness Score'] = scaler.transform(flights_sample[['Departure Busyness Score']])\n",
    "\n",
    "scaler = MinMaxScaler()\n",
    "scaler.fit(flights_sample[['PRCP (mm)_arr']])\n",
    "flights_sample['PRCP (mm)_arr'] = scaler.transform(flights_sample[['PRCP (mm)_arr']])\n",
    "\n",
    "scaler = MinMaxScaler()\n",
    "scaler.fit(flights_sample[['SNOW (mm)_arr']])\n",
    "flights_sample['SNOW (mm)_arr'] = scaler.transform(flights_sample[['SNOW (mm)_arr']])\n",
    "\n",
    "scaler = MinMaxScaler()\n",
    "scaler.fit(flights_sample[['elevation_ft_arr']])\n",
    "flights_sample['elevation_ft_arr'] = scaler.transform(flights_sample[['elevation_ft_arr']])"
   ]
  },
  {
   "cell_type": "markdown",
   "id": "eeb2154a-52de-4ebe-8138-4a89b08e5e20",
   "metadata": {
    "tags": []
   },
   "source": [
    "### Dummy Variables"
   ]
  },
  {
   "cell_type": "raw",
   "id": "12f7c3e2-95c6-4caa-88d4-8b0e36ba7fed",
   "metadata": {},
   "source": [
    "flights_sample = pd.get_dummies(flights_sample, columns=['Operator - Unique Carrier Code'], drop_first=False)\n",
    "flights_sample = pd.get_dummies(flights_sample, columns=['serviceclass'], drop_first=False)\n",
    "flights_sample = pd.get_dummies(flights_sample, columns=['Hour of departure'], drop_first=False)\n",
    "flights_sample = pd.get_dummies(flights_sample, columns=['Hour of arrival'], drop_first=False)\n",
    "flights_sample = pd.get_dummies(flights_sample, columns=['type_arr'], drop_first=False)\n",
    "flights_sample = pd.get_dummies(flights_sample, columns=['type_dep'], drop_first=False)"
   ]
  },
  {
   "cell_type": "markdown",
   "id": "34f79549-d273-4b3e-abc7-24d59320fd76",
   "metadata": {
    "tags": []
   },
   "source": [
    "### Rename"
   ]
  },
  {
   "cell_type": "raw",
   "id": "a23d7361-90fc-4d32-9667-3a380d7fe650",
   "metadata": {
    "tags": []
   },
   "source": [
    "flights_sample.rename(columns={'distanceinterval_x500mi': 'Distance Interval (x500 mi)'}, inplace=True)\n",
    "flights_sample.rename(columns={'Scheduled Elapsed Time': 'Scheduled Flight Time'}, inplace=True)\n",
    "flights_sample.rename(columns={'averagepayload_lbs': 'Average Payload (lbs)'}, inplace=True)\n",
    "flights_sample.rename(columns={'averagefreight_lbs': 'Average Freight (lbs)'}, inplace=True)\n",
    "flights_sample.rename(columns={'averagemail_lbs': 'Average Mail (lbs)'}, inplace=True)\n",
    "flights_sample.rename(columns={'availableseats': 'Available Seats (avg)'}, inplace=True)\n",
    "flights_sample.rename(columns={'averagepassengers': 'Filled Seats (avg)'}, inplace=True)\n",
    "flights_sample.rename(columns={'aircraftgroup': 'Aircraft Group'}, inplace=True)\n",
    "flights_sample.rename(columns={'aircrafttype': 'Aircraft Type'}, inplace=True)\n",
    "flights_sample.rename(columns={'aircraftconfiguration': 'Aircraft Configuration'}, inplace=True)\n",
    "flights_sample.rename(columns={'serviceclass': 'Service Class'}, inplace=True)\n",
    "flights_sample.rename(columns={'Scheduled Departure Time (local time)': 'Scheduled Departure Hour'}, inplace=True)\n",
    "flights_sample.rename(columns={'TAVG (*C)_dep': 'Departure Airport - Average Daily Temperature (*C)'}, inplace=True)\n",
    "flights_sample.rename(columns={'PRCP (mm)_dep': 'Departure Airport - Precipitation (mm)'}, inplace=True)\n",
    "flights_sample.rename(columns={'SNOW (mm)_dep': 'Departure Airport - Snow Fall (mm)'}, inplace=True)\n",
    "flights_sample.rename(columns={'Fog_dep': 'Departure Airport - Fog'}, inplace=True)\n",
    "flights_sample.rename(columns={'Heavy_Fog_dep': 'Departure Airport - Heavy Fog'}, inplace=True)\n",
    "flights_sample.rename(columns={'Thunder_dep': 'Departure Airport - Thunder'}, inplace=True)\n",
    "flights_sample.rename(columns={'Ice_Pellets_dep': 'Departure Airport - Ice Pellets'}, inplace=True)\n",
    "flights_sample.rename(columns={'Hail_dep': 'Departure Airport - Hail'}, inplace=True)\n",
    "flights_sample.rename(columns={'Glaze_or_Rime_dep': 'Departure Airport - Glaze or Rime'}, inplace=True)\n",
    "flights_sample.rename(columns={'Dust_or_Sand_dep': 'Departure Airport - Dust/Sand'}, inplace=True)\n",
    "flights_sample.rename(columns={'Smoke_or_Haze_dep': 'Departure Airport - Snow / Haze'}, inplace=True)\n",
    "flights_sample.rename(columns={'Blowing or Drifting Snow_dep': 'Departure Airport - Blowing/Dirfting Snow'}, inplace=True)\n",
    "flights_sample.rename(columns={'Tornado_or_Funnel_Cloud_dep': 'Departure Airport - Tornado / Funnel Cloud'}, inplace=True)\n",
    "flights_sample.rename(columns={'High_or_Damaging_Winds_dep': 'Departure Airport - High / Damaging Winds'}, inplace=True)\n",
    "flights_sample.rename(columns={'elevation_ft_dep': 'Departure Airport - Elevation (ft)'}, inplace=True)\n",
    "flights_sample.rename(columns={'TAVG (*C)_arr': 'Arrival Airport - Average Daily Temperature (*C)'}, inplace=True)\n",
    "flights_sample.rename(columns={'PRCP (mm)_arr': 'Arrival Airport - Precipitation (mm)'}, inplace=True)\n",
    "flights_sample.rename(columns={'SNOW (mm)_arr': 'Arrival Airport - Snow Fall (mm)'}, inplace=True)\n",
    "flights_sample.rename(columns={'Fog_arr': 'Arrival Airport - Fog'}, inplace=True)\n",
    "flights_sample.rename(columns={'Heavy_Fog_arr': 'Arrival Airport - Heavy Fog'}, inplace=True)\n",
    "flights_sample.rename(columns={'Thunder_arr': 'Arrival Airport - Thunder'}, inplace=True)\n",
    "flights_sample.rename(columns={'Ice_Pellets_arr': 'Arrival Airport - Ice Pellets'}, inplace=True)\n",
    "flights_sample.rename(columns={'Hail_arr': 'Arrival Airport - Hail'}, inplace=True)\n",
    "flights_sample.rename(columns={'Glaze_or_Rime_arr': 'Arrival Airport - Glaze or Rime'}, inplace=True)\n",
    "flights_sample.rename(columns={'Dust_or_Sand_arr': 'Arrival Airport - Dust/Sand'}, inplace=True)\n",
    "flights_sample.rename(columns={'Smoke_or_Haze_arr': 'Arrival Airport - Snow / Haze'}, inplace=True)\n",
    "flights_sample.rename(columns={'Blowing or Drifting Snow_arr': 'Arrival Airport - Blowing/Dirfting Snow'}, inplace=True)\n",
    "flights_sample.rename(columns={'Tornado_or_Funnel_Cloud_arr': 'Arrival Airport - Tornado / Funnel Cloud'}, inplace=True)\n",
    "flights_sample.rename(columns={'High_or_Damaging_Winds_arr': 'Arrival Airport - High / Damaging Winds'}, inplace=True)\n",
    "flights_sample.rename(columns={'elevation_ft_arr': 'Arrival Airport - Elevation (ft)'}, inplace=True)\n",
    "#flights_sample.rename(columns={'type_dep': 'Departure Airport - Type'}, inplace=True)\n",
    "#flights_sample.rename(columns={'type_arr': 'Arrival Airport - Type'}, inplace=True)"
   ]
  },
  {
   "cell_type": "markdown",
   "id": "90838a24-416f-4d5b-a8c9-231decdb4e60",
   "metadata": {},
   "source": [
    "### Handling NaNs (To be completed)"
   ]
  },
  {
   "cell_type": "code",
   "execution_count": 22,
   "id": "b038d82b-0a64-4225-8c98-437dd86c6d2c",
   "metadata": {
    "tags": []
   },
   "outputs": [],
   "source": [
    "#dataCleaning(flights_sample, code=True, tips=False, orientation=False, formatIssues=False, missingValues=True, duplicateValues=False, outliers=False)"
   ]
  },
  {
   "cell_type": "raw",
   "id": "8f092c85-a442-412c-8ade-f0a38fbcf29a",
   "metadata": {},
   "source": [
    "#5920 missing values - Fill with zeros (switch to comment to drop)\n",
    "flights_sample['Distance Interval (x500 mi)'].fillna(0, inplace=True)\n",
    "flights_sample['Aircraft Group'].fillna(0, inplace=True) \n",
    "flights_sample['Aircraft Type'].fillna(0, inplace=True) \n",
    "flights_sample['Aircraft Configuration'].fillna(0, inplace=True) \n",
    "\n",
    "# 1 missing value from payload which affects freight and mail (switch to comment to drop)\n",
    "# flights_sample['Average Payload (lbs)'].fillna(0, inplace=True) \n",
    "# flights_sample['Proportion of freight to the payload'].fillna(0, inplace=True) \n",
    "# flights_sample['Proportion of mail to the payload'].fillna(0, inplace=True) \n",
    "\n",
    "# Proportion of filled seats : 223  missing values  (switch to comment to drop)\n",
    "# flights_sample['Available Seats (avg)'].fillna(0, inplace=True) \n",
    "\n",
    "# Missing values for Precipitation (mm) ~ 2300  missing values each. Replace with 0 (switch to comment to drop)\n",
    "flights_sample['Departure Airport - Precipitation (mm)'].fillna(0, inplace=True) \n",
    "flights_sample['Arrival Airport - Precipitation (mm)'].fillna(0, inplace=True) \n",
    "\n",
    "# Missing values for Snow Fall (mm) : ~ 14000  missing values. Replace with 0 (switch to comment to drop)\n",
    "flights_sample['Departure Airport - Snow Fall (mm)'].fillna(0, inplace=True) \n",
    "flights_sample['Arrival Airport - Snow Fall (mm)'].fillna(0, inplace=True) \n",
    "\n",
    "# Missing values for Elevation (ft) : ~40  missing values each. \n",
    "## Further investigate ##################################################################################################################################################################\n",
    "## For now, dropping these rows just to test the mode\n",
    "\n",
    "# Binary columns that have NaN instead of 0\n",
    "flights_sample['Departure Airport - Fog'].fillna(0, inplace=True) \n",
    "flights_sample['Departure Airport - Heavy Fog'].fillna(0, inplace=True) \n",
    "flights_sample['Departure Airport - Thunder'].fillna(0, inplace=True) \n",
    "flights_sample['Departure Airport - Ice Pellets'].fillna(0, inplace=True) \n",
    "flights_sample['Departure Airport - Hail'].fillna(0, inplace=True) \n",
    "flights_sample['Departure Airport - Glaze or Rime'].fillna(0, inplace=True) \n",
    "flights_sample['Departure Airport - Dust/Sand'].fillna(0, inplace=True) \n",
    "flights_sample['Departure Airport - Snow / Haze'].fillna(0, inplace=True) \n",
    "flights_sample['Departure Airport - Blowing/Dirfting Snow'].fillna(0, inplace=True) \n",
    "flights_sample['Departure Airport - Tornado / Funnel Cloud'].fillna(0, inplace=True) \n",
    "flights_sample['Departure Airport - High / Damaging Winds'].fillna(0, inplace=True) \n",
    "flights_sample['Arrival Airport - Fog'].fillna(0, inplace=True) \n",
    "flights_sample['Arrival Airport - Heavy Fog'].fillna(0, inplace=True) \n",
    "flights_sample['Arrival Airport - Thunder'].fillna(0, inplace=True) \n",
    "flights_sample['Arrival Airport - Ice Pellets'].fillna(0, inplace=True) \n",
    "flights_sample['Arrival Airport - Hail'].fillna(0, inplace=True) \n",
    "flights_sample['Arrival Airport - Glaze or Rime'].fillna(0, inplace=True) \n",
    "flights_sample['Arrival Airport - Dust/Sand'].fillna(0, inplace=True) \n",
    "flights_sample['Arrival Airport - Snow / Haze'].fillna(0, inplace=True) \n",
    "flights_sample['Arrival Airport - Blowing/Dirfting Snow'].fillna(0, inplace=True) \n",
    "flights_sample['Arrival Airport - Tornado / Funnel Cloud'].fillna(0, inplace=True) \n",
    "flights_sample['Arrival Airport - High / Damaging Winds'].fillna(0, inplace=True) \n",
    "\n",
    "# Keep at the end. Drop the remaining NANs\n",
    "flights_sample.dropna(inplace=True) # drop all remaining rows with missing values"
   ]
  },
  {
   "cell_type": "raw",
   "id": "e5f2eebc-ebd9-4efd-9601-2bec1cd93675",
   "metadata": {},
   "source": [
    "correlations.to_csv('../../data/processed/flights_sample_corr_matrix.csv')"
   ]
  },
  {
   "cell_type": "markdown",
   "id": "6ec24cf9-3225-460f-ac5b-077ef4eb67d0",
   "metadata": {},
   "source": [
    "# Export to CSV"
   ]
  },
  {
   "cell_type": "code",
   "execution_count": 23,
   "id": "097a354e-af7d-4c29-8325-ff9305f1b10a",
   "metadata": {},
   "outputs": [],
   "source": [
    "# Export 3x to csv\n",
    "flights_sample_train.to_csv('../../data/processed/Enriched-flights_sample_train.csv', index=False)\n",
    "flights_sample_test.to_csv('../../data/processed/Enriched-flights_sample_test.csv', index=False)\n",
    "flights_test.to_csv('../../data/processed/Enriched-flights_test.csv', index=False)"
   ]
  }
 ],
 "metadata": {
  "kernelspec": {
   "display_name": "Python 3 (ipykernel)",
   "language": "python",
   "name": "python3"
  },
  "language_info": {
   "codemirror_mode": {
    "name": "ipython",
    "version": 3
   },
   "file_extension": ".py",
   "mimetype": "text/x-python",
   "name": "python",
   "nbconvert_exporter": "python",
   "pygments_lexer": "ipython3",
   "version": "3.9.13"
  }
 },
 "nbformat": 4,
 "nbformat_minor": 5
}
