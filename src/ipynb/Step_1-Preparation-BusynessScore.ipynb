{
 "cells": [
  {
   "cell_type": "code",
   "execution_count": 1,
   "id": "3c987363-ac3f-4ef2-a4ec-5f3bc0c356fa",
   "metadata": {},
   "outputs": [],
   "source": [
    "import pandas as pd\n",
    "import numpy as np"
   ]
  },
  {
   "cell_type": "markdown",
   "id": "0bc25bec-7514-483e-a101-5e49d7af7ad8",
   "metadata": {},
   "source": [
    "# Import the tables"
   ]
  },
  {
   "cell_type": "markdown",
   "id": "7ccb0263-ada1-40b4-a36e-32fe6ca91a4f",
   "metadata": {},
   "source": [
    "This csv is a pull of all the flights (date with arrival/departure airport)"
   ]
  },
  {
   "cell_type": "code",
   "execution_count": 2,
   "id": "734bb675-a0a8-4d8c-bb01-904dc67d8e9e",
   "metadata": {},
   "outputs": [],
   "source": [
    "flights = pd.read_csv('../../data/raw/date_origin_dest.csv')\n",
    "\n",
    "# Create a column with the day/month/year of the flight\n",
    "flights['Flight Weekday'] = pd.DatetimeIndex(flights['fl_date']).weekday   #0: Monday, 1:Tuesday, etc.\n",
    "flights['Flight Day'] = pd.DatetimeIndex(flights['fl_date']).day\n",
    "flights['Flight Month'] = pd.DatetimeIndex(flights['fl_date']).month\n",
    "flights['Flight Year'] = pd.DatetimeIndex(flights['fl_date']).year\n",
    "flights = flights.drop(labels = 'fl_date', axis = 1)\n",
    "\n",
    "# Rename the origin and arrival columns of flights\n",
    "flights = flights.rename(columns = {'origin': 'Origin Airport (IATA Code)', 'dest': 'Destination Airport (IATA Code)'})"
   ]
  },
  {
   "cell_type": "code",
   "execution_count": 3,
   "id": "18e5f106-0e9e-4df6-a376-ae6da25a516a",
   "metadata": {},
   "outputs": [
    {
     "data": {
      "text/plain": [
       "(15927485, 6)"
      ]
     },
     "execution_count": 3,
     "metadata": {},
     "output_type": "execute_result"
    }
   ],
   "source": [
    "flights.shape"
   ]
  },
  {
   "cell_type": "markdown",
   "id": "cb4984bf-dacc-4fea-9bdc-a3c8785d3380",
   "metadata": {},
   "source": [
    "What do we do with this? We count how many times an airport is an arrival/departure per day.\n",
    "\n",
    "This will allow us to assess the busyness of every airport"
   ]
  },
  {
   "cell_type": "markdown",
   "id": "c801181c-3275-4f1f-9885-bb9025ecc5f0",
   "metadata": {},
   "source": [
    "Let's bring the provided 2020 data from the flights_test as well. We have it, let's use it"
   ]
  },
  {
   "cell_type": "code",
   "execution_count": 4,
   "id": "cdac877f-d0b5-4e2d-a5db-43081aae9f72",
   "metadata": {
    "tags": []
   },
   "outputs": [],
   "source": [
    "flights_test = pd.read_csv('../../data/raw/Cleaned-flights_test.csv')\n",
    "\n",
    "flights_test = flights_test[['Flight Year', 'Flight Month', 'Flight Day', 'Flight Weekday', 'Origin Airport (IATA Code)','Destination Airport (IATA Code)']]"
   ]
  },
  {
   "cell_type": "markdown",
   "id": "2d5a60fe-9f6b-42a9-950c-3e153cb37a39",
   "metadata": {},
   "source": [
    "Let's merge both:"
   ]
  },
  {
   "cell_type": "code",
   "execution_count": 5,
   "id": "e759a559-e095-43f2-9392-16845e848dfd",
   "metadata": {},
   "outputs": [],
   "source": [
    "flights = pd.concat([flights, flights_test], ignore_index=True)"
   ]
  },
  {
   "cell_type": "markdown",
   "id": "11d27782-99c5-436b-ab03-b18bd2e5e52e",
   "metadata": {},
   "source": [
    "# Get a count of flights per airport and year, month, day"
   ]
  },
  {
   "cell_type": "code",
   "execution_count": 6,
   "id": "88b0a3cc-80aa-479c-8805-9fe5438f9007",
   "metadata": {},
   "outputs": [],
   "source": [
    "# Let's create a new dataframe with the counts\n",
    "flights_count_orig = flights.groupby(['Flight Year', 'Flight Month', 'Flight Day', 'Origin Airport (IATA Code)']).count().reset_index()\n",
    "\n",
    "# same for the destination\n",
    "flights_count_dest = flights.groupby(['Flight Year', 'Flight Month', 'Flight Day', 'Destination Airport (IATA Code)']).count().reset_index()\n"
   ]
  },
  {
   "cell_type": "code",
   "execution_count": 7,
   "id": "e03096dd-ad6d-4298-832f-8baa1481b6da",
   "metadata": {},
   "outputs": [],
   "source": [
    "# Let's rename the columns to make it easier to merge\n",
    "flights_count_orig = flights_count_orig.rename(columns = {'Origin Airport (IATA Code)': 'Airport (IATA Code)', 'Destination Airport (IATA Code)': 'Flights Count'})\n",
    "flights_count_dest = flights_count_dest.rename(columns = {'Destination Airport (IATA Code)': 'Airport (IATA Code)', 'Origin Airport (IATA Code)': 'Flights Count'})"
   ]
  },
  {
   "cell_type": "code",
   "execution_count": 8,
   "id": "139b0a4d-77d6-49a6-9126-d891edd6b32e",
   "metadata": {},
   "outputs": [],
   "source": [
    "# And now we can merge\n",
    "flights_count = pd.concat([flights_count_orig, flights_count_dest], ignore_index=True)\n",
    "\n",
    "del flights_count['Flight Weekday']\n",
    "\n",
    "# For some reason the merging doesn't work well.. Have to run this to merge them correctly\n",
    "flights_count = flights_count.groupby(['Flight Year', 'Flight Month', 'Flight Day', 'Airport (IATA Code)']).sum().reset_index()"
   ]
  },
  {
   "cell_type": "markdown",
   "id": "643df053-bb60-4090-9f1b-ed005c582c78",
   "metadata": {},
   "source": [
    "# Create the busyness score"
   ]
  },
  {
   "cell_type": "markdown",
   "id": "a6876bbb-362e-49af-bb7c-beea23ec25be",
   "metadata": {},
   "source": [
    "To get this score, we'll compare the amount of flights the airport has that day compared to its daily average"
   ]
  },
  {
   "cell_type": "markdown",
   "id": "4c931382-e852-4c9c-9e0c-29459822cf68",
   "metadata": {},
   "source": [
    "## Get the daily average"
   ]
  },
  {
   "cell_type": "code",
   "execution_count": 9,
   "id": "de978969-0826-413c-a895-d1b717852a34",
   "metadata": {},
   "outputs": [
    {
     "data": {
      "text/plain": [
       "761"
      ]
     },
     "execution_count": 9,
     "metadata": {},
     "output_type": "execute_result"
    }
   ],
   "source": [
    "# Let's count how many days we have in the dataset\n",
    "\n",
    "# VERY unproductive, but let's re-create a date column to with the year, month and day\n",
    "flights_count['date'] = flights_count['Flight Year'].astype(str) + '-' + flights_count['Flight Month'].astype(str) + '-' + flights_count['Flight Day'].astype(str)\n",
    "\n",
    "# now let's count how many unique dates we have\n",
    "flights_count['date'].nunique()\n"
   ]
  },
  {
   "cell_type": "code",
   "execution_count": 11,
   "id": "e98c11bc-5812-4d6d-a099-cb41767576d5",
   "metadata": {},
   "outputs": [],
   "source": [
    "#Counting total flights per airport\n",
    "flights_per_airport = flights_count.groupby(['Airport (IATA Code)']).sum().reset_index()\n",
    "\n",
    "# Removing as not needed:\n",
    "flights_per_airport = flights_per_airport.drop(labels = ['Flight Year', 'Flight Month', 'Flight Day'], axis = 1)\n",
    "\n",
    "# Let's create a new column with the average flights per day, dividing flights count by the number of days we have: 761\n",
    "flights_per_airport['Average Flights Per Day'] = flights_per_airport['Flights Count'] / 761\n",
    "flights_per_airport = flights_per_airport.drop(labels = 'Flights Count', axis = 1)"
   ]
  },
  {
   "cell_type": "markdown",
   "id": "8bb121e8-d7dd-4e15-b60d-d3529eb7749c",
   "metadata": {},
   "source": [
    "## Add daily average to flights_count and calculate busyness score"
   ]
  },
  {
   "cell_type": "code",
   "execution_count": 12,
   "id": "dbbb8c58-6dcb-4f42-bd7d-f606e4264a4f",
   "metadata": {},
   "outputs": [],
   "source": [
    "flights_count = pd.merge(flights_count, flights_per_airport, on = 'Airport (IATA Code)', how = 'left')\n",
    "flights_count['Busyness Score'] = flights_count['Flights Count'] / flights_count['Average Flights Per Day']"
   ]
  },
  {
   "cell_type": "code",
   "execution_count": 14,
   "id": "c3d90509-a382-4541-aae9-fc79560761cf",
   "metadata": {},
   "outputs": [
    {
     "data": {
      "text/html": [
       "<div>\n",
       "<style scoped>\n",
       "    .dataframe tbody tr th:only-of-type {\n",
       "        vertical-align: middle;\n",
       "    }\n",
       "\n",
       "    .dataframe tbody tr th {\n",
       "        vertical-align: top;\n",
       "    }\n",
       "\n",
       "    .dataframe thead th {\n",
       "        text-align: right;\n",
       "    }\n",
       "</style>\n",
       "<table border=\"1\" class=\"dataframe\">\n",
       "  <thead>\n",
       "    <tr style=\"text-align: right;\">\n",
       "      <th></th>\n",
       "      <th>Flight Year</th>\n",
       "      <th>Flight Month</th>\n",
       "      <th>Flight Day</th>\n",
       "      <th>Flights Count</th>\n",
       "      <th>Average Flights Per Day</th>\n",
       "      <th>Busyness Score</th>\n",
       "    </tr>\n",
       "  </thead>\n",
       "  <tbody>\n",
       "    <tr>\n",
       "      <th>count</th>\n",
       "      <td>269819.000000</td>\n",
       "      <td>269819.000000</td>\n",
       "      <td>269819.000000</td>\n",
       "      <td>269819.000000</td>\n",
       "      <td>269819.000000</td>\n",
       "      <td>269819.000000</td>\n",
       "    </tr>\n",
       "    <tr>\n",
       "      <th>mean</th>\n",
       "      <td>2018.567036</td>\n",
       "      <td>6.324847</td>\n",
       "      <td>15.737009</td>\n",
       "      <td>122.956804</td>\n",
       "      <td>122.819091</td>\n",
       "      <td>1.066115</td>\n",
       "    </tr>\n",
       "    <tr>\n",
       "      <th>std</th>\n",
       "      <td>0.572136</td>\n",
       "      <td>3.537505</td>\n",
       "      <td>8.801901</td>\n",
       "      <td>288.346220</td>\n",
       "      <td>286.414244</td>\n",
       "      <td>1.228215</td>\n",
       "    </tr>\n",
       "    <tr>\n",
       "      <th>min</th>\n",
       "      <td>2018.000000</td>\n",
       "      <td>1.000000</td>\n",
       "      <td>1.000000</td>\n",
       "      <td>1.000000</td>\n",
       "      <td>0.005256</td>\n",
       "      <td>0.022427</td>\n",
       "    </tr>\n",
       "    <tr>\n",
       "      <th>25%</th>\n",
       "      <td>2018.000000</td>\n",
       "      <td>3.000000</td>\n",
       "      <td>8.000000</td>\n",
       "      <td>6.000000</td>\n",
       "      <td>6.023653</td>\n",
       "      <td>0.911480</td>\n",
       "    </tr>\n",
       "    <tr>\n",
       "      <th>50%</th>\n",
       "      <td>2019.000000</td>\n",
       "      <td>6.000000</td>\n",
       "      <td>16.000000</td>\n",
       "      <td>22.000000</td>\n",
       "      <td>22.415243</td>\n",
       "      <td>1.018623</td>\n",
       "    </tr>\n",
       "    <tr>\n",
       "      <th>75%</th>\n",
       "      <td>2019.000000</td>\n",
       "      <td>9.000000</td>\n",
       "      <td>23.000000</td>\n",
       "      <td>80.000000</td>\n",
       "      <td>81.617608</td>\n",
       "      <td>1.113643</td>\n",
       "    </tr>\n",
       "    <tr>\n",
       "      <th>max</th>\n",
       "      <td>2020.000000</td>\n",
       "      <td>12.000000</td>\n",
       "      <td>31.000000</td>\n",
       "      <td>2533.000000</td>\n",
       "      <td>2159.176084</td>\n",
       "      <td>380.500000</td>\n",
       "    </tr>\n",
       "  </tbody>\n",
       "</table>\n",
       "</div>"
      ],
      "text/plain": [
       "         Flight Year   Flight Month     Flight Day  Flights Count  \\\n",
       "count  269819.000000  269819.000000  269819.000000  269819.000000   \n",
       "mean     2018.567036       6.324847      15.737009     122.956804   \n",
       "std         0.572136       3.537505       8.801901     288.346220   \n",
       "min      2018.000000       1.000000       1.000000       1.000000   \n",
       "25%      2018.000000       3.000000       8.000000       6.000000   \n",
       "50%      2019.000000       6.000000      16.000000      22.000000   \n",
       "75%      2019.000000       9.000000      23.000000      80.000000   \n",
       "max      2020.000000      12.000000      31.000000    2533.000000   \n",
       "\n",
       "       Average Flights Per Day  Busyness Score  \n",
       "count            269819.000000   269819.000000  \n",
       "mean                122.819091        1.066115  \n",
       "std                 286.414244        1.228215  \n",
       "min                   0.005256        0.022427  \n",
       "25%                   6.023653        0.911480  \n",
       "50%                  22.415243        1.018623  \n",
       "75%                  81.617608        1.113643  \n",
       "max                2159.176084      380.500000  "
      ]
     },
     "execution_count": 14,
     "metadata": {},
     "output_type": "execute_result"
    }
   ],
   "source": [
    "flights_count.describe()"
   ]
  },
  {
   "cell_type": "markdown",
   "id": "a34bf365-2cc5-4670-8ef5-4884393f82ab",
   "metadata": {},
   "source": [
    "What a beautiful busyness score! And our mean is right on 1, which makes sense"
   ]
  },
  {
   "cell_type": "markdown",
   "id": "c68667af-f1b9-41ed-8e1f-7545b85c3439",
   "metadata": {},
   "source": [
    "# Create an ID column to easily add data as enrichment"
   ]
  },
  {
   "cell_type": "code",
   "execution_count": 15,
   "id": "7c081cfb-e8c6-4b9a-b7b8-d5d86c5b3b0a",
   "metadata": {},
   "outputs": [],
   "source": [
    "# let's take the date field since we no longer need it.\n",
    "\n",
    "flights_count['date'] = flights_count['date'] + '-' + flights_count['Airport (IATA Code)']\n",
    "flights_count = flights_count.rename(columns = {'date': 'ID'})"
   ]
  },
  {
   "cell_type": "markdown",
   "id": "32ccc736-a01c-49b9-8349-978762c3ac65",
   "metadata": {},
   "source": [
    "# Export to CSV"
   ]
  },
  {
   "cell_type": "code",
   "execution_count": 16,
   "id": "2af812d0-6765-4d85-8d0c-5e9dc4fc12a7",
   "metadata": {},
   "outputs": [],
   "source": [
    "flights_count.to_csv('../../data/processed/flights_enrichment_busyness_score.csv', index = False)"
   ]
  },
  {
   "cell_type": "code",
   "execution_count": null,
   "id": "02245309-fb5e-460d-95c5-24696edac54f",
   "metadata": {},
   "outputs": [],
   "source": []
  }
 ],
 "metadata": {
  "kernelspec": {
   "display_name": "Python 3 (ipykernel)",
   "language": "python",
   "name": "python3"
  },
  "language_info": {
   "codemirror_mode": {
    "name": "ipython",
    "version": 3
   },
   "file_extension": ".py",
   "mimetype": "text/x-python",
   "name": "python",
   "nbconvert_exporter": "python",
   "pygments_lexer": "ipython3",
   "version": "3.9.13"
  }
 },
 "nbformat": 4,
 "nbformat_minor": 5
}
