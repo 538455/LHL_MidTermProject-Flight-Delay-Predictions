{
 "cells": [
  {
   "cell_type": "markdown",
   "id": "48072217-c0ed-4657-9610-c3cca8d87556",
   "metadata": {
    "tags": []
   },
   "source": [
    "# STEP 1 - Import Dataset & Librairies"
   ]
  },
  {
   "cell_type": "code",
   "execution_count": 1,
   "id": "00cd2116-e279-405d-a4e9-b48c6dabb475",
   "metadata": {},
   "outputs": [],
   "source": [
    "import pandas as pd\n",
    "import numpy as np\n",
    "import matplotlib.pyplot as plt\n",
    "import seaborn as sns"
   ]
  },
  {
   "cell_type": "code",
   "execution_count": 3,
   "id": "17d9799c-fac6-4d7b-ac15-df47e960b1fc",
   "metadata": {},
   "outputs": [],
   "source": [
    "#import data\n",
    "flights_sample = pd.read_csv(\"../../data/raw/200K_random_flights(26Nov).csv\")\n",
    "#flights_sample = pd.read_csv(\"../../data/raw/FLIGHTS_TEST_RAW.csv\")\n",
    "\n",
    "trainingData = True #Switch if that's not the case"
   ]
  },
  {
   "cell_type": "markdown",
   "id": "09a34b54-bbac-42f0-9c59-63d5d4f0da7a",
   "metadata": {},
   "source": [
    "# STEP 2 - Explore & Clean the Data"
   ]
  },
  {
   "cell_type": "markdown",
   "id": "7fc5cf2c-00e1-43f2-81ff-64d246dfe304",
   "metadata": {},
   "source": [
    "Exploration is done in other notebooks, below is the cleaning process"
   ]
  },
  {
   "cell_type": "markdown",
   "id": "f6f6187f-1b81-4244-8272-e19c09f2a38a",
   "metadata": {
    "jp-MarkdownHeadingCollapsed": true,
    "tags": []
   },
   "source": [
    "## Common to all"
   ]
  },
  {
   "cell_type": "code",
   "execution_count": 4,
   "id": "8099e7ba-fbf5-4684-b656-9dd4f97ade56",
   "metadata": {
    "tags": []
   },
   "outputs": [],
   "source": [
    "### CLEANING CODE:\n",
    "df = flights_sample #Change to your df's name\n",
    "\n",
    "#### Drop columns:\n",
    "df.drop('branded_code_share', axis=1, inplace=True) # Using Unique Carrier Code for analysis\n",
    "df.drop('mkt_carrier', axis=1, inplace=True) # Using Unique Carrier Code for analysis\n",
    "df.drop('mkt_carrier_fl_num', axis=1, inplace=True) #using op_carrier_fl_num instead\n",
    "df.drop('origin_airport_id', axis=1, inplace=True) #working with IATA codes instead\n",
    "df.drop('dest_airport_id', axis=1, inplace=True) #working with IATA codes instead\n",
    "df.drop('dup', axis=1, inplace=True) # All the same value\n",
    "df.drop('flights', axis=1, inplace=True) # All the same value\n",
    "\n",
    "#### Change column type:\n",
    "df['fl_date'] = df['fl_date'].astype('datetime64')  \n",
    "\n",
    "#### Change column value:\n",
    "df['crs_dep_time'] = pd.to_datetime(df['crs_dep_time'], unit='m', errors='coerce').dt.strftime(\"%H:%M\")\n",
    "df['crs_arr_time'] = pd.to_datetime(df['crs_arr_time'], unit='m', errors='coerce').dt.strftime(\"%H:%M\")\n",
    "\n",
    "#### Change column name:\n",
    "df.rename(columns={'fl_date': 'Flight Date'}, inplace=True) \n",
    "df.rename(columns={'mkt_unique_carrier': 'Marketer - Unique Carrier Code'}, inplace=True)\n",
    "df.rename(columns={'op_unique_carrier': 'Operator - Unique Carrier Code'}, inplace=True)\n",
    "df.rename(columns={'op_carrier_fl_num': 'Flight Number'}, inplace=True)\n",
    "df.rename(columns={'tail_num': 'Tail Number'}, inplace=True) \n",
    "#df.rename(columns={'origin_airport_id': 'Origin Airport (ID)'}, inplace=True) \n",
    "df.rename(columns={'origin': 'Origin Airport (IATA Code)'}, inplace=True) \n",
    "df.rename(columns={'origin_city_name': 'Origin Airport (City, State)'}, inplace=True) \n",
    "#df.rename(columns={'dest_airport_id': 'Destination Airport (ID)'}, inplace=True) \n",
    "df.rename(columns={'dest': 'Destination Airport (IATA Code)'}, inplace=True) \n",
    "df.rename(columns={'dest_city_name': 'Destination Airport (City, State)'}, inplace=True) \n",
    "df.rename(columns={'crs_dep_time': 'Scheduled Departure Time (local time)'}, inplace=True) \n",
    "df.rename(columns={'crs_arr_time': 'Scheduled Arrival Time (local time)'}, inplace=True)\n",
    "df.rename(columns={'crs_elapsed_time': 'Scheduled Elapsed Time'}, inplace=True)\n",
    "df.rename(columns={'distance': 'Distance (miles)'}, inplace=True)\n",
    "\n",
    "# Is op_unique_carrier a duplicate of mkt_unique_carrier? No, we'll keep both and create an add'l column to highlight when they are not the same\n",
    "df['Different Marketer & Operator Carrier Code'] = np.where(df['Marketer - Unique Carrier Code'] != df['Operator - Unique Carrier Code'], 1, 0)\n",
    "\n",
    "# Create a column with the day/month/year of the flight\n",
    "df['Flight Weekday'] = pd.DatetimeIndex(df['Flight Date']).weekday   #0: Monday, 1:Tuesday, etc.\n",
    "df['Flight Day'] = pd.DatetimeIndex(df['Flight Date']).day\n",
    "df['Flight Month'] = pd.DatetimeIndex(df['Flight Date']).month\n",
    "df['Flight Year'] = pd.DatetimeIndex(df['Flight Date']).year\n",
    "df.drop('Flight Date', axis=1, inplace=True) # Empty column\n",
    "\n",
    "#df.head(10) #Final Review\n",
    "flights_sample = df "
   ]
  },
  {
   "cell_type": "markdown",
   "id": "e54a4c0c-bb69-4095-aba0-78fdfbd42b81",
   "metadata": {
    "jp-MarkdownHeadingCollapsed": true,
    "tags": []
   },
   "source": [
    "## Training Dataset only"
   ]
  },
  {
   "cell_type": "code",
   "execution_count": 5,
   "id": "dd8ade60-c7cd-4f9b-899f-0effb00f5043",
   "metadata": {},
   "outputs": [],
   "source": [
    "if trainingData == True:\n",
    "    ### CLEANING CODE (Trg only):\n",
    "    df = flights_sample #\n",
    "\n",
    "    # Remove cancelled flights\n",
    "    df = df[df['cancelled'] == 0]\n",
    "\n",
    "    # Remove diverted flights\n",
    "    df = df[df['diverted'] == 0]\n",
    "\n",
    "    # Removing dep_delays outliers\n",
    "    low = df['dep_delay'].mean() - (3 * df['dep_delay'].std())\n",
    "    high = df['dep_delay'].mean() + (3 * df['dep_delay'].std())\n",
    "    df = df[(df['dep_delay'] > low) & (df['dep_delay'] < high)]\n",
    "\n",
    "    # Removing arr_delays outliers\n",
    "    low = df['arr_delay'].mean() - (3 * df['arr_delay'].std())\n",
    "    high = df['arr_delay'].mean() + (3 * df['arr_delay'].std())\n",
    "    df = df[(df['arr_delay'] > low) & (df['arr_delay'] < high)]\n",
    "\n",
    "\n",
    "    #### Drop columns:\n",
    "    df.drop('dep_time', axis=1, inplace=True)\n",
    "    df.drop('taxi_out', axis=1, inplace=True)\n",
    "    df.drop('taxi_in', axis=1, inplace=True)\n",
    "    df.drop('wheels_off', axis=1, inplace=True)\n",
    "    df.drop('wheels_on', axis=1, inplace=True)\n",
    "    df.drop('arr_time', axis=1, inplace=True)\n",
    "    df.drop('cancelled', axis=1, inplace=True)\n",
    "    df.drop('cancellation_code', axis=1, inplace=True)\n",
    "    df.drop('diverted', axis=1, inplace=True)\n",
    "    df.drop('actual_elapsed_time', axis=1, inplace=True)\n",
    "    df.drop('air_time', axis=1, inplace=True)\n",
    "    df.drop('first_dep_time', axis=1, inplace=True) #99125  missing values\n",
    "    df.drop('total_add_gtime', axis=1, inplace=True) #99125  missing values\n",
    "    df.drop('longest_add_gtime', axis=1, inplace=True) #99125  missing values\n",
    "    df.drop('no_name', axis=1, inplace=True) # Empty column\n",
    "\n",
    "    ### Formatting the additional delay columns:\n",
    "    # Departure Delay\n",
    "    df['dep_delay'] = df['dep_delay'].fillna(0)    #Didn't really have an issue with this one, but just in case\n",
    "    df['dep_delay'] = df['dep_delay'].astype('int64')\n",
    "    df.rename(columns={'dep_delay': 'Arrival Delay (minutes)'}, inplace=True)\n",
    "    \n",
    "    # Arrival Delay\n",
    "    df['arr_delay'] = df['arr_delay'].fillna(0)\n",
    "    df['arr_delay'] = df['arr_delay'].astype('int64')\n",
    "    df.rename(columns={'arr_delay': 'Departure Delay (minutes)'}, inplace=True)\n",
    "\n",
    "    # carrier_delay\n",
    "    df['carrier_delay'] = df['carrier_delay'].fillna(0)\n",
    "    df['carrier_delay'] = df['carrier_delay'].astype('int64')\n",
    "    df.rename(columns={'carrier_delay': 'Carrier Delay (minutes)'}, inplace=True)\n",
    "\n",
    "    # weather_delay\n",
    "    df['weather_delay'] = df['weather_delay'].fillna(0)\n",
    "    df['weather_delay'] = df['weather_delay'].astype('int64')\n",
    "    df.rename(columns={'weather_delay': 'Weather Delay (minutes)'}, inplace=True)\n",
    "\n",
    "    # nas_delay\n",
    "    df['nas_delay'] = df['nas_delay'].fillna(0)\n",
    "    df['nas_delay'] = df['nas_delay'].astype('int64')\n",
    "    df.rename(columns={'nas_delay': 'National Air System Delay (minutes)'}, inplace=True)\n",
    "\n",
    "    # security_delay\n",
    "    df['security_delay'] = df['security_delay'].fillna(0)\n",
    "    df['security_delay'] = df['security_delay'].astype('int64')\n",
    "    df.rename(columns={'security_delay': 'Security Delay (minutes)'}, inplace=True)\n",
    "\n",
    "    # late_aircraft_delay\n",
    "    df['late_aircraft_delay'] = df['late_aircraft_delay'].fillna(0)\n",
    "    df['late_aircraft_delay'] = df['late_aircraft_delay'].astype('int64')\n",
    "    df.rename(columns={'late_aircraft_delay': 'Late Aircraft Delay (minutes)'}, inplace=True)\n",
    "\n",
    "    #df.head(10) #Final Review\n",
    "    flights_sample = df "
   ]
  },
  {
   "cell_type": "markdown",
   "id": "aaf9a01e-ad55-49df-bfc8-13563e67a7e6",
   "metadata": {},
   "source": [
    "# STEP 3 - Feature Engineering"
   ]
  },
  {
   "cell_type": "markdown",
   "id": "4393c321-53c1-40e8-b19d-e9d981dd53ac",
   "metadata": {
    "jp-MarkdownHeadingCollapsed": true,
    "tags": []
   },
   "source": [
    "## 3.1 - Importing enrichment data"
   ]
  },
  {
   "cell_type": "markdown",
   "id": "94c4ecdb-79cf-489a-9bc7-0aee99593805",
   "metadata": {},
   "source": [
    "### Add weather info"
   ]
  },
  {
   "cell_type": "code",
   "execution_count": 6,
   "id": "6f0efe74-e2b4-4b69-af08-28285d12d6b4",
   "metadata": {},
   "outputs": [],
   "source": [
    "enr_weather = pd.read_csv(\"../../data/processed/flights_enrichment_weather.csv\")\n",
    "\n",
    "# Append the weather data to the flights_sample table on the year, month, day, and departure airport iata code columns with the year, month, day, and iata_code columns from the weather table\n",
    "flights_sample = flights_sample.merge(enr_weather, left_on=[\"Flight Year\", \"Flight Month\", \"Flight Day\", \"Origin Airport (IATA Code)\"], right_on=[\"Year\", \"Month\", \"Day\", \"iata_code\"], how=\"left\")\n",
    "\n",
    "# Append the weather data to the flights_sample table on the year, month, day, and arrival airport iata code columns with the year, month, day, and iata_code columns from the weather table\n",
    "flights_sample = flights_sample.merge(enr_weather, left_on=[\"Flight Year\", \"Flight Month\", \"Flight Day\", \"Destination Airport (IATA Code)\"], right_on=[\"Year\", \"Month\", \"Day\", \"iata_code\"], how=\"left\", suffixes=(\"_dep\", \"_arr\"))\n",
    "\n",
    "flights_sample = flights_sample.drop(columns=[\"Year_dep\", \"Month_dep\", \"Day_dep\", \"iata_code_dep\", \"Year_arr\", \"Month_arr\", \"Day_arr\", \"iata_code_arr\"])"
   ]
  },
  {
   "cell_type": "markdown",
   "id": "3822c97d-f821-4d8f-b71d-4a4698615d0e",
   "metadata": {},
   "source": [
    "### Add additional airport details"
   ]
  },
  {
   "cell_type": "code",
   "execution_count": 7,
   "id": "2982e037-e235-4cf4-bdfb-f5fe65e58409",
   "metadata": {},
   "outputs": [],
   "source": [
    "enr_airport = pd.read_csv(\"../../data/processed/flights_enrichment_airportLocation.csv\")\n",
    "\n",
    "# Append the airport data to the flights_sample table on the departure airport iata code column with the iata_code column from the airport table\n",
    "flights_sample = flights_sample.merge(enr_airport, left_on=\"Origin Airport (IATA Code)\", right_on=\"iata_code\", how=\"left\")\n",
    "\n",
    "# Append the airport data to the flights_sample table on the arrival airport iata code column with the iata_code column from the airport table\n",
    "flights_sample = flights_sample.merge(enr_airport, left_on=\"Destination Airport (IATA Code)\", right_on=\"iata_code\", how=\"left\", suffixes=(\"_dep\", \"_arr\"))\n",
    "\n",
    "flights_sample = flights_sample.drop(columns=[\"iata_code_dep\", \"local_code_dep\", \"name_dep\", \"iata_code_arr\", \"local_code_arr\", \"name_arr\"])"
   ]
  },
  {
   "cell_type": "markdown",
   "id": "5a5b8e9a-05a0-4b38-9e78-2fc470d11070",
   "metadata": {},
   "source": [
    "### Add Airport Busyness Score"
   ]
  },
  {
   "cell_type": "code",
   "execution_count": 8,
   "id": "323861d2-0e0c-4bf5-89e0-defb406f2c1a",
   "metadata": {},
   "outputs": [],
   "source": [
    "departure_busyness_scores = pd.read_csv('../../data/processed/departure_busyness_scores.csv')\n",
    "arrival_busyness_scores = pd.read_csv('../../data/processed/arrival_busyness_scores.csv')\n",
    "\n",
    "#Create id for arrivals busyness for future merge\n",
    "flights_sample['arrivals_busyness_id'] = 'A-' + flights_sample['Destination Airport (IATA Code)'] + '-' + flights_sample['Flight Month'].astype(str)+ '-' + flights_sample['Flight Weekday'].astype(str)\n",
    "\n",
    "#Create id for departure busyness for future merge\n",
    "flights_sample['departure_busyness_id'] = 'D-' + flights_sample['Origin Airport (IATA Code)'] + '-' + flights_sample['Flight Month'].astype(str)+ '-' + flights_sample['Flight Weekday'].astype(str)\n",
    "\n",
    "# Append the busyness score to the flights_sample table\n",
    "flights_sample = flights_sample.merge(departure_busyness_scores, left_on=\"departure_busyness_id\", right_on=\"Departure Busyness ID\", how=\"left\")\n",
    "flights_sample = flights_sample.merge(arrival_busyness_scores, left_on=\"arrivals_busyness_id\", right_on=\"Arrivals Busyness ID\", how=\"left\")\n"
   ]
  },
  {
   "cell_type": "markdown",
   "id": "2fad9e2f-67ac-48e0-9a09-41abd883a9a9",
   "metadata": {},
   "source": [
    "### Add additional loading and passenger details"
   ]
  },
  {
   "cell_type": "code",
   "execution_count": 9,
   "id": "4b185b51-4ea9-4aa2-8370-8bcfaaf97b92",
   "metadata": {},
   "outputs": [],
   "source": [
    "passengers = pd.read_csv(\"../../data/raw/passengers_w_departuresPerformed_groupedbyMonth(29Nov).csv\", index_col=False)\n",
    "\n",
    "# Create routeid column (used to add enrichment)\n",
    "flights_sample['routeid'] = flights_sample['Flight Month'].astype(str) + '-' + flights_sample['Operator - Unique Carrier Code'] + '-' + flights_sample['Origin Airport (IATA Code)'] + '-' + flights_sample['Destination Airport (IATA Code)']\n",
    "\n",
    "# Adding the enrichment\n",
    "flights_sample = flights_sample.merge(passengers, on=\"routeid\", how=\"left\", suffixes=(\"_1\", \"_2\"))"
   ]
  },
  {
   "cell_type": "markdown",
   "id": "79778774-1bbf-4e63-abdd-31374f164b86",
   "metadata": {},
   "source": [
    "### Removing columns that were added along the way"
   ]
  },
  {
   "cell_type": "code",
   "execution_count": 10,
   "id": "4a199256-d0b6-4d6b-b9e5-ba73e03af52c",
   "metadata": {},
   "outputs": [],
   "source": [
    "flights_sample = flights_sample.drop(columns=['Unnamed: 0_x', 'Unnamed: 0_y', 'Arrivals Busyness ID', 'Departure Busyness ID', 'arrivals_busyness_id', 'departure_busyness_id', 'routeid', 'Unnamed: 0'])"
   ]
  },
  {
   "cell_type": "markdown",
   "id": "fec2b143-d7c7-4a6c-802f-c43c4ad50988",
   "metadata": {},
   "source": [
    "## 3.2 - Variable Transformation"
   ]
  },
  {
   "cell_type": "code",
   "execution_count": 11,
   "id": "644f7619-159b-446a-96e1-d29fba4bcd28",
   "metadata": {
    "tags": []
   },
   "outputs": [
    {
     "name": "stdout",
     "output_type": "stream",
     "text": [
      "<class 'pandas.core.frame.DataFrame'>\n",
      "Int64Index: 187581 entries, 0 to 187580\n",
      "Data columns (total 80 columns):\n",
      " #   Column                                      Non-Null Count   Dtype  \n",
      "---  ------                                      --------------   -----  \n",
      " 0   Marketer - Unique Carrier Code              187581 non-null  object \n",
      " 1   Operator - Unique Carrier Code              187581 non-null  object \n",
      " 2   Tail Number                                 187581 non-null  object \n",
      " 3   Flight Number                               187581 non-null  int64  \n",
      " 4   Origin Airport (IATA Code)                  187581 non-null  object \n",
      " 5   Origin Airport (City, State)                187581 non-null  object \n",
      " 6   Destination Airport (IATA Code)             187581 non-null  object \n",
      " 7   Destination Airport (City, State)           187581 non-null  object \n",
      " 8   Scheduled Departure Time (local time)       187581 non-null  object \n",
      " 9   Arrival Delay (minutes)                     187581 non-null  int64  \n",
      " 10  Scheduled Arrival Time (local time)         187581 non-null  object \n",
      " 11  Departure Delay (minutes)                   187581 non-null  int64  \n",
      " 12  Scheduled Elapsed Time                      187581 non-null  int64  \n",
      " 13  Distance (miles)                            187581 non-null  int64  \n",
      " 14  Carrier Delay (minutes)                     187581 non-null  int64  \n",
      " 15  Weather Delay (minutes)                     187581 non-null  int64  \n",
      " 16  National Air System Delay (minutes)         187581 non-null  int64  \n",
      " 17  Security Delay (minutes)                    187581 non-null  int64  \n",
      " 18  Late Aircraft Delay (minutes)               187581 non-null  int64  \n",
      " 19  Different Marketer & Operator Carrier Code  187581 non-null  int32  \n",
      " 20  Flight Weekday                              187581 non-null  int64  \n",
      " 21  Flight Day                                  187581 non-null  int64  \n",
      " 22  Flight Month                                187581 non-null  int64  \n",
      " 23  Flight Year                                 187581 non-null  int64  \n",
      " 24  TAVG (*C)_dep                               148651 non-null  float64\n",
      " 25  TMAX (*C)_dep                               180036 non-null  float64\n",
      " 26  TMIN (*C)_dep                               180032 non-null  float64\n",
      " 27  PRCP (mm)_dep                               185299 non-null  float64\n",
      " 28  SNOW (mm)_dep                               173261 non-null  float64\n",
      " 29  Fog_dep                                     61863 non-null   float64\n",
      " 30  Heavy_Fog_dep                               7050 non-null    float64\n",
      " 31  Thunder_dep                                 20219 non-null   float64\n",
      " 32  Ice_Pellets_dep                             1176 non-null    float64\n",
      " 33  Hail_dep                                    494 non-null     float64\n",
      " 34  Glaze_or_Rime_dep                           1283 non-null    float64\n",
      " 35  Dust_or_Sand_dep                            237 non-null     float64\n",
      " 36  Smoke_or_Haze_dep                           26184 non-null   float64\n",
      " 37  Blowing or Drifting Snow_dep                402 non-null     float64\n",
      " 38  Tornado_or_Funnel_Cloud_dep                 28 non-null      float64\n",
      " 39  High_or_Damaging_Winds_dep                  250 non-null     float64\n",
      " 40  TAVG (*C)_arr                               148288 non-null  float64\n",
      " 41  TMAX (*C)_arr                               179852 non-null  float64\n",
      " 42  TMIN (*C)_arr                               179840 non-null  float64\n",
      " 43  PRCP (mm)_arr                               185267 non-null  float64\n",
      " 44  SNOW (mm)_arr                               172839 non-null  float64\n",
      " 45  Fog_arr                                     61833 non-null   float64\n",
      " 46  Heavy_Fog_arr                               6945 non-null    float64\n",
      " 47  Thunder_arr                                 20273 non-null   float64\n",
      " 48  Ice_Pellets_arr                             1290 non-null    float64\n",
      " 49  Hail_arr                                    511 non-null     float64\n",
      " 50  Glaze_or_Rime_arr                           1366 non-null    float64\n",
      " 51  Dust_or_Sand_arr                            197 non-null     float64\n",
      " 52  Smoke_or_Haze_arr                           25728 non-null   float64\n",
      " 53  Blowing or Drifting Snow_arr                407 non-null     float64\n",
      " 54  Tornado_or_Funnel_Cloud_arr                 29 non-null      float64\n",
      " 55  High_or_Damaging_Winds_arr                  244 non-null     float64\n",
      " 56  latitude_deg_dep                            187538 non-null  float64\n",
      " 57  longitude_deg_dep                           187538 non-null  float64\n",
      " 58  elevation_ft_dep                            187538 non-null  float64\n",
      " 59  type_dep                                    187538 non-null  object \n",
      " 60  local_region_dep                            187538 non-null  object \n",
      " 61  country_name_dep                            187538 non-null  object \n",
      " 62  latitude_deg_arr                            187546 non-null  float64\n",
      " 63  longitude_deg_arr                           187546 non-null  float64\n",
      " 64  elevation_ft_arr                            187546 non-null  float64\n",
      " 65  type_arr                                    187546 non-null  object \n",
      " 66  local_region_arr                            187546 non-null  object \n",
      " 67  country_name_arr                            187546 non-null  object \n",
      " 68  Departure Busyness Score                    187581 non-null  float64\n",
      " 69  Arrivals Busyness Score                     187581 non-null  float64\n",
      " 70  averagepayload_lbs                          187580 non-null  float64\n",
      " 71  averagefreight_lbs                          187580 non-null  float64\n",
      " 72  averagemail_lbs                             187580 non-null  float64\n",
      " 73  availableseats                              187580 non-null  float64\n",
      " 74  averagepassengers                           187580 non-null  float64\n",
      " 75  aircraftgroup                               181661 non-null  float64\n",
      " 76  aircrafttype                                181661 non-null  float64\n",
      " 77  aircraftconfiguration                       181661 non-null  float64\n",
      " 78  distanceinterval_x500mi                     181661 non-null  float64\n",
      " 79  serviceclass                                181661 non-null  object \n",
      "dtypes: float64(49), int32(1), int64(14), object(16)\n",
      "memory usage: 115.2+ MB\n"
     ]
    }
   ],
   "source": [
    "pd.set_option(\"display.max_columns\", 120)\n",
    "flights_sample.info()"
   ]
  },
  {
   "cell_type": "code",
   "execution_count": 12,
   "id": "d5a7a3f5-9b60-4553-82e1-999a739e9675",
   "metadata": {},
   "outputs": [],
   "source": [
    "#scale, bin, labelencoding, etc"
   ]
  },
  {
   "cell_type": "code",
   "execution_count": null,
   "id": "8c0c326d-1c89-4125-97a6-1ee3a58b007c",
   "metadata": {},
   "outputs": [],
   "source": []
  },
  {
   "cell_type": "code",
   "execution_count": null,
   "id": "4872a03f-968e-424b-9533-e3b1386bf6bf",
   "metadata": {},
   "outputs": [],
   "source": []
  },
  {
   "cell_type": "markdown",
   "id": "9a259086-94d1-482b-9805-4603ba48fc57",
   "metadata": {},
   "source": [
    "# STEP 4 - Dimension Reduction & Variable Selection"
   ]
  },
  {
   "cell_type": "code",
   "execution_count": 13,
   "id": "70275073-6e9b-47a8-81f8-766a4870b8a2",
   "metadata": {},
   "outputs": [],
   "source": [
    "#PCA, OLS"
   ]
  },
  {
   "cell_type": "code",
   "execution_count": null,
   "id": "8c50d66a-56cb-4303-ab96-2b9564d73696",
   "metadata": {},
   "outputs": [],
   "source": []
  },
  {
   "cell_type": "markdown",
   "id": "e301f8c7-92b6-401d-9c92-74f296aeffe2",
   "metadata": {},
   "source": [
    "# Export to CSV"
   ]
  },
  {
   "cell_type": "code",
   "execution_count": 15,
   "id": "f3cc5b96-588d-45f9-9be1-45cf28343175",
   "metadata": {},
   "outputs": [],
   "source": [
    "flights_sample.to_csv('../../data/processed/flights.csv',index=False) #Training\n",
    "\n",
    "#flights_sample.to_csv('../../data/processed/flights_test_enriched.csv',index=False) #Testing"
   ]
  },
  {
   "cell_type": "code",
   "execution_count": null,
   "id": "235b0304-881e-4636-8f27-540c1c5c5f97",
   "metadata": {},
   "outputs": [],
   "source": []
  }
 ],
 "metadata": {
  "kernelspec": {
   "display_name": "Python 3 (ipykernel)",
   "language": "python",
   "name": "python3"
  },
  "language_info": {
   "codemirror_mode": {
    "name": "ipython",
    "version": 3
   },
   "file_extension": ".py",
   "mimetype": "text/x-python",
   "name": "python",
   "nbconvert_exporter": "python",
   "pygments_lexer": "ipython3",
   "version": "3.9.13"
  }
 },
 "nbformat": 4,
 "nbformat_minor": 5
}
