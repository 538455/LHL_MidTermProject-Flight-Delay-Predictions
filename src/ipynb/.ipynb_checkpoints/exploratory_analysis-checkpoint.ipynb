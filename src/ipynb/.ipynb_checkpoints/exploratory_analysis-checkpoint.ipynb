{
 "cells": [
  {
   "cell_type": "markdown",
   "metadata": {},
   "source": [
    "## Exploratory Data Analysis\n",
    "\n",
    "Use this notebook to get familiar with the datasets we have. There is 10 questions we need to answer during the EDA.\n",
    "\n",
    "\n",
    "We shouldn't limit our EDA to these 10 questions. Let's be creative :)."
   ]
  },
  {
   "cell_type": "markdown",
   "metadata": {},
   "source": [
    "#### Import"
   ]
  },
  {
   "cell_type": "code",
   "execution_count": 1,
   "metadata": {},
   "outputs": [],
   "source": [
    "import pandas as pd\n",
    "import numpy as np\n",
    "import matplotlib.pyplot as plt\n",
    "import seaborn as sns"
   ]
  },
  {
   "cell_type": "code",
   "execution_count": 3,
   "metadata": {
    "tags": []
   },
   "outputs": [
    {
     "name": "stdout",
     "output_type": "stream",
     "text": [
      "<class 'pandas.core.frame.DataFrame'>\n",
      "RangeIndex: 199350 entries, 0 to 199349\n",
      "Data columns (total 37 columns):\n",
      " #   Column                                      Non-Null Count   Dtype \n",
      "---  ------                                      --------------   ----- \n",
      " 0   Flight Year                                 199350 non-null  int64 \n",
      " 1   Flight Month                                199350 non-null  int64 \n",
      " 2   Flight Day                                  199350 non-null  int64 \n",
      " 3   Flight Weekday                              199350 non-null  int64 \n",
      " 4   Marketer - Unique Carrier Code              199350 non-null  object\n",
      " 5   Operator - Unique Carrier Code              199350 non-null  object\n",
      " 6   Different Marketer & Operator Carrier Code  199350 non-null  int64 \n",
      " 7   Tail Number                                 199350 non-null  object\n",
      " 8   Flight Number                               199350 non-null  int64 \n",
      " 9   Origin Airport (ID)                         199350 non-null  int64 \n",
      " 10  Origin Airport (IATA Code)                  199350 non-null  object\n",
      " 11  Origin Airport (City, State)                199350 non-null  object\n",
      " 12  Destination Airport (ID)                    199350 non-null  int64 \n",
      " 13  Destination Airport (IATA Code)             199350 non-null  object\n",
      " 14  Destination Airport (City, State)           199350 non-null  object\n",
      " 15  Departure Delay (minutes)                   199350 non-null  int64 \n",
      " 16  Arrival Delay (minutes)                     199350 non-null  int64 \n",
      " 17  Cancelled                                   199350 non-null  int64 \n",
      " 18  Cancellation Code                           2753 non-null    object\n",
      " 19  Diverted                                    199350 non-null  int64 \n",
      " 20  Scheduled Departure Time (local time)       199350 non-null  object\n",
      " 21  Actual Departure Time (local time)          196744 non-null  object\n",
      " 22  Taxi Out (minutes)                          196542 non-null  object\n",
      " 23  Wheels Off (local time)                     196542 non-null  object\n",
      " 24  Wheels On (local time)                      196434 non-null  object\n",
      " 25  Taxi In (minutes)                           196434 non-null  object\n",
      " 26  Scheduled Arrival Time (local time)         199350 non-null  object\n",
      " 27  Actual Arrival Time (local time)            196516 non-null  object\n",
      " 28  Scheduled Elapsed Time                      199350 non-null  int64 \n",
      " 29  Actual Elapsed Time                         199350 non-null  int64 \n",
      " 30  Air Time                                    199350 non-null  int64 \n",
      " 31  Distance (miles)                            199350 non-null  int64 \n",
      " 32  Carrier Delay (minutes)                     199350 non-null  int64 \n",
      " 33  Weather Delay (minutes)                     199350 non-null  int64 \n",
      " 34  National Air System Delay (minutes)         199350 non-null  int64 \n",
      " 35  Security Delay (minutes)                    199350 non-null  int64 \n",
      " 36  Late Aircraft Delay (minutes)               199350 non-null  int64 \n",
      "dtypes: int64(21), object(16)\n",
      "memory usage: 56.3+ MB\n"
     ]
    }
   ],
   "source": [
    "flights_sample = pd.read_csv(\"../../data/processed/flights_sample.csv\", index_col=None)\n",
    "flights_sample.info()"
   ]
  },
  {
   "cell_type": "markdown",
   "metadata": {},
   "source": [
    "#### **Task 1**: Test the hypothesis that the delay is from Normal distribution. and that **mean** of the delay is 0. Be careful about the outliers."
   ]
  },
  {
   "cell_type": "code",
   "execution_count": null,
   "metadata": {},
   "outputs": [],
   "source": []
  },
  {
   "cell_type": "code",
   "execution_count": null,
   "metadata": {},
   "outputs": [],
   "source": []
  },
  {
   "cell_type": "code",
   "execution_count": null,
   "metadata": {},
   "outputs": [],
   "source": []
  },
  {
   "cell_type": "markdown",
   "metadata": {},
   "source": [
    "#### **Task 2**: Is average/median monthly delay different during the year? If yes, which are months with the biggest delays and what could be the reason?"
   ]
  },
  {
   "cell_type": "code",
   "execution_count": 84,
   "metadata": {},
   "outputs": [
    {
     "data": {
      "image/png": "[encoded data removed]",
      "text/plain": [
       "<Figure size 1080x720 with 4 Axes>"
      ]
     },
     "metadata": {
      "needs_background": "light"
     },
     "output_type": "display_data"
    }
   ],
   "source": [
    "fig, ax = plt.subplots(2, 2, figsize=(15, 10))\n",
    "#fig.suptitle('Average (Left) & Median (Right) Monthly Delay for Arrival and Departure', fontsize=16, fontweight='bold')\n",
    "sns.barplot(x='Flight Month', y='Arrival Delay (minutes)', data=flights_sample, ax=ax[0,0])\n",
    "sns.barplot(x='Flight Month', y='Arrival Delay (minutes)', data=flights_sample, ax=ax[0,1], estimator=np.median)\n",
    "sns.barplot(x='Flight Month', y='Departure Delay (minutes)', data=flights_sample, ax=ax[1,1])\n",
    "sns.barplot(x='Flight Month', y='Departure Delay (minutes)', data=flights_sample, ax=ax[1,0], estimator=np.median)\n",
    "\n",
    "#add title\n",
    "ax[0,0].set_title('Average Arrival Delay')\n",
    "ax[0,1].set_title('Median Arrival Delay')\n",
    "ax[1,0].set_title('Average Departure Delay')\n",
    "ax[1,1].set_title('Median Departure Delay')\n",
    "\n",
    "#set y scale\n",
    "ax[0,1].set(ylim=(-20, 20))\n",
    "ax[0,0].set(ylim=(-20, 20))\n",
    "ax[1,1].set(ylim=(-20, 20))\n",
    "ax[1,0].set(ylim=(-20, 20))\n",
    "plt.show()"
   ]
  },
  {
   "cell_type": "markdown",
   "metadata": {},
   "source": [
    "#### **Task 3**: Does the weather affect the delay? \n",
    "Use the API to pull the weather information for flights. There is no need to get weather for ALL flights. We can choose the right representative sample. Let's focus on four weather types:\n",
    "- sunny\n",
    "- cloudy\n",
    "- rainy\n",
    "- snow.\n",
    "Test the hypothesis that these 4 delays are from the same distribution. If they are not, which ones are significantly different?"
   ]
  },
  {
   "cell_type": "code",
   "execution_count": null,
   "metadata": {},
   "outputs": [],
   "source": []
  },
  {
   "cell_type": "code",
   "execution_count": null,
   "metadata": {},
   "outputs": [],
   "source": []
  },
  {
   "cell_type": "markdown",
   "metadata": {},
   "source": [
    "#### **Task 4**: How taxi times changing during the day? Does higher traffic lead to bigger taxi times?"
   ]
  },
  {
   "cell_type": "code",
   "execution_count": null,
   "metadata": {},
   "outputs": [],
   "source": []
  },
  {
   "cell_type": "code",
   "execution_count": null,
   "metadata": {},
   "outputs": [],
   "source": []
  },
  {
   "cell_type": "markdown",
   "metadata": {},
   "source": [
    "#### **Task 5**: What is the average percentage of delays that is already created before departure? (aka are arrival delays caused by departure delays?) Are airlines able to lower the delay during the flights?"
   ]
  },
  {
   "cell_type": "code",
   "execution_count": null,
   "metadata": {},
   "outputs": [],
   "source": []
  },
  {
   "cell_type": "code",
   "execution_count": null,
   "metadata": {},
   "outputs": [],
   "source": []
  },
  {
   "cell_type": "markdown",
   "metadata": {},
   "source": [
    "#### **Task 6**: How many states cover 50% of US air traffic? "
   ]
  },
  {
   "cell_type": "code",
   "execution_count": null,
   "metadata": {},
   "outputs": [],
   "source": []
  },
  {
   "cell_type": "code",
   "execution_count": null,
   "metadata": {},
   "outputs": [],
   "source": []
  },
  {
   "cell_type": "markdown",
   "metadata": {},
   "source": [
    "#### **Task 7**: Test the hypothesis whether planes fly faster when there is the departure delay? "
   ]
  },
  {
   "cell_type": "code",
   "execution_count": null,
   "metadata": {},
   "outputs": [],
   "source": [
    "#Skip"
   ]
  },
  {
   "cell_type": "code",
   "execution_count": null,
   "metadata": {},
   "outputs": [],
   "source": []
  },
  {
   "cell_type": "markdown",
   "metadata": {},
   "source": [
    "#### **Task 8**: When (which hour) do most 'LONG', 'SHORT', 'MEDIUM' haul flights take off?"
   ]
  },
  {
   "cell_type": "code",
   "execution_count": null,
   "metadata": {},
   "outputs": [],
   "source": [
    "#defition of medium, short, long haul flights?"
   ]
  },
  {
   "cell_type": "code",
   "execution_count": null,
   "metadata": {},
   "outputs": [],
   "source": []
  },
  {
   "cell_type": "markdown",
   "metadata": {},
   "source": [
    "#### **Task 9**: Find the top 10 the bussiest airports. Does the biggest number of flights mean that the biggest number of passengers went through the particular airport? How much traffic do these 10 airports cover?"
   ]
  },
  {
   "cell_type": "code",
   "execution_count": null,
   "metadata": {},
   "outputs": [],
   "source": []
  },
  {
   "cell_type": "code",
   "execution_count": null,
   "metadata": {},
   "outputs": [],
   "source": []
  },
  {
   "cell_type": "markdown",
   "metadata": {},
   "source": [
    "#### **Task 10**: Do bigger delays lead to bigger fuel comsumption per passenger? \n",
    "We need to do four things to answer this as accurate as possible:\n",
    "- Find out average monthly delay per air carrier (monthly delay is sum of all delays in 1 month)\n",
    "- Find out distance covered monthly by different air carriers\n",
    "- Find out number of passengers that were carried by different air carriers\n",
    "- Find out total fuel comsumption per air carrier.\n",
    "\n",
    "Use this information to get the average fuel comsumption per passenger per km. Is this higher for the airlines with bigger average delays?"
   ]
  },
  {
   "cell_type": "code",
   "execution_count": null,
   "metadata": {},
   "outputs": [],
   "source": []
  },
  {
   "cell_type": "code",
   "execution_count": null,
   "metadata": {},
   "outputs": [],
   "source": []
  }
 ],
 "metadata": {
  "kernelspec": {
   "display_name": "Python 3 (ipykernel)",
   "language": "python",
   "name": "python3"
  },
  "language_info": {
   "codemirror_mode": {
    "name": "ipython",
    "version": 3
   },
   "file_extension": ".py",
   "mimetype": "text/x-python",
   "name": "python",
   "nbconvert_exporter": "python",
   "pygments_lexer": "ipython3",
   "version": "3.9.13"
  },
  "toc": {
   "base_numbering": 1,
   "nav_menu": {},
   "number_sections": true,
   "sideBar": true,
   "skip_h1_title": false,
   "title_cell": "Table of Contents",
   "title_sidebar": "Contents",
   "toc_cell": false,
   "toc_position": {},
   "toc_section_display": true,
   "toc_window_display": false
  },
  "varInspector": {
   "cols": {
    "lenName": 16,
    "lenType": 16,
    "lenVar": 40
   },
   "kernels_config": {
    "python": {
     "delete_cmd_postfix": "",
     "delete_cmd_prefix": "del ",
     "library": "var_list.py",
     "varRefreshCmd": "print(var_dic_list())"
    },
    "r": {
     "delete_cmd_postfix": ") ",
     "delete_cmd_prefix": "rm(",
     "library": "var_list.r",
     "varRefreshCmd": "cat(var_dic_list()) "
    }
   },
   "types_to_exclude": [
    "module",
    "function",
    "builtin_function_or_method",
    "instance",
    "_Feature"
   ],
   "window_display": false
  }
 },
 "nbformat": 4,
 "nbformat_minor": 4
}
