{
 "cells": [
  {
   "cell_type": "markdown",
   "id": "48072217-c0ed-4657-9610-c3cca8d87556",
   "metadata": {
    "tags": []
   },
   "source": [
    "# Import Dataset & Librairies"
   ]
  },
  {
   "cell_type": "code",
   "execution_count": 5,
   "id": "1812c45a-7f19-44a4-99b7-0144a1e5bb5e",
   "metadata": {},
   "outputs": [],
   "source": [
    "import pandas as pd\n",
    "import numpy as np\n",
    "import matplotlib.pyplot as plt\n",
    "import seaborn as sns\n",
    "\n",
    "from sklearn.linear_model import LinearRegression, Ridge, Lasso\n",
    "from sklearn.preprocessing import PolynomialFeatures\n",
    "import xgboost as xgb\n",
    "from xgboost import XGBClassifier\n",
    "from xgboost import XGBRegressor\n",
    "\n",
    "from sklearn.model_selection import train_test_split\n",
    "from sklearn.metrics import mean_squared_error"
   ]
  },
  {
   "cell_type": "code",
   "execution_count": 6,
   "id": "83386509-7db5-4433-be29-b92f9b3327b7",
   "metadata": {},
   "outputs": [
    {
     "name": "stderr",
     "output_type": "stream",
     "text": [
      "C:\\Users\\987\\AppData\\Local\\Temp\\ipykernel_39484\\3081880053.py:5: DtypeWarning: Columns (9,10,11) have mixed types. Specify dtype option on import or set low_memory=False.\n",
      "  flights_final_test= pd.read_csv('../../data/processed/Enriched-flights_test.csv') # Mid_term Project Test dataset\n"
     ]
    }
   ],
   "source": [
    "flights_sample_train= pd.read_csv('../../data/processed/Enriched-flights_sample_train.csv') # Used for training model\n",
    "flights_sample_test= pd.read_csv('../../data/processed/Enriched-flights_sample_test.csv') # Used for testing model\n",
    "\n",
    "flights_test= pd.read_csv('../../data/processed/Enriched-flights_BIGtest(2dec).csv') # Simulation of the test data set. Full random 200K\n",
    "flights_final_test= pd.read_csv('../../data/processed/Enriched-flights_test.csv') # Mid_term Project Test dataset"
   ]
  },
  {
   "cell_type": "markdown",
   "id": "7dd7ab8a-47ac-4677-a0e0-bf8304431336",
   "metadata": {
    "jp-MarkdownHeadingCollapsed": true,
    "tags": []
   },
   "source": [
    "## XGBoost Regressor RMSE: 20.93, 45.98, 48.64 Submitted: Yes"
   ]
  },
  {
   "cell_type": "markdown",
   "id": "7b88fca2-a949-4845-90cb-0c377984c604",
   "metadata": {
    "tags": []
   },
   "source": [
    "### Train Model"
   ]
  },
  {
   "cell_type": "code",
   "execution_count": 73,
   "id": "77a0fbcd-2521-4021-8718-fbd3d61b8fa0",
   "metadata": {},
   "outputs": [
    {
     "name": "stdout",
     "output_type": "stream",
     "text": [
      "RMSE: 20.933387\n"
     ]
    }
   ],
   "source": [
    "# Let's set X and y to our flights_sample_train data and 'Arriaval Delay (minutes)' column\n",
    "X=flights_sample_train.drop(['Marketer - Unique Carrier Code', 'Operator - Unique Carrier Code', 'Tail Number', 'Flight Number', 'Aircraft group', 'Aircraft type', 'Aircraft configuration', 'Service class', 'Distance (miles)', 'Origin Airport (IATA Code)', 'Airport Type_origin', 'Scheduled Departure Time (local time)', 'Destination Airport (IATA Code)', 'Airport Type_destination', 'Scheduled Arrival Time (local time)', 'Departure Delay (minutes)', 'Arrival Delay (minutes)', 'Carrier Delay (minutes)', 'Weather Delay (minutes)', 'National Air System Delay (minutes)', 'Security Delay (minutes)', 'Late Aircraft Delay (minutes)', 'cancelled', 'cancellation_code', 'diverted'], axis=1)\n",
    "X=X.fillna(0)\n",
    "y=flights_sample_train['Arrival Delay (minutes)']\n",
    "y=y.fillna(0)\n",
    "\n",
    "# convert to numpy array\n",
    "X=X.values\n",
    "y=y.values\n",
    "\n",
    "# split into train and test sets\n",
    "seed = 1\n",
    "test_size = 0.8\n",
    "X_train, X_test, y_train, y_test = train_test_split(X, y, test_size=test_size, random_state=seed)\n",
    "\n",
    "# fit model to training data\n",
    "import xgboost as xgb\n",
    "from xgboost import XGBRegressor\n",
    "\n",
    "model = XGBRegressor()\n",
    "model.fit(X_train, y_train)\n",
    "\n",
    "# make predictions for test data\n",
    "y_pred = model.predict(X_test)\n",
    "\n",
    "# evaluate predictions\n",
    "rmse = np.sqrt(mean_squared_error(y_test, y_pred))\n",
    "print(\"RMSE: %f\" % (rmse))"
   ]
  },
  {
   "cell_type": "markdown",
   "id": "117b656c-adeb-4128-9ae1-113d907024f8",
   "metadata": {
    "tags": []
   },
   "source": [
    "### First Test (40K)"
   ]
  },
  {
   "cell_type": "markdown",
   "id": "850004a2-e7a8-4c2f-840a-3187f778ac58",
   "metadata": {
    "tags": []
   },
   "source": [
    "#### Let's start by making sure both have the same columns and are in the same order"
   ]
  },
  {
   "cell_type": "code",
   "execution_count": 15,
   "id": "0be3802d-fcbf-40ce-b74a-e72f620d04cb",
   "metadata": {},
   "outputs": [
    {
     "name": "stdout",
     "output_type": "stream",
     "text": [
      "set()\n",
      "set()\n"
     ]
    }
   ],
   "source": [
    "print(set(flights_sample_train.columns) - set(flights_sample_test.columns))\n",
    "print(set(flights_sample_test.columns) - set(flights_sample_train.columns))"
   ]
  },
  {
   "cell_type": "code",
   "execution_count": 9,
   "id": "d8e59390-8fc3-492d-a226-50e5cfb72546",
   "metadata": {},
   "outputs": [],
   "source": [
    "## Adding the missing column to the test\n",
    "flights_sample_test['Aircraft type2_887.0'] = 0\n",
    "\n",
    "## Not let's put our columns in the same order:\n",
    "flights_sample_test = flights_sample_test[flights_sample_train.columns]"
   ]
  },
  {
   "cell_type": "markdown",
   "id": "764c7cba-725d-45e4-97b9-bb4c6bb1aad1",
   "metadata": {
    "tags": []
   },
   "source": [
    "#### Now run the test"
   ]
  },
  {
   "cell_type": "code",
   "execution_count": 16,
   "id": "10eb575f-c306-4f2d-a501-66ddb1930a7d",
   "metadata": {},
   "outputs": [
    {
     "name": "stdout",
     "output_type": "stream",
     "text": [
      "RMSE: 45.989178\n"
     ]
    }
   ],
   "source": [
    "# Now let's try to predict the arrival delay for the flights_sample_test data\n",
    "X=flights_sample_test.drop(['Marketer - Unique Carrier Code', 'Operator - Unique Carrier Code', 'Tail Number', 'Flight Number', 'Aircraft group', 'Aircraft type', 'Aircraft configuration', 'Service class', 'Distance (miles)', 'Origin Airport (IATA Code)', 'Airport Type_origin', 'Scheduled Departure Time (local time)', 'Destination Airport (IATA Code)', 'Airport Type_destination', 'Scheduled Arrival Time (local time)', 'Departure Delay (minutes)', 'Arrival Delay (minutes)', 'Carrier Delay (minutes)', 'Weather Delay (minutes)', 'National Air System Delay (minutes)', 'Security Delay (minutes)', 'Late Aircraft Delay (minutes)', 'cancelled', 'cancellation_code', 'diverted'], axis=1)\n",
    "X=X.fillna(0)\n",
    "y=flights_sample_test['Arrival Delay (minutes)']\n",
    "y=y.fillna(0)\n",
    "\n",
    "# convert to numpy array\n",
    "X=X.values\n",
    "y=y.values\n",
    "\n",
    "# make predictions for test data\n",
    "y_pred = model.predict(X)\n",
    "\n",
    "# evaluate predictions\n",
    "rmse = np.sqrt(mean_squared_error(y, y_pred))\n",
    "print(\"RMSE: %f\" % (rmse))"
   ]
  },
  {
   "cell_type": "markdown",
   "id": "86f1e937-4d7f-43e0-997d-f65d62eb0cc3",
   "metadata": {},
   "source": [
    "Well that's not good.."
   ]
  },
  {
   "cell_type": "markdown",
   "id": "8c0ebe01-5cef-45c3-b488-04fed2bf75cd",
   "metadata": {
    "tags": []
   },
   "source": [
    "### Second Test (200K)"
   ]
  },
  {
   "cell_type": "markdown",
   "id": "eccd114f-83d5-484b-a2d1-db2bb042cd91",
   "metadata": {
    "jp-MarkdownHeadingCollapsed": true,
    "tags": []
   },
   "source": [
    "#### Let's start by making sure both have the same columns and are in the same order"
   ]
  },
  {
   "cell_type": "code",
   "execution_count": 76,
   "id": "02c13694-d752-4067-a9b7-a4a0b466edf4",
   "metadata": {},
   "outputs": [
    {
     "name": "stdout",
     "output_type": "stream",
     "text": [
      "set()\n",
      "\n",
      "set()\n"
     ]
    }
   ],
   "source": [
    "print(set(flights_sample_train.columns) - set(flights_test.columns))\n",
    "print()\n",
    "print(set(flights_test.columns) - set(flights_sample_train.columns))"
   ]
  },
  {
   "cell_type": "code",
   "execution_count": 75,
   "id": "8b1b2872-d78e-481c-9548-9c688c6071cf",
   "metadata": {},
   "outputs": [],
   "source": [
    "## Add missing columns to the test (1st set)\n",
    "\n",
    "## Remove additional columns from the test (2nd set)\n",
    "#del flights_test['Aircraft type2_837.0']\n",
    "del flights_test['origin']\n",
    "del flights_test['mkt_carrier']\n",
    "del flights_test['dest']\n",
    "del flights_test['mkt_carrier_fl_num']\n",
    "del flights_test['fl_date']\n",
    "\n",
    "\n",
    "## Now let's put our columns in the same order:\n",
    "flights_test = flights_test[flights_sample_train.columns]"
   ]
  },
  {
   "cell_type": "markdown",
   "id": "5704aead-77f4-44d2-8b07-d9ac46a98253",
   "metadata": {},
   "source": [
    "#### Now run the test"
   ]
  },
  {
   "cell_type": "code",
   "execution_count": 77,
   "id": "de2ae181-62c0-42c2-b7e0-320310d6e0b5",
   "metadata": {},
   "outputs": [
    {
     "name": "stdout",
     "output_type": "stream",
     "text": [
      "RMSE: 48.646433\n"
     ]
    }
   ],
   "source": [
    "# Now let's try to predict the arrival delay for the flights_sample_test data\n",
    "X=flights_test.drop(['Marketer - Unique Carrier Code', 'Operator - Unique Carrier Code', 'Tail Number', 'Flight Number', 'Aircraft group', 'Aircraft type', 'Aircraft configuration', 'Service class', 'Distance (miles)', 'Origin Airport (IATA Code)', 'Airport Type_origin', 'Scheduled Departure Time (local time)', 'Destination Airport (IATA Code)', 'Airport Type_destination', 'Scheduled Arrival Time (local time)', 'Departure Delay (minutes)', 'Arrival Delay (minutes)', 'Carrier Delay (minutes)', 'Weather Delay (minutes)', 'National Air System Delay (minutes)', 'Security Delay (minutes)', 'Late Aircraft Delay (minutes)', 'cancelled', 'cancellation_code', 'diverted'], axis=1)\n",
    "X=X.fillna(0)\n",
    "y=flights_test['Arrival Delay (minutes)']\n",
    "y=y.fillna(0)\n",
    "\n",
    "# convert to numpy array\n",
    "X=X.values\n",
    "y=y.values\n",
    "\n",
    "# make predictions for test data\n",
    "y_pred = model.predict(X)\n",
    "\n",
    "# evaluate predictions\n",
    "rmse = np.sqrt(mean_squared_error(y, y_pred))\n",
    "print(\"RMSE: %f\" % (rmse))"
   ]
  },
  {
   "cell_type": "markdown",
   "id": "e32f21cb-450c-4e00-8459-15ea5f4432ca",
   "metadata": {},
   "source": [
    "#### Export 2nd Test Results to CSV (Final QC)"
   ]
  },
  {
   "cell_type": "code",
   "execution_count": 78,
   "id": "d873be67-da0c-4b01-93a4-303c43ec8cb8",
   "metadata": {},
   "outputs": [],
   "source": [
    "# output y and y pred into a dataframe\n",
    "y_pred_df=pd.DataFrame(y_pred)\n",
    "y_test_df=pd.DataFrame(y)\n",
    "\n",
    "# merge the two dataframes\n",
    "y_pred_df['y_test']=y_test_df\n",
    "\n",
    "# rename the columns\n",
    "y_pred_df.columns=['Model Prediction', 'Actual Value']\n",
    "\n",
    "#export to csv\n",
    "y_pred_df.to_csv('../../src/modules/2nd Test Predictions/XGBoostReg.csv', index=False)"
   ]
  },
  {
   "cell_type": "markdown",
   "id": "847e7b1e-d97a-407c-815a-313d2b19abba",
   "metadata": {
    "jp-MarkdownHeadingCollapsed": true,
    "tags": []
   },
   "source": [
    "### Final Test (Jan2020) - Incomplete"
   ]
  },
  {
   "cell_type": "markdown",
   "id": "162620a7-dd02-4b9d-b8c0-4ed8d1938537",
   "metadata": {
    "tags": []
   },
   "source": [
    "#### Let's start by making sure both have the same columns and are in the same order"
   ]
  },
  {
   "cell_type": "code",
   "execution_count": 20,
   "id": "bd2bf455-89ea-4e5c-9ce3-3117a6521d83",
   "metadata": {},
   "outputs": [
    {
     "name": "stdout",
     "output_type": "stream",
     "text": [
      "{'cancelled', 'Weather Delay (minutes)', 'Operator - Unique Carrier Code2_9K', 'diverted', 'Carrier Delay (minutes)', 'Operator - Unique Carrier Code2_KS', 'National Air System Delay (minutes)', 'Operator - Unique Carrier Code2_VX', 'Aircraft type2_432.0', 'Security Delay (minutes)', 'Departure Delay (minutes)', 'cancellation_code', 'Arrival Delay (minutes)', 'Late Aircraft Delay (minutes)'}\n",
      "\n",
      "set()\n"
     ]
    }
   ],
   "source": [
    "print(set(flights_sample_train.columns) - set(flights_final_test.columns))\n",
    "print()\n",
    "print(set(flights_final_test.columns) - set(flights_sample_train.columns))"
   ]
  },
  {
   "cell_type": "code",
   "execution_count": 21,
   "id": "12430b27-a3a1-4c6d-9194-6558b8c8841f",
   "metadata": {},
   "outputs": [],
   "source": [
    "## Add missing columns to the test (1st set) ... Most of those will get dropped right after anyway.. it's really just so the arrays match\n",
    "flights_final_test['cancelled'] = 0\n",
    "flights_final_test['Weather Delay (minutes)'] = 0\n",
    "flights_final_test['Operator - Unique Carrier Code2_9K'] = 0\n",
    "flights_final_test['diverted'] = 0\n",
    "flights_final_test['Carrier Delay (minutes)'] = 0\n",
    "flights_final_test['Operator - Unique Carrier Code2_KS'] = 0\n",
    "flights_final_test['National Air System Delay (minutes)'] = 0\n",
    "flights_final_test['Operator - Unique Carrier Code2_VX'] = 0\n",
    "flights_final_test['Aircraft type2_432.0'] = 0\n",
    "flights_final_test['Security Delay (minutes)'] = 0\n",
    "flights_final_test['Departure Delay (minutes)'] = 0\n",
    "flights_final_test['cancellation_code'] = 0\n",
    "flights_final_test['Arrival Delay (minutes)'] = 0\n",
    "flights_final_test['Late Aircraft Delay (minutes)'] = 0\n",
    "\n",
    "## Remove additional columns from the test (2nd set)\n",
    "\n",
    "\n",
    "\n",
    "## Now let's put our columns in the same order:\n",
    "flights_final_test = flights_final_test[flights_sample_train.columns]"
   ]
  },
  {
   "cell_type": "markdown",
   "id": "1b649c29-a9ef-4fbc-80a6-22f2d10858e2",
   "metadata": {},
   "source": [
    "#### Now run the test.. no score for this one, we're just predicting!"
   ]
  },
  {
   "cell_type": "code",
   "execution_count": 24,
   "id": "b0ded508-30c4-48e7-b6ad-fd4731c7350b",
   "metadata": {},
   "outputs": [],
   "source": [
    "# Now let's try to predict the arrival delay for the flights_sample_test data\n",
    "X=flights_final_test.drop(['Marketer - Unique Carrier Code', 'Operator - Unique Carrier Code', 'Tail Number', 'Flight Number', 'Aircraft group', 'Aircraft type', 'Aircraft configuration', 'Service class', 'Distance (miles)', 'Origin Airport (IATA Code)', 'Airport Type_origin', 'Scheduled Departure Time (local time)', 'Destination Airport (IATA Code)', 'Airport Type_destination', 'Scheduled Arrival Time (local time)', 'Departure Delay (minutes)', 'Arrival Delay (minutes)', 'Carrier Delay (minutes)', 'Weather Delay (minutes)', 'National Air System Delay (minutes)', 'Security Delay (minutes)', 'Late Aircraft Delay (minutes)', 'cancelled', 'cancellation_code', 'diverted'], axis=1)\n",
    "X=X.fillna(0)\n",
    "\n",
    "# convert to numpy array\n",
    "X=X.values\n",
    "\n",
    "# make predictions for test data\n",
    "y_pred = model.predict(X)"
   ]
  },
  {
   "cell_type": "markdown",
   "id": "0de3e377-abcb-4903-9d85-2caead993cd7",
   "metadata": {
    "tags": []
   },
   "source": [
    "### Export Final_Test Results to CSV"
   ]
  },
  {
   "cell_type": "code",
   "execution_count": 26,
   "id": "907578f9-e5ef-4287-9053-67a20ddad335",
   "metadata": {},
   "outputs": [],
   "source": [
    "# output y pred into a dataframe\n",
    "y_pred_df=pd.DataFrame(y_pred)\n",
    "\n",
    "# Rename the columns\n",
    "y_pred_df.columns=['predicted_delay']\n",
    "\n",
    "# Now, we have to format y_pred_df to match the format of the sample submission file\n",
    "## Produce the missing columns\n",
    "flights_test['fl_date'] = flights_test['Flight Year'].astype(str) + '-' + flights_test['Flight Month'].astype(str).str.zfill(2) + '-' + flights_test['Flight Day'].astype(str).str.zfill(2)\n",
    "flights_test['mkt_carrier'] = flights_test['Marketer - Unique Carrier Code']\n",
    "flights_test['mkt_carrier_fl_num'] = flights_test['Flight Number']\n",
    "flights_test['origin'] = flights_test['Origin Airport (IATA Code)']\n",
    "flights_test['dest'] = flights_test['Destination Airport (IATA Code)']\n",
    "\n",
    "## Add these columns to y_pred_df\n",
    "y_pred_df['fl_date'] = flights_test['fl_date']\n",
    "y_pred_df['mkt_carrier'] = flights_test['mkt_carrier']\n",
    "y_pred_df['mkt_carrier_fl_num'] = flights_test['mkt_carrier_fl_num']\n",
    "y_pred_df['origin'] = flights_test['origin']\n",
    "y_pred_df['dest'] = flights_test['dest']\n",
    "\n",
    "## Reorder the columns to match the sample submission file\n",
    "y_pred_df = y_pred_df[['fl_date', 'mkt_carrier', 'mkt_carrier_fl_num', 'origin', 'dest', 'predicted_delay']]\n",
    "\n",
    "# Export to csv\n",
    "y_pred_df.to_csv('../../output/XGBoostReg.csv', index=False)"
   ]
  },
  {
   "cell_type": "markdown",
   "id": "2ed87daa-1183-4c66-829f-c8d196b93457",
   "metadata": {
    "jp-MarkdownHeadingCollapsed": true,
    "tags": []
   },
   "source": [
    "## XGBoost Regressor - What if we added more data? RMSE (40.00, 46.05)\n",
    "\n",
    "Let's add our 200K to our training data and see if we can better predict the 40K"
   ]
  },
  {
   "cell_type": "markdown",
   "id": "21d85c3f-7e92-422a-a8b7-1769d40bdc85",
   "metadata": {
    "tags": []
   },
   "source": [
    "#### Let's start by making sure both have the same columns and are in the same order"
   ]
  },
  {
   "cell_type": "code",
   "execution_count": 90,
   "id": "bf922f4c-1474-4221-b7be-7169dc1ab9d7",
   "metadata": {},
   "outputs": [
    {
     "name": "stdout",
     "output_type": "stream",
     "text": [
      "set()\n",
      "set()\n"
     ]
    }
   ],
   "source": [
    "print(set(flights_sample_train.columns) - set(flights_test.columns))\n",
    "print(set(flights_test.columns) - set(flights_sample_train.columns))"
   ]
  },
  {
   "cell_type": "code",
   "execution_count": 91,
   "id": "95178d64-d01f-41b0-be69-e7c5dee78af7",
   "metadata": {},
   "outputs": [],
   "source": [
    "## Adding the missing column to the test\n",
    "#flights_sample_test['Aircraft type2_887.0'] = 0\n",
    "\n",
    "## Not let's put our columns in the same order:\n",
    "flights_test = flights_test[flights_sample_train.columns]"
   ]
  },
  {
   "cell_type": "code",
   "execution_count": 92,
   "id": "a346cdee-c42f-4a50-88db-b0ccac455ca0",
   "metadata": {},
   "outputs": [],
   "source": [
    "flights_sample_combined_train = pd.concat([flights_sample_train, flights_test], axis=0)"
   ]
  },
  {
   "cell_type": "markdown",
   "id": "40519495-93d2-4c62-9f3b-f378a988dbad",
   "metadata": {},
   "source": [
    "### Train the model"
   ]
  },
  {
   "cell_type": "code",
   "execution_count": 93,
   "id": "e52e5739-fe46-466e-9fd8-0580de80e906",
   "metadata": {},
   "outputs": [
    {
     "name": "stdout",
     "output_type": "stream",
     "text": [
      "RMSE: 40.002790\n"
     ]
    }
   ],
   "source": [
    "# Let's set X and y to our flights_sample_train data and 'Arriaval Delay (minutes)' column\n",
    "X=flights_sample_combined_train.drop(['Marketer - Unique Carrier Code', 'Operator - Unique Carrier Code', 'Tail Number', 'Flight Number', 'Aircraft group', 'Aircraft type', 'Aircraft configuration', 'Service class', 'Distance (miles)', 'Origin Airport (IATA Code)', 'Airport Type_origin', 'Scheduled Departure Time (local time)', 'Destination Airport (IATA Code)', 'Airport Type_destination', 'Scheduled Arrival Time (local time)', 'Departure Delay (minutes)', 'Arrival Delay (minutes)', 'Carrier Delay (minutes)', 'Weather Delay (minutes)', 'National Air System Delay (minutes)', 'Security Delay (minutes)', 'Late Aircraft Delay (minutes)', 'cancelled', 'cancellation_code', 'diverted'], axis=1)\n",
    "X=X.fillna(0)\n",
    "y=flights_sample_combined_train['Arrival Delay (minutes)']\n",
    "y=y.fillna(0)\n",
    "\n",
    "# convert to numpy array\n",
    "X=X.values\n",
    "y=y.values\n",
    "\n",
    "# split into train and test sets\n",
    "seed = 1\n",
    "test_size = 0.8\n",
    "X_train, X_test, y_train, y_test = train_test_split(X, y, test_size=test_size, random_state=seed)\n",
    "\n",
    "# fit model to training data\n",
    "import xgboost as xgb\n",
    "from xgboost import XGBRegressor\n",
    "\n",
    "model = XGBRegressor()\n",
    "model.fit(X_train, y_train)\n",
    "\n",
    "# make predictions for test data\n",
    "y_pred = model.predict(X_test)\n",
    "\n",
    "# evaluate predictions\n",
    "rmse = np.sqrt(mean_squared_error(y_test, y_pred))\n",
    "print(\"RMSE: %f\" % (rmse))"
   ]
  },
  {
   "cell_type": "markdown",
   "id": "a9ac5cc2-421f-4d03-917f-01b4b57c2ce7",
   "metadata": {},
   "source": [
    "So this is not really helping our initial value, but what about the 40K?"
   ]
  },
  {
   "cell_type": "markdown",
   "id": "ffb3bc57-d195-4d00-b98d-80d912c6a2f1",
   "metadata": {
    "tags": []
   },
   "source": [
    "### First Test (40K)"
   ]
  },
  {
   "cell_type": "markdown",
   "id": "b158e1f1-aae3-4323-a3b7-b31768dd8a82",
   "metadata": {
    "tags": []
   },
   "source": [
    "#### Let's start by making sure both have the same columns and are in the same order"
   ]
  },
  {
   "cell_type": "code",
   "execution_count": 94,
   "id": "573ba9b6-e676-43de-b511-a31ef1bc1465",
   "metadata": {},
   "outputs": [
    {
     "name": "stdout",
     "output_type": "stream",
     "text": [
      "set()\n",
      "set()\n"
     ]
    }
   ],
   "source": [
    "print(set(flights_sample_combined_train.columns) - set(flights_sample_test.columns))\n",
    "print(set(flights_sample_test.columns) - set(flights_sample_combined_train.columns))"
   ]
  },
  {
   "cell_type": "markdown",
   "id": "7e314dda-5128-4df7-a48b-c85a6b855e02",
   "metadata": {
    "tags": []
   },
   "source": [
    "#### Now run the test"
   ]
  },
  {
   "cell_type": "code",
   "execution_count": 95,
   "id": "6edb6aae-0441-4893-a9dd-cebf7bcd44a8",
   "metadata": {},
   "outputs": [
    {
     "name": "stdout",
     "output_type": "stream",
     "text": [
      "RMSE: 46.057570\n"
     ]
    }
   ],
   "source": [
    "# Now let's try to predict the arrival delay for the flights_sample_test data\n",
    "X=flights_sample_test.drop(['Marketer - Unique Carrier Code', 'Operator - Unique Carrier Code', 'Tail Number', 'Flight Number', 'Aircraft group', 'Aircraft type', 'Aircraft configuration', 'Service class', 'Distance (miles)', 'Origin Airport (IATA Code)', 'Airport Type_origin', 'Scheduled Departure Time (local time)', 'Destination Airport (IATA Code)', 'Airport Type_destination', 'Scheduled Arrival Time (local time)', 'Departure Delay (minutes)', 'Arrival Delay (minutes)', 'Carrier Delay (minutes)', 'Weather Delay (minutes)', 'National Air System Delay (minutes)', 'Security Delay (minutes)', 'Late Aircraft Delay (minutes)', 'cancelled', 'cancellation_code', 'diverted'], axis=1)\n",
    "X=X.fillna(0)\n",
    "y=flights_sample_test['Arrival Delay (minutes)']\n",
    "y=y.fillna(0)\n",
    "\n",
    "# convert to numpy array\n",
    "X=X.values\n",
    "y=y.values\n",
    "\n",
    "# make predictions for test data\n",
    "y_pred = model.predict(X)\n",
    "\n",
    "# evaluate predictions\n",
    "rmse = np.sqrt(mean_squared_error(y, y_pred))\n",
    "print(\"RMSE: %f\" % (rmse))"
   ]
  },
  {
   "cell_type": "markdown",
   "id": "12f3ca98-8997-46d4-88a8-52698ceffaeb",
   "metadata": {},
   "source": [
    "Nope.. this got worse.."
   ]
  },
  {
   "cell_type": "markdown",
   "id": "c33d9f46-3a31-42d2-b965-89fe0cee95c7",
   "metadata": {
    "jp-MarkdownHeadingCollapsed": true,
    "tags": []
   },
   "source": [
    "### Not a tuning per say, but what is the accuracy score of XGBoost Reg?"
   ]
  },
  {
   "cell_type": "markdown",
   "id": "dde3e675-6d47-4bfe-b85c-8dd6b10ad751",
   "metadata": {
    "jp-MarkdownHeadingCollapsed": true,
    "tags": []
   },
   "source": [
    "## XGBoost Regressor - Tuning the features (dropped)"
   ]
  },
  {
   "cell_type": "markdown",
   "id": "e5915d75-ecf0-4712-a5b5-e25af4b724b2",
   "metadata": {
    "jp-MarkdownHeadingCollapsed": true,
    "tags": []
   },
   "source": [
    "### Let's try keeping only our correlated features  RMSE: 21.20"
   ]
  },
  {
   "cell_type": "code",
   "execution_count": 80,
   "id": "55c2e41e-0498-4bdf-a766-c3c2b2925deb",
   "metadata": {},
   "outputs": [
    {
     "name": "stdout",
     "output_type": "stream",
     "text": [
      "RMSE: 21.209647\n"
     ]
    }
   ],
   "source": [
    "# Let's set X and y to our flights_sample_train data and 'Arriaval Delay (minutes)' column\n",
    "X=flights_sample_train.drop(['Marketer - Unique Carrier Code', 'Operator - Unique Carrier Code', 'Tail Number', 'Flight Number', 'Aircraft group', 'Aircraft type', 'Aircraft configuration', 'Service class', 'Distance (miles)', 'Origin Airport (IATA Code)', 'Airport Type_origin', 'Scheduled Departure Time (local time)', 'Destination Airport (IATA Code)', 'Airport Type_destination', 'Scheduled Arrival Time (local time)', 'Departure Delay (minutes)', 'Arrival Delay (minutes)', 'Carrier Delay (minutes)', 'Weather Delay (minutes)', 'National Air System Delay (minutes)', 'Security Delay (minutes)', 'Late Aircraft Delay (minutes)', 'cancelled', 'cancellation_code', 'diverted'], axis=1)\n",
    "y=flights_sample_train['Arrival Delay (minutes)']\n",
    "\n",
    "#Let's try keeping only our correlated features\n",
    "X = X[X.columns[(X.corrwith(y) > 0.01).tolist()]]\n",
    "\n",
    "X=X.fillna(0)\n",
    "y=y.fillna(0)\n",
    "\n",
    "# convert to numpy array\n",
    "X=X.values\n",
    "y=y.values\n",
    "\n",
    "# split into train and test sets\n",
    "seed = 1\n",
    "test_size = 0.8\n",
    "X_train, X_test, y_train, y_test = train_test_split(X, y, test_size=test_size, random_state=seed)\n",
    "\n",
    "# fit model to training data\n",
    "import xgboost as xgb\n",
    "from xgboost import XGBRegressor\n",
    "\n",
    "model = XGBRegressor()\n",
    "model.fit(X_train, y_train)\n",
    "\n",
    "# make predictions for test data\n",
    "y_pred = model.predict(X_test)\n",
    "\n",
    "# evaluate predictions\n",
    "rmse = np.sqrt(mean_squared_error(y_test, y_pred))\n",
    "print(\"RMSE: %f\" % (rmse))"
   ]
  },
  {
   "cell_type": "markdown",
   "id": "8c05aa95-548d-4e51-80b1-16cab2350cf8",
   "metadata": {},
   "source": [
    "Well that's not really doing any better..."
   ]
  },
  {
   "cell_type": "markdown",
   "id": "5176a569-4ec5-467a-88a5-394f95104770",
   "metadata": {
    "jp-MarkdownHeadingCollapsed": true,
    "tags": []
   },
   "source": [
    "### How about Min/Max Scaler?  RMSE: 20.93"
   ]
  },
  {
   "cell_type": "code",
   "execution_count": 82,
   "id": "737a5eeb-df0d-45cd-881a-9bfefbb90f75",
   "metadata": {},
   "outputs": [
    {
     "name": "stdout",
     "output_type": "stream",
     "text": [
      "RMSE: 20.933513\n"
     ]
    }
   ],
   "source": [
    "# Let's set X and y to our flights_sample_train data and 'Arriaval Delay (minutes)' column\n",
    "X=flights_sample_train.drop(['Marketer - Unique Carrier Code', 'Operator - Unique Carrier Code', 'Tail Number', 'Flight Number', 'Aircraft group', 'Aircraft type', 'Aircraft configuration', 'Service class', 'Distance (miles)', 'Origin Airport (IATA Code)', 'Airport Type_origin', 'Scheduled Departure Time (local time)', 'Destination Airport (IATA Code)', 'Airport Type_destination', 'Scheduled Arrival Time (local time)', 'Departure Delay (minutes)', 'Arrival Delay (minutes)', 'Carrier Delay (minutes)', 'Weather Delay (minutes)', 'National Air System Delay (minutes)', 'Security Delay (minutes)', 'Late Aircraft Delay (minutes)', 'cancelled', 'cancellation_code', 'diverted'], axis=1)\n",
    "y=flights_sample_train['Arrival Delay (minutes)']\n",
    "\n",
    "X=X.fillna(0)\n",
    "y=y.fillna(0)\n",
    "\n",
    "# convert to numpy array\n",
    "X=X.values\n",
    "y=y.values\n",
    "\n",
    "# Scaling the input features using MinMaxScaler\n",
    "from sklearn.preprocessing import MinMaxScaler\n",
    "scaler = MinMaxScaler()\n",
    "scaler.fit(X)\n",
    "X_scaled = scaler.transform(X)\n",
    "\n",
    "# split into train and test sets\n",
    "seed = 1\n",
    "test_size = 0.8\n",
    "X_train, X_test, y_train, y_test = train_test_split(X_scaled, y, test_size=test_size, random_state=seed)\n",
    "\n",
    "# fit model to training data\n",
    "import xgboost as xgb\n",
    "from xgboost import XGBRegressor\n",
    "\n",
    "model = XGBRegressor()\n",
    "model.fit(X_train, y_train)\n",
    "\n",
    "# make predictions for test data\n",
    "y_pred = model.predict(X_test)\n",
    "\n",
    "# evaluate predictions\n",
    "rmse = np.sqrt(mean_squared_error(y_test, y_pred))\n",
    "print(\"RMSE: %f\" % (rmse))"
   ]
  },
  {
   "cell_type": "markdown",
   "id": "ca815f11-069b-4ef4-866e-c17799a26b2e",
   "metadata": {},
   "source": [
    "Not doing anything"
   ]
  },
  {
   "cell_type": "markdown",
   "id": "95f050d6-19f9-4d54-9a71-84c6ca185407",
   "metadata": {
    "jp-MarkdownHeadingCollapsed": true,
    "tags": []
   },
   "source": [
    "## Random Forest Regressor   RMSE: 20.681228, 45.845254, 48.44 Submitted: Yes"
   ]
  },
  {
   "cell_type": "markdown",
   "id": "c3e1c3c2-9925-4700-ac73-4df52cbf110f",
   "metadata": {
    "tags": []
   },
   "source": [
    "### Train Model"
   ]
  },
  {
   "cell_type": "code",
   "execution_count": 48,
   "id": "c3dcb5ee-c224-4ff0-bdd9-6aadf6cfc2be",
   "metadata": {},
   "outputs": [
    {
     "name": "stdout",
     "output_type": "stream",
     "text": [
      "RMSE: 20.681228\n"
     ]
    }
   ],
   "source": [
    "# Let's set X and y to our flights_sample_train data and 'Arriaval Delay (minutes)' column\n",
    "X=flights_sample_train.drop(['Marketer - Unique Carrier Code', 'Operator - Unique Carrier Code', 'Tail Number', 'Flight Number', 'Aircraft group', 'Aircraft type', 'Aircraft configuration', 'Service class', 'Distance (miles)', 'Origin Airport (IATA Code)', 'Airport Type_origin', 'Scheduled Departure Time (local time)', 'Destination Airport (IATA Code)', 'Airport Type_destination', 'Scheduled Arrival Time (local time)', 'Departure Delay (minutes)', 'Arrival Delay (minutes)', 'Carrier Delay (minutes)', 'Weather Delay (minutes)', 'National Air System Delay (minutes)', 'Security Delay (minutes)', 'Late Aircraft Delay (minutes)', 'cancelled', 'cancellation_code', 'diverted'], axis=1)\n",
    "X=X.fillna(0)\n",
    "y=flights_sample_train['Arrival Delay (minutes)']\n",
    "y=y.fillna(0)\n",
    "\n",
    "# convert to numpy array\n",
    "X=X.values\n",
    "y=y.values\n",
    "\n",
    "# split into train and test sets\n",
    "seed = 1\n",
    "test_size = 0.8\n",
    "X_train, X_test, y_train, y_test = train_test_split(X, y, test_size=test_size, random_state=seed)\n",
    "\n",
    "# fit model to training data\n",
    "from sklearn.ensemble import RandomForestRegressor\n",
    "\n",
    "model = RandomForestRegressor(n_estimators=100, random_state=1)\n",
    "model.fit(X_train, y_train)\n",
    "\n",
    "# make predictions for test data\n",
    "y_pred = model.predict(X_test)\n",
    "\n",
    "# evaluate predictions\n",
    "rmse = np.sqrt(mean_squared_error(y_test, y_pred))\n",
    "print(\"RMSE: %f\" % (rmse))"
   ]
  },
  {
   "cell_type": "markdown",
   "id": "81935f16-ee1d-4868-b234-5447d63590a2",
   "metadata": {
    "tags": []
   },
   "source": [
    "### First Test (40K)"
   ]
  },
  {
   "cell_type": "markdown",
   "id": "dccb426c-f095-4800-943c-c23ebcde5a9a",
   "metadata": {
    "jp-MarkdownHeadingCollapsed": true,
    "tags": []
   },
   "source": [
    "#### Let's start by making sure both have the same columns and are in the same order"
   ]
  },
  {
   "cell_type": "code",
   "execution_count": 28,
   "id": "3e1546b0-59da-47ee-b3c1-2587748df9b6",
   "metadata": {},
   "outputs": [
    {
     "name": "stdout",
     "output_type": "stream",
     "text": [
      "set()\n",
      "set()\n"
     ]
    }
   ],
   "source": [
    "print(set(flights_sample_train.columns) - set(flights_sample_test.columns))\n",
    "print(set(flights_sample_test.columns) - set(flights_sample_train.columns))"
   ]
  },
  {
   "cell_type": "code",
   "execution_count": 9,
   "id": "84d5df0c-ac93-4106-b87c-f4ae426dd98b",
   "metadata": {},
   "outputs": [],
   "source": [
    "## Adding the missing column to the test\n",
    "flights_sample_test['Aircraft type2_887.0'] = 0\n",
    "\n",
    "## Not let's put our columns in the same order:\n",
    "flights_sample_test = flights_sample_test[flights_sample_train.columns]"
   ]
  },
  {
   "cell_type": "markdown",
   "id": "2ae0180b-8738-4cce-8b71-680dc2577b30",
   "metadata": {
    "tags": []
   },
   "source": [
    "#### Now run the test"
   ]
  },
  {
   "cell_type": "code",
   "execution_count": 49,
   "id": "c3b15ca5-00a7-4f0b-abef-8fb6a1a81aef",
   "metadata": {},
   "outputs": [
    {
     "name": "stdout",
     "output_type": "stream",
     "text": [
      "RMSE: 45.845254\n"
     ]
    }
   ],
   "source": [
    "# Now let's try to predict the arrival delay for the flights_sample_test data\n",
    "X=flights_sample_test.drop(['Marketer - Unique Carrier Code', 'Operator - Unique Carrier Code', 'Tail Number', 'Flight Number', 'Aircraft group', 'Aircraft type', 'Aircraft configuration', 'Service class', 'Distance (miles)', 'Origin Airport (IATA Code)', 'Airport Type_origin', 'Scheduled Departure Time (local time)', 'Destination Airport (IATA Code)', 'Airport Type_destination', 'Scheduled Arrival Time (local time)', 'Departure Delay (minutes)', 'Arrival Delay (minutes)', 'Carrier Delay (minutes)', 'Weather Delay (minutes)', 'National Air System Delay (minutes)', 'Security Delay (minutes)', 'Late Aircraft Delay (minutes)', 'cancelled', 'cancellation_code', 'diverted'], axis=1)\n",
    "X=X.fillna(0)\n",
    "y=flights_sample_test['Arrival Delay (minutes)']\n",
    "y=y.fillna(0)\n",
    "\n",
    "# convert to numpy array\n",
    "X=X.values\n",
    "y=y.values\n",
    "\n",
    "# make predictions for test data\n",
    "y_pred = model.predict(X)\n",
    "\n",
    "# evaluate predictions\n",
    "rmse = np.sqrt(mean_squared_error(y, y_pred))\n",
    "print(\"RMSE: %f\" % (rmse))"
   ]
  },
  {
   "cell_type": "markdown",
   "id": "e4824286-cf50-4794-b690-fc420bf17ab2",
   "metadata": {},
   "source": [
    "Well that's not good.."
   ]
  },
  {
   "cell_type": "markdown",
   "id": "15d0bcda-e5a0-46cc-a8ea-85702f3c4783",
   "metadata": {
    "tags": []
   },
   "source": [
    "### Second Test (200K)"
   ]
  },
  {
   "cell_type": "markdown",
   "id": "1193d1d2-cb86-4ce7-8819-fee53ca9b8a0",
   "metadata": {
    "tags": []
   },
   "source": [
    "#### Let's start by making sure both have the same columns and are in the same order"
   ]
  },
  {
   "cell_type": "code",
   "execution_count": 53,
   "id": "2c3c4ed3-6adf-45ab-b046-d506581562bf",
   "metadata": {},
   "outputs": [
    {
     "name": "stdout",
     "output_type": "stream",
     "text": [
      "set()\n",
      "\n",
      "set()\n"
     ]
    }
   ],
   "source": [
    "print(set(flights_sample_train.columns) - set(flights_test.columns))\n",
    "print()\n",
    "print(set(flights_test.columns) - set(flights_sample_train.columns))"
   ]
  },
  {
   "cell_type": "code",
   "execution_count": 52,
   "id": "71cb9aae-fde0-4744-8713-48108a62ba7c",
   "metadata": {},
   "outputs": [],
   "source": [
    "## Add missing columns to the test (1st set)\n",
    "\n",
    "## Remove additional columns from the test (2nd set)\n",
    "#del flights_test['Aircraft type2_837.0']\n",
    "del flights_test['origin']\n",
    "del flights_test['mkt_carrier']\n",
    "del flights_test['dest']\n",
    "del flights_test['mkt_carrier_fl_num']\n",
    "del flights_test['fl_date']\n",
    "\n",
    "## Now let's put our columns in the same order:\n",
    "flights_test = flights_test[flights_sample_train.columns]"
   ]
  },
  {
   "cell_type": "markdown",
   "id": "a2410632-309a-4a23-8820-73ac1f138e60",
   "metadata": {},
   "source": [
    "#### Now run the test"
   ]
  },
  {
   "cell_type": "code",
   "execution_count": 56,
   "id": "4e8de9a5-e7ac-486f-ad6c-8e9c6dbc7129",
   "metadata": {},
   "outputs": [
    {
     "name": "stdout",
     "output_type": "stream",
     "text": [
      "RMSE: 48.447882\n"
     ]
    }
   ],
   "source": [
    "# Now let's try to predict the arrival delay for the flights_sample_test data\n",
    "X=flights_test.drop(['Marketer - Unique Carrier Code', 'Operator - Unique Carrier Code', 'Tail Number', 'Flight Number', 'Aircraft group', 'Aircraft type', 'Aircraft configuration', 'Service class', 'Distance (miles)', 'Origin Airport (IATA Code)', 'Airport Type_origin', 'Scheduled Departure Time (local time)', 'Destination Airport (IATA Code)', 'Airport Type_destination', 'Scheduled Arrival Time (local time)', 'Departure Delay (minutes)', 'Arrival Delay (minutes)', 'Carrier Delay (minutes)', 'Weather Delay (minutes)', 'National Air System Delay (minutes)', 'Security Delay (minutes)', 'Late Aircraft Delay (minutes)', 'cancelled', 'cancellation_code', 'diverted'], axis=1)\n",
    "X=X.fillna(0)\n",
    "y=flights_test['Arrival Delay (minutes)']\n",
    "y=y.fillna(0)\n",
    "\n",
    "# convert to numpy array\n",
    "X=X.values\n",
    "y=y.values\n",
    "\n",
    "# make predictions for test data\n",
    "y_pred = model.predict(X)\n",
    "\n",
    "# evaluate predictions\n",
    "rmse = np.sqrt(mean_squared_error(y, y_pred))\n",
    "print(\"RMSE: %f\" % (rmse))"
   ]
  },
  {
   "cell_type": "markdown",
   "id": "73c70702-ae63-4553-9312-dd71a313487a",
   "metadata": {},
   "source": [
    "#### Export 2nd Test Results to CSV (Final QC)"
   ]
  },
  {
   "cell_type": "code",
   "execution_count": 57,
   "id": "041051a4-7789-4e18-a359-097770f614bd",
   "metadata": {},
   "outputs": [],
   "source": [
    "# output y and y pred into a dataframe\n",
    "y_pred_df=pd.DataFrame(y_pred)\n",
    "y_test_df=pd.DataFrame(y)\n",
    "\n",
    "# merge the two dataframes\n",
    "y_pred_df['y_test']=y_test_df\n",
    "\n",
    "# rename the columns\n",
    "y_pred_df.columns=['Model Prediction', 'Actual Value']\n",
    "\n",
    "#export to csv\n",
    "y_pred_df.to_csv('../../src/modules/2nd Test Predictions/RandomForestReg.csv', index=False)"
   ]
  },
  {
   "cell_type": "markdown",
   "id": "1fcd1dd0-429f-4293-86f1-93a97c88af5b",
   "metadata": {
    "tags": []
   },
   "source": [
    "### Final Test (Jan2020) - Incomplete"
   ]
  },
  {
   "cell_type": "markdown",
   "id": "8d19d374-364f-4460-be2c-89e69db4b146",
   "metadata": {
    "tags": []
   },
   "source": [
    "#### Let's start by making sure both have the same columns and are in the same order"
   ]
  },
  {
   "cell_type": "code",
   "execution_count": 60,
   "id": "f4e94393-af02-4374-87e5-a6be0af1a404",
   "metadata": {},
   "outputs": [
    {
     "name": "stdout",
     "output_type": "stream",
     "text": [
      "set()\n",
      "\n",
      "set()\n"
     ]
    }
   ],
   "source": [
    "print(set(flights_sample_train.columns) - set(flights_final_test.columns))\n",
    "print()\n",
    "print(set(flights_final_test.columns) - set(flights_sample_train.columns))"
   ]
  },
  {
   "cell_type": "code",
   "execution_count": 59,
   "id": "1184bf84-c03e-4cfe-8412-ad2ce01a2221",
   "metadata": {},
   "outputs": [],
   "source": [
    "## Add missing columns to the test (1st set) ... Most of those will get dropped right after anyway.. it's really just so the arrays match\n",
    "flights_final_test['cancelled'] = 0\n",
    "flights_final_test['Weather Delay (minutes)'] = 0\n",
    "flights_final_test['Operator - Unique Carrier Code2_9K'] = 0\n",
    "flights_final_test['diverted'] = 0\n",
    "flights_final_test['Carrier Delay (minutes)'] = 0\n",
    "flights_final_test['Operator - Unique Carrier Code2_KS'] = 0\n",
    "flights_final_test['National Air System Delay (minutes)'] = 0\n",
    "flights_final_test['Operator - Unique Carrier Code2_VX'] = 0\n",
    "flights_final_test['Aircraft type2_432.0'] = 0\n",
    "flights_final_test['Security Delay (minutes)'] = 0\n",
    "flights_final_test['Departure Delay (minutes)'] = 0\n",
    "flights_final_test['cancellation_code'] = 0\n",
    "flights_final_test['Arrival Delay (minutes)'] = 0\n",
    "flights_final_test['Late Aircraft Delay (minutes)'] = 0\n",
    "\n",
    "## Remove additional columns from the test (2nd set)\n",
    "\n",
    "\n",
    "\n",
    "## Now let's put our columns in the same order:\n",
    "flights_final_test = flights_final_test[flights_sample_train.columns]"
   ]
  },
  {
   "cell_type": "markdown",
   "id": "2c0ecda3-c21f-457c-84c8-35533689668d",
   "metadata": {},
   "source": [
    "#### Now run the test.. no score for this one, we're just predicting!"
   ]
  },
  {
   "cell_type": "code",
   "execution_count": 61,
   "id": "e781168a-397e-4fa9-a93d-0cb0668a08c3",
   "metadata": {},
   "outputs": [],
   "source": [
    "# Now let's try to predict the arrival delay for the flights_sample_test data\n",
    "X=flights_final_test.drop(['Marketer - Unique Carrier Code', 'Operator - Unique Carrier Code', 'Tail Number', 'Flight Number', 'Aircraft group', 'Aircraft type', 'Aircraft configuration', 'Service class', 'Distance (miles)', 'Origin Airport (IATA Code)', 'Airport Type_origin', 'Scheduled Departure Time (local time)', 'Destination Airport (IATA Code)', 'Airport Type_destination', 'Scheduled Arrival Time (local time)', 'Departure Delay (minutes)', 'Arrival Delay (minutes)', 'Carrier Delay (minutes)', 'Weather Delay (minutes)', 'National Air System Delay (minutes)', 'Security Delay (minutes)', 'Late Aircraft Delay (minutes)', 'cancelled', 'cancellation_code', 'diverted'], axis=1)\n",
    "X=X.fillna(0)\n",
    "\n",
    "# convert to numpy array\n",
    "X=X.values\n",
    "\n",
    "# make predictions for test data\n",
    "y_pred = model.predict(X)"
   ]
  },
  {
   "cell_type": "markdown",
   "id": "4b026b05-bf42-4fa6-a543-7f28a6c9477b",
   "metadata": {
    "tags": []
   },
   "source": [
    "### Export Final_Test Results to CSV"
   ]
  },
  {
   "cell_type": "code",
   "execution_count": 62,
   "id": "7b063d05-4963-4f9c-88eb-fca6a40296c2",
   "metadata": {},
   "outputs": [],
   "source": [
    "# output y pred into a dataframe\n",
    "y_pred_df=pd.DataFrame(y_pred)\n",
    "\n",
    "# Rename the columns\n",
    "y_pred_df.columns=['predicted_delay']\n",
    "\n",
    "# Now, we have to format y_pred_df to match the format of the sample submission file\n",
    "## Produce the missing columns\n",
    "flights_test['fl_date'] = flights_test['Flight Year'].astype(str) + '-' + flights_test['Flight Month'].astype(str).str.zfill(2) + '-' + flights_test['Flight Day'].astype(str).str.zfill(2)\n",
    "flights_test['mkt_carrier'] = flights_test['Marketer - Unique Carrier Code']\n",
    "flights_test['mkt_carrier_fl_num'] = flights_test['Flight Number']\n",
    "flights_test['origin'] = flights_test['Origin Airport (IATA Code)']\n",
    "flights_test['dest'] = flights_test['Destination Airport (IATA Code)']\n",
    "\n",
    "## Add these columns to y_pred_df\n",
    "y_pred_df['fl_date'] = flights_test['fl_date']\n",
    "y_pred_df['mkt_carrier'] = flights_test['mkt_carrier']\n",
    "y_pred_df['mkt_carrier_fl_num'] = flights_test['mkt_carrier_fl_num']\n",
    "y_pred_df['origin'] = flights_test['origin']\n",
    "y_pred_df['dest'] = flights_test['dest']\n",
    "\n",
    "## Reorder the columns to match the sample submission file\n",
    "y_pred_df = y_pred_df[['fl_date', 'mkt_carrier', 'mkt_carrier_fl_num', 'origin', 'dest', 'predicted_delay']]\n",
    "\n",
    "# Export to csv\n",
    "y_pred_df.to_csv('../../output/RandomForestReg.csv', index=False)"
   ]
  },
  {
   "cell_type": "markdown",
   "id": "bbc508d2-4272-46bc-9e92-f8b4ab1dd1ae",
   "metadata": {
    "jp-MarkdownHeadingCollapsed": true,
    "tags": []
   },
   "source": [
    "## SVM RMSE:21.86, 47.77, ?  Export:No...........Takes too long!"
   ]
  },
  {
   "cell_type": "markdown",
   "id": "a3b64519-97a4-42d8-a03a-186695025ee6",
   "metadata": {},
   "source": [
    "SVM is extremely slow... so far we haven't been able to finish running the models"
   ]
  },
  {
   "cell_type": "markdown",
   "id": "5168d784-5502-4e4d-a133-cc25a941f42b",
   "metadata": {
    "jp-MarkdownHeadingCollapsed": true,
    "tags": []
   },
   "source": [
    "### Train Model"
   ]
  },
  {
   "cell_type": "code",
   "execution_count": 36,
   "id": "7d2d8995-cb76-4f55-8c32-9296bfd541b5",
   "metadata": {},
   "outputs": [
    {
     "name": "stdout",
     "output_type": "stream",
     "text": [
      "21.86935551774908\n"
     ]
    }
   ],
   "source": [
    "# Let's set X and y to our flights_sample_train data and 'Arriaval Delay (minutes)' column\n",
    "X=flights_sample_train.drop(['Marketer - Unique Carrier Code', 'Operator - Unique Carrier Code', 'Tail Number', 'Flight Number', 'Aircraft group', 'Aircraft type', 'Aircraft configuration', 'Service class', 'Distance (miles)', 'Origin Airport (IATA Code)', 'Airport Type_origin', 'Scheduled Departure Time (local time)', 'Destination Airport (IATA Code)', 'Airport Type_destination', 'Scheduled Arrival Time (local time)', 'Departure Delay (minutes)', 'Arrival Delay (minutes)', 'Carrier Delay (minutes)', 'Weather Delay (minutes)', 'National Air System Delay (minutes)', 'Security Delay (minutes)', 'Late Aircraft Delay (minutes)', 'cancelled', 'cancellation_code', 'diverted'], axis=1)\n",
    "X=X.fillna(0)\n",
    "y=flights_sample_train['Arrival Delay (minutes)']\n",
    "y=y.fillna(0)\n",
    "\n",
    "# convert to numpy array\n",
    "X=X.values\n",
    "y=y.values\n",
    "\n",
    "# split into train and test sets\n",
    "seed = 1\n",
    "test_size = 0.2\n",
    "X_train, X_test, y_train, y_test = train_test_split(X, y, test_size=test_size, random_state=seed)\n",
    "\n",
    "# fit model to training data\n",
    "import sklearn\n",
    "from sklearn import svm\n",
    "\n",
    "# model = svm.SVR()\n",
    "# model.fit(X_train, y_train)\n",
    "model = pickle.load(open('../SVMmodel.pkl', 'rb')) # Using the pickle'd version of the trained model\n",
    "\n",
    "# make predictions for test data\n",
    "y_pred = model.predict(X_test)\n",
    "\n",
    "# evaluate predictions\n",
    "from sklearn.metrics import mean_squared_error\n",
    "from math import sqrt\n",
    "\n",
    "rms = sqrt(mean_squared_error(y_test, y_pred))\n",
    "print(rms)"
   ]
  },
  {
   "cell_type": "markdown",
   "id": "6791a76a-de26-47f8-9d7c-17852d2f38fa",
   "metadata": {
    "jp-MarkdownHeadingCollapsed": true,
    "tags": []
   },
   "source": [
    "### Save model into a pickle"
   ]
  },
  {
   "cell_type": "raw",
   "id": "b421343d-b4c3-45f1-b430-c556accbf3bd",
   "metadata": {},
   "source": [
    "import pickle\n",
    "pickle.dump(model, open('../pickles/SVMmodel.pkl', 'wb'))"
   ]
  },
  {
   "cell_type": "markdown",
   "id": "f6a0fd5d-5253-4709-9a02-9f3e26fb4add",
   "metadata": {
    "tags": []
   },
   "source": [
    "### First Test (40K)"
   ]
  },
  {
   "cell_type": "markdown",
   "id": "f1518f6f-a1d1-4c13-8ac6-326bc3401718",
   "metadata": {
    "jp-MarkdownHeadingCollapsed": true,
    "tags": []
   },
   "source": [
    "#### Let's start by making sure both have the same columns and are in the same order"
   ]
  },
  {
   "cell_type": "code",
   "execution_count": 34,
   "id": "932ab400-6220-4b5a-a2be-dfc724cfea56",
   "metadata": {},
   "outputs": [
    {
     "name": "stdout",
     "output_type": "stream",
     "text": [
      "set()\n",
      "set()\n"
     ]
    }
   ],
   "source": [
    "print(set(flights_sample_train.columns) - set(flights_sample_test.columns))\n",
    "print(set(flights_sample_test.columns) - set(flights_sample_train.columns))"
   ]
  },
  {
   "cell_type": "code",
   "execution_count": 35,
   "id": "37ae6979-772f-4da8-92e1-cff49451c621",
   "metadata": {},
   "outputs": [],
   "source": [
    "## Adding the missing column to the test\n",
    "#flights_sample_test['Aircraft type2_887.0'] = 0\n",
    "\n",
    "## Not let's put our columns in the same order:\n",
    "flights_sample_test = flights_sample_test[flights_sample_train.columns]"
   ]
  },
  {
   "cell_type": "markdown",
   "id": "d67f6d11-7ce8-4488-b048-e57619a3c9f5",
   "metadata": {},
   "source": [
    "#### Now run the test"
   ]
  },
  {
   "cell_type": "code",
   "execution_count": 37,
   "id": "59efbfac-be53-48d6-ba8b-a05c1affbdd5",
   "metadata": {},
   "outputs": [
    {
     "name": "stdout",
     "output_type": "stream",
     "text": [
      "RMSE: 47.775416\n"
     ]
    }
   ],
   "source": [
    "# Now let's try to predict the arrival delay for the flights_sample_test data\n",
    "X=flights_sample_test.drop(['Marketer - Unique Carrier Code', 'Operator - Unique Carrier Code', 'Tail Number', 'Flight Number', 'Aircraft group', 'Aircraft type', 'Aircraft configuration', 'Service class', 'Distance (miles)', 'Origin Airport (IATA Code)', 'Airport Type_origin', 'Scheduled Departure Time (local time)', 'Destination Airport (IATA Code)', 'Airport Type_destination', 'Scheduled Arrival Time (local time)', 'Departure Delay (minutes)', 'Arrival Delay (minutes)', 'Carrier Delay (minutes)', 'Weather Delay (minutes)', 'National Air System Delay (minutes)', 'Security Delay (minutes)', 'Late Aircraft Delay (minutes)', 'cancelled', 'cancellation_code', 'diverted'], axis=1)\n",
    "X=X.fillna(0)\n",
    "y=flights_sample_test['Arrival Delay (minutes)']\n",
    "y=y.fillna(0)\n",
    "\n",
    "# convert to numpy array\n",
    "X=X.values\n",
    "y=y.values\n",
    "\n",
    "# make predictions for test data\n",
    "y_pred = model.predict(X)\n",
    "\n",
    "# evaluate predictions\n",
    "rmse = np.sqrt(mean_squared_error(y, y_pred))\n",
    "print(\"RMSE: %f\" % (rmse))"
   ]
  },
  {
   "cell_type": "markdown",
   "id": "3416e971-a453-4b45-b1de-dc6211988216",
   "metadata": {
    "tags": []
   },
   "source": [
    "### Second Test (200K) - Incomplete"
   ]
  },
  {
   "cell_type": "markdown",
   "id": "cd3e5fac-be1a-4795-81de-48ffb7550131",
   "metadata": {
    "tags": []
   },
   "source": [
    "#### Let's start by making sure both have the same columns and are in the same order"
   ]
  },
  {
   "cell_type": "code",
   "execution_count": 41,
   "id": "b5506a9f-4e63-4b40-8d84-cca33ca41be5",
   "metadata": {},
   "outputs": [
    {
     "name": "stdout",
     "output_type": "stream",
     "text": [
      "set()\n",
      "\n",
      "set()\n"
     ]
    }
   ],
   "source": [
    "print(set(flights_sample_train.columns) - set(flights_test.columns))\n",
    "print()\n",
    "print(set(flights_test.columns) - set(flights_sample_train.columns))"
   ]
  },
  {
   "cell_type": "code",
   "execution_count": 42,
   "id": "e8ac03e2-2dfd-474d-9b75-fe38b20730c2",
   "metadata": {},
   "outputs": [],
   "source": [
    "## Add missing columns to the test (1st set)\n",
    "\n",
    "## Remove additional columns from the test (2nd set)\n",
    "#del flights_test['Aircraft type2_837.0']\n",
    "\n",
    "\n",
    "## Now let's put our columns in the same order:\n",
    "flights_test = flights_test[flights_sample_train.columns]"
   ]
  },
  {
   "cell_type": "markdown",
   "id": "5f7acb62-58bc-4fec-8a42-1738e938d21a",
   "metadata": {},
   "source": [
    "#### Now run the test"
   ]
  },
  {
   "cell_type": "code",
   "execution_count": null,
   "id": "7822955e-7d99-4e56-b8c4-7e6a4fdb5f78",
   "metadata": {},
   "outputs": [],
   "source": [
    "# Now let's try to predict the arrival delay for the flights_sample_test data\n",
    "X=flights_test.drop(['Marketer - Unique Carrier Code', 'Operator - Unique Carrier Code', 'Tail Number', 'Flight Number', 'Aircraft group', 'Aircraft type', 'Aircraft configuration', 'Service class', 'Distance (miles)', 'Origin Airport (IATA Code)', 'Airport Type_origin', 'Scheduled Departure Time (local time)', 'Destination Airport (IATA Code)', 'Airport Type_destination', 'Scheduled Arrival Time (local time)', 'Departure Delay (minutes)', 'Arrival Delay (minutes)', 'Carrier Delay (minutes)', 'Weather Delay (minutes)', 'National Air System Delay (minutes)', 'Security Delay (minutes)', 'Late Aircraft Delay (minutes)', 'cancelled', 'cancellation_code', 'diverted'], axis=1)\n",
    "X=X.fillna(0)\n",
    "y=flights_test['Arrival Delay (minutes)']\n",
    "y=y.fillna(0)\n",
    "\n",
    "# convert to numpy array\n",
    "X=X.values\n",
    "y=y.values\n",
    "\n",
    "model = pickle.load(open('../pickles/SVMmodel.pkl', 'rb'))\n",
    "\n",
    "# make predictions for test data\n",
    "y_pred = model.predict(X)\n",
    "\n",
    "# evaluate predictions\n",
    "rmse = np.sqrt(mean_squared_error(y, y_pred))\n",
    "print(\"RMSE: %f\" % (rmse))"
   ]
  },
  {
   "cell_type": "markdown",
   "id": "bf5cc118-7d90-4885-8ac2-9faac83e4eb2",
   "metadata": {},
   "source": [
    "#### Export 2nd Test Results to CSV (Final QC)"
   ]
  },
  {
   "cell_type": "code",
   "execution_count": null,
   "id": "c740ce96-733c-4ac6-aedd-be11bd647453",
   "metadata": {},
   "outputs": [],
   "source": [
    "# output y and y pred into a dataframe\n",
    "y_pred_df=pd.DataFrame(y_pred)\n",
    "y_test_df=pd.DataFrame(y)\n",
    "\n",
    "# merge the two dataframes\n",
    "y_pred_df['y_test']=y_test_df\n",
    "\n",
    "# rename the columns\n",
    "y_pred_df.columns=['Model Prediction', 'Actual Value']\n",
    "\n",
    "#export to csv\n",
    "y_pred_df.to_csv('../../src/modules/2nd Test Predictions/SVM.csv', index=False)"
   ]
  },
  {
   "cell_type": "markdown",
   "id": "c9032c94-4d94-4dc1-94fe-788c4b1627f9",
   "metadata": {
    "tags": []
   },
   "source": [
    "### Final Test (Jan2020) - Incomplete"
   ]
  },
  {
   "cell_type": "markdown",
   "id": "8d0b2f50-ff33-48db-8768-50db0526e0f4",
   "metadata": {
    "tags": []
   },
   "source": [
    "#### Let's start by making sure both have the same columns and are in the same order"
   ]
  },
  {
   "cell_type": "code",
   "execution_count": 41,
   "id": "8d4c5d07-161c-4277-a5a2-21323942486e",
   "metadata": {},
   "outputs": [
    {
     "name": "stdout",
     "output_type": "stream",
     "text": [
      "set()\n",
      "\n",
      "set()\n"
     ]
    }
   ],
   "source": [
    "print(set(flights_sample_train.columns) - set(flights_final_test.columns))\n",
    "print()\n",
    "print(set(flights_final_test.columns) - set(flights_sample_train.columns))"
   ]
  },
  {
   "cell_type": "code",
   "execution_count": 42,
   "id": "5d02c66d-94d2-4dd8-8d87-5afe3918e5af",
   "metadata": {},
   "outputs": [],
   "source": [
    "## Add missing columns to the test (1st set)\n",
    "\n",
    "## Remove additional columns from the test (2nd set)\n",
    "#del flights_test['Aircraft type2_837.0']\n",
    "\n",
    "\n",
    "## Now let's put our columns in the same order:\n",
    "flights_final_test = flights_final_test[flights_sample_train.columns]"
   ]
  },
  {
   "cell_type": "markdown",
   "id": "2a1b0612-d83b-45f8-9970-ae3101ae389e",
   "metadata": {},
   "source": [
    "#### Now run the test.. no score for this one, we're just predicting!"
   ]
  },
  {
   "cell_type": "code",
   "execution_count": null,
   "id": "7a35dafd-5e4d-4e3a-9d4d-23f8e3cbfa03",
   "metadata": {},
   "outputs": [],
   "source": [
    "# Now let's try to predict the arrival delay for the flights_sample_test data\n",
    "X=flights_final_test.drop(['Marketer - Unique Carrier Code', 'Operator - Unique Carrier Code', 'Tail Number', 'Flight Number', 'Aircraft group', 'Aircraft type', 'Aircraft configuration', 'Service class', 'Distance (miles)', 'Origin Airport (IATA Code)', 'Airport Type_origin', 'Scheduled Departure Time (local time)', 'Destination Airport (IATA Code)', 'Airport Type_destination', 'Scheduled Arrival Time (local time)', 'Departure Delay (minutes)', 'Arrival Delay (minutes)', 'Carrier Delay (minutes)', 'Weather Delay (minutes)', 'National Air System Delay (minutes)', 'Security Delay (minutes)', 'Late Aircraft Delay (minutes)', 'cancelled', 'cancellation_code', 'diverted'], axis=1)\n",
    "X=X.fillna(0)\n",
    "\n",
    "# convert to numpy array\n",
    "X=X.values\n",
    "\n",
    "\n",
    "model = pickle.load(open('../pickles/SVMmodel.pkl', 'rb'))\n",
    "\n",
    "# make predictions for test data\n",
    "y_pred = model.predict(X)"
   ]
  },
  {
   "cell_type": "markdown",
   "id": "e096c744-33ef-47b2-97df-a8ed32883e9c",
   "metadata": {},
   "source": [
    "### Export Final_Test Results to CSV"
   ]
  },
  {
   "cell_type": "raw",
   "id": "23898061-2e61-4f57-874b-a7f1ad541835",
   "metadata": {},
   "source": [
    "# output y pred into a dataframe\n",
    "y_pred_df=pd.DataFrame(y_pred)\n",
    "\n",
    "# Rename the columns\n",
    "y_pred_df.columns=['predicted_delay']\n",
    "\n",
    "# Now, we have to format y_pred_df to match the format of the sample submission file\n",
    "## Produce the missing columns\n",
    "flights_test['fl_date'] = flights_test['Flight Year'].astype(str) + '-' + flights_test['Flight Month'].astype(str).str.zfill(2) + '-' + flights_test['Flight Day'].astype(str).str.zfill(2)\n",
    "flights_test['mkt_carrier'] = flights_test['Marketer - Unique Carrier Code']\n",
    "flights_test['mkt_carrier_fl_num'] = flights_test['Flight Number']\n",
    "flights_test['origin'] = flights_test['Origin Airport (IATA Code)']\n",
    "flights_test['dest'] = flights_test['Destination Airport (IATA Code)']\n",
    "\n",
    "## Add these columns to y_pred_df\n",
    "y_pred_df['fl_date'] = flights_test['fl_date']\n",
    "y_pred_df['mkt_carrier'] = flights_test['mkt_carrier']\n",
    "y_pred_df['mkt_carrier_fl_num'] = flights_test['mkt_carrier_fl_num']\n",
    "y_pred_df['origin'] = flights_test['origin']\n",
    "y_pred_df['dest'] = flights_test['dest']\n",
    "\n",
    "## Reorder the columns to match the sample submission file\n",
    "y_pred_df = y_pred_df[['fl_date', 'mkt_carrier', 'mkt_carrier_fl_num', 'origin', 'dest', 'predicted_delay']]\n",
    "\n",
    "# Export to csv\n",
    "y_pred_df.to_csv('../../output/SVM.csv', index=False)"
   ]
  },
  {
   "cell_type": "markdown",
   "id": "c6dd8de2-7c47-4992-b852-5609c09e18e4",
   "metadata": {
    "jp-MarkdownHeadingCollapsed": true,
    "tags": []
   },
   "source": [
    "## Random Forest Classifier   RMSE: 24.62, 49.42, 51.80  Submitted: Yes"
   ]
  },
  {
   "cell_type": "markdown",
   "id": "7cdee3e5-9749-42b1-b0ae-9bdef19f9332",
   "metadata": {
    "tags": []
   },
   "source": [
    "### Train Model"
   ]
  },
  {
   "cell_type": "code",
   "execution_count": 63,
   "id": "2e58147e-274e-4ebe-a0f6-429fe783809f",
   "metadata": {},
   "outputs": [
    {
     "name": "stdout",
     "output_type": "stream",
     "text": [
      "RMSE: 24.645421\n"
     ]
    }
   ],
   "source": [
    "# Let's set X and y to our flights_sample_train data and 'Arriaval Delay (minutes)' column\n",
    "X=flights_sample_train.drop(['Marketer - Unique Carrier Code', 'Operator - Unique Carrier Code', 'Tail Number', 'Flight Number', 'Aircraft group', 'Aircraft type', 'Aircraft configuration', 'Service class', 'Distance (miles)', 'Origin Airport (IATA Code)', 'Airport Type_origin', 'Scheduled Departure Time (local time)', 'Destination Airport (IATA Code)', 'Airport Type_destination', 'Scheduled Arrival Time (local time)', 'Departure Delay (minutes)', 'Arrival Delay (minutes)', 'Carrier Delay (minutes)', 'Weather Delay (minutes)', 'National Air System Delay (minutes)', 'Security Delay (minutes)', 'Late Aircraft Delay (minutes)', 'cancelled', 'cancellation_code', 'diverted'], axis=1)\n",
    "X=X.fillna(0)\n",
    "y=flights_sample_train['Arrival Delay (minutes)']\n",
    "y=y.fillna(0)\n",
    "\n",
    "# convert to numpy array\n",
    "X=X.values\n",
    "y=y.values\n",
    "\n",
    "# split into train and test sets\n",
    "seed = 1\n",
    "test_size = 0.8\n",
    "X_train, X_test, y_train, y_test = train_test_split(X, y, test_size=test_size, random_state=seed)\n",
    "\n",
    "# fit model to training data\n",
    "from sklearn.ensemble import RandomForestClassifier\n",
    "\n",
    "model = RandomForestClassifier()\n",
    "model.fit(X_train, y_train)\n",
    "\n",
    "# make predictions for test data\n",
    "y_pred = model.predict(X_test)\n",
    "\n",
    "# evaluate predictions\n",
    "rmse = np.sqrt(mean_squared_error(y_test, y_pred))\n",
    "print(\"RMSE: %f\" % (rmse))"
   ]
  },
  {
   "cell_type": "markdown",
   "id": "b760166c-be5c-4a68-88ce-1db2ccb8a3b7",
   "metadata": {
    "tags": []
   },
   "source": [
    "### First Test (40K)"
   ]
  },
  {
   "cell_type": "markdown",
   "id": "aaca919c-a8d7-4d85-b330-878eb8472947",
   "metadata": {
    "tags": []
   },
   "source": [
    "#### Let's start by making sure both have the same columns and are in the same order"
   ]
  },
  {
   "cell_type": "code",
   "execution_count": 64,
   "id": "e7f8b1e9-722c-4db2-be4e-785fffdf7d4d",
   "metadata": {},
   "outputs": [
    {
     "name": "stdout",
     "output_type": "stream",
     "text": [
      "set()\n",
      "set()\n"
     ]
    }
   ],
   "source": [
    "print(set(flights_sample_train.columns) - set(flights_sample_test.columns))\n",
    "print(set(flights_sample_test.columns) - set(flights_sample_train.columns))"
   ]
  },
  {
   "cell_type": "code",
   "execution_count": 9,
   "id": "2dc47548-7517-43ef-97aa-5ad8e2c14658",
   "metadata": {},
   "outputs": [],
   "source": [
    "## Adding the missing column to the test\n",
    "flights_sample_test['Aircraft type2_887.0'] = 0\n",
    "\n",
    "## Not let's put our columns in the same order:\n",
    "flights_sample_test = flights_sample_test[flights_sample_train.columns]"
   ]
  },
  {
   "cell_type": "markdown",
   "id": "39d28663-137c-4f90-810c-0f6a93bf1dd9",
   "metadata": {
    "tags": []
   },
   "source": [
    "#### Now run the test"
   ]
  },
  {
   "cell_type": "code",
   "execution_count": 65,
   "id": "6c642fa5-b474-4dff-8180-437e32dce09e",
   "metadata": {},
   "outputs": [
    {
     "name": "stdout",
     "output_type": "stream",
     "text": [
      "RMSE: 49.370359\n"
     ]
    }
   ],
   "source": [
    "# Now let's try to predict the arrival delay for the flights_sample_test data\n",
    "X=flights_sample_test.drop(['Marketer - Unique Carrier Code', 'Operator - Unique Carrier Code', 'Tail Number', 'Flight Number', 'Aircraft group', 'Aircraft type', 'Aircraft configuration', 'Service class', 'Distance (miles)', 'Origin Airport (IATA Code)', 'Airport Type_origin', 'Scheduled Departure Time (local time)', 'Destination Airport (IATA Code)', 'Airport Type_destination', 'Scheduled Arrival Time (local time)', 'Departure Delay (minutes)', 'Arrival Delay (minutes)', 'Carrier Delay (minutes)', 'Weather Delay (minutes)', 'National Air System Delay (minutes)', 'Security Delay (minutes)', 'Late Aircraft Delay (minutes)', 'cancelled', 'cancellation_code', 'diverted'], axis=1)\n",
    "X=X.fillna(0)\n",
    "y=flights_sample_test['Arrival Delay (minutes)']\n",
    "y=y.fillna(0)\n",
    "\n",
    "# convert to numpy array\n",
    "X=X.values\n",
    "y=y.values\n",
    "\n",
    "# make predictions for test data\n",
    "y_pred = model.predict(X)\n",
    "\n",
    "# evaluate predictions\n",
    "rmse = np.sqrt(mean_squared_error(y, y_pred))\n",
    "print(\"RMSE: %f\" % (rmse))"
   ]
  },
  {
   "cell_type": "markdown",
   "id": "e8e38cc6-ff96-49dc-9dd5-47baed2f17cf",
   "metadata": {},
   "source": [
    "Well that's not good.."
   ]
  },
  {
   "cell_type": "markdown",
   "id": "d474f931-3fa6-414e-8d2a-87cd77f69de3",
   "metadata": {
    "tags": []
   },
   "source": [
    "### Second Test (200K)"
   ]
  },
  {
   "cell_type": "markdown",
   "id": "bbb363d6-ad52-4116-9e3c-cab9a94305df",
   "metadata": {
    "tags": []
   },
   "source": [
    "#### Let's start by making sure both have the same columns and are in the same order"
   ]
  },
  {
   "cell_type": "code",
   "execution_count": 66,
   "id": "dd92ed31-a374-4583-a6ff-162f4fe14a04",
   "metadata": {},
   "outputs": [
    {
     "name": "stdout",
     "output_type": "stream",
     "text": [
      "set()\n",
      "\n",
      "{'origin', 'mkt_carrier', 'dest', 'mkt_carrier_fl_num', 'fl_date'}\n"
     ]
    }
   ],
   "source": [
    "print(set(flights_sample_train.columns) - set(flights_test.columns))\n",
    "print()\n",
    "print(set(flights_test.columns) - set(flights_sample_train.columns))"
   ]
  },
  {
   "cell_type": "code",
   "execution_count": 67,
   "id": "e4c8f0c8-b739-455d-81b4-dc9ac63789d5",
   "metadata": {},
   "outputs": [],
   "source": [
    "## Add missing columns to the test (1st set)\n",
    "\n",
    "## Remove additional columns from the test (2nd set)\n",
    "#del flights_test['Aircraft type2_837.0']\n",
    "del flights_test['origin']\n",
    "del flights_test['mkt_carrier']\n",
    "del flights_test['dest']\n",
    "del flights_test['mkt_carrier_fl_num']\n",
    "del flights_test['fl_date']\n",
    "\n",
    "## Now let's put our columns in the same order:\n",
    "flights_test = flights_test[flights_sample_train.columns]"
   ]
  },
  {
   "cell_type": "markdown",
   "id": "02d84ff7-9642-4704-927a-2b1ed380a9f1",
   "metadata": {},
   "source": [
    "#### Now run the test"
   ]
  },
  {
   "cell_type": "code",
   "execution_count": 68,
   "id": "45f5d23f-ab4b-47b1-82ec-c088ecfaa47d",
   "metadata": {},
   "outputs": [
    {
     "name": "stdout",
     "output_type": "stream",
     "text": [
      "RMSE: 51.899348\n"
     ]
    }
   ],
   "source": [
    "# Now let's try to predict the arrival delay for the flights_sample_test data\n",
    "X=flights_test.drop(['Marketer - Unique Carrier Code', 'Operator - Unique Carrier Code', 'Tail Number', 'Flight Number', 'Aircraft group', 'Aircraft type', 'Aircraft configuration', 'Service class', 'Distance (miles)', 'Origin Airport (IATA Code)', 'Airport Type_origin', 'Scheduled Departure Time (local time)', 'Destination Airport (IATA Code)', 'Airport Type_destination', 'Scheduled Arrival Time (local time)', 'Departure Delay (minutes)', 'Arrival Delay (minutes)', 'Carrier Delay (minutes)', 'Weather Delay (minutes)', 'National Air System Delay (minutes)', 'Security Delay (minutes)', 'Late Aircraft Delay (minutes)', 'cancelled', 'cancellation_code', 'diverted'], axis=1)\n",
    "X=X.fillna(0)\n",
    "y=flights_test['Arrival Delay (minutes)']\n",
    "y=y.fillna(0)\n",
    "\n",
    "# convert to numpy array\n",
    "X=X.values\n",
    "y=y.values\n",
    "\n",
    "# make predictions for test data\n",
    "y_pred = model.predict(X)\n",
    "\n",
    "# evaluate predictions\n",
    "rmse = np.sqrt(mean_squared_error(y, y_pred))\n",
    "print(\"RMSE: %f\" % (rmse))"
   ]
  },
  {
   "cell_type": "markdown",
   "id": "827d0f79-3ee1-4108-88da-0acfeab84cbd",
   "metadata": {},
   "source": [
    "#### Export 2nd Test Results to CSV (Final QC)"
   ]
  },
  {
   "cell_type": "code",
   "execution_count": 69,
   "id": "15b4a46e-44e5-4446-9a40-4722fbb2d1c9",
   "metadata": {},
   "outputs": [],
   "source": [
    "# output y and y pred into a dataframe\n",
    "y_pred_df=pd.DataFrame(y_pred)\n",
    "y_test_df=pd.DataFrame(y)\n",
    "\n",
    "# merge the two dataframes\n",
    "y_pred_df['y_test']=y_test_df\n",
    "\n",
    "# rename the columns\n",
    "y_pred_df.columns=['Model Prediction', 'Actual Value']\n",
    "\n",
    "#export to csv\n",
    "y_pred_df.to_csv('../../src/modules/2nd Test Predictions/RandomForestCl.csv', index=False)"
   ]
  },
  {
   "cell_type": "markdown",
   "id": "a20b457d-afc0-482a-94f4-b773bdc8e144",
   "metadata": {
    "tags": []
   },
   "source": [
    "### Final Test (Jan2020) - Incomplete"
   ]
  },
  {
   "cell_type": "markdown",
   "id": "09b2dbcc-7cbb-456c-a5bf-e64747e873d1",
   "metadata": {
    "tags": []
   },
   "source": [
    "#### Let's start by making sure both have the same columns and are in the same order"
   ]
  },
  {
   "cell_type": "code",
   "execution_count": 70,
   "id": "bf87c7e4-f6dc-47b3-94ff-475b410230b6",
   "metadata": {},
   "outputs": [
    {
     "name": "stdout",
     "output_type": "stream",
     "text": [
      "set()\n",
      "\n",
      "set()\n"
     ]
    }
   ],
   "source": [
    "print(set(flights_sample_train.columns) - set(flights_final_test.columns))\n",
    "print()\n",
    "print(set(flights_final_test.columns) - set(flights_sample_train.columns))"
   ]
  },
  {
   "cell_type": "code",
   "execution_count": 21,
   "id": "a81b93a6-152f-4e1e-9bcf-d999222b2469",
   "metadata": {},
   "outputs": [],
   "source": [
    "## Add missing columns to the test (1st set) ... Most of those will get dropped right after anyway.. it's really just so the arrays match\n",
    "flights_final_test['cancelled'] = 0\n",
    "flights_final_test['Weather Delay (minutes)'] = 0\n",
    "flights_final_test['Operator - Unique Carrier Code2_9K'] = 0\n",
    "flights_final_test['diverted'] = 0\n",
    "flights_final_test['Carrier Delay (minutes)'] = 0\n",
    "flights_final_test['Operator - Unique Carrier Code2_KS'] = 0\n",
    "flights_final_test['National Air System Delay (minutes)'] = 0\n",
    "flights_final_test['Operator - Unique Carrier Code2_VX'] = 0\n",
    "flights_final_test['Aircraft type2_432.0'] = 0\n",
    "flights_final_test['Security Delay (minutes)'] = 0\n",
    "flights_final_test['Departure Delay (minutes)'] = 0\n",
    "flights_final_test['cancellation_code'] = 0\n",
    "flights_final_test['Arrival Delay (minutes)'] = 0\n",
    "flights_final_test['Late Aircraft Delay (minutes)'] = 0\n",
    "\n",
    "## Remove additional columns from the test (2nd set)\n",
    "\n",
    "\n",
    "\n",
    "## Now let's put our columns in the same order:\n",
    "flights_final_test = flights_final_test[flights_sample_train.columns]"
   ]
  },
  {
   "cell_type": "markdown",
   "id": "75c30fdc-3a98-4e82-ba5f-e23d9894ddbd",
   "metadata": {},
   "source": [
    "#### Now run the test.. no score for this one, we're just predicting!"
   ]
  },
  {
   "cell_type": "code",
   "execution_count": 71,
   "id": "9c00a20e-85bb-4494-9d97-c576db94e544",
   "metadata": {},
   "outputs": [],
   "source": [
    "# Now let's try to predict the arrival delay for the flights_sample_test data\n",
    "X=flights_final_test.drop(['Marketer - Unique Carrier Code', 'Operator - Unique Carrier Code', 'Tail Number', 'Flight Number', 'Aircraft group', 'Aircraft type', 'Aircraft configuration', 'Service class', 'Distance (miles)', 'Origin Airport (IATA Code)', 'Airport Type_origin', 'Scheduled Departure Time (local time)', 'Destination Airport (IATA Code)', 'Airport Type_destination', 'Scheduled Arrival Time (local time)', 'Departure Delay (minutes)', 'Arrival Delay (minutes)', 'Carrier Delay (minutes)', 'Weather Delay (minutes)', 'National Air System Delay (minutes)', 'Security Delay (minutes)', 'Late Aircraft Delay (minutes)', 'cancelled', 'cancellation_code', 'diverted'], axis=1)\n",
    "X=X.fillna(0)\n",
    "\n",
    "# convert to numpy array\n",
    "X=X.values\n",
    "\n",
    "# make predictions for test data\n",
    "y_pred = model.predict(X)"
   ]
  },
  {
   "cell_type": "markdown",
   "id": "b24e1d9e-57b7-47c9-925d-900a078ba7fc",
   "metadata": {
    "tags": []
   },
   "source": [
    "### Export Final_Test Results to CSV"
   ]
  },
  {
   "cell_type": "code",
   "execution_count": 72,
   "id": "f7875687-05a7-4dce-885f-8856a6dac8f7",
   "metadata": {},
   "outputs": [],
   "source": [
    "# output y pred into a dataframe\n",
    "y_pred_df=pd.DataFrame(y_pred)\n",
    "\n",
    "# Rename the columns\n",
    "y_pred_df.columns=['predicted_delay']\n",
    "\n",
    "# Now, we have to format y_pred_df to match the format of the sample submission file\n",
    "## Produce the missing columns\n",
    "flights_test['fl_date'] = flights_test['Flight Year'].astype(str) + '-' + flights_test['Flight Month'].astype(str).str.zfill(2) + '-' + flights_test['Flight Day'].astype(str).str.zfill(2)\n",
    "flights_test['mkt_carrier'] = flights_test['Marketer - Unique Carrier Code']\n",
    "flights_test['mkt_carrier_fl_num'] = flights_test['Flight Number']\n",
    "flights_test['origin'] = flights_test['Origin Airport (IATA Code)']\n",
    "flights_test['dest'] = flights_test['Destination Airport (IATA Code)']\n",
    "\n",
    "## Add these columns to y_pred_df\n",
    "y_pred_df['fl_date'] = flights_test['fl_date']\n",
    "y_pred_df['mkt_carrier'] = flights_test['mkt_carrier']\n",
    "y_pred_df['mkt_carrier_fl_num'] = flights_test['mkt_carrier_fl_num']\n",
    "y_pred_df['origin'] = flights_test['origin']\n",
    "y_pred_df['dest'] = flights_test['dest']\n",
    "\n",
    "## Reorder the columns to match the sample submission file\n",
    "y_pred_df = y_pred_df[['fl_date', 'mkt_carrier', 'mkt_carrier_fl_num', 'origin', 'dest', 'predicted_delay']]\n",
    "\n",
    "# Export to csv\n",
    "y_pred_df.to_csv('../../output/RandomForestCl.csv', index=False)"
   ]
  },
  {
   "cell_type": "markdown",
   "id": "07ef311c-aa87-4876-b8b5-6259d1c6d63b",
   "metadata": {
    "jp-MarkdownHeadingCollapsed": true,
    "tags": []
   },
   "source": [
    "## Linear Regression  RMSE: 994140.93, 2435111.90, 2037559.82  Submitted: No"
   ]
  },
  {
   "cell_type": "markdown",
   "id": "49290110-5a02-4fcb-a503-9bc71794822c",
   "metadata": {
    "tags": []
   },
   "source": [
    "### Train Model"
   ]
  },
  {
   "cell_type": "code",
   "execution_count": 33,
   "id": "f9020eb2-6864-401c-9e44-c62adf5e04de",
   "metadata": {},
   "outputs": [
    {
     "name": "stdout",
     "output_type": "stream",
     "text": [
      "RMSE: 994140.935793\n"
     ]
    }
   ],
   "source": [
    "# Let's set X and y to our flights_sample_train data and 'Arriaval Delay (minutes)' column\n",
    "X=flights_sample_train.drop(['Marketer - Unique Carrier Code', 'Operator - Unique Carrier Code', 'Tail Number', 'Flight Number', 'Aircraft group', 'Aircraft type', 'Aircraft configuration', 'Service class', 'Distance (miles)', 'Origin Airport (IATA Code)', 'Airport Type_origin', 'Scheduled Departure Time (local time)', 'Destination Airport (IATA Code)', 'Airport Type_destination', 'Scheduled Arrival Time (local time)', 'Departure Delay (minutes)', 'Arrival Delay (minutes)', 'Carrier Delay (minutes)', 'Weather Delay (minutes)', 'National Air System Delay (minutes)', 'Security Delay (minutes)', 'Late Aircraft Delay (minutes)', 'cancelled', 'cancellation_code', 'diverted'], axis=1)\n",
    "X=X.fillna(0)\n",
    "y=flights_sample_train['Arrival Delay (minutes)']\n",
    "y=y.fillna(0)\n",
    "\n",
    "# convert to numpy array\n",
    "X=X.values\n",
    "y=y.values\n",
    "\n",
    "# split into train and test sets\n",
    "seed = 1\n",
    "test_size = 0.8\n",
    "X_train, X_test, y_train, y_test = train_test_split(X, y, test_size=test_size, random_state=seed)\n",
    "\n",
    "# fit model to training data\n",
    "from sklearn.linear_model import LinearRegression\n",
    "\n",
    "model = LinearRegression()\n",
    "model.fit(X_train, y_train)\n",
    "\n",
    "# make predictions for test data\n",
    "y_pred = model.predict(X_test)\n",
    "\n",
    "# evaluate predictions\n",
    "rmse = np.sqrt(mean_squared_error(y_test, y_pred))\n",
    "print(\"RMSE: %f\" % (rmse))"
   ]
  },
  {
   "cell_type": "markdown",
   "id": "49dbdea1-ff9e-4a39-b573-8f0ed0569ef1",
   "metadata": {
    "tags": []
   },
   "source": [
    "### First Test (40K)"
   ]
  },
  {
   "cell_type": "markdown",
   "id": "003113ed-3ad6-4500-bd47-6ce78940a586",
   "metadata": {
    "jp-MarkdownHeadingCollapsed": true,
    "tags": []
   },
   "source": [
    "#### Let's start by making sure both have the same columns and are in the same order"
   ]
  },
  {
   "cell_type": "code",
   "execution_count": 28,
   "id": "3ec8729d-ea42-4a5a-a135-b25462784d5a",
   "metadata": {},
   "outputs": [
    {
     "name": "stdout",
     "output_type": "stream",
     "text": [
      "set()\n",
      "set()\n"
     ]
    }
   ],
   "source": [
    "print(set(flights_sample_train.columns) - set(flights_sample_test.columns))\n",
    "print(set(flights_sample_test.columns) - set(flights_sample_train.columns))"
   ]
  },
  {
   "cell_type": "code",
   "execution_count": 9,
   "id": "5559fa09-a3cb-448a-8c02-bfd68a1e83ac",
   "metadata": {},
   "outputs": [],
   "source": [
    "## Adding the missing column to the test\n",
    "flights_sample_test['Aircraft type2_887.0'] = 0\n",
    "\n",
    "## Not let's put our columns in the same order:\n",
    "flights_sample_test = flights_sample_test[flights_sample_train.columns]"
   ]
  },
  {
   "cell_type": "markdown",
   "id": "011d5750-4547-439f-9e84-b0aa1087dee8",
   "metadata": {
    "tags": []
   },
   "source": [
    "#### Now run the test"
   ]
  },
  {
   "cell_type": "code",
   "execution_count": 34,
   "id": "1f570167-25f0-428a-a494-94918aae83b7",
   "metadata": {},
   "outputs": [
    {
     "name": "stdout",
     "output_type": "stream",
     "text": [
      "RMSE: 2435111.903582\n"
     ]
    }
   ],
   "source": [
    "# Now let's try to predict the arrival delay for the flights_sample_test data\n",
    "X=flights_sample_test.drop(['Marketer - Unique Carrier Code', 'Operator - Unique Carrier Code', 'Tail Number', 'Flight Number', 'Aircraft group', 'Aircraft type', 'Aircraft configuration', 'Service class', 'Distance (miles)', 'Origin Airport (IATA Code)', 'Airport Type_origin', 'Scheduled Departure Time (local time)', 'Destination Airport (IATA Code)', 'Airport Type_destination', 'Scheduled Arrival Time (local time)', 'Departure Delay (minutes)', 'Arrival Delay (minutes)', 'Carrier Delay (minutes)', 'Weather Delay (minutes)', 'National Air System Delay (minutes)', 'Security Delay (minutes)', 'Late Aircraft Delay (minutes)', 'cancelled', 'cancellation_code', 'diverted'], axis=1)\n",
    "X=X.fillna(0)\n",
    "y=flights_sample_test['Arrival Delay (minutes)']\n",
    "y=y.fillna(0)\n",
    "\n",
    "# convert to numpy array\n",
    "X=X.values\n",
    "y=y.values\n",
    "\n",
    "# make predictions for test data\n",
    "y_pred = model.predict(X)\n",
    "\n",
    "# evaluate predictions\n",
    "rmse = np.sqrt(mean_squared_error(y, y_pred))\n",
    "print(\"RMSE: %f\" % (rmse))"
   ]
  },
  {
   "cell_type": "markdown",
   "id": "ff70ccc8-6776-4880-aeca-c30bab341fe1",
   "metadata": {},
   "source": [
    "Well that's not good.."
   ]
  },
  {
   "cell_type": "markdown",
   "id": "eefdbebf-48f3-449a-8be3-c736c1a1d8e9",
   "metadata": {
    "tags": []
   },
   "source": [
    "### Second Test (200K)"
   ]
  },
  {
   "cell_type": "markdown",
   "id": "e6321b47-c0d4-4399-9173-c093c41b4093",
   "metadata": {
    "jp-MarkdownHeadingCollapsed": true,
    "tags": []
   },
   "source": [
    "#### Let's start by making sure both have the same columns and are in the same order"
   ]
  },
  {
   "cell_type": "code",
   "execution_count": 31,
   "id": "681f76cf-36c6-4437-ae0d-0aeb28dd4c64",
   "metadata": {},
   "outputs": [
    {
     "name": "stdout",
     "output_type": "stream",
     "text": [
      "set()\n",
      "\n",
      "set()\n"
     ]
    }
   ],
   "source": [
    "print(set(flights_sample_train.columns) - set(flights_test.columns))\n",
    "print()\n",
    "print(set(flights_test.columns) - set(flights_sample_train.columns))"
   ]
  },
  {
   "cell_type": "code",
   "execution_count": 30,
   "id": "6cab4368-371b-461b-8841-6b92f986973f",
   "metadata": {},
   "outputs": [],
   "source": [
    "## Add missing columns to the test (1st set)\n",
    "\n",
    "## Remove additional columns from the test (2nd set)\n",
    "#del flights_test['Aircraft type2_837.0']\n",
    "del flights_test['origin']\n",
    "del flights_test['mkt_carrier']\n",
    "del flights_test['dest']\n",
    "del flights_test['mkt_carrier_fl_num']\n",
    "del flights_test['fl_date']\n",
    "\n",
    "## Now let's put our columns in the same order:\n",
    "flights_test = flights_test[flights_sample_train.columns]"
   ]
  },
  {
   "cell_type": "markdown",
   "id": "b84d42cc-1bd8-4c2e-86b3-e7f6696d5a50",
   "metadata": {},
   "source": [
    "#### Now run the test"
   ]
  },
  {
   "cell_type": "code",
   "execution_count": 35,
   "id": "03f80017-4099-42cf-a705-3a0b102c599e",
   "metadata": {},
   "outputs": [
    {
     "name": "stdout",
     "output_type": "stream",
     "text": [
      "RMSE: 2037559.822769\n"
     ]
    }
   ],
   "source": [
    "# Now let's try to predict the arrival delay for the flights_sample_test data\n",
    "X=flights_test.drop(['Marketer - Unique Carrier Code', 'Operator - Unique Carrier Code', 'Tail Number', 'Flight Number', 'Aircraft group', 'Aircraft type', 'Aircraft configuration', 'Service class', 'Distance (miles)', 'Origin Airport (IATA Code)', 'Airport Type_origin', 'Scheduled Departure Time (local time)', 'Destination Airport (IATA Code)', 'Airport Type_destination', 'Scheduled Arrival Time (local time)', 'Departure Delay (minutes)', 'Arrival Delay (minutes)', 'Carrier Delay (minutes)', 'Weather Delay (minutes)', 'National Air System Delay (minutes)', 'Security Delay (minutes)', 'Late Aircraft Delay (minutes)', 'cancelled', 'cancellation_code', 'diverted'], axis=1)\n",
    "X=X.fillna(0)\n",
    "y=flights_test['Arrival Delay (minutes)']\n",
    "y=y.fillna(0)\n",
    "\n",
    "# convert to numpy array\n",
    "X=X.values\n",
    "y=y.values\n",
    "\n",
    "# make predictions for test data\n",
    "y_pred = model.predict(X)\n",
    "\n",
    "# evaluate predictions\n",
    "rmse = np.sqrt(mean_squared_error(y, y_pred))\n",
    "print(\"RMSE: %f\" % (rmse))"
   ]
  },
  {
   "cell_type": "markdown",
   "id": "9604bf7d-c6a3-42dc-8a8a-0c73a4a5e848",
   "metadata": {},
   "source": [
    "#### Export 2nd Test Results to CSV (Final QC)"
   ]
  },
  {
   "cell_type": "code",
   "execution_count": 36,
   "id": "7d97a4b1-9aaa-4d69-8a3a-5ed822561d1e",
   "metadata": {},
   "outputs": [],
   "source": [
    "# output y and y pred into a dataframe\n",
    "y_pred_df=pd.DataFrame(y_pred)\n",
    "y_test_df=pd.DataFrame(y)\n",
    "\n",
    "# merge the two dataframes\n",
    "y_pred_df['y_test']=y_test_df\n",
    "\n",
    "# rename the columns\n",
    "y_pred_df.columns=['Model Prediction', 'Actual Value']\n",
    "\n",
    "#export to csv\n",
    "y_pred_df.to_csv('../../src/modules/2nd Test Predictions/LinReg.csv', index=False)"
   ]
  },
  {
   "cell_type": "markdown",
   "id": "679bd400-b375-4741-9d01-8544ff2786ab",
   "metadata": {
    "jp-MarkdownHeadingCollapsed": true,
    "tags": []
   },
   "source": [
    "### Final Test (Jan2020) - Not submitting this one results are too bad"
   ]
  },
  {
   "cell_type": "markdown",
   "id": "7479a8b5-9b45-41d5-896d-b844e61f9f4d",
   "metadata": {
    "jp-MarkdownHeadingCollapsed": true,
    "tags": []
   },
   "source": [
    "## XG Boost Regressor - Error at training"
   ]
  },
  {
   "cell_type": "markdown",
   "id": "26726ed0-fd5c-40bb-bc2c-4da12ecf62fe",
   "metadata": {
    "tags": []
   },
   "source": [
    "### Train Model"
   ]
  },
  {
   "cell_type": "code",
   "execution_count": 27,
   "id": "6905f688-075e-442a-80c1-1e147f9fb15c",
   "metadata": {},
   "outputs": [
    {
     "ename": "ValueError",
     "evalue": "Invalid classes inferred from unique values of `y`.  Expected: [  0   1   2   3   4   5   6   7   8   9  10  11  12  13  14  15  16  17\n  18  19  20  21  22  23  24  25  26  27  28  29  30  31  32  33  34  35\n  36  37  38  39  40  41  42  43  44  45  46  47  48  49  50  51  52  53\n  54  55  56  57  58  59  60  61  62  63  64  65  66  67  68  69  70  71\n  72  73  74  75  76  77  78  79  80  81  82  83  84  85  86  87  88  89\n  90  91  92  93  94  95  96  97  98  99 100 101 102 103 104 105 106 107\n 108 109 110 111 112 113 114 115 116 117 118 119 120 121 122 123 124 125\n 126 127 128 129 130 131 132 133 134 135 136 137 138 139 140 141 142 143\n 144 145 146 147 148 149], got [-80. -73. -67. -64. -62. -59. -58. -56. -55. -54. -53. -52. -51. -50.\n -49. -48. -47. -46. -45. -44. -43. -42. -41. -40. -39. -38. -37. -36.\n -35. -34. -33. -32. -31. -30. -29. -28. -27. -26. -25. -24. -23. -22.\n -21. -20. -19. -18. -17. -16. -15. -14. -13. -12. -11. -10.  -9.  -8.\n  -7.  -6.  -5.  -4.  -3.  -2.  -1.   0.   1.   2.   3.   4.   5.   6.\n   7.   8.   9.  10.  11.  12.  13.  14.  15.  16.  17.  18.  19.  20.\n  21.  22.  23.  24.  25.  26.  27.  28.  29.  30.  31.  32.  33.  34.\n  35.  36.  37.  38.  39.  40.  41.  42.  43.  44.  45.  46.  47.  48.\n  49.  50.  51.  52.  53.  54.  55.  56.  57.  58.  59.  60.  61.  62.\n  63.  64.  65.  66.  67.  68.  69.  70.  71.  72.  73.  74.  75.  76.\n  77.  78.  79.  80.  81.  82.  83.  84.  85.  86.]",
     "output_type": "error",
     "traceback": [
      "\u001b[1;31m---------------------------------------------------------------------------\u001b[0m",
      "\u001b[1;31mValueError\u001b[0m                                Traceback (most recent call last)",
      "Input \u001b[1;32mIn [27]\u001b[0m, in \u001b[0;36m<cell line: 21>\u001b[1;34m()\u001b[0m\n\u001b[0;32m     18\u001b[0m \u001b[38;5;28;01mfrom\u001b[39;00m \u001b[38;5;21;01mxgboost\u001b[39;00m \u001b[38;5;28;01mimport\u001b[39;00m XGBRegressor\n\u001b[0;32m     20\u001b[0m model \u001b[38;5;241m=\u001b[39m XGBClassifier()\n\u001b[1;32m---> 21\u001b[0m \u001b[43mmodel\u001b[49m\u001b[38;5;241;43m.\u001b[39;49m\u001b[43mfit\u001b[49m\u001b[43m(\u001b[49m\u001b[43mX_train\u001b[49m\u001b[43m,\u001b[49m\u001b[43m \u001b[49m\u001b[43my_train\u001b[49m\u001b[43m)\u001b[49m\n\u001b[0;32m     23\u001b[0m \u001b[38;5;66;03m# make predictions for test data\u001b[39;00m\n\u001b[0;32m     24\u001b[0m y_pred \u001b[38;5;241m=\u001b[39m model\u001b[38;5;241m.\u001b[39mpredict(X_test)\n",
      "File \u001b[1;32m~\\anaconda3\\envs\\main_ide\\lib\\site-packages\\xgboost\\core.py:620\u001b[0m, in \u001b[0;36mrequire_keyword_args.<locals>.throw_if.<locals>.inner_f\u001b[1;34m(*args, **kwargs)\u001b[0m\n\u001b[0;32m    618\u001b[0m \u001b[38;5;28;01mfor\u001b[39;00m k, arg \u001b[38;5;129;01min\u001b[39;00m \u001b[38;5;28mzip\u001b[39m(sig\u001b[38;5;241m.\u001b[39mparameters, args):\n\u001b[0;32m    619\u001b[0m     kwargs[k] \u001b[38;5;241m=\u001b[39m arg\n\u001b[1;32m--> 620\u001b[0m \u001b[38;5;28;01mreturn\u001b[39;00m func(\u001b[38;5;241m*\u001b[39m\u001b[38;5;241m*\u001b[39mkwargs)\n",
      "File \u001b[1;32m~\\anaconda3\\envs\\main_ide\\lib\\site-packages\\xgboost\\sklearn.py:1466\u001b[0m, in \u001b[0;36mXGBClassifier.fit\u001b[1;34m(self, X, y, sample_weight, base_margin, eval_set, eval_metric, early_stopping_rounds, verbose, xgb_model, sample_weight_eval_set, base_margin_eval_set, feature_weights, callbacks)\u001b[0m\n\u001b[0;32m   1461\u001b[0m     expected_classes \u001b[38;5;241m=\u001b[39m np\u001b[38;5;241m.\u001b[39marange(\u001b[38;5;28mself\u001b[39m\u001b[38;5;241m.\u001b[39mn_classes_)\n\u001b[0;32m   1462\u001b[0m \u001b[38;5;28;01mif\u001b[39;00m (\n\u001b[0;32m   1463\u001b[0m     \u001b[38;5;28mself\u001b[39m\u001b[38;5;241m.\u001b[39mclasses_\u001b[38;5;241m.\u001b[39mshape \u001b[38;5;241m!=\u001b[39m expected_classes\u001b[38;5;241m.\u001b[39mshape\n\u001b[0;32m   1464\u001b[0m     \u001b[38;5;129;01mor\u001b[39;00m \u001b[38;5;129;01mnot\u001b[39;00m (\u001b[38;5;28mself\u001b[39m\u001b[38;5;241m.\u001b[39mclasses_ \u001b[38;5;241m==\u001b[39m expected_classes)\u001b[38;5;241m.\u001b[39mall()\n\u001b[0;32m   1465\u001b[0m ):\n\u001b[1;32m-> 1466\u001b[0m     \u001b[38;5;28;01mraise\u001b[39;00m \u001b[38;5;167;01mValueError\u001b[39;00m(\n\u001b[0;32m   1467\u001b[0m         \u001b[38;5;124mf\u001b[39m\u001b[38;5;124m\"\u001b[39m\u001b[38;5;124mInvalid classes inferred from unique values of `y`.  \u001b[39m\u001b[38;5;124m\"\u001b[39m\n\u001b[0;32m   1468\u001b[0m         \u001b[38;5;124mf\u001b[39m\u001b[38;5;124m\"\u001b[39m\u001b[38;5;124mExpected: \u001b[39m\u001b[38;5;132;01m{\u001b[39;00mexpected_classes\u001b[38;5;132;01m}\u001b[39;00m\u001b[38;5;124m, got \u001b[39m\u001b[38;5;132;01m{\u001b[39;00m\u001b[38;5;28mself\u001b[39m\u001b[38;5;241m.\u001b[39mclasses_\u001b[38;5;132;01m}\u001b[39;00m\u001b[38;5;124m\"\u001b[39m\n\u001b[0;32m   1469\u001b[0m     )\n\u001b[0;32m   1471\u001b[0m params \u001b[38;5;241m=\u001b[39m \u001b[38;5;28mself\u001b[39m\u001b[38;5;241m.\u001b[39mget_xgb_params()\n\u001b[0;32m   1473\u001b[0m \u001b[38;5;28;01mif\u001b[39;00m callable(\u001b[38;5;28mself\u001b[39m\u001b[38;5;241m.\u001b[39mobjective):\n",
      "\u001b[1;31mValueError\u001b[0m: Invalid classes inferred from unique values of `y`.  Expected: [  0   1   2   3   4   5   6   7   8   9  10  11  12  13  14  15  16  17\n  18  19  20  21  22  23  24  25  26  27  28  29  30  31  32  33  34  35\n  36  37  38  39  40  41  42  43  44  45  46  47  48  49  50  51  52  53\n  54  55  56  57  58  59  60  61  62  63  64  65  66  67  68  69  70  71\n  72  73  74  75  76  77  78  79  80  81  82  83  84  85  86  87  88  89\n  90  91  92  93  94  95  96  97  98  99 100 101 102 103 104 105 106 107\n 108 109 110 111 112 113 114 115 116 117 118 119 120 121 122 123 124 125\n 126 127 128 129 130 131 132 133 134 135 136 137 138 139 140 141 142 143\n 144 145 146 147 148 149], got [-80. -73. -67. -64. -62. -59. -58. -56. -55. -54. -53. -52. -51. -50.\n -49. -48. -47. -46. -45. -44. -43. -42. -41. -40. -39. -38. -37. -36.\n -35. -34. -33. -32. -31. -30. -29. -28. -27. -26. -25. -24. -23. -22.\n -21. -20. -19. -18. -17. -16. -15. -14. -13. -12. -11. -10.  -9.  -8.\n  -7.  -6.  -5.  -4.  -3.  -2.  -1.   0.   1.   2.   3.   4.   5.   6.\n   7.   8.   9.  10.  11.  12.  13.  14.  15.  16.  17.  18.  19.  20.\n  21.  22.  23.  24.  25.  26.  27.  28.  29.  30.  31.  32.  33.  34.\n  35.  36.  37.  38.  39.  40.  41.  42.  43.  44.  45.  46.  47.  48.\n  49.  50.  51.  52.  53.  54.  55.  56.  57.  58.  59.  60.  61.  62.\n  63.  64.  65.  66.  67.  68.  69.  70.  71.  72.  73.  74.  75.  76.\n  77.  78.  79.  80.  81.  82.  83.  84.  85.  86.]"
     ]
    }
   ],
   "source": [
    "# Let's set X and y to our flights_sample_train data and 'Arriaval Delay (minutes)' column\n",
    "X=flights_sample_train.drop(['Marketer - Unique Carrier Code', 'Operator - Unique Carrier Code', 'Tail Number', 'Flight Number', 'Aircraft group', 'Aircraft type', 'Aircraft configuration', 'Service class', 'Distance (miles)', 'Origin Airport (IATA Code)', 'Airport Type_origin', 'Scheduled Departure Time (local time)', 'Destination Airport (IATA Code)', 'Airport Type_destination', 'Scheduled Arrival Time (local time)', 'Departure Delay (minutes)', 'Arrival Delay (minutes)', 'Carrier Delay (minutes)', 'Weather Delay (minutes)', 'National Air System Delay (minutes)', 'Security Delay (minutes)', 'Late Aircraft Delay (minutes)', 'cancelled', 'cancellation_code', 'diverted'], axis=1)\n",
    "X=X.fillna(0)\n",
    "y=flights_sample_train['Arrival Delay (minutes)']\n",
    "y=y.fillna(0)\n",
    "\n",
    "# convert to numpy array\n",
    "X=X.values\n",
    "y=y.values\n",
    "\n",
    "# split into train and test sets\n",
    "seed = 1\n",
    "test_size = 0.8\n",
    "X_train, X_test, y_train, y_test = train_test_split(X, y, test_size=test_size, random_state=seed)\n",
    "\n",
    "# fit model to training data\n",
    "import xgboost as xgb\n",
    "from xgboost import XGBRegressor\n",
    "\n",
    "model = XGBClassifier()\n",
    "model.fit(X_train, y_train)\n",
    "\n",
    "# make predictions for test data\n",
    "y_pred = model.predict(X_test)\n",
    "\n",
    "# evaluate predictions\n",
    "rmse = np.sqrt(mean_squared_error(y_test, y_pred))\n",
    "print(\"RMSE: %f\" % (rmse))"
   ]
  },
  {
   "cell_type": "markdown",
   "id": "e1a85561-d74e-4ab1-86f9-7a0181ea2c42",
   "metadata": {
    "jp-MarkdownHeadingCollapsed": true,
    "tags": []
   },
   "source": [
    "### First Test (40K)"
   ]
  },
  {
   "cell_type": "markdown",
   "id": "fa717502-8a2f-481e-a35a-6d7fd484cd8c",
   "metadata": {
    "jp-MarkdownHeadingCollapsed": true,
    "tags": []
   },
   "source": [
    "#### Let's start by making sure both have the same columns and are in the same order"
   ]
  },
  {
   "cell_type": "code",
   "execution_count": 28,
   "id": "8e2fa215-ee9b-4a8d-a8e8-2adcd6c06181",
   "metadata": {},
   "outputs": [
    {
     "name": "stdout",
     "output_type": "stream",
     "text": [
      "set()\n",
      "set()\n"
     ]
    }
   ],
   "source": [
    "print(set(flights_sample_train.columns) - set(flights_sample_test.columns))\n",
    "print(set(flights_sample_test.columns) - set(flights_sample_train.columns))"
   ]
  },
  {
   "cell_type": "code",
   "execution_count": 9,
   "id": "6b45e32b-889d-4b98-970f-e50e791795f9",
   "metadata": {},
   "outputs": [],
   "source": [
    "## Adding the missing column to the test\n",
    "flights_sample_test['Aircraft type2_887.0'] = 0\n",
    "\n",
    "## Not let's put our columns in the same order:\n",
    "flights_sample_test = flights_sample_test[flights_sample_train.columns]"
   ]
  },
  {
   "cell_type": "markdown",
   "id": "871b34a8-59ac-4935-806b-b07e5609b57d",
   "metadata": {
    "tags": []
   },
   "source": [
    "#### Now run the test"
   ]
  },
  {
   "cell_type": "code",
   "execution_count": 16,
   "id": "cb46c87b-4531-47c0-9328-53402a3a74c9",
   "metadata": {},
   "outputs": [
    {
     "name": "stdout",
     "output_type": "stream",
     "text": [
      "RMSE: 45.989178\n"
     ]
    }
   ],
   "source": [
    "# Now let's try to predict the arrival delay for the flights_sample_test data\n",
    "X=flights_sample_test.drop(['Marketer - Unique Carrier Code', 'Operator - Unique Carrier Code', 'Tail Number', 'Flight Number', 'Aircraft group', 'Aircraft type', 'Aircraft configuration', 'Service class', 'Distance (miles)', 'Origin Airport (IATA Code)', 'Airport Type_origin', 'Scheduled Departure Time (local time)', 'Destination Airport (IATA Code)', 'Airport Type_destination', 'Scheduled Arrival Time (local time)', 'Departure Delay (minutes)', 'Arrival Delay (minutes)', 'Carrier Delay (minutes)', 'Weather Delay (minutes)', 'National Air System Delay (minutes)', 'Security Delay (minutes)', 'Late Aircraft Delay (minutes)', 'cancelled', 'cancellation_code', 'diverted'], axis=1)\n",
    "X=X.fillna(0)\n",
    "y=flights_sample_test['Arrival Delay (minutes)']\n",
    "y=y.fillna(0)\n",
    "\n",
    "# convert to numpy array\n",
    "X=X.values\n",
    "y=y.values\n",
    "\n",
    "# make predictions for test data\n",
    "y_pred = model.predict(X)\n",
    "\n",
    "# evaluate predictions\n",
    "rmse = np.sqrt(mean_squared_error(y, y_pred))\n",
    "print(\"RMSE: %f\" % (rmse))"
   ]
  },
  {
   "cell_type": "markdown",
   "id": "4cc3ff64-b854-4de7-8c8d-91d3acac7cfb",
   "metadata": {},
   "source": [
    "Well that's not good.."
   ]
  },
  {
   "cell_type": "markdown",
   "id": "182c1d04-0a26-484d-bc31-2acfb74c72ce",
   "metadata": {
    "tags": []
   },
   "source": [
    "### Second Test (200K)"
   ]
  },
  {
   "cell_type": "markdown",
   "id": "26748439-990f-4be4-b9bc-a0e1b2bf81d4",
   "metadata": {
    "jp-MarkdownHeadingCollapsed": true,
    "tags": []
   },
   "source": [
    "#### Let's start by making sure both have the same columns and are in the same order"
   ]
  },
  {
   "cell_type": "code",
   "execution_count": 31,
   "id": "3ec1c796-8ede-4748-a93e-07482c31c987",
   "metadata": {},
   "outputs": [
    {
     "name": "stdout",
     "output_type": "stream",
     "text": [
      "set()\n",
      "\n",
      "set()\n"
     ]
    }
   ],
   "source": [
    "print(set(flights_sample_train.columns) - set(flights_test.columns))\n",
    "print()\n",
    "print(set(flights_test.columns) - set(flights_sample_train.columns))"
   ]
  },
  {
   "cell_type": "code",
   "execution_count": 30,
   "id": "a4725c90-235a-46a0-a067-532878b69829",
   "metadata": {},
   "outputs": [],
   "source": [
    "## Add missing columns to the test (1st set)\n",
    "\n",
    "## Remove additional columns from the test (2nd set)\n",
    "#del flights_test['Aircraft type2_837.0']\n",
    "del flights_test['origin']\n",
    "del flights_test['mkt_carrier']\n",
    "del flights_test['dest']\n",
    "del flights_test['mkt_carrier_fl_num']\n",
    "del flights_test['fl_date']\n",
    "\n",
    "## Now let's put our columns in the same order:\n",
    "flights_test = flights_test[flights_sample_train.columns]"
   ]
  },
  {
   "cell_type": "markdown",
   "id": "6d64e4eb-e7b4-4fe2-9b34-3e249eac502c",
   "metadata": {},
   "source": [
    "#### Now run the test"
   ]
  },
  {
   "cell_type": "code",
   "execution_count": 18,
   "id": "48c887c4-3211-4b2c-ab91-f7c0828e951c",
   "metadata": {},
   "outputs": [
    {
     "name": "stdout",
     "output_type": "stream",
     "text": [
      "RMSE: 48.646433\n"
     ]
    }
   ],
   "source": [
    "# Now let's try to predict the arrival delay for the flights_sample_test data\n",
    "X=flights_test.drop(['Marketer - Unique Carrier Code', 'Operator - Unique Carrier Code', 'Tail Number', 'Flight Number', 'Aircraft group', 'Aircraft type', 'Aircraft configuration', 'Service class', 'Distance (miles)', 'Origin Airport (IATA Code)', 'Airport Type_origin', 'Scheduled Departure Time (local time)', 'Destination Airport (IATA Code)', 'Airport Type_destination', 'Scheduled Arrival Time (local time)', 'Departure Delay (minutes)', 'Arrival Delay (minutes)', 'Carrier Delay (minutes)', 'Weather Delay (minutes)', 'National Air System Delay (minutes)', 'Security Delay (minutes)', 'Late Aircraft Delay (minutes)', 'cancelled', 'cancellation_code', 'diverted'], axis=1)\n",
    "X=X.fillna(0)\n",
    "y=flights_test['Arrival Delay (minutes)']\n",
    "y=y.fillna(0)\n",
    "\n",
    "# convert to numpy array\n",
    "X=X.values\n",
    "y=y.values\n",
    "\n",
    "# make predictions for test data\n",
    "y_pred = model.predict(X)\n",
    "\n",
    "# evaluate predictions\n",
    "rmse = np.sqrt(mean_squared_error(y, y_pred))\n",
    "print(\"RMSE: %f\" % (rmse))"
   ]
  },
  {
   "cell_type": "markdown",
   "id": "99e6b718-87fa-4ce2-8308-7e248f9145c8",
   "metadata": {},
   "source": [
    "#### Export 2nd Test Results to CSV (Final QC)"
   ]
  },
  {
   "cell_type": "code",
   "execution_count": 19,
   "id": "6580c740-bbf4-4796-a982-37e17a9dfb77",
   "metadata": {},
   "outputs": [],
   "source": [
    "# output y and y pred into a dataframe\n",
    "y_pred_df=pd.DataFrame(y_pred)\n",
    "y_test_df=pd.DataFrame(y)\n",
    "\n",
    "# merge the two dataframes\n",
    "y_pred_df['y_test']=y_test_df\n",
    "\n",
    "# rename the columns\n",
    "y_pred_df.columns=['Model Prediction', 'Actual Value']\n",
    "\n",
    "#export to csv\n",
    "y_pred_df.to_csv('../../src/modules/2nd Test Predictions/XGBoostReg.csv', index=False)"
   ]
  },
  {
   "cell_type": "markdown",
   "id": "a008f2ef-5476-4755-9a9f-fc18318fd8ec",
   "metadata": {
    "jp-MarkdownHeadingCollapsed": true,
    "tags": []
   },
   "source": [
    "### Final Test (Jan2020) - Incomplete"
   ]
  },
  {
   "cell_type": "markdown",
   "id": "3290e1e0-edad-48f8-bbf5-8ac5b72cf2bf",
   "metadata": {
    "jp-MarkdownHeadingCollapsed": true,
    "tags": []
   },
   "source": [
    "#### Let's start by making sure both have the same columns and are in the same order"
   ]
  },
  {
   "cell_type": "code",
   "execution_count": 32,
   "id": "1be25e6c-3489-4ffb-9c1d-1b37e8ec5d9a",
   "metadata": {},
   "outputs": [
    {
     "name": "stdout",
     "output_type": "stream",
     "text": [
      "set()\n",
      "\n",
      "set()\n"
     ]
    }
   ],
   "source": [
    "print(set(flights_sample_train.columns) - set(flights_final_test.columns))\n",
    "print()\n",
    "print(set(flights_final_test.columns) - set(flights_sample_train.columns))"
   ]
  },
  {
   "cell_type": "code",
   "execution_count": 21,
   "id": "4b4c8f2b-e3ac-46d6-a63b-cb932fb11808",
   "metadata": {},
   "outputs": [],
   "source": [
    "## Add missing columns to the test (1st set) ... Most of those will get dropped right after anyway.. it's really just so the arrays match\n",
    "flights_final_test['cancelled'] = 0\n",
    "flights_final_test['Weather Delay (minutes)'] = 0\n",
    "flights_final_test['Operator - Unique Carrier Code2_9K'] = 0\n",
    "flights_final_test['diverted'] = 0\n",
    "flights_final_test['Carrier Delay (minutes)'] = 0\n",
    "flights_final_test['Operator - Unique Carrier Code2_KS'] = 0\n",
    "flights_final_test['National Air System Delay (minutes)'] = 0\n",
    "flights_final_test['Operator - Unique Carrier Code2_VX'] = 0\n",
    "flights_final_test['Aircraft type2_432.0'] = 0\n",
    "flights_final_test['Security Delay (minutes)'] = 0\n",
    "flights_final_test['Departure Delay (minutes)'] = 0\n",
    "flights_final_test['cancellation_code'] = 0\n",
    "flights_final_test['Arrival Delay (minutes)'] = 0\n",
    "flights_final_test['Late Aircraft Delay (minutes)'] = 0\n",
    "\n",
    "## Remove additional columns from the test (2nd set)\n",
    "\n",
    "\n",
    "\n",
    "## Now let's put our columns in the same order:\n",
    "flights_final_test = flights_final_test[flights_sample_train.columns]"
   ]
  },
  {
   "cell_type": "markdown",
   "id": "f097be6d-0903-4a88-95cb-1b04ea12245a",
   "metadata": {},
   "source": [
    "#### Now run the test.. no score for this one, we're just predicting!"
   ]
  },
  {
   "cell_type": "code",
   "execution_count": 24,
   "id": "e15f7898-eb52-497d-addb-d465d215cd94",
   "metadata": {},
   "outputs": [],
   "source": [
    "# Now let's try to predict the arrival delay for the flights_sample_test data\n",
    "X=flights_final_test.drop(['Marketer - Unique Carrier Code', 'Operator - Unique Carrier Code', 'Tail Number', 'Flight Number', 'Aircraft group', 'Aircraft type', 'Aircraft configuration', 'Service class', 'Distance (miles)', 'Origin Airport (IATA Code)', 'Airport Type_origin', 'Scheduled Departure Time (local time)', 'Destination Airport (IATA Code)', 'Airport Type_destination', 'Scheduled Arrival Time (local time)', 'Departure Delay (minutes)', 'Arrival Delay (minutes)', 'Carrier Delay (minutes)', 'Weather Delay (minutes)', 'National Air System Delay (minutes)', 'Security Delay (minutes)', 'Late Aircraft Delay (minutes)', 'cancelled', 'cancellation_code', 'diverted'], axis=1)\n",
    "X=X.fillna(0)\n",
    "\n",
    "# convert to numpy array\n",
    "X=X.values\n",
    "\n",
    "# make predictions for test data\n",
    "y_pred = model.predict(X)"
   ]
  },
  {
   "cell_type": "markdown",
   "id": "dcbb6ac4-be61-40a1-b309-a725116afcd6",
   "metadata": {
    "tags": []
   },
   "source": [
    "### Export Final_Test Results to CSV"
   ]
  },
  {
   "cell_type": "code",
   "execution_count": 26,
   "id": "8e31e816-013a-4201-8b9b-5c27cbefbf70",
   "metadata": {},
   "outputs": [],
   "source": [
    "# output y pred into a dataframe\n",
    "y_pred_df=pd.DataFrame(y_pred)\n",
    "\n",
    "# Rename the columns\n",
    "y_pred_df.columns=['predicted_delay']\n",
    "\n",
    "# Now, we have to format y_pred_df to match the format of the sample submission file\n",
    "## Produce the missing columns\n",
    "flights_test['fl_date'] = flights_test['Flight Year'].astype(str) + '-' + flights_test['Flight Month'].astype(str).str.zfill(2) + '-' + flights_test['Flight Day'].astype(str).str.zfill(2)\n",
    "flights_test['mkt_carrier'] = flights_test['Marketer - Unique Carrier Code']\n",
    "flights_test['mkt_carrier_fl_num'] = flights_test['Flight Number']\n",
    "flights_test['origin'] = flights_test['Origin Airport (IATA Code)']\n",
    "flights_test['dest'] = flights_test['Destination Airport (IATA Code)']\n",
    "\n",
    "## Add these columns to y_pred_df\n",
    "y_pred_df['fl_date'] = flights_test['fl_date']\n",
    "y_pred_df['mkt_carrier'] = flights_test['mkt_carrier']\n",
    "y_pred_df['mkt_carrier_fl_num'] = flights_test['mkt_carrier_fl_num']\n",
    "y_pred_df['origin'] = flights_test['origin']\n",
    "y_pred_df['dest'] = flights_test['dest']\n",
    "\n",
    "## Reorder the columns to match the sample submission file\n",
    "y_pred_df = y_pred_df[['fl_date', 'mkt_carrier', 'mkt_carrier_fl_num', 'origin', 'dest', 'predicted_delay']]\n",
    "\n",
    "# Export to csv\n",
    "y_pred_df.to_csv('../../output/XGBoostReg.csv', index=False)"
   ]
  },
  {
   "cell_type": "markdown",
   "id": "48c7e33e-a1ad-4cb3-9574-36827ad4968b",
   "metadata": {
    "jp-MarkdownHeadingCollapsed": true,
    "tags": []
   },
   "source": [
    "## OLS - Error at training"
   ]
  },
  {
   "cell_type": "markdown",
   "id": "6be58ff1-7d77-48fa-a76a-f5f0df13de9a",
   "metadata": {
    "tags": []
   },
   "source": [
    "### Train Model"
   ]
  },
  {
   "cell_type": "code",
   "execution_count": 37,
   "id": "7e7d7e5c-a937-42d1-92f5-b704cdf6d537",
   "metadata": {},
   "outputs": [
    {
     "name": "stderr",
     "output_type": "stream",
     "text": [
      "C:\\Users\\987\\anaconda3\\envs\\main_ide\\lib\\site-packages\\statsmodels\\regression\\linear_model.py:317: FutureWarning: elementwise comparison failed; returning scalar instead, but in the future will perform elementwise comparison\n",
      "  if method == \"pinv\":\n",
      "C:\\Users\\987\\anaconda3\\envs\\main_ide\\lib\\site-packages\\statsmodels\\regression\\linear_model.py:332: FutureWarning: elementwise comparison failed; returning scalar instead, but in the future will perform elementwise comparison\n",
      "  elif method == \"qr\":\n"
     ]
    },
    {
     "ename": "ValueError",
     "evalue": "method has to be \"pinv\" or \"qr\"",
     "output_type": "error",
     "traceback": [
      "\u001b[1;31m---------------------------------------------------------------------------\u001b[0m",
      "\u001b[1;31mValueError\u001b[0m                                Traceback (most recent call last)",
      "Input \u001b[1;32mIn [37]\u001b[0m, in \u001b[0;36m<cell line: 20>\u001b[1;34m()\u001b[0m\n\u001b[0;32m     17\u001b[0m \u001b[38;5;28;01mimport\u001b[39;00m \u001b[38;5;21;01mstatsmodels\u001b[39;00m\u001b[38;5;21;01m.\u001b[39;00m\u001b[38;5;21;01mapi\u001b[39;00m \u001b[38;5;28;01mas\u001b[39;00m \u001b[38;5;21;01msm\u001b[39;00m\n\u001b[0;32m     19\u001b[0m model \u001b[38;5;241m=\u001b[39m sm\u001b[38;5;241m.\u001b[39mOLS\n\u001b[1;32m---> 20\u001b[0m \u001b[43mmodel\u001b[49m\u001b[38;5;241;43m.\u001b[39;49m\u001b[43mfit\u001b[49m\u001b[43m(\u001b[49m\u001b[43mX_train\u001b[49m\u001b[43m,\u001b[49m\u001b[43m \u001b[49m\u001b[43my_train\u001b[49m\u001b[43m)\u001b[49m\n\u001b[0;32m     22\u001b[0m \u001b[38;5;66;03m# make predictions for test data\u001b[39;00m\n\u001b[0;32m     23\u001b[0m y_pred \u001b[38;5;241m=\u001b[39m model\u001b[38;5;241m.\u001b[39mpredict(X_test)\n",
      "File \u001b[1;32m~\\anaconda3\\envs\\main_ide\\lib\\site-packages\\statsmodels\\regression\\linear_model.py:351\u001b[0m, in \u001b[0;36mRegressionModel.fit\u001b[1;34m(self, method, cov_type, cov_kwds, use_t, **kwargs)\u001b[0m\n\u001b[0;32m    349\u001b[0m     beta \u001b[38;5;241m=\u001b[39m np\u001b[38;5;241m.\u001b[39mlinalg\u001b[38;5;241m.\u001b[39msolve(R, effects)\n\u001b[0;32m    350\u001b[0m \u001b[38;5;28;01melse\u001b[39;00m:\n\u001b[1;32m--> 351\u001b[0m     \u001b[38;5;28;01mraise\u001b[39;00m \u001b[38;5;167;01mValueError\u001b[39;00m(\u001b[38;5;124m'\u001b[39m\u001b[38;5;124mmethod has to be \u001b[39m\u001b[38;5;124m\"\u001b[39m\u001b[38;5;124mpinv\u001b[39m\u001b[38;5;124m\"\u001b[39m\u001b[38;5;124m or \u001b[39m\u001b[38;5;124m\"\u001b[39m\u001b[38;5;124mqr\u001b[39m\u001b[38;5;124m\"\u001b[39m\u001b[38;5;124m'\u001b[39m)\n\u001b[0;32m    353\u001b[0m \u001b[38;5;28;01mif\u001b[39;00m \u001b[38;5;28mself\u001b[39m\u001b[38;5;241m.\u001b[39m_df_model \u001b[38;5;129;01mis\u001b[39;00m \u001b[38;5;28;01mNone\u001b[39;00m:\n\u001b[0;32m    354\u001b[0m     \u001b[38;5;28mself\u001b[39m\u001b[38;5;241m.\u001b[39m_df_model \u001b[38;5;241m=\u001b[39m \u001b[38;5;28mfloat\u001b[39m(\u001b[38;5;28mself\u001b[39m\u001b[38;5;241m.\u001b[39mrank \u001b[38;5;241m-\u001b[39m \u001b[38;5;28mself\u001b[39m\u001b[38;5;241m.\u001b[39mk_constant)\n",
      "\u001b[1;31mValueError\u001b[0m: method has to be \"pinv\" or \"qr\""
     ]
    }
   ],
   "source": [
    "# Let's set X and y to our flights_sample_train data and 'Arriaval Delay (minutes)' column\n",
    "X=flights_sample_train.drop(['Marketer - Unique Carrier Code', 'Operator - Unique Carrier Code', 'Tail Number', 'Flight Number', 'Aircraft group', 'Aircraft type', 'Aircraft configuration', 'Service class', 'Distance (miles)', 'Origin Airport (IATA Code)', 'Airport Type_origin', 'Scheduled Departure Time (local time)', 'Destination Airport (IATA Code)', 'Airport Type_destination', 'Scheduled Arrival Time (local time)', 'Departure Delay (minutes)', 'Arrival Delay (minutes)', 'Carrier Delay (minutes)', 'Weather Delay (minutes)', 'National Air System Delay (minutes)', 'Security Delay (minutes)', 'Late Aircraft Delay (minutes)', 'cancelled', 'cancellation_code', 'diverted'], axis=1)\n",
    "X=X.fillna(0)\n",
    "y=flights_sample_train['Arrival Delay (minutes)']\n",
    "y=y.fillna(0)\n",
    "\n",
    "# convert to numpy array\n",
    "X=X.values\n",
    "y=y.values\n",
    "\n",
    "# split into train and test sets\n",
    "seed = 1\n",
    "test_size = 0.8\n",
    "X_train, X_test, y_train, y_test = train_test_split(X, y, test_size=test_size, random_state=seed)\n",
    "\n",
    "# fit model to training data\n",
    "import statsmodels.api as sm\n",
    "\n",
    "model = sm.OLS\n",
    "model.fit(X_train, y_train)\n",
    "\n",
    "# make predictions for test data\n",
    "y_pred = model.predict(X_test)\n",
    "\n",
    "# evaluate predictions\n",
    "rmse = np.sqrt(mean_squared_error(y_test, y_pred))\n",
    "print(\"RMSE: %f\" % (rmse))"
   ]
  },
  {
   "cell_type": "markdown",
   "id": "19b1afc3-8b2e-4a24-9f7a-edcf4ecb5764",
   "metadata": {
    "tags": []
   },
   "source": [
    "### First Test (40K)"
   ]
  },
  {
   "cell_type": "markdown",
   "id": "99e20d9c-b05f-4895-9195-292060c77af5",
   "metadata": {
    "jp-MarkdownHeadingCollapsed": true,
    "tags": []
   },
   "source": [
    "#### Let's start by making sure both have the same columns and are in the same order"
   ]
  },
  {
   "cell_type": "code",
   "execution_count": 28,
   "id": "b7f6f0b0-7edb-4f42-98f4-9ec6c1c6bf28",
   "metadata": {},
   "outputs": [
    {
     "name": "stdout",
     "output_type": "stream",
     "text": [
      "set()\n",
      "set()\n"
     ]
    }
   ],
   "source": [
    "print(set(flights_sample_train.columns) - set(flights_sample_test.columns))\n",
    "print(set(flights_sample_test.columns) - set(flights_sample_train.columns))"
   ]
  },
  {
   "cell_type": "code",
   "execution_count": 9,
   "id": "85a84d7b-208d-4138-b124-815129df6dcb",
   "metadata": {},
   "outputs": [],
   "source": [
    "## Adding the missing column to the test\n",
    "flights_sample_test['Aircraft type2_887.0'] = 0\n",
    "\n",
    "## Not let's put our columns in the same order:\n",
    "flights_sample_test = flights_sample_test[flights_sample_train.columns]"
   ]
  },
  {
   "cell_type": "markdown",
   "id": "a791fc7e-b4d0-4675-b50d-b6d59205761e",
   "metadata": {
    "tags": []
   },
   "source": [
    "#### Now run the test"
   ]
  },
  {
   "cell_type": "code",
   "execution_count": 16,
   "id": "08d0eda2-1924-4d7d-bc91-5fbf5c6f7feb",
   "metadata": {},
   "outputs": [
    {
     "name": "stdout",
     "output_type": "stream",
     "text": [
      "RMSE: 45.989178\n"
     ]
    }
   ],
   "source": [
    "# Now let's try to predict the arrival delay for the flights_sample_test data\n",
    "X=flights_sample_test.drop(['Marketer - Unique Carrier Code', 'Operator - Unique Carrier Code', 'Tail Number', 'Flight Number', 'Aircraft group', 'Aircraft type', 'Aircraft configuration', 'Service class', 'Distance (miles)', 'Origin Airport (IATA Code)', 'Airport Type_origin', 'Scheduled Departure Time (local time)', 'Destination Airport (IATA Code)', 'Airport Type_destination', 'Scheduled Arrival Time (local time)', 'Departure Delay (minutes)', 'Arrival Delay (minutes)', 'Carrier Delay (minutes)', 'Weather Delay (minutes)', 'National Air System Delay (minutes)', 'Security Delay (minutes)', 'Late Aircraft Delay (minutes)', 'cancelled', 'cancellation_code', 'diverted'], axis=1)\n",
    "X=X.fillna(0)\n",
    "y=flights_sample_test['Arrival Delay (minutes)']\n",
    "y=y.fillna(0)\n",
    "\n",
    "# convert to numpy array\n",
    "X=X.values\n",
    "y=y.values\n",
    "\n",
    "# make predictions for test data\n",
    "y_pred = model.predict(X)\n",
    "\n",
    "# evaluate predictions\n",
    "rmse = np.sqrt(mean_squared_error(y, y_pred))\n",
    "print(\"RMSE: %f\" % (rmse))"
   ]
  },
  {
   "cell_type": "markdown",
   "id": "a0f7b74a-d67b-4843-9e93-bdeb892d5cc5",
   "metadata": {},
   "source": [
    "Well that's not good.."
   ]
  },
  {
   "cell_type": "markdown",
   "id": "3f7e1181-eb42-4b4b-9696-31c6f6400c84",
   "metadata": {
    "tags": []
   },
   "source": [
    "### Second Test (200K)"
   ]
  },
  {
   "cell_type": "markdown",
   "id": "9febef74-5408-46f9-8873-0c94a4db335d",
   "metadata": {
    "jp-MarkdownHeadingCollapsed": true,
    "tags": []
   },
   "source": [
    "#### Let's start by making sure both have the same columns and are in the same order"
   ]
  },
  {
   "cell_type": "code",
   "execution_count": 31,
   "id": "03d3987b-fa68-4dd9-89cf-fd20f67ada89",
   "metadata": {},
   "outputs": [
    {
     "name": "stdout",
     "output_type": "stream",
     "text": [
      "set()\n",
      "\n",
      "set()\n"
     ]
    }
   ],
   "source": [
    "print(set(flights_sample_train.columns) - set(flights_test.columns))\n",
    "print()\n",
    "print(set(flights_test.columns) - set(flights_sample_train.columns))"
   ]
  },
  {
   "cell_type": "code",
   "execution_count": 30,
   "id": "8b499144-d87d-4685-ac00-63d239dc958d",
   "metadata": {},
   "outputs": [],
   "source": [
    "## Add missing columns to the test (1st set)\n",
    "\n",
    "## Remove additional columns from the test (2nd set)\n",
    "#del flights_test['Aircraft type2_837.0']\n",
    "del flights_test['origin']\n",
    "del flights_test['mkt_carrier']\n",
    "del flights_test['dest']\n",
    "del flights_test['mkt_carrier_fl_num']\n",
    "del flights_test['fl_date']\n",
    "\n",
    "## Now let's put our columns in the same order:\n",
    "flights_test = flights_test[flights_sample_train.columns]"
   ]
  },
  {
   "cell_type": "markdown",
   "id": "f500f205-14ac-4aa4-aae4-f9de34efa30f",
   "metadata": {},
   "source": [
    "#### Now run the test"
   ]
  },
  {
   "cell_type": "code",
   "execution_count": 18,
   "id": "07a80650-b4a4-4cc4-b30d-c60332819b2f",
   "metadata": {},
   "outputs": [
    {
     "name": "stdout",
     "output_type": "stream",
     "text": [
      "RMSE: 48.646433\n"
     ]
    }
   ],
   "source": [
    "# Now let's try to predict the arrival delay for the flights_sample_test data\n",
    "X=flights_test.drop(['Marketer - Unique Carrier Code', 'Operator - Unique Carrier Code', 'Tail Number', 'Flight Number', 'Aircraft group', 'Aircraft type', 'Aircraft configuration', 'Service class', 'Distance (miles)', 'Origin Airport (IATA Code)', 'Airport Type_origin', 'Scheduled Departure Time (local time)', 'Destination Airport (IATA Code)', 'Airport Type_destination', 'Scheduled Arrival Time (local time)', 'Departure Delay (minutes)', 'Arrival Delay (minutes)', 'Carrier Delay (minutes)', 'Weather Delay (minutes)', 'National Air System Delay (minutes)', 'Security Delay (minutes)', 'Late Aircraft Delay (minutes)', 'cancelled', 'cancellation_code', 'diverted'], axis=1)\n",
    "X=X.fillna(0)\n",
    "y=flights_test['Arrival Delay (minutes)']\n",
    "y=y.fillna(0)\n",
    "\n",
    "# convert to numpy array\n",
    "X=X.values\n",
    "y=y.values\n",
    "\n",
    "# make predictions for test data\n",
    "y_pred = model.predict(X)\n",
    "\n",
    "# evaluate predictions\n",
    "rmse = np.sqrt(mean_squared_error(y, y_pred))\n",
    "print(\"RMSE: %f\" % (rmse))"
   ]
  },
  {
   "cell_type": "markdown",
   "id": "40ad1ba6-4577-4d92-bf82-ab14c4b3a85d",
   "metadata": {},
   "source": [
    "#### Export 2nd Test Results to CSV (Final QC)"
   ]
  },
  {
   "cell_type": "code",
   "execution_count": 19,
   "id": "8655c09c-1a66-478a-a260-67cdd443eba6",
   "metadata": {},
   "outputs": [],
   "source": [
    "# output y and y pred into a dataframe\n",
    "y_pred_df=pd.DataFrame(y_pred)\n",
    "y_test_df=pd.DataFrame(y)\n",
    "\n",
    "# merge the two dataframes\n",
    "y_pred_df['y_test']=y_test_df\n",
    "\n",
    "# rename the columns\n",
    "y_pred_df.columns=['Model Prediction', 'Actual Value']\n",
    "\n",
    "#export to csv\n",
    "y_pred_df.to_csv('../../src/modules/2nd Test Predictions/OLS.csv', index=False)"
   ]
  },
  {
   "cell_type": "markdown",
   "id": "bc0ff3bd-832f-4529-9a57-f1dc107b8bc2",
   "metadata": {
    "tags": []
   },
   "source": [
    "### Final Test (Jan2020) - Incomplete"
   ]
  },
  {
   "cell_type": "markdown",
   "id": "aaa1f49a-5a30-4c9e-8dc6-9336e9c670fa",
   "metadata": {
    "jp-MarkdownHeadingCollapsed": true,
    "tags": []
   },
   "source": [
    "#### Let's start by making sure both have the same columns and are in the same order"
   ]
  },
  {
   "cell_type": "code",
   "execution_count": 32,
   "id": "5cd52241-522b-4452-bbb5-b26d7675dfcd",
   "metadata": {},
   "outputs": [
    {
     "name": "stdout",
     "output_type": "stream",
     "text": [
      "set()\n",
      "\n",
      "set()\n"
     ]
    }
   ],
   "source": [
    "print(set(flights_sample_train.columns) - set(flights_final_test.columns))\n",
    "print()\n",
    "print(set(flights_final_test.columns) - set(flights_sample_train.columns))"
   ]
  },
  {
   "cell_type": "code",
   "execution_count": 21,
   "id": "936e7b76-41af-4262-882d-714e7ced62e9",
   "metadata": {},
   "outputs": [],
   "source": [
    "## Add missing columns to the test (1st set) ... Most of those will get dropped right after anyway.. it's really just so the arrays match\n",
    "flights_final_test['cancelled'] = 0\n",
    "flights_final_test['Weather Delay (minutes)'] = 0\n",
    "flights_final_test['Operator - Unique Carrier Code2_9K'] = 0\n",
    "flights_final_test['diverted'] = 0\n",
    "flights_final_test['Carrier Delay (minutes)'] = 0\n",
    "flights_final_test['Operator - Unique Carrier Code2_KS'] = 0\n",
    "flights_final_test['National Air System Delay (minutes)'] = 0\n",
    "flights_final_test['Operator - Unique Carrier Code2_VX'] = 0\n",
    "flights_final_test['Aircraft type2_432.0'] = 0\n",
    "flights_final_test['Security Delay (minutes)'] = 0\n",
    "flights_final_test['Departure Delay (minutes)'] = 0\n",
    "flights_final_test['cancellation_code'] = 0\n",
    "flights_final_test['Arrival Delay (minutes)'] = 0\n",
    "flights_final_test['Late Aircraft Delay (minutes)'] = 0\n",
    "\n",
    "## Remove additional columns from the test (2nd set)\n",
    "\n",
    "\n",
    "\n",
    "## Now let's put our columns in the same order:\n",
    "flights_final_test = flights_final_test[flights_sample_train.columns]"
   ]
  },
  {
   "cell_type": "markdown",
   "id": "9e928848-f178-4614-9236-c82289d5d8cf",
   "metadata": {},
   "source": [
    "#### Now run the test.. no score for this one, we're just predicting!"
   ]
  },
  {
   "cell_type": "code",
   "execution_count": 24,
   "id": "c1ae61d9-45ef-400c-b73c-dc0ad9067488",
   "metadata": {},
   "outputs": [],
   "source": [
    "# Now let's try to predict the arrival delay for the flights_sample_test data\n",
    "X=flights_final_test.drop(['Marketer - Unique Carrier Code', 'Operator - Unique Carrier Code', 'Tail Number', 'Flight Number', 'Aircraft group', 'Aircraft type', 'Aircraft configuration', 'Service class', 'Distance (miles)', 'Origin Airport (IATA Code)', 'Airport Type_origin', 'Scheduled Departure Time (local time)', 'Destination Airport (IATA Code)', 'Airport Type_destination', 'Scheduled Arrival Time (local time)', 'Departure Delay (minutes)', 'Arrival Delay (minutes)', 'Carrier Delay (minutes)', 'Weather Delay (minutes)', 'National Air System Delay (minutes)', 'Security Delay (minutes)', 'Late Aircraft Delay (minutes)', 'cancelled', 'cancellation_code', 'diverted'], axis=1)\n",
    "X=X.fillna(0)\n",
    "\n",
    "# convert to numpy array\n",
    "X=X.values\n",
    "\n",
    "# make predictions for test data\n",
    "y_pred = model.predict(X)"
   ]
  },
  {
   "cell_type": "markdown",
   "id": "2001bb03-3777-43b3-a534-99e3527e5f1c",
   "metadata": {
    "tags": []
   },
   "source": [
    "### Export Final_Test Results to CSV"
   ]
  },
  {
   "cell_type": "code",
   "execution_count": 26,
   "id": "3c3de2b9-bfc1-43ce-8c2a-0e23def6db53",
   "metadata": {},
   "outputs": [],
   "source": [
    "# output y pred into a dataframe\n",
    "y_pred_df=pd.DataFrame(y_pred)\n",
    "\n",
    "# Rename the columns\n",
    "y_pred_df.columns=['predicted_delay']\n",
    "\n",
    "# Now, we have to format y_pred_df to match the format of the sample submission file\n",
    "## Produce the missing columns\n",
    "flights_test['fl_date'] = flights_test['Flight Year'].astype(str) + '-' + flights_test['Flight Month'].astype(str).str.zfill(2) + '-' + flights_test['Flight Day'].astype(str).str.zfill(2)\n",
    "flights_test['mkt_carrier'] = flights_test['Marketer - Unique Carrier Code']\n",
    "flights_test['mkt_carrier_fl_num'] = flights_test['Flight Number']\n",
    "flights_test['origin'] = flights_test['Origin Airport (IATA Code)']\n",
    "flights_test['dest'] = flights_test['Destination Airport (IATA Code)']\n",
    "\n",
    "## Add these columns to y_pred_df\n",
    "y_pred_df['fl_date'] = flights_test['fl_date']\n",
    "y_pred_df['mkt_carrier'] = flights_test['mkt_carrier']\n",
    "y_pred_df['mkt_carrier_fl_num'] = flights_test['mkt_carrier_fl_num']\n",
    "y_pred_df['origin'] = flights_test['origin']\n",
    "y_pred_df['dest'] = flights_test['dest']\n",
    "\n",
    "## Reorder the columns to match the sample submission file\n",
    "y_pred_df = y_pred_df[['fl_date', 'mkt_carrier', 'mkt_carrier_fl_num', 'origin', 'dest', 'predicted_delay']]\n",
    "\n",
    "# Export to csv\n",
    "y_pred_df.to_csv('../../output/OLS.csv', index=False)"
   ]
  },
  {
   "cell_type": "markdown",
   "id": "489f95b6-c233-4f67-8090-d25d4a92cd27",
   "metadata": {},
   "source": [
    "##"
   ]
  }
 ],
 "metadata": {
  "kernelspec": {
   "display_name": "Python 3 (ipykernel)",
   "language": "python",
   "name": "python3"
  },
  "language_info": {
   "codemirror_mode": {
    "name": "ipython",
    "version": 3
   },
   "file_extension": ".py",
   "mimetype": "text/x-python",
   "name": "python",
   "nbconvert_exporter": "python",
   "pygments_lexer": "ipython3",
   "version": "3.9.13"
  }
 },
 "nbformat": 4,
 "nbformat_minor": 5
}
