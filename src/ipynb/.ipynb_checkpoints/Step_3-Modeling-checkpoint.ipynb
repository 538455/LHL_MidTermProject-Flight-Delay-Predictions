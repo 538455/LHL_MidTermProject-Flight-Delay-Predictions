{
 "cells": [
  {
   "cell_type": "markdown",
   "id": "48072217-c0ed-4657-9610-c3cca8d87556",
   "metadata": {
    "tags": []
   },
   "source": [
    "# Import Dataset & Librairies"
   ]
  },
  {
   "cell_type": "code",
   "execution_count": 1,
   "id": "00cd2116-e279-405d-a4e9-b48c6dabb475",
   "metadata": {},
   "outputs": [],
   "source": [
    "import pandas as pd\n",
    "import numpy as np\n",
    "import matplotlib.pyplot as plt\n",
    "import seaborn as sns"
   ]
  },
  {
   "cell_type": "code",
   "execution_count": 2,
   "id": "83386509-7db5-4433-be29-b92f9b3327b7",
   "metadata": {},
   "outputs": [
    {
     "name": "stderr",
     "output_type": "stream",
     "text": [
      "C:\\Users\\987\\AppData\\Local\\Temp\\ipykernel_6972\\1170452609.py:4: DtypeWarning: Columns (9,10,11) have mixed types. Specify dtype option on import or set low_memory=False.\n",
      "  flights_test= pd.read_csv('../../data/processed/Enriched-flights_test.csv') # Mid_term Project Test dataset\n"
     ]
    }
   ],
   "source": [
    "flights_sample_train= pd.read_csv('../../data/processed/Enriched-flights_sample_train.csv') # Used for training model\n",
    "flights_sample_test= pd.read_csv('../../data/processed/Enriched-flights_sample_test.csv') # Used for testing model\n",
    "\n",
    "flights_test= pd.read_csv('../../data/processed/Enriched-flights_test.csv') # Mid_term Project Test dataset"
   ]
  },
  {
   "cell_type": "code",
   "execution_count": 3,
   "id": "c18861fb-ba2b-4c4a-a9b0-515d0769123b",
   "metadata": {},
   "outputs": [],
   "source": [
    "#import training data\n",
    "flights_sample = pd.read_csv(\"../../data/processed/Enriched-flights_sample_train.csv\")\n",
    "trainingData = True #Switch if that's not the case"
   ]
  },
  {
   "cell_type": "markdown",
   "id": "f304c269-36de-40d5-bb80-fa41dc9d1a97",
   "metadata": {
    "jp-MarkdownHeadingCollapsed": true,
    "tags": []
   },
   "source": [
    "## Keeping relevant columns"
   ]
  },
  {
   "cell_type": "code",
   "execution_count": 4,
   "id": "00e48179-059c-4f7d-9c0c-25c5e42b2ebb",
   "metadata": {},
   "outputs": [],
   "source": [
    "numeric_cols = [2, 4, 5, 6, 7, 8, 13, 14, 15, 16, 17, 18, 19, 20, 23, 24, 25, 27, 28, 29, 30, 31, 32, 33, 34, 35, 36, 39, 40, 41, 43, 44, 45, 46, 47, 48, 49, 50, 51, 52, 53, 54, 55, 56, 57, 58, 59, 60, 61, 62, 63, 64, 65, 66, 67, 68, 69, 70, 71, 72, 73, 74, 75, 76, 77, 78, 79, 80, 81, 82, 83, 84, 85, 86, 87, 88, 89, 90, 91, 92, 93, 94, 95, 96, 97, 98, 99, 100, 101, 102, 103, 104, 105, 106, 107, 108, 109, 110, 111, 112, 113, 114, 115, 116, 117, 118, 119, 120, 121, 122, 123, 124, 125, 126, 127, 128, 129, 130, 131, 132, 133, 134, 135, 136, 137, 138, 139, 140]"
   ]
  },
  {
   "cell_type": "code",
   "execution_count": 5,
   "id": "faa62129-62a5-45d8-b534-c773bb0cb1f2",
   "metadata": {},
   "outputs": [],
   "source": [
    "flights_sample = flights_sample.iloc[:,numeric_cols]"
   ]
  },
  {
   "cell_type": "code",
   "execution_count": 6,
   "id": "efa0a109-e6fe-48e2-931c-80e4257dd56b",
   "metadata": {
    "tags": []
   },
   "outputs": [
    {
     "name": "stdout",
     "output_type": "stream",
     "text": [
      "<class 'pandas.core.frame.DataFrame'>\n",
      "RangeIndex: 150117 entries, 0 to 150116\n",
      "Data columns (total 128 columns):\n",
      " #    Column                                      Non-Null Count   Dtype  \n",
      "---   ------                                      --------------   -----  \n",
      " 0    Different Marketer & Operator Carrier Code  150117 non-null  int64  \n",
      " 1    Flight Number                               150117 non-null  int64  \n",
      " 2    Flight Year                                 150117 non-null  int64  \n",
      " 3    Flight Month                                150117 non-null  int64  \n",
      " 4    Flight Day                                  150117 non-null  int64  \n",
      " 5    Flight Weekday                              150117 non-null  int64  \n",
      " 6    Proportion of freight to the payload        150117 non-null  float64\n",
      " 7    Proportion of mail to the payload           150117 non-null  float64\n",
      " 8    Proportion of filled seats                  150116 non-null  float64\n",
      " 9    Average payload (lbs)                       150117 non-null  float64\n",
      " 10   Average number of available seats           150117 non-null  float64\n",
      " 11   Distance interval (x500mi)                  148455 non-null  float64\n",
      " 12   Distance (miles)                            150117 non-null  int64  \n",
      " 13   Scheduled Elapsed Time                      150117 non-null  int64  \n",
      " 14   Flights Count_origin                        150117 non-null  int64  \n",
      " 15   Average Flights Per Day_origin              150117 non-null  float64\n",
      " 16   Busyness Score_origin                       150117 non-null  float64\n",
      " 17   Scheduled hour of departure                 150117 non-null  int64  \n",
      " 18   Precipitation (mm)_origin                   148307 non-null  float64\n",
      " 19   Snowfall (mm)_origin                        138667 non-null  float64\n",
      " 20   Maximum Temperature (*C)_origin             144081 non-null  float64\n",
      " 21   Avg Pressure for the day (hPa)_origin       121468 non-null  float64\n",
      " 22   Avg Wind Speed (m/s)_origin                 136359 non-null  float64\n",
      " 23   Avg Humidity (%)_origin                     121684 non-null  float64\n",
      " 24   Fog_origin                                  148366 non-null  float64\n",
      " 25   Thunder_origin                              148366 non-null  float64\n",
      " 26   Smoke_or_Haze_origin                        148366 non-null  float64\n",
      " 27   Flights Count_destination                   150117 non-null  int64  \n",
      " 28   Average Flights Per Day_destination         150117 non-null  float64\n",
      " 29   Busyness Score_destination                  150117 non-null  float64\n",
      " 30   Scheduled hour of arrival                   150117 non-null  int64  \n",
      " 31   Precipitation (mm)_destination              148273 non-null  float64\n",
      " 32   Snowfall (mm)_destination                   138375 non-null  float64\n",
      " 33   Maximum Temperature (*C)_destination        143963 non-null  float64\n",
      " 34   Avg Pressure for the day (hPa)_destination  121203 non-null  float64\n",
      " 35   Avg Wind Speed (m/s)_destination            135967 non-null  float64\n",
      " 36   Avg Humidity (%)_destination                121399 non-null  float64\n",
      " 37   Fog_destination                             148344 non-null  float64\n",
      " 38   Thunder_destination                         148344 non-null  float64\n",
      " 39   Smoke_or_Haze_destination                   148344 non-null  float64\n",
      " 40   Departure Delay (minutes)                   150117 non-null  float64\n",
      " 41   Arrival Delay (minutes)                     150117 non-null  float64\n",
      " 42   Carrier Delay (minutes)                     23423 non-null   float64\n",
      " 43   Weather Delay (minutes)                     23423 non-null   float64\n",
      " 44   National Air System Delay (minutes)         23423 non-null   float64\n",
      " 45   Security Delay (minutes)                    23423 non-null   float64\n",
      " 46   Late Aircraft Delay (minutes)               23423 non-null   float64\n",
      " 47   cancelled                                   150117 non-null  int64  \n",
      " 48   cancellation_code                           0 non-null       float64\n",
      " 49   diverted                                    150117 non-null  int64  \n",
      " 50   Operator - Unique Carrier Code2_9E          150117 non-null  int64  \n",
      " 51   Operator - Unique Carrier Code2_9K          150117 non-null  int64  \n",
      " 52   Operator - Unique Carrier Code2_AA          150117 non-null  int64  \n",
      " 53   Operator - Unique Carrier Code2_AS          150117 non-null  int64  \n",
      " 54   Operator - Unique Carrier Code2_AX          150117 non-null  int64  \n",
      " 55   Operator - Unique Carrier Code2_B6          150117 non-null  int64  \n",
      " 56   Operator - Unique Carrier Code2_C5          150117 non-null  int64  \n",
      " 57   Operator - Unique Carrier Code2_CP          150117 non-null  int64  \n",
      " 58   Operator - Unique Carrier Code2_DL          150117 non-null  int64  \n",
      " 59   Operator - Unique Carrier Code2_EM          150117 non-null  int64  \n",
      " 60   Operator - Unique Carrier Code2_EV          150117 non-null  int64  \n",
      " 61   Operator - Unique Carrier Code2_F9          150117 non-null  int64  \n",
      " 62   Operator - Unique Carrier Code2_G4          150117 non-null  int64  \n",
      " 63   Operator - Unique Carrier Code2_G7          150117 non-null  int64  \n",
      " 64   Operator - Unique Carrier Code2_HA          150117 non-null  int64  \n",
      " 65   Operator - Unique Carrier Code2_KS          150117 non-null  int64  \n",
      " 66   Operator - Unique Carrier Code2_MQ          150117 non-null  int64  \n",
      " 67   Operator - Unique Carrier Code2_NK          150117 non-null  int64  \n",
      " 68   Operator - Unique Carrier Code2_OH          150117 non-null  int64  \n",
      " 69   Operator - Unique Carrier Code2_OO          150117 non-null  int64  \n",
      " 70   Operator - Unique Carrier Code2_PT          150117 non-null  int64  \n",
      " 71   Operator - Unique Carrier Code2_QX          150117 non-null  int64  \n",
      " 72   Operator - Unique Carrier Code2_UA          150117 non-null  int64  \n",
      " 73   Operator - Unique Carrier Code2_VX          150117 non-null  int64  \n",
      " 74   Operator - Unique Carrier Code2_WN          150117 non-null  int64  \n",
      " 75   Operator - Unique Carrier Code2_YV          150117 non-null  int64  \n",
      " 76   Operator - Unique Carrier Code2_YX          150117 non-null  int64  \n",
      " 77   Operator - Unique Carrier Code2_ZW          150117 non-null  int64  \n",
      " 78   Aircraft group2_4.0                         150117 non-null  int64  \n",
      " 79   Aircraft group2_6.0                         150117 non-null  int64  \n",
      " 80   Aircraft group2_UNK                         150117 non-null  int64  \n",
      " 81   Aircraft type2_432.0                        150117 non-null  int64  \n",
      " 82   Aircraft type2_441.0                        150117 non-null  int64  \n",
      " 83   Aircraft type2_482.0                        150117 non-null  int64  \n",
      " 84   Aircraft type2_530.0                        150117 non-null  int64  \n",
      " 85   Aircraft type2_608.0                        150117 non-null  int64  \n",
      " 86   Aircraft type2_612.0                        150117 non-null  int64  \n",
      " 87   Aircraft type2_614.0                        150117 non-null  int64  \n",
      " 88   Aircraft type2_622.0                        150117 non-null  int64  \n",
      " 89   Aircraft type2_623.0                        150117 non-null  int64  \n",
      " 90   Aircraft type2_624.0                        150117 non-null  int64  \n",
      " 91   Aircraft type2_626.0                        150117 non-null  int64  \n",
      " 92   Aircraft type2_627.0                        150117 non-null  int64  \n",
      " 93   Aircraft type2_629.0                        150117 non-null  int64  \n",
      " 94   Aircraft type2_631.0                        150117 non-null  int64  \n",
      " 95   Aircraft type2_634.0                        150117 non-null  int64  \n",
      " 96   Aircraft type2_638.0                        150117 non-null  int64  \n",
      " 97   Aircraft type2_655.0                        150117 non-null  int64  \n",
      " 98   Aircraft type2_656.0                        150117 non-null  int64  \n",
      " 99   Aircraft type2_673.0                        150117 non-null  int64  \n",
      " 100  Aircraft type2_675.0                        150117 non-null  int64  \n",
      " 101  Aircraft type2_676.0                        150117 non-null  int64  \n",
      " 102  Aircraft type2_677.0                        150117 non-null  int64  \n",
      " 103  Aircraft type2_678.0                        150117 non-null  int64  \n",
      " 104  Aircraft type2_687.0                        150117 non-null  int64  \n",
      " 105  Aircraft type2_694.0                        150117 non-null  int64  \n",
      " 106  Aircraft type2_696.0                        150117 non-null  int64  \n",
      " 107  Aircraft type2_698.0                        150117 non-null  int64  \n",
      " 108  Aircraft type2_699.0                        150117 non-null  int64  \n",
      " 109  Aircraft type2_721.0                        150117 non-null  int64  \n",
      " 110  Aircraft type2_722.0                        150117 non-null  int64  \n",
      " 111  Aircraft type2_723.0                        150117 non-null  int64  \n",
      " 112  Aircraft type2_887.0                        150117 non-null  int64  \n",
      " 113  Aircraft type2_888.0                        150117 non-null  int64  \n",
      " 114  Aircraft type2_UNK                          150117 non-null  int64  \n",
      " 115  Aircraft configuration2_1.0                 150117 non-null  int64  \n",
      " 116  Aircraft configuration2_2.0                 150117 non-null  int64  \n",
      " 117  Aircraft configuration2_UNK                 150117 non-null  int64  \n",
      " 118  Service class2_F                            150117 non-null  int64  \n",
      " 119  Service class2_G                            150117 non-null  int64  \n",
      " 120  Service class2_L                            150117 non-null  int64  \n",
      " 121  Service class2_UNK                          150117 non-null  int64  \n",
      " 122  Airport Type_origin2_large_airport          150117 non-null  int64  \n",
      " 123  Airport Type_origin2_medium_airport         150117 non-null  int64  \n",
      " 124  Airport Type_origin2_small_airport          150117 non-null  int64  \n",
      " 125  Airport Type_destination2_large_airport     150117 non-null  int64  \n",
      " 126  Airport Type_destination2_medium_airport    150117 non-null  int64  \n",
      " 127  Airport Type_destination2_small_airport     150117 non-null  int64  \n",
      "dtypes: float64(36), int64(92)\n",
      "memory usage: 146.6 MB\n"
     ]
    }
   ],
   "source": [
    "flights_sample.info(verbose = True, show_counts = True)"
   ]
  },
  {
   "cell_type": "code",
   "execution_count": 7,
   "id": "ae348696-85ff-437d-9378-a95c6191746a",
   "metadata": {},
   "outputs": [],
   "source": [
    "flights_sample = flights_sample.drop(labels = ['cancelled', 'cancellation_code', 'diverted'], axis=1)"
   ]
  },
  {
   "cell_type": "code",
   "execution_count": 8,
   "id": "b50f3a9c-3f22-42ba-bfbb-ad09a45f2b0b",
   "metadata": {
    "tags": []
   },
   "outputs": [
    {
     "name": "stdout",
     "output_type": "stream",
     "text": [
      "<class 'pandas.core.frame.DataFrame'>\n",
      "RangeIndex: 150117 entries, 0 to 150116\n",
      "Data columns (total 125 columns):\n",
      " #    Column                                      Non-Null Count   Dtype  \n",
      "---   ------                                      --------------   -----  \n",
      " 0    Different Marketer & Operator Carrier Code  150117 non-null  int64  \n",
      " 1    Flight Number                               150117 non-null  int64  \n",
      " 2    Flight Year                                 150117 non-null  int64  \n",
      " 3    Flight Month                                150117 non-null  int64  \n",
      " 4    Flight Day                                  150117 non-null  int64  \n",
      " 5    Flight Weekday                              150117 non-null  int64  \n",
      " 6    Proportion of freight to the payload        150117 non-null  float64\n",
      " 7    Proportion of mail to the payload           150117 non-null  float64\n",
      " 8    Proportion of filled seats                  150116 non-null  float64\n",
      " 9    Average payload (lbs)                       150117 non-null  float64\n",
      " 10   Average number of available seats           150117 non-null  float64\n",
      " 11   Distance interval (x500mi)                  148455 non-null  float64\n",
      " 12   Distance (miles)                            150117 non-null  int64  \n",
      " 13   Scheduled Elapsed Time                      150117 non-null  int64  \n",
      " 14   Flights Count_origin                        150117 non-null  int64  \n",
      " 15   Average Flights Per Day_origin              150117 non-null  float64\n",
      " 16   Busyness Score_origin                       150117 non-null  float64\n",
      " 17   Scheduled hour of departure                 150117 non-null  int64  \n",
      " 18   Precipitation (mm)_origin                   148307 non-null  float64\n",
      " 19   Snowfall (mm)_origin                        138667 non-null  float64\n",
      " 20   Maximum Temperature (*C)_origin             144081 non-null  float64\n",
      " 21   Avg Pressure for the day (hPa)_origin       121468 non-null  float64\n",
      " 22   Avg Wind Speed (m/s)_origin                 136359 non-null  float64\n",
      " 23   Avg Humidity (%)_origin                     121684 non-null  float64\n",
      " 24   Fog_origin                                  148366 non-null  float64\n",
      " 25   Thunder_origin                              148366 non-null  float64\n",
      " 26   Smoke_or_Haze_origin                        148366 non-null  float64\n",
      " 27   Flights Count_destination                   150117 non-null  int64  \n",
      " 28   Average Flights Per Day_destination         150117 non-null  float64\n",
      " 29   Busyness Score_destination                  150117 non-null  float64\n",
      " 30   Scheduled hour of arrival                   150117 non-null  int64  \n",
      " 31   Precipitation (mm)_destination              148273 non-null  float64\n",
      " 32   Snowfall (mm)_destination                   138375 non-null  float64\n",
      " 33   Maximum Temperature (*C)_destination        143963 non-null  float64\n",
      " 34   Avg Pressure for the day (hPa)_destination  121203 non-null  float64\n",
      " 35   Avg Wind Speed (m/s)_destination            135967 non-null  float64\n",
      " 36   Avg Humidity (%)_destination                121399 non-null  float64\n",
      " 37   Fog_destination                             148344 non-null  float64\n",
      " 38   Thunder_destination                         148344 non-null  float64\n",
      " 39   Smoke_or_Haze_destination                   148344 non-null  float64\n",
      " 40   Departure Delay (minutes)                   150117 non-null  float64\n",
      " 41   Arrival Delay (minutes)                     150117 non-null  float64\n",
      " 42   Carrier Delay (minutes)                     23423 non-null   float64\n",
      " 43   Weather Delay (minutes)                     23423 non-null   float64\n",
      " 44   National Air System Delay (minutes)         23423 non-null   float64\n",
      " 45   Security Delay (minutes)                    23423 non-null   float64\n",
      " 46   Late Aircraft Delay (minutes)               23423 non-null   float64\n",
      " 47   Operator - Unique Carrier Code2_9E          150117 non-null  int64  \n",
      " 48   Operator - Unique Carrier Code2_9K          150117 non-null  int64  \n",
      " 49   Operator - Unique Carrier Code2_AA          150117 non-null  int64  \n",
      " 50   Operator - Unique Carrier Code2_AS          150117 non-null  int64  \n",
      " 51   Operator - Unique Carrier Code2_AX          150117 non-null  int64  \n",
      " 52   Operator - Unique Carrier Code2_B6          150117 non-null  int64  \n",
      " 53   Operator - Unique Carrier Code2_C5          150117 non-null  int64  \n",
      " 54   Operator - Unique Carrier Code2_CP          150117 non-null  int64  \n",
      " 55   Operator - Unique Carrier Code2_DL          150117 non-null  int64  \n",
      " 56   Operator - Unique Carrier Code2_EM          150117 non-null  int64  \n",
      " 57   Operator - Unique Carrier Code2_EV          150117 non-null  int64  \n",
      " 58   Operator - Unique Carrier Code2_F9          150117 non-null  int64  \n",
      " 59   Operator - Unique Carrier Code2_G4          150117 non-null  int64  \n",
      " 60   Operator - Unique Carrier Code2_G7          150117 non-null  int64  \n",
      " 61   Operator - Unique Carrier Code2_HA          150117 non-null  int64  \n",
      " 62   Operator - Unique Carrier Code2_KS          150117 non-null  int64  \n",
      " 63   Operator - Unique Carrier Code2_MQ          150117 non-null  int64  \n",
      " 64   Operator - Unique Carrier Code2_NK          150117 non-null  int64  \n",
      " 65   Operator - Unique Carrier Code2_OH          150117 non-null  int64  \n",
      " 66   Operator - Unique Carrier Code2_OO          150117 non-null  int64  \n",
      " 67   Operator - Unique Carrier Code2_PT          150117 non-null  int64  \n",
      " 68   Operator - Unique Carrier Code2_QX          150117 non-null  int64  \n",
      " 69   Operator - Unique Carrier Code2_UA          150117 non-null  int64  \n",
      " 70   Operator - Unique Carrier Code2_VX          150117 non-null  int64  \n",
      " 71   Operator - Unique Carrier Code2_WN          150117 non-null  int64  \n",
      " 72   Operator - Unique Carrier Code2_YV          150117 non-null  int64  \n",
      " 73   Operator - Unique Carrier Code2_YX          150117 non-null  int64  \n",
      " 74   Operator - Unique Carrier Code2_ZW          150117 non-null  int64  \n",
      " 75   Aircraft group2_4.0                         150117 non-null  int64  \n",
      " 76   Aircraft group2_6.0                         150117 non-null  int64  \n",
      " 77   Aircraft group2_UNK                         150117 non-null  int64  \n",
      " 78   Aircraft type2_432.0                        150117 non-null  int64  \n",
      " 79   Aircraft type2_441.0                        150117 non-null  int64  \n",
      " 80   Aircraft type2_482.0                        150117 non-null  int64  \n",
      " 81   Aircraft type2_530.0                        150117 non-null  int64  \n",
      " 82   Aircraft type2_608.0                        150117 non-null  int64  \n",
      " 83   Aircraft type2_612.0                        150117 non-null  int64  \n",
      " 84   Aircraft type2_614.0                        150117 non-null  int64  \n",
      " 85   Aircraft type2_622.0                        150117 non-null  int64  \n",
      " 86   Aircraft type2_623.0                        150117 non-null  int64  \n",
      " 87   Aircraft type2_624.0                        150117 non-null  int64  \n",
      " 88   Aircraft type2_626.0                        150117 non-null  int64  \n",
      " 89   Aircraft type2_627.0                        150117 non-null  int64  \n",
      " 90   Aircraft type2_629.0                        150117 non-null  int64  \n",
      " 91   Aircraft type2_631.0                        150117 non-null  int64  \n",
      " 92   Aircraft type2_634.0                        150117 non-null  int64  \n",
      " 93   Aircraft type2_638.0                        150117 non-null  int64  \n",
      " 94   Aircraft type2_655.0                        150117 non-null  int64  \n",
      " 95   Aircraft type2_656.0                        150117 non-null  int64  \n",
      " 96   Aircraft type2_673.0                        150117 non-null  int64  \n",
      " 97   Aircraft type2_675.0                        150117 non-null  int64  \n",
      " 98   Aircraft type2_676.0                        150117 non-null  int64  \n",
      " 99   Aircraft type2_677.0                        150117 non-null  int64  \n",
      " 100  Aircraft type2_678.0                        150117 non-null  int64  \n",
      " 101  Aircraft type2_687.0                        150117 non-null  int64  \n",
      " 102  Aircraft type2_694.0                        150117 non-null  int64  \n",
      " 103  Aircraft type2_696.0                        150117 non-null  int64  \n",
      " 104  Aircraft type2_698.0                        150117 non-null  int64  \n",
      " 105  Aircraft type2_699.0                        150117 non-null  int64  \n",
      " 106  Aircraft type2_721.0                        150117 non-null  int64  \n",
      " 107  Aircraft type2_722.0                        150117 non-null  int64  \n",
      " 108  Aircraft type2_723.0                        150117 non-null  int64  \n",
      " 109  Aircraft type2_887.0                        150117 non-null  int64  \n",
      " 110  Aircraft type2_888.0                        150117 non-null  int64  \n",
      " 111  Aircraft type2_UNK                          150117 non-null  int64  \n",
      " 112  Aircraft configuration2_1.0                 150117 non-null  int64  \n",
      " 113  Aircraft configuration2_2.0                 150117 non-null  int64  \n",
      " 114  Aircraft configuration2_UNK                 150117 non-null  int64  \n",
      " 115  Service class2_F                            150117 non-null  int64  \n",
      " 116  Service class2_G                            150117 non-null  int64  \n",
      " 117  Service class2_L                            150117 non-null  int64  \n",
      " 118  Service class2_UNK                          150117 non-null  int64  \n",
      " 119  Airport Type_origin2_large_airport          150117 non-null  int64  \n",
      " 120  Airport Type_origin2_medium_airport         150117 non-null  int64  \n",
      " 121  Airport Type_origin2_small_airport          150117 non-null  int64  \n",
      " 122  Airport Type_destination2_large_airport     150117 non-null  int64  \n",
      " 123  Airport Type_destination2_medium_airport    150117 non-null  int64  \n",
      " 124  Airport Type_destination2_small_airport     150117 non-null  int64  \n",
      "dtypes: float64(35), int64(90)\n",
      "memory usage: 143.2 MB\n"
     ]
    }
   ],
   "source": [
    "flights_sample.info(verbose = True, show_counts = True)"
   ]
  },
  {
   "cell_type": "code",
   "execution_count": 9,
   "id": "b5500675-c5d4-4d58-9f9c-6fe7a392b36f",
   "metadata": {},
   "outputs": [],
   "source": [
    "flights_sample = flights_sample.drop(labels = ['Aircraft type2_UNK','Aircraft configuration2_UNK','Service class2_UNK'], axis=1)"
   ]
  },
  {
   "cell_type": "code",
   "execution_count": 10,
   "id": "8672bc87-423b-414a-bffd-fc6bf1d49d36",
   "metadata": {},
   "outputs": [
    {
     "name": "stdout",
     "output_type": "stream",
     "text": [
      "<class 'pandas.core.frame.DataFrame'>\n",
      "RangeIndex: 150117 entries, 0 to 150116\n",
      "Data columns (total 122 columns):\n",
      " #    Column                                      Dtype  \n",
      "---   ------                                      -----  \n",
      " 0    Different Marketer & Operator Carrier Code  int64  \n",
      " 1    Flight Number                               int64  \n",
      " 2    Flight Year                                 int64  \n",
      " 3    Flight Month                                int64  \n",
      " 4    Flight Day                                  int64  \n",
      " 5    Flight Weekday                              int64  \n",
      " 6    Proportion of freight to the payload        float64\n",
      " 7    Proportion of mail to the payload           float64\n",
      " 8    Proportion of filled seats                  float64\n",
      " 9    Average payload (lbs)                       float64\n",
      " 10   Average number of available seats           float64\n",
      " 11   Distance interval (x500mi)                  float64\n",
      " 12   Distance (miles)                            int64  \n",
      " 13   Scheduled Elapsed Time                      int64  \n",
      " 14   Flights Count_origin                        int64  \n",
      " 15   Average Flights Per Day_origin              float64\n",
      " 16   Busyness Score_origin                       float64\n",
      " 17   Scheduled hour of departure                 int64  \n",
      " 18   Precipitation (mm)_origin                   float64\n",
      " 19   Snowfall (mm)_origin                        float64\n",
      " 20   Maximum Temperature (*C)_origin             float64\n",
      " 21   Avg Pressure for the day (hPa)_origin       float64\n",
      " 22   Avg Wind Speed (m/s)_origin                 float64\n",
      " 23   Avg Humidity (%)_origin                     float64\n",
      " 24   Fog_origin                                  float64\n",
      " 25   Thunder_origin                              float64\n",
      " 26   Smoke_or_Haze_origin                        float64\n",
      " 27   Flights Count_destination                   int64  \n",
      " 28   Average Flights Per Day_destination         float64\n",
      " 29   Busyness Score_destination                  float64\n",
      " 30   Scheduled hour of arrival                   int64  \n",
      " 31   Precipitation (mm)_destination              float64\n",
      " 32   Snowfall (mm)_destination                   float64\n",
      " 33   Maximum Temperature (*C)_destination        float64\n",
      " 34   Avg Pressure for the day (hPa)_destination  float64\n",
      " 35   Avg Wind Speed (m/s)_destination            float64\n",
      " 36   Avg Humidity (%)_destination                float64\n",
      " 37   Fog_destination                             float64\n",
      " 38   Thunder_destination                         float64\n",
      " 39   Smoke_or_Haze_destination                   float64\n",
      " 40   Departure Delay (minutes)                   float64\n",
      " 41   Arrival Delay (minutes)                     float64\n",
      " 42   Carrier Delay (minutes)                     float64\n",
      " 43   Weather Delay (minutes)                     float64\n",
      " 44   National Air System Delay (minutes)         float64\n",
      " 45   Security Delay (minutes)                    float64\n",
      " 46   Late Aircraft Delay (minutes)               float64\n",
      " 47   Operator - Unique Carrier Code2_9E          int64  \n",
      " 48   Operator - Unique Carrier Code2_9K          int64  \n",
      " 49   Operator - Unique Carrier Code2_AA          int64  \n",
      " 50   Operator - Unique Carrier Code2_AS          int64  \n",
      " 51   Operator - Unique Carrier Code2_AX          int64  \n",
      " 52   Operator - Unique Carrier Code2_B6          int64  \n",
      " 53   Operator - Unique Carrier Code2_C5          int64  \n",
      " 54   Operator - Unique Carrier Code2_CP          int64  \n",
      " 55   Operator - Unique Carrier Code2_DL          int64  \n",
      " 56   Operator - Unique Carrier Code2_EM          int64  \n",
      " 57   Operator - Unique Carrier Code2_EV          int64  \n",
      " 58   Operator - Unique Carrier Code2_F9          int64  \n",
      " 59   Operator - Unique Carrier Code2_G4          int64  \n",
      " 60   Operator - Unique Carrier Code2_G7          int64  \n",
      " 61   Operator - Unique Carrier Code2_HA          int64  \n",
      " 62   Operator - Unique Carrier Code2_KS          int64  \n",
      " 63   Operator - Unique Carrier Code2_MQ          int64  \n",
      " 64   Operator - Unique Carrier Code2_NK          int64  \n",
      " 65   Operator - Unique Carrier Code2_OH          int64  \n",
      " 66   Operator - Unique Carrier Code2_OO          int64  \n",
      " 67   Operator - Unique Carrier Code2_PT          int64  \n",
      " 68   Operator - Unique Carrier Code2_QX          int64  \n",
      " 69   Operator - Unique Carrier Code2_UA          int64  \n",
      " 70   Operator - Unique Carrier Code2_VX          int64  \n",
      " 71   Operator - Unique Carrier Code2_WN          int64  \n",
      " 72   Operator - Unique Carrier Code2_YV          int64  \n",
      " 73   Operator - Unique Carrier Code2_YX          int64  \n",
      " 74   Operator - Unique Carrier Code2_ZW          int64  \n",
      " 75   Aircraft group2_4.0                         int64  \n",
      " 76   Aircraft group2_6.0                         int64  \n",
      " 77   Aircraft group2_UNK                         int64  \n",
      " 78   Aircraft type2_432.0                        int64  \n",
      " 79   Aircraft type2_441.0                        int64  \n",
      " 80   Aircraft type2_482.0                        int64  \n",
      " 81   Aircraft type2_530.0                        int64  \n",
      " 82   Aircraft type2_608.0                        int64  \n",
      " 83   Aircraft type2_612.0                        int64  \n",
      " 84   Aircraft type2_614.0                        int64  \n",
      " 85   Aircraft type2_622.0                        int64  \n",
      " 86   Aircraft type2_623.0                        int64  \n",
      " 87   Aircraft type2_624.0                        int64  \n",
      " 88   Aircraft type2_626.0                        int64  \n",
      " 89   Aircraft type2_627.0                        int64  \n",
      " 90   Aircraft type2_629.0                        int64  \n",
      " 91   Aircraft type2_631.0                        int64  \n",
      " 92   Aircraft type2_634.0                        int64  \n",
      " 93   Aircraft type2_638.0                        int64  \n",
      " 94   Aircraft type2_655.0                        int64  \n",
      " 95   Aircraft type2_656.0                        int64  \n",
      " 96   Aircraft type2_673.0                        int64  \n",
      " 97   Aircraft type2_675.0                        int64  \n",
      " 98   Aircraft type2_676.0                        int64  \n",
      " 99   Aircraft type2_677.0                        int64  \n",
      " 100  Aircraft type2_678.0                        int64  \n",
      " 101  Aircraft type2_687.0                        int64  \n",
      " 102  Aircraft type2_694.0                        int64  \n",
      " 103  Aircraft type2_696.0                        int64  \n",
      " 104  Aircraft type2_698.0                        int64  \n",
      " 105  Aircraft type2_699.0                        int64  \n",
      " 106  Aircraft type2_721.0                        int64  \n",
      " 107  Aircraft type2_722.0                        int64  \n",
      " 108  Aircraft type2_723.0                        int64  \n",
      " 109  Aircraft type2_887.0                        int64  \n",
      " 110  Aircraft type2_888.0                        int64  \n",
      " 111  Aircraft configuration2_1.0                 int64  \n",
      " 112  Aircraft configuration2_2.0                 int64  \n",
      " 113  Service class2_F                            int64  \n",
      " 114  Service class2_G                            int64  \n",
      " 115  Service class2_L                            int64  \n",
      " 116  Airport Type_origin2_large_airport          int64  \n",
      " 117  Airport Type_origin2_medium_airport         int64  \n",
      " 118  Airport Type_origin2_small_airport          int64  \n",
      " 119  Airport Type_destination2_large_airport     int64  \n",
      " 120  Airport Type_destination2_medium_airport    int64  \n",
      " 121  Airport Type_destination2_small_airport     int64  \n",
      "dtypes: float64(35), int64(87)\n",
      "memory usage: 139.7 MB\n"
     ]
    }
   ],
   "source": [
    "flights_sample.info(verbose = True)"
   ]
  },
  {
   "cell_type": "markdown",
   "id": "3bad040d-cca9-4751-a131-1ab8cc76dd95",
   "metadata": {
    "jp-MarkdownHeadingCollapsed": true,
    "tags": []
   },
   "source": [
    "## Drop?"
   ]
  },
  {
   "cell_type": "raw",
   "id": "638da84b-1203-491b-aacf-ff1137a478c5",
   "metadata": {},
   "source": [
    "correlations = flights_sample.corr()"
   ]
  },
  {
   "cell_type": "raw",
   "id": "fb39c7b9-1f42-4ef0-b891-becbff28bb35",
   "metadata": {},
   "source": [
    "correlations.head(2)"
   ]
  },
  {
   "cell_type": "raw",
   "id": "57c4de0f-ac21-468d-888f-6620cea88a42",
   "metadata": {},
   "source": [
    "correlations.shape"
   ]
  },
  {
   "cell_type": "raw",
   "id": "f06f6947-8173-44de-95d1-7bbd20cd1dd3",
   "metadata": {
    "tags": []
   },
   "source": [
    "correlations.to_csv('../../data/processed/flights_sample_corr_matrix.csv')"
   ]
  },
  {
   "cell_type": "markdown",
   "id": "64dc6528-6702-4789-b1ce-2b47d95cfc69",
   "metadata": {
    "tags": []
   },
   "source": [
    "# Machine Learning Models"
   ]
  },
  {
   "cell_type": "markdown",
   "id": "af2713a2-50ab-4873-9e17-d9031d98989d",
   "metadata": {},
   "source": [
    "## Preparation"
   ]
  },
  {
   "cell_type": "code",
   "execution_count": 11,
   "id": "5f744abb-d551-47ee-8401-7dfd2f1241b0",
   "metadata": {},
   "outputs": [],
   "source": [
    "# !pip install xgboost"
   ]
  },
  {
   "cell_type": "code",
   "execution_count": 12,
   "id": "6c5793db-b0af-4d43-9d78-bacd483719bb",
   "metadata": {},
   "outputs": [],
   "source": [
    "#import packages\n",
    "from sklearn.linear_model import LinearRegression, Ridge, Lasso\n",
    "from sklearn.preprocessing import PolynomialFeatures\n",
    "import xgboost as xgb"
   ]
  },
  {
   "cell_type": "code",
   "execution_count": 13,
   "id": "deba0285-2acc-4208-87a4-4186b3c847d9",
   "metadata": {},
   "outputs": [],
   "source": [
    "flights_sample_no_nulls = flights_sample.dropna()"
   ]
  },
  {
   "cell_type": "code",
   "execution_count": 14,
   "id": "45504d54-56e0-440e-996b-70fdeb605e33",
   "metadata": {},
   "outputs": [],
   "source": [
    "flights_sample_no_nulls_cols = flights_sample.dropna(axis=1)"
   ]
  },
  {
   "cell_type": "code",
   "execution_count": 15,
   "id": "196df3c1-9594-4340-852e-ab3bb87b4c22",
   "metadata": {
    "tags": []
   },
   "outputs": [
    {
     "name": "stdout",
     "output_type": "stream",
     "text": [
      "<class 'pandas.core.frame.DataFrame'>\n",
      "RangeIndex: 150117 entries, 0 to 150116\n",
      "Data columns (total 97 columns):\n",
      " #   Column                                      Non-Null Count   Dtype  \n",
      "---  ------                                      --------------   -----  \n",
      " 0   Different Marketer & Operator Carrier Code  150117 non-null  int64  \n",
      " 1   Flight Number                               150117 non-null  int64  \n",
      " 2   Flight Year                                 150117 non-null  int64  \n",
      " 3   Flight Month                                150117 non-null  int64  \n",
      " 4   Flight Day                                  150117 non-null  int64  \n",
      " 5   Flight Weekday                              150117 non-null  int64  \n",
      " 6   Proportion of freight to the payload        150117 non-null  float64\n",
      " 7   Proportion of mail to the payload           150117 non-null  float64\n",
      " 8   Average payload (lbs)                       150117 non-null  float64\n",
      " 9   Average number of available seats           150117 non-null  float64\n",
      " 10  Distance (miles)                            150117 non-null  int64  \n",
      " 11  Scheduled Elapsed Time                      150117 non-null  int64  \n",
      " 12  Flights Count_origin                        150117 non-null  int64  \n",
      " 13  Average Flights Per Day_origin              150117 non-null  float64\n",
      " 14  Busyness Score_origin                       150117 non-null  float64\n",
      " 15  Scheduled hour of departure                 150117 non-null  int64  \n",
      " 16  Flights Count_destination                   150117 non-null  int64  \n",
      " 17  Average Flights Per Day_destination         150117 non-null  float64\n",
      " 18  Busyness Score_destination                  150117 non-null  float64\n",
      " 19  Scheduled hour of arrival                   150117 non-null  int64  \n",
      " 20  Departure Delay (minutes)                   150117 non-null  float64\n",
      " 21  Arrival Delay (minutes)                     150117 non-null  float64\n",
      " 22  Operator - Unique Carrier Code2_9E          150117 non-null  int64  \n",
      " 23  Operator - Unique Carrier Code2_9K          150117 non-null  int64  \n",
      " 24  Operator - Unique Carrier Code2_AA          150117 non-null  int64  \n",
      " 25  Operator - Unique Carrier Code2_AS          150117 non-null  int64  \n",
      " 26  Operator - Unique Carrier Code2_AX          150117 non-null  int64  \n",
      " 27  Operator - Unique Carrier Code2_B6          150117 non-null  int64  \n",
      " 28  Operator - Unique Carrier Code2_C5          150117 non-null  int64  \n",
      " 29  Operator - Unique Carrier Code2_CP          150117 non-null  int64  \n",
      " 30  Operator - Unique Carrier Code2_DL          150117 non-null  int64  \n",
      " 31  Operator - Unique Carrier Code2_EM          150117 non-null  int64  \n",
      " 32  Operator - Unique Carrier Code2_EV          150117 non-null  int64  \n",
      " 33  Operator - Unique Carrier Code2_F9          150117 non-null  int64  \n",
      " 34  Operator - Unique Carrier Code2_G4          150117 non-null  int64  \n",
      " 35  Operator - Unique Carrier Code2_G7          150117 non-null  int64  \n",
      " 36  Operator - Unique Carrier Code2_HA          150117 non-null  int64  \n",
      " 37  Operator - Unique Carrier Code2_KS          150117 non-null  int64  \n",
      " 38  Operator - Unique Carrier Code2_MQ          150117 non-null  int64  \n",
      " 39  Operator - Unique Carrier Code2_NK          150117 non-null  int64  \n",
      " 40  Operator - Unique Carrier Code2_OH          150117 non-null  int64  \n",
      " 41  Operator - Unique Carrier Code2_OO          150117 non-null  int64  \n",
      " 42  Operator - Unique Carrier Code2_PT          150117 non-null  int64  \n",
      " 43  Operator - Unique Carrier Code2_QX          150117 non-null  int64  \n",
      " 44  Operator - Unique Carrier Code2_UA          150117 non-null  int64  \n",
      " 45  Operator - Unique Carrier Code2_VX          150117 non-null  int64  \n",
      " 46  Operator - Unique Carrier Code2_WN          150117 non-null  int64  \n",
      " 47  Operator - Unique Carrier Code2_YV          150117 non-null  int64  \n",
      " 48  Operator - Unique Carrier Code2_YX          150117 non-null  int64  \n",
      " 49  Operator - Unique Carrier Code2_ZW          150117 non-null  int64  \n",
      " 50  Aircraft group2_4.0                         150117 non-null  int64  \n",
      " 51  Aircraft group2_6.0                         150117 non-null  int64  \n",
      " 52  Aircraft group2_UNK                         150117 non-null  int64  \n",
      " 53  Aircraft type2_432.0                        150117 non-null  int64  \n",
      " 54  Aircraft type2_441.0                        150117 non-null  int64  \n",
      " 55  Aircraft type2_482.0                        150117 non-null  int64  \n",
      " 56  Aircraft type2_530.0                        150117 non-null  int64  \n",
      " 57  Aircraft type2_608.0                        150117 non-null  int64  \n",
      " 58  Aircraft type2_612.0                        150117 non-null  int64  \n",
      " 59  Aircraft type2_614.0                        150117 non-null  int64  \n",
      " 60  Aircraft type2_622.0                        150117 non-null  int64  \n",
      " 61  Aircraft type2_623.0                        150117 non-null  int64  \n",
      " 62  Aircraft type2_624.0                        150117 non-null  int64  \n",
      " 63  Aircraft type2_626.0                        150117 non-null  int64  \n",
      " 64  Aircraft type2_627.0                        150117 non-null  int64  \n",
      " 65  Aircraft type2_629.0                        150117 non-null  int64  \n",
      " 66  Aircraft type2_631.0                        150117 non-null  int64  \n",
      " 67  Aircraft type2_634.0                        150117 non-null  int64  \n",
      " 68  Aircraft type2_638.0                        150117 non-null  int64  \n",
      " 69  Aircraft type2_655.0                        150117 non-null  int64  \n",
      " 70  Aircraft type2_656.0                        150117 non-null  int64  \n",
      " 71  Aircraft type2_673.0                        150117 non-null  int64  \n",
      " 72  Aircraft type2_675.0                        150117 non-null  int64  \n",
      " 73  Aircraft type2_676.0                        150117 non-null  int64  \n",
      " 74  Aircraft type2_677.0                        150117 non-null  int64  \n",
      " 75  Aircraft type2_678.0                        150117 non-null  int64  \n",
      " 76  Aircraft type2_687.0                        150117 non-null  int64  \n",
      " 77  Aircraft type2_694.0                        150117 non-null  int64  \n",
      " 78  Aircraft type2_696.0                        150117 non-null  int64  \n",
      " 79  Aircraft type2_698.0                        150117 non-null  int64  \n",
      " 80  Aircraft type2_699.0                        150117 non-null  int64  \n",
      " 81  Aircraft type2_721.0                        150117 non-null  int64  \n",
      " 82  Aircraft type2_722.0                        150117 non-null  int64  \n",
      " 83  Aircraft type2_723.0                        150117 non-null  int64  \n",
      " 84  Aircraft type2_887.0                        150117 non-null  int64  \n",
      " 85  Aircraft type2_888.0                        150117 non-null  int64  \n",
      " 86  Aircraft configuration2_1.0                 150117 non-null  int64  \n",
      " 87  Aircraft configuration2_2.0                 150117 non-null  int64  \n",
      " 88  Service class2_F                            150117 non-null  int64  \n",
      " 89  Service class2_G                            150117 non-null  int64  \n",
      " 90  Service class2_L                            150117 non-null  int64  \n",
      " 91  Airport Type_origin2_large_airport          150117 non-null  int64  \n",
      " 92  Airport Type_origin2_medium_airport         150117 non-null  int64  \n",
      " 93  Airport Type_origin2_small_airport          150117 non-null  int64  \n",
      " 94  Airport Type_destination2_large_airport     150117 non-null  int64  \n",
      " 95  Airport Type_destination2_medium_airport    150117 non-null  int64  \n",
      " 96  Airport Type_destination2_small_airport     150117 non-null  int64  \n",
      "dtypes: float64(10), int64(87)\n",
      "memory usage: 111.1 MB\n"
     ]
    }
   ],
   "source": [
    "flights_sample_no_nulls_cols.info(verbose = True, show_counts=True)"
   ]
  },
  {
   "cell_type": "markdown",
   "id": "43445100-03c7-440b-861a-9fb93f73db3c",
   "metadata": {},
   "source": [
    "## Setting values"
   ]
  },
  {
   "cell_type": "code",
   "execution_count": 16,
   "id": "68c1091e-c70c-40e3-be72-cce595afb2ab",
   "metadata": {
    "tags": []
   },
   "outputs": [],
   "source": [
    "# arrival delay - B_A\n",
    "#Create variables and dfs\n",
    "# B_A_X = [0, 1, 2, 3, 4, 5, 6, 7, 8, 9, 10, 11, 12, 13, 14, 15, 16, 17, 18, 19, 20, 21, 22, 23, 24, 25, 26, 27, 28, 29, 30, 31, 32, 33, 34, 35, 36, 37, 38, 39, 47, 48, 49, 50, 51, 52, 53, 54, 55, 56, 57, 58, 59, 60, 61, 62, 63, 64, 65, 66, 67, 68, 69, 70, 71, 72, 73, 74, 75, 76, 77, 78, 79, 80, 81, 82, 83, 84, 85, 86, 87, 88, 89, 90, 91, 92, 93, 94, 95, 96, 97, 98, 99, 100, 101, 102, 103, 104, 105, 106, 107, 108, 109, 110, 111, 112, 113, 114, 115, 116, 117, 118, 119, 120, 121]\n",
    "B_A_y = 19\n",
    "\n",
    "B_A_X_df = np.array(flights_sample_no_nulls_cols.drop(['Departure Delay (minutes)', 'Arrival Delay (minutes)'], axis=1))\n",
    "B_A_y_df = np.array(flights_sample_no_nulls_cols.iloc[:,B_A_y])"
   ]
  },
  {
   "cell_type": "markdown",
   "id": "9f89fae1-1247-4b96-be63-bb63286ae190",
   "metadata": {},
   "source": [
    "## Linear and Polynomial Regression Models"
   ]
  },
  {
   "cell_type": "code",
   "execution_count": 17,
   "id": "55edfd32-dbde-4e78-a4d9-48d264e73605",
   "metadata": {},
   "outputs": [
    {
     "name": "stdout",
     "output_type": "stream",
     "text": [
      "# of features used: 95\n",
      "linear regression score:  1.0\n",
      "ridge regression scores:  [0.9999999999999998, 0.9999999999999751, 0.9999999999975127, 0.9999999997513812, 0.9999999751649543]\n",
      "lasso regression scores:  [0.9999999488364414, 0.9994884460548198, 0.948846509312348, 0.7954027086655525, 0.0015652350336362586]\n"
     ]
    }
   ],
   "source": [
    "print(\"# of features used:\", B_A_X_df.shape[1])\n",
    "\n",
    "#Try Linear Regression\n",
    "B_A_model = LinearRegression()\n",
    "B_A_model.fit(B_A_X_df, B_A_y_df)\n",
    "B_A_predictions = B_A_model.predict(B_A_X_df)\n",
    "print(\"linear regression score: \", B_A_model.score(B_A_X_df, B_A_y_df))\n",
    "\n",
    "#Try Ridge Regression\n",
    "scores = []\n",
    "for alpha in [0.1, 1.0, 10.0, 100.0, 1000.0]:\n",
    "    ridge = Ridge(alpha=alpha)\n",
    "    ridge.fit(B_A_X_df, B_A_y_df)\n",
    "    y_pred = ridge.predict(B_A_X_df)\n",
    "    scores.append(ridge.score(B_A_X_df, B_A_y_df))\n",
    "print(\"ridge regression scores: \", scores)\n",
    "\n",
    "#Try Lasso Regression\n",
    "scores=[]\n",
    "for alpha in [0.01, 1.0, 10.0, 20.0, 50.0]:\n",
    "    lasso = Lasso(alpha=alpha)\n",
    "    lasso.fit(B_A_X_df, B_A_y_df)\n",
    "    lasso_pred = lasso.predict(B_A_X_df)\n",
    "    scores.append(lasso.score(B_A_X_df, B_A_y_df))\n",
    "print(\"lasso regression scores: \", scores)\n",
    "\n",
    "# #Try Polynomial Regression\n",
    "# degree = 2\n",
    "# B_A_model = PolynomialFeatures(degree=degree, include_bias=False)\n",
    "# B_A_model.fit(B_A_X_df, B_A_y_df)\n",
    "# B_A_predictions = B_A_model.predict(B_A_X_df)\n",
    "# print(\"polynomial regression score: \", B_A_model.score(B_A_X_df, B_A_y_df), \", degree: \", degree)\n",
    "# B_A_model.score(B_A_X_df, B_A_y_df)"
   ]
  },
  {
   "cell_type": "markdown",
   "id": "15c59be0-1db1-401b-9dc1-82150bbd7adb",
   "metadata": {},
   "source": [
    "## Arrival - Try XGBoost Model"
   ]
  },
  {
   "cell_type": "code",
   "execution_count": 18,
   "id": "ce0fc3ff-b3be-4b83-89a7-d990bf99ea9f",
   "metadata": {},
   "outputs": [],
   "source": [
    "from sklearn.model_selection import train_test_split\n",
    "from sklearn.metrics import mean_squared_error"
   ]
  },
  {
   "cell_type": "code",
   "execution_count": 19,
   "id": "e12c620b-fc1f-4474-ac49-33026637c8f6",
   "metadata": {},
   "outputs": [],
   "source": [
    "B_A_X = [0, 1, 2, 3, 4, 5, 6, 7, 8, 9, 10, 11, 12, 13, 14, 15, 16, 17, 18, 19, 20, 21, 22, 23, 24, 25, 26, 27, 28, 29, 30, 31, 32, 33, 34, 35, 36, 37, 38, 39, 47, 48, 49, 50, 51, 52, 53, 54, 55, 56, 57, 58, 59, 60, 61, 62, 63, 64, 65, 66, 67, 68, 69, 70, 71, 72, 73, 74, 75, 76, 77, 78, 79, 80, 81, 82, 83, 84, 85, 86, 87, 88, 89, 90, 91, 92, 93, 94, 95, 96, 97, 98, 99, 100, 101, 102, 103, 104, 105, 106, 107, 108, 109, 110, 111, 112, 113, 114, 115, 116, 117, 118, 119, 120, 121]\n",
    "B_A_y = 41\n",
    "\n",
    "B_A_X_df = flights_sample.iloc[:,B_A_X]\n",
    "B_A_y_df = flights_sample.iloc[:,B_A_y]\n"
   ]
  },
  {
   "cell_type": "code",
   "execution_count": 20,
   "id": "e0605f0a-db0f-43be-9db3-4b5110e239c1",
   "metadata": {},
   "outputs": [],
   "source": [
    "X_train, X_test, y_train, y_test = train_test_split(B_A_X_df, B_A_y_df)"
   ]
  },
  {
   "cell_type": "code",
   "execution_count": 21,
   "id": "f5b2bec7-e7f1-403a-95b2-165d868b6c9e",
   "metadata": {},
   "outputs": [
    {
     "name": "stdout",
     "output_type": "stream",
     "text": [
      "(112587, 115)\n",
      "(37530, 115)\n",
      "(112587,)\n",
      "(37530,)\n"
     ]
    }
   ],
   "source": [
    "print(X_train.shape)\n",
    "print(X_test.shape)\n",
    "print(y_train.shape)\n",
    "print(y_test.shape)"
   ]
  },
  {
   "cell_type": "code",
   "execution_count": 22,
   "id": "89f937bc-5e09-40b5-ad8f-4bce9d408f29",
   "metadata": {},
   "outputs": [
    {
     "data": {
      "text/html": [
       "<style>#sk-container-id-1 {color: black;background-color: white;}#sk-container-id-1 pre{padding: 0;}#sk-container-id-1 div.sk-toggleable {background-color: white;}#sk-container-id-1 label.sk-toggleable__label {cursor: pointer;display: block;width: 100%;margin-bottom: 0;padding: 0.3em;box-sizing: border-box;text-align: center;}#sk-container-id-1 label.sk-toggleable__label-arrow:before {content: \"▸\";float: left;margin-right: 0.25em;color: #696969;}#sk-container-id-1 label.sk-toggleable__label-arrow:hover:before {color: black;}#sk-container-id-1 div.sk-estimator:hover label.sk-toggleable__label-arrow:before {color: black;}#sk-container-id-1 div.sk-toggleable__content {max-height: 0;max-width: 0;overflow: hidden;text-align: left;background-color: #f0f8ff;}#sk-container-id-1 div.sk-toggleable__content pre {margin: 0.2em;color: black;border-radius: 0.25em;background-color: #f0f8ff;}#sk-container-id-1 input.sk-toggleable__control:checked~div.sk-toggleable__content {max-height: 200px;max-width: 100%;overflow: auto;}#sk-container-id-1 input.sk-toggleable__control:checked~label.sk-toggleable__label-arrow:before {content: \"▾\";}#sk-container-id-1 div.sk-estimator input.sk-toggleable__control:checked~label.sk-toggleable__label {background-color: #d4ebff;}#sk-container-id-1 div.sk-label input.sk-toggleable__control:checked~label.sk-toggleable__label {background-color: #d4ebff;}#sk-container-id-1 input.sk-hidden--visually {border: 0;clip: rect(1px 1px 1px 1px);clip: rect(1px, 1px, 1px, 1px);height: 1px;margin: -1px;overflow: hidden;padding: 0;position: absolute;width: 1px;}#sk-container-id-1 div.sk-estimator {font-family: monospace;background-color: #f0f8ff;border: 1px dotted black;border-radius: 0.25em;box-sizing: border-box;margin-bottom: 0.5em;}#sk-container-id-1 div.sk-estimator:hover {background-color: #d4ebff;}#sk-container-id-1 div.sk-parallel-item::after {content: \"\";width: 100%;border-bottom: 1px solid gray;flex-grow: 1;}#sk-container-id-1 div.sk-label:hover label.sk-toggleable__label {background-color: #d4ebff;}#sk-container-id-1 div.sk-serial::before {content: \"\";position: absolute;border-left: 1px solid gray;box-sizing: border-box;top: 0;bottom: 0;left: 50%;z-index: 0;}#sk-container-id-1 div.sk-serial {display: flex;flex-direction: column;align-items: center;background-color: white;padding-right: 0.2em;padding-left: 0.2em;position: relative;}#sk-container-id-1 div.sk-item {position: relative;z-index: 1;}#sk-container-id-1 div.sk-parallel {display: flex;align-items: stretch;justify-content: center;background-color: white;position: relative;}#sk-container-id-1 div.sk-item::before, #sk-container-id-1 div.sk-parallel-item::before {content: \"\";position: absolute;border-left: 1px solid gray;box-sizing: border-box;top: 0;bottom: 0;left: 50%;z-index: -1;}#sk-container-id-1 div.sk-parallel-item {display: flex;flex-direction: column;z-index: 1;position: relative;background-color: white;}#sk-container-id-1 div.sk-parallel-item:first-child::after {align-self: flex-end;width: 50%;}#sk-container-id-1 div.sk-parallel-item:last-child::after {align-self: flex-start;width: 50%;}#sk-container-id-1 div.sk-parallel-item:only-child::after {width: 0;}#sk-container-id-1 div.sk-dashed-wrapped {border: 1px dashed gray;margin: 0 0.4em 0.5em 0.4em;box-sizing: border-box;padding-bottom: 0.4em;background-color: white;}#sk-container-id-1 div.sk-label label {font-family: monospace;font-weight: bold;display: inline-block;line-height: 1.2em;}#sk-container-id-1 div.sk-label-container {text-align: center;}#sk-container-id-1 div.sk-container {/* jupyter's `normalize.less` sets `[hidden] { display: none; }` but bootstrap.min.css set `[hidden] { display: none !important; }` so we also need the `!important` here to be able to override the default hidden behavior on the sphinx rendered scikit-learn.org. See: https://github.com/scikit-learn/scikit-learn/issues/21755 */display: inline-block !important;position: relative;}#sk-container-id-1 div.sk-text-repr-fallback {display: none;}</style><div id=\"sk-container-id-1\" class=\"sk-top-container\"><div class=\"sk-text-repr-fallback\"><pre>XGBRegressor(base_score=0.5, booster=&#x27;gbtree&#x27;, callbacks=None,\n",
       "             colsample_bylevel=1, colsample_bynode=1, colsample_bytree=1,\n",
       "             early_stopping_rounds=None, enable_categorical=False,\n",
       "             eval_metric=None, feature_types=None, gamma=1, gpu_id=-1,\n",
       "             grow_policy=&#x27;depthwise&#x27;, importance_type=None,\n",
       "             interaction_constraints=&#x27;&#x27;, learning_rate=0.300000012, max_bin=256,\n",
       "             max_cat_threshold=64, max_cat_to_onehot=4, max_delta_step=0,\n",
       "             max_depth=3, max_leaves=0, min_child_weight=1, missing=nan,\n",
       "             monotone_constraints=&#x27;()&#x27;, n_estimators=100, n_jobs=0,\n",
       "             num_parallel_tree=1, predictor=&#x27;auto&#x27;, random_state=0, ...)</pre><b>In a Jupyter environment, please rerun this cell to show the HTML representation or trust the notebook. <br />On GitHub, the HTML representation is unable to render, please try loading this page with nbviewer.org.</b></div><div class=\"sk-container\" hidden><div class=\"sk-item\"><div class=\"sk-estimator sk-toggleable\"><input class=\"sk-toggleable__control sk-hidden--visually\" id=\"sk-estimator-id-1\" type=\"checkbox\" checked><label for=\"sk-estimator-id-1\" class=\"sk-toggleable__label sk-toggleable__label-arrow\">XGBRegressor</label><div class=\"sk-toggleable__content\"><pre>XGBRegressor(base_score=0.5, booster=&#x27;gbtree&#x27;, callbacks=None,\n",
       "             colsample_bylevel=1, colsample_bynode=1, colsample_bytree=1,\n",
       "             early_stopping_rounds=None, enable_categorical=False,\n",
       "             eval_metric=None, feature_types=None, gamma=1, gpu_id=-1,\n",
       "             grow_policy=&#x27;depthwise&#x27;, importance_type=None,\n",
       "             interaction_constraints=&#x27;&#x27;, learning_rate=0.300000012, max_bin=256,\n",
       "             max_cat_threshold=64, max_cat_to_onehot=4, max_delta_step=0,\n",
       "             max_depth=3, max_leaves=0, min_child_weight=1, missing=nan,\n",
       "             monotone_constraints=&#x27;()&#x27;, n_estimators=100, n_jobs=0,\n",
       "             num_parallel_tree=1, predictor=&#x27;auto&#x27;, random_state=0, ...)</pre></div></div></div></div></div>"
      ],
      "text/plain": [
       "XGBRegressor(base_score=0.5, booster='gbtree', callbacks=None,\n",
       "             colsample_bylevel=1, colsample_bynode=1, colsample_bytree=1,\n",
       "             early_stopping_rounds=None, enable_categorical=False,\n",
       "             eval_metric=None, feature_types=None, gamma=1, gpu_id=-1,\n",
       "             grow_policy='depthwise', importance_type=None,\n",
       "             interaction_constraints='', learning_rate=0.300000012, max_bin=256,\n",
       "             max_cat_threshold=64, max_cat_to_onehot=4, max_delta_step=0,\n",
       "             max_depth=3, max_leaves=0, min_child_weight=1, missing=nan,\n",
       "             monotone_constraints='()', n_estimators=100, n_jobs=0,\n",
       "             num_parallel_tree=1, predictor='auto', random_state=0, ...)"
      ]
     },
     "execution_count": 22,
     "metadata": {},
     "output_type": "execute_result"
    }
   ],
   "source": [
    "regressor = xgb.XGBRegressor(n_estimators=100, reg_lambda=1, gamma=1, max_depth=3)\n",
    "regressor.fit(X_train, y_train)"
   ]
  },
  {
   "cell_type": "code",
   "execution_count": 23,
   "id": "8140947a-98ad-4dfd-97a8-e6253f951176",
   "metadata": {},
   "outputs": [],
   "source": [
    "y_pred = regressor.predict(X_test)"
   ]
  },
  {
   "cell_type": "code",
   "execution_count": 24,
   "id": "12258f3e-7785-43b5-b6c6-4e76ebc319fa",
   "metadata": {},
   "outputs": [
    {
     "data": {
      "text/plain": [
       "416.05976296858074"
      ]
     },
     "execution_count": 24,
     "metadata": {},
     "output_type": "execute_result"
    }
   ],
   "source": [
    "mean_squared_error(y_test, y_pred)"
   ]
  },
  {
   "cell_type": "code",
   "execution_count": 25,
   "id": "6791cfd3-2c45-4876-b7c1-8b289a0f2a47",
   "metadata": {},
   "outputs": [
    {
     "name": "stderr",
     "output_type": "stream",
     "text": [
      "C:\\Users\\987\\anaconda3\\envs\\main_ide\\lib\\site-packages\\sklearn\\base.py:443: UserWarning: X has feature names, but LinearRegression was fitted without feature names\n",
      "  warnings.warn(\n"
     ]
    },
    {
     "ename": "ValueError",
     "evalue": "Input X contains NaN.\nLinearRegression does not accept missing values encoded as NaN natively. For supervised learning, you might want to consider sklearn.ensemble.HistGradientBoostingClassifier and Regressor which accept missing values encoded as NaNs natively. Alternatively, it is possible to preprocess the data, for instance by using an imputer transformer in a pipeline or drop samples with missing values. See https://scikit-learn.org/stable/modules/impute.html You can find a list of all estimators that handle NaN values at the following page: https://scikit-learn.org/stable/modules/impute.html#estimators-that-handle-nan-values",
     "output_type": "error",
     "traceback": [
      "\u001b[1;31m---------------------------------------------------------------------------\u001b[0m",
      "\u001b[1;31mValueError\u001b[0m                                Traceback (most recent call last)",
      "Input \u001b[1;32mIn [25]\u001b[0m, in \u001b[0;36m<cell line: 1>\u001b[1;34m()\u001b[0m\n\u001b[1;32m----> 1\u001b[0m \u001b[38;5;28mprint\u001b[39m(\u001b[38;5;124m\"\u001b[39m\u001b[38;5;124mtrain score:\u001b[39m\u001b[38;5;124m\"\u001b[39m, \u001b[43mB_A_model\u001b[49m\u001b[38;5;241;43m.\u001b[39;49m\u001b[43mscore\u001b[49m\u001b[43m(\u001b[49m\u001b[43mX_train\u001b[49m\u001b[43m,\u001b[49m\u001b[43m \u001b[49m\u001b[43my_train\u001b[49m\u001b[43m)\u001b[49m)\n\u001b[0;32m      2\u001b[0m \u001b[38;5;28mprint\u001b[39m(\u001b[38;5;124m\"\u001b[39m\u001b[38;5;124mtest score:\u001b[39m\u001b[38;5;124m\"\u001b[39m, B_A_model\u001b[38;5;241m.\u001b[39mscore(X_test, y_test))\n",
      "File \u001b[1;32m~\\anaconda3\\envs\\main_ide\\lib\\site-packages\\sklearn\\base.py:720\u001b[0m, in \u001b[0;36mRegressorMixin.score\u001b[1;34m(self, X, y, sample_weight)\u001b[0m\n\u001b[0;32m    678\u001b[0m \u001b[38;5;124;03m\"\"\"Return the coefficient of determination of the prediction.\u001b[39;00m\n\u001b[0;32m    679\u001b[0m \n\u001b[0;32m    680\u001b[0m \u001b[38;5;124;03mThe coefficient of determination :math:`R^2` is defined as\u001b[39;00m\n\u001b[1;32m   (...)\u001b[0m\n\u001b[0;32m    715\u001b[0m \u001b[38;5;124;03m:class:`~sklearn.multioutput.MultiOutputRegressor`).\u001b[39;00m\n\u001b[0;32m    716\u001b[0m \u001b[38;5;124;03m\"\"\"\u001b[39;00m\n\u001b[0;32m    718\u001b[0m \u001b[38;5;28;01mfrom\u001b[39;00m \u001b[38;5;21;01m.\u001b[39;00m\u001b[38;5;21;01mmetrics\u001b[39;00m \u001b[38;5;28;01mimport\u001b[39;00m r2_score\n\u001b[1;32m--> 720\u001b[0m y_pred \u001b[38;5;241m=\u001b[39m \u001b[38;5;28;43mself\u001b[39;49m\u001b[38;5;241;43m.\u001b[39;49m\u001b[43mpredict\u001b[49m\u001b[43m(\u001b[49m\u001b[43mX\u001b[49m\u001b[43m)\u001b[49m\n\u001b[0;32m    721\u001b[0m \u001b[38;5;28;01mreturn\u001b[39;00m r2_score(y, y_pred, sample_weight\u001b[38;5;241m=\u001b[39msample_weight)\n",
      "File \u001b[1;32m~\\anaconda3\\envs\\main_ide\\lib\\site-packages\\sklearn\\linear_model\\_base.py:386\u001b[0m, in \u001b[0;36mLinearModel.predict\u001b[1;34m(self, X)\u001b[0m\n\u001b[0;32m    372\u001b[0m \u001b[38;5;28;01mdef\u001b[39;00m \u001b[38;5;21mpredict\u001b[39m(\u001b[38;5;28mself\u001b[39m, X):\n\u001b[0;32m    373\u001b[0m     \u001b[38;5;124;03m\"\"\"\u001b[39;00m\n\u001b[0;32m    374\u001b[0m \u001b[38;5;124;03m    Predict using the linear model.\u001b[39;00m\n\u001b[0;32m    375\u001b[0m \n\u001b[1;32m   (...)\u001b[0m\n\u001b[0;32m    384\u001b[0m \u001b[38;5;124;03m        Returns predicted values.\u001b[39;00m\n\u001b[0;32m    385\u001b[0m \u001b[38;5;124;03m    \"\"\"\u001b[39;00m\n\u001b[1;32m--> 386\u001b[0m     \u001b[38;5;28;01mreturn\u001b[39;00m \u001b[38;5;28;43mself\u001b[39;49m\u001b[38;5;241;43m.\u001b[39;49m\u001b[43m_decision_function\u001b[49m\u001b[43m(\u001b[49m\u001b[43mX\u001b[49m\u001b[43m)\u001b[49m\n",
      "File \u001b[1;32m~\\anaconda3\\envs\\main_ide\\lib\\site-packages\\sklearn\\linear_model\\_base.py:369\u001b[0m, in \u001b[0;36mLinearModel._decision_function\u001b[1;34m(self, X)\u001b[0m\n\u001b[0;32m    366\u001b[0m \u001b[38;5;28;01mdef\u001b[39;00m \u001b[38;5;21m_decision_function\u001b[39m(\u001b[38;5;28mself\u001b[39m, X):\n\u001b[0;32m    367\u001b[0m     check_is_fitted(\u001b[38;5;28mself\u001b[39m)\n\u001b[1;32m--> 369\u001b[0m     X \u001b[38;5;241m=\u001b[39m \u001b[38;5;28;43mself\u001b[39;49m\u001b[38;5;241;43m.\u001b[39;49m\u001b[43m_validate_data\u001b[49m\u001b[43m(\u001b[49m\u001b[43mX\u001b[49m\u001b[43m,\u001b[49m\u001b[43m \u001b[49m\u001b[43maccept_sparse\u001b[49m\u001b[38;5;241;43m=\u001b[39;49m\u001b[43m[\u001b[49m\u001b[38;5;124;43m\"\u001b[39;49m\u001b[38;5;124;43mcsr\u001b[39;49m\u001b[38;5;124;43m\"\u001b[39;49m\u001b[43m,\u001b[49m\u001b[43m \u001b[49m\u001b[38;5;124;43m\"\u001b[39;49m\u001b[38;5;124;43mcsc\u001b[39;49m\u001b[38;5;124;43m\"\u001b[39;49m\u001b[43m,\u001b[49m\u001b[43m \u001b[49m\u001b[38;5;124;43m\"\u001b[39;49m\u001b[38;5;124;43mcoo\u001b[39;49m\u001b[38;5;124;43m\"\u001b[39;49m\u001b[43m]\u001b[49m\u001b[43m,\u001b[49m\u001b[43m \u001b[49m\u001b[43mreset\u001b[49m\u001b[38;5;241;43m=\u001b[39;49m\u001b[38;5;28;43;01mFalse\u001b[39;49;00m\u001b[43m)\u001b[49m\n\u001b[0;32m    370\u001b[0m     \u001b[38;5;28;01mreturn\u001b[39;00m safe_sparse_dot(X, \u001b[38;5;28mself\u001b[39m\u001b[38;5;241m.\u001b[39mcoef_\u001b[38;5;241m.\u001b[39mT, dense_output\u001b[38;5;241m=\u001b[39m\u001b[38;5;28;01mTrue\u001b[39;00m) \u001b[38;5;241m+\u001b[39m \u001b[38;5;28mself\u001b[39m\u001b[38;5;241m.\u001b[39mintercept_\n",
      "File \u001b[1;32m~\\anaconda3\\envs\\main_ide\\lib\\site-packages\\sklearn\\base.py:577\u001b[0m, in \u001b[0;36mBaseEstimator._validate_data\u001b[1;34m(self, X, y, reset, validate_separately, **check_params)\u001b[0m\n\u001b[0;32m    575\u001b[0m     \u001b[38;5;28;01mraise\u001b[39;00m \u001b[38;5;167;01mValueError\u001b[39;00m(\u001b[38;5;124m\"\u001b[39m\u001b[38;5;124mValidation should be done on X, y or both.\u001b[39m\u001b[38;5;124m\"\u001b[39m)\n\u001b[0;32m    576\u001b[0m \u001b[38;5;28;01melif\u001b[39;00m \u001b[38;5;129;01mnot\u001b[39;00m no_val_X \u001b[38;5;129;01mand\u001b[39;00m no_val_y:\n\u001b[1;32m--> 577\u001b[0m     X \u001b[38;5;241m=\u001b[39m check_array(X, input_name\u001b[38;5;241m=\u001b[39m\u001b[38;5;124m\"\u001b[39m\u001b[38;5;124mX\u001b[39m\u001b[38;5;124m\"\u001b[39m, \u001b[38;5;241m*\u001b[39m\u001b[38;5;241m*\u001b[39mcheck_params)\n\u001b[0;32m    578\u001b[0m     out \u001b[38;5;241m=\u001b[39m X\n\u001b[0;32m    579\u001b[0m \u001b[38;5;28;01melif\u001b[39;00m no_val_X \u001b[38;5;129;01mand\u001b[39;00m \u001b[38;5;129;01mnot\u001b[39;00m no_val_y:\n",
      "File \u001b[1;32m~\\anaconda3\\envs\\main_ide\\lib\\site-packages\\sklearn\\utils\\validation.py:899\u001b[0m, in \u001b[0;36mcheck_array\u001b[1;34m(array, accept_sparse, accept_large_sparse, dtype, order, copy, force_all_finite, ensure_2d, allow_nd, ensure_min_samples, ensure_min_features, estimator, input_name)\u001b[0m\n\u001b[0;32m    893\u001b[0m         \u001b[38;5;28;01mraise\u001b[39;00m \u001b[38;5;167;01mValueError\u001b[39;00m(\n\u001b[0;32m    894\u001b[0m             \u001b[38;5;124m\"\u001b[39m\u001b[38;5;124mFound array with dim \u001b[39m\u001b[38;5;132;01m%d\u001b[39;00m\u001b[38;5;124m. \u001b[39m\u001b[38;5;132;01m%s\u001b[39;00m\u001b[38;5;124m expected <= 2.\u001b[39m\u001b[38;5;124m\"\u001b[39m\n\u001b[0;32m    895\u001b[0m             \u001b[38;5;241m%\u001b[39m (array\u001b[38;5;241m.\u001b[39mndim, estimator_name)\n\u001b[0;32m    896\u001b[0m         )\n\u001b[0;32m    898\u001b[0m     \u001b[38;5;28;01mif\u001b[39;00m force_all_finite:\n\u001b[1;32m--> 899\u001b[0m         \u001b[43m_assert_all_finite\u001b[49m\u001b[43m(\u001b[49m\n\u001b[0;32m    900\u001b[0m \u001b[43m            \u001b[49m\u001b[43marray\u001b[49m\u001b[43m,\u001b[49m\n\u001b[0;32m    901\u001b[0m \u001b[43m            \u001b[49m\u001b[43minput_name\u001b[49m\u001b[38;5;241;43m=\u001b[39;49m\u001b[43minput_name\u001b[49m\u001b[43m,\u001b[49m\n\u001b[0;32m    902\u001b[0m \u001b[43m            \u001b[49m\u001b[43mestimator_name\u001b[49m\u001b[38;5;241;43m=\u001b[39;49m\u001b[43mestimator_name\u001b[49m\u001b[43m,\u001b[49m\n\u001b[0;32m    903\u001b[0m \u001b[43m            \u001b[49m\u001b[43mallow_nan\u001b[49m\u001b[38;5;241;43m=\u001b[39;49m\u001b[43mforce_all_finite\u001b[49m\u001b[43m \u001b[49m\u001b[38;5;241;43m==\u001b[39;49m\u001b[43m \u001b[49m\u001b[38;5;124;43m\"\u001b[39;49m\u001b[38;5;124;43mallow-nan\u001b[39;49m\u001b[38;5;124;43m\"\u001b[39;49m\u001b[43m,\u001b[49m\n\u001b[0;32m    904\u001b[0m \u001b[43m        \u001b[49m\u001b[43m)\u001b[49m\n\u001b[0;32m    906\u001b[0m \u001b[38;5;28;01mif\u001b[39;00m ensure_min_samples \u001b[38;5;241m>\u001b[39m \u001b[38;5;241m0\u001b[39m:\n\u001b[0;32m    907\u001b[0m     n_samples \u001b[38;5;241m=\u001b[39m _num_samples(array)\n",
      "File \u001b[1;32m~\\anaconda3\\envs\\main_ide\\lib\\site-packages\\sklearn\\utils\\validation.py:146\u001b[0m, in \u001b[0;36m_assert_all_finite\u001b[1;34m(X, allow_nan, msg_dtype, estimator_name, input_name)\u001b[0m\n\u001b[0;32m    124\u001b[0m         \u001b[38;5;28;01mif\u001b[39;00m (\n\u001b[0;32m    125\u001b[0m             \u001b[38;5;129;01mnot\u001b[39;00m allow_nan\n\u001b[0;32m    126\u001b[0m             \u001b[38;5;129;01mand\u001b[39;00m estimator_name\n\u001b[1;32m   (...)\u001b[0m\n\u001b[0;32m    130\u001b[0m             \u001b[38;5;66;03m# Improve the error message on how to handle missing values in\u001b[39;00m\n\u001b[0;32m    131\u001b[0m             \u001b[38;5;66;03m# scikit-learn.\u001b[39;00m\n\u001b[0;32m    132\u001b[0m             msg_err \u001b[38;5;241m+\u001b[39m\u001b[38;5;241m=\u001b[39m (\n\u001b[0;32m    133\u001b[0m                 \u001b[38;5;124mf\u001b[39m\u001b[38;5;124m\"\u001b[39m\u001b[38;5;130;01m\\n\u001b[39;00m\u001b[38;5;132;01m{\u001b[39;00mestimator_name\u001b[38;5;132;01m}\u001b[39;00m\u001b[38;5;124m does not accept missing values\u001b[39m\u001b[38;5;124m\"\u001b[39m\n\u001b[0;32m    134\u001b[0m                 \u001b[38;5;124m\"\u001b[39m\u001b[38;5;124m encoded as NaN natively. For supervised learning, you might want\u001b[39m\u001b[38;5;124m\"\u001b[39m\n\u001b[1;32m   (...)\u001b[0m\n\u001b[0;32m    144\u001b[0m                 \u001b[38;5;124m\"\u001b[39m\u001b[38;5;124m#estimators-that-handle-nan-values\u001b[39m\u001b[38;5;124m\"\u001b[39m\n\u001b[0;32m    145\u001b[0m             )\n\u001b[1;32m--> 146\u001b[0m         \u001b[38;5;28;01mraise\u001b[39;00m \u001b[38;5;167;01mValueError\u001b[39;00m(msg_err)\n\u001b[0;32m    148\u001b[0m \u001b[38;5;66;03m# for object dtype data, we only check for NaNs (GH-13254)\u001b[39;00m\n\u001b[0;32m    149\u001b[0m \u001b[38;5;28;01melif\u001b[39;00m X\u001b[38;5;241m.\u001b[39mdtype \u001b[38;5;241m==\u001b[39m np\u001b[38;5;241m.\u001b[39mdtype(\u001b[38;5;124m\"\u001b[39m\u001b[38;5;124mobject\u001b[39m\u001b[38;5;124m\"\u001b[39m) \u001b[38;5;129;01mand\u001b[39;00m \u001b[38;5;129;01mnot\u001b[39;00m allow_nan:\n",
      "\u001b[1;31mValueError\u001b[0m: Input X contains NaN.\nLinearRegression does not accept missing values encoded as NaN natively. For supervised learning, you might want to consider sklearn.ensemble.HistGradientBoostingClassifier and Regressor which accept missing values encoded as NaNs natively. Alternatively, it is possible to preprocess the data, for instance by using an imputer transformer in a pipeline or drop samples with missing values. See https://scikit-learn.org/stable/modules/impute.html You can find a list of all estimators that handle NaN values at the following page: https://scikit-learn.org/stable/modules/impute.html#estimators-that-handle-nan-values"
     ]
    }
   ],
   "source": [
    "print(\"train score:\", B_A_model.score(X_train, y_train))\n",
    "print(\"test score:\", B_A_model.score(X_test, y_test))"
   ]
  },
  {
   "cell_type": "markdown",
   "id": "4b4a84fe-c6ae-41d3-9054-2247ada39844",
   "metadata": {},
   "source": [
    "# Seb Test"
   ]
  },
  {
   "cell_type": "markdown",
   "id": "7dd7ab8a-47ac-4677-a0e0-bf8304431336",
   "metadata": {
    "tags": []
   },
   "source": [
    "## XGBoost Regressor"
   ]
  },
  {
   "cell_type": "markdown",
   "id": "8678f9fd-6510-4db1-9fce-213ed56a2b2e",
   "metadata": {},
   "source": [
    "### Preparation"
   ]
  },
  {
   "cell_type": "code",
   "execution_count": 26,
   "id": "d9b034b0-0336-493e-8873-4ae69d05272c",
   "metadata": {},
   "outputs": [],
   "source": [
    "flights_test= pd.read_csv('../../data/processed/Enriched-flights_BIGtest(2dec).csv') # Simulation of the test data set. Switch when ready"
   ]
  },
  {
   "cell_type": "markdown",
   "id": "03879ad7-3589-48dc-9ff5-37abb854386b",
   "metadata": {},
   "source": [
    "Let's make sure our test and training set have the same columns and are in the same order"
   ]
  },
  {
   "cell_type": "code",
   "execution_count": 27,
   "id": "80ec954f-529d-42e7-b819-2cae76520a2d",
   "metadata": {},
   "outputs": [
    {
     "name": "stdout",
     "output_type": "stream",
     "text": [
      "{'Aircraft type2_887.0'}\n",
      "set()\n"
     ]
    }
   ],
   "source": [
    "print(set(flights_sample_train.columns) - set(flights_sample_test.columns))\n",
    "print(set(flights_sample_test.columns) - set(flights_sample_train.columns))"
   ]
  },
  {
   "cell_type": "code",
   "execution_count": 28,
   "id": "5cdea90b-f875-4908-8fe9-e442877e5ffd",
   "metadata": {},
   "outputs": [],
   "source": [
    "## Adding the missing column to the test\n",
    "flights_sample_test['Aircraft type2_887.0'] = 0\n",
    "\n",
    "## Not let's put our columns in the same order:\n",
    "flights_sample_test = flights_sample_test[flights_sample_train.columns]"
   ]
  },
  {
   "cell_type": "markdown",
   "id": "7b88fca2-a949-4845-90cb-0c377984c604",
   "metadata": {},
   "source": [
    "### Train & Evaluate"
   ]
  },
  {
   "cell_type": "code",
   "execution_count": 29,
   "id": "77a0fbcd-2521-4021-8718-fbd3d61b8fa0",
   "metadata": {},
   "outputs": [
    {
     "name": "stdout",
     "output_type": "stream",
     "text": [
      "RMSE: 20.933387\n"
     ]
    }
   ],
   "source": [
    "# Let's set X and y to our flights_sample_train data and 'Arriaval Delay (minutes)' column\n",
    "X=flights_sample_train.drop(['Marketer - Unique Carrier Code', 'Operator - Unique Carrier Code', 'Tail Number', 'Flight Number', 'Aircraft group', 'Aircraft type', 'Aircraft configuration', 'Service class', 'Distance (miles)', 'Origin Airport (IATA Code)', 'Airport Type_origin', 'Scheduled Departure Time (local time)', 'Destination Airport (IATA Code)', 'Airport Type_destination', 'Scheduled Arrival Time (local time)', 'Departure Delay (minutes)', 'Arrival Delay (minutes)', 'Carrier Delay (minutes)', 'Weather Delay (minutes)', 'National Air System Delay (minutes)', 'Security Delay (minutes)', 'Late Aircraft Delay (minutes)', 'cancelled', 'cancellation_code', 'diverted'], axis=1)\n",
    "X=X.fillna(0)\n",
    "y=flights_sample_train['Arrival Delay (minutes)']\n",
    "y=y.fillna(0)\n",
    "\n",
    "# convert to numpy array\n",
    "X=X.values\n",
    "y=y.values\n",
    "\n",
    "# split into train and test sets\n",
    "seed = 1\n",
    "test_size = 0.8\n",
    "X_train, X_test, y_train, y_test = train_test_split(X, y, test_size=test_size, random_state=seed)\n",
    "\n",
    "# fit model to training data\n",
    "import xgboost as xgb\n",
    "from xgboost import XGBRegressor\n",
    "\n",
    "model = XGBRegressor()\n",
    "model.fit(X_train, y_train)\n",
    "\n",
    "# make predictions for test data\n",
    "y_pred = model.predict(X_test)\n",
    "\n",
    "# evaluate predictions\n",
    "rmse = np.sqrt(mean_squared_error(y_test, y_pred))\n",
    "print(\"RMSE: %f\" % (rmse))"
   ]
  },
  {
   "cell_type": "markdown",
   "id": "7a1772c1-7e8b-4c0b-90b6-0b1b5e8c4ced",
   "metadata": {},
   "source": [
    "### Test Model"
   ]
  },
  {
   "cell_type": "code",
   "execution_count": 30,
   "id": "10eb575f-c306-4f2d-a501-66ddb1930a7d",
   "metadata": {},
   "outputs": [
    {
     "name": "stdout",
     "output_type": "stream",
     "text": [
      "RMSE: 45.989178\n"
     ]
    }
   ],
   "source": [
    "# Now let's try to predict the arrival delay for the flights_sample_test data\n",
    "X=flights_sample_test.drop(['Marketer - Unique Carrier Code', 'Operator - Unique Carrier Code', 'Tail Number', 'Flight Number', 'Aircraft group', 'Aircraft type', 'Aircraft configuration', 'Service class', 'Distance (miles)', 'Origin Airport (IATA Code)', 'Airport Type_origin', 'Scheduled Departure Time (local time)', 'Destination Airport (IATA Code)', 'Airport Type_destination', 'Scheduled Arrival Time (local time)', 'Departure Delay (minutes)', 'Arrival Delay (minutes)', 'Carrier Delay (minutes)', 'Weather Delay (minutes)', 'National Air System Delay (minutes)', 'Security Delay (minutes)', 'Late Aircraft Delay (minutes)', 'cancelled', 'cancellation_code', 'diverted'], axis=1)\n",
    "X=X.fillna(0)\n",
    "y=flights_sample_test['Arrival Delay (minutes)']\n",
    "y=y.fillna(0)\n",
    "\n",
    "# convert to numpy array\n",
    "X=X.values\n",
    "y=y.values\n",
    "\n",
    "# make predictions for test data\n",
    "y_pred = model.predict(X)\n",
    "\n",
    "# evaluate predictions\n",
    "rmse = np.sqrt(mean_squared_error(y, y_pred))\n",
    "print(\"RMSE: %f\" % (rmse))"
   ]
  },
  {
   "cell_type": "markdown",
   "id": "7ae623af-f7cf-4193-a32b-28ae9556a630",
   "metadata": {},
   "source": [
    "# Make prediction for test"
   ]
  },
  {
   "cell_type": "markdown",
   "id": "ddfb1eb6-59bb-4833-bda2-356fab716b08",
   "metadata": {},
   "source": [
    "Let's start by seeing if we have any difference in columns"
   ]
  },
  {
   "cell_type": "code",
   "execution_count": 31,
   "id": "cdb2e6c3-62f0-458f-a894-a2fb80e6847e",
   "metadata": {},
   "outputs": [
    {
     "name": "stdout",
     "output_type": "stream",
     "text": [
      "set()\n",
      "\n",
      "{'Aircraft type2_837.0'}\n"
     ]
    }
   ],
   "source": [
    "print(set(flights_sample_train.columns) - set(flights_test.columns))\n",
    "print()\n",
    "print(set(flights_test.columns) - set(flights_sample_train.columns))"
   ]
  },
  {
   "cell_type": "code",
   "execution_count": 32,
   "id": "c3d9f4f4-fe26-409f-896f-c458e3b19bc3",
   "metadata": {},
   "outputs": [],
   "source": [
    "## Add missing columns to the test (1st set)\n",
    "\n",
    "## Remove additional columns from the test (2nd set)\n",
    "del flights_test['Aircraft type2_837.0']\n",
    "\n",
    "\n",
    "## Now let's put our columns in the same order:\n",
    "flights_sample_test = flights_sample_test[flights_sample_train.columns]"
   ]
  },
  {
   "cell_type": "code",
   "execution_count": 33,
   "id": "145ac140-5564-414b-b453-a21ad36495d7",
   "metadata": {},
   "outputs": [
    {
     "name": "stdout",
     "output_type": "stream",
     "text": [
      "RMSE: 48.646433\n"
     ]
    }
   ],
   "source": [
    "# Now let's try to predict the arrival delay for the flights_sample_test data\n",
    "X=flights_test.drop(['Marketer - Unique Carrier Code', 'Operator - Unique Carrier Code', 'Tail Number', 'Flight Number', 'Aircraft group', 'Aircraft type', 'Aircraft configuration', 'Service class', 'Distance (miles)', 'Origin Airport (IATA Code)', 'Airport Type_origin', 'Scheduled Departure Time (local time)', 'Destination Airport (IATA Code)', 'Airport Type_destination', 'Scheduled Arrival Time (local time)', 'Departure Delay (minutes)', 'Arrival Delay (minutes)', 'Carrier Delay (minutes)', 'Weather Delay (minutes)', 'National Air System Delay (minutes)', 'Security Delay (minutes)', 'Late Aircraft Delay (minutes)', 'cancelled', 'cancellation_code', 'diverted'], axis=1)\n",
    "X=X.fillna(0)\n",
    "y=flights_test['Arrival Delay (minutes)']\n",
    "y=y.fillna(0)\n",
    "\n",
    "# convert to numpy array\n",
    "X=X.values\n",
    "y=y.values\n",
    "\n",
    "# make predictions for test data\n",
    "y_pred = model.predict(X)\n",
    "\n",
    "# evaluate predictions\n",
    "rmse = np.sqrt(mean_squared_error(y, y_pred))\n",
    "print(\"RMSE: %f\" % (rmse))"
   ]
  },
  {
   "cell_type": "markdown",
   "id": "912cbdd4-af3a-46fb-9f84-a5600deb6476",
   "metadata": {},
   "source": [
    "That can't be right??"
   ]
  },
  {
   "cell_type": "markdown",
   "id": "bbc508d2-4272-46bc-9e92-f8b4ab1dd1ae",
   "metadata": {
    "tags": []
   },
   "source": [
    "## SVM"
   ]
  },
  {
   "cell_type": "markdown",
   "id": "1d6509a6-ca21-407f-ad16-32e79a0fffa3",
   "metadata": {},
   "source": [
    "### Preparation"
   ]
  },
  {
   "cell_type": "raw",
   "id": "b717ee1b-a194-46fd-83aa-1290774ddd5a",
   "metadata": {},
   "source": [
    "flights_test= pd.read_csv('../../data/processed/Enriched-flights_BIGtest(2dec).csv') # Simulation of the test data set. Switch when ready"
   ]
  },
  {
   "cell_type": "markdown",
   "id": "a56eda48-8c65-43b5-bb2a-78925547f0f3",
   "metadata": {},
   "source": [
    "Let's make sure our test and training set have the same columns and are in the same order"
   ]
  },
  {
   "cell_type": "code",
   "execution_count": 34,
   "id": "932ab400-6220-4b5a-a2be-dfc724cfea56",
   "metadata": {},
   "outputs": [
    {
     "name": "stdout",
     "output_type": "stream",
     "text": [
      "set()\n",
      "set()\n"
     ]
    }
   ],
   "source": [
    "print(set(flights_sample_train.columns) - set(flights_sample_test.columns))\n",
    "print(set(flights_sample_test.columns) - set(flights_sample_train.columns))"
   ]
  },
  {
   "cell_type": "code",
   "execution_count": 35,
   "id": "37ae6979-772f-4da8-92e1-cff49451c621",
   "metadata": {},
   "outputs": [],
   "source": [
    "## Adding the missing column to the test\n",
    "#flights_sample_test['Aircraft type2_887.0'] = 0\n",
    "\n",
    "## Not let's put our columns in the same order:\n",
    "flights_sample_test = flights_sample_test[flights_sample_train.columns]"
   ]
  },
  {
   "cell_type": "markdown",
   "id": "ea4cbfc2-af3d-47bb-8cbd-7c81f3c1b869",
   "metadata": {},
   "source": [
    "### Train & Evaluate"
   ]
  },
  {
   "cell_type": "code",
   "execution_count": null,
   "id": "7d2d8995-cb76-4f55-8c32-9296bfd541b5",
   "metadata": {},
   "outputs": [],
   "source": [
    "# Let's set X and y to our flights_sample_train data and 'Arriaval Delay (minutes)' column\n",
    "X=flights_sample_train.drop(['Marketer - Unique Carrier Code', 'Operator - Unique Carrier Code', 'Tail Number', 'Flight Number', 'Aircraft group', 'Aircraft type', 'Aircraft configuration', 'Service class', 'Distance (miles)', 'Origin Airport (IATA Code)', 'Airport Type_origin', 'Scheduled Departure Time (local time)', 'Destination Airport (IATA Code)', 'Airport Type_destination', 'Scheduled Arrival Time (local time)', 'Departure Delay (minutes)', 'Arrival Delay (minutes)', 'Carrier Delay (minutes)', 'Weather Delay (minutes)', 'National Air System Delay (minutes)', 'Security Delay (minutes)', 'Late Aircraft Delay (minutes)', 'cancelled', 'cancellation_code', 'diverted'], axis=1)\n",
    "X=X.fillna(0)\n",
    "y=flights_sample_train['Arrival Delay (minutes)']\n",
    "y=y.fillna(0)\n",
    "\n",
    "# convert to numpy array\n",
    "X=X.values\n",
    "y=y.values\n",
    "\n",
    "# split into train and test sets\n",
    "seed = 1\n",
    "test_size = 0.2\n",
    "X_train, X_test, y_train, y_test = train_test_split(X, y, test_size=test_size, random_state=seed)\n",
    "\n",
    "# fit model to training data\n",
    "import sklearn\n",
    "from sklearn import svm\n",
    "\n",
    "model = svm.SVR()\n",
    "model.fit(X_train, y_train)\n",
    "\n",
    "# make predictions for test data\n",
    "y_pred = model.predict(X_test)\n",
    "\n",
    "# evaluate predictions\n",
    "from sklearn.metrics import mean_squared_error\n",
    "from math import sqrt\n",
    "\n",
    "rms = sqrt(mean_squared_error(y_test, y_pred))\n",
    "print(rms)"
   ]
  },
  {
   "cell_type": "markdown",
   "id": "02862378-4423-4d77-a4e1-c20b1ffcbb75",
   "metadata": {},
   "source": [
    "### Test Model"
   ]
  },
  {
   "cell_type": "code",
   "execution_count": null,
   "id": "59efbfac-be53-48d6-ba8b-a05c1affbdd5",
   "metadata": {},
   "outputs": [],
   "source": [
    "# Now let's try to predict the arrival delay for the flights_sample_test data\n",
    "X=flights_sample_test.drop(['Marketer - Unique Carrier Code', 'Operator - Unique Carrier Code', 'Tail Number', 'Flight Number', 'Aircraft group', 'Aircraft type', 'Aircraft configuration', 'Service class', 'Distance (miles)', 'Origin Airport (IATA Code)', 'Airport Type_origin', 'Scheduled Departure Time (local time)', 'Destination Airport (IATA Code)', 'Airport Type_destination', 'Scheduled Arrival Time (local time)', 'Departure Delay (minutes)', 'Arrival Delay (minutes)', 'Carrier Delay (minutes)', 'Weather Delay (minutes)', 'National Air System Delay (minutes)', 'Security Delay (minutes)', 'Late Aircraft Delay (minutes)', 'cancelled', 'cancellation_code', 'diverted'], axis=1)\n",
    "X=X.fillna(0)\n",
    "y=flights_sample_test['Arrival Delay (minutes)']\n",
    "y=y.fillna(0)\n",
    "\n",
    "# convert to numpy array\n",
    "X=X.values\n",
    "y=y.values\n",
    "\n",
    "# make predictions for test data\n",
    "y_pred = model.predict(X)\n",
    "\n",
    "# evaluate predictions\n",
    "rmse = np.sqrt(mean_squared_error(y, y_pred))\n",
    "print(\"RMSE: %f\" % (rmse))"
   ]
  },
  {
   "cell_type": "markdown",
   "id": "f527adc0-6f8e-40bf-ae67-71cfda2fb74e",
   "metadata": {},
   "source": [
    "# Make prediction for test"
   ]
  },
  {
   "cell_type": "markdown",
   "id": "765075fd-3fc2-4c12-9531-10ace2232495",
   "metadata": {},
   "source": [
    "Let's start by seeing if we have any difference in columns"
   ]
  },
  {
   "cell_type": "raw",
   "id": "1c5ab42f-0796-40f1-a81d-cd7c6e7837cf",
   "metadata": {},
   "source": [
    "print(set(flights_sample_train.columns) - set(flights_test.columns))\n",
    "print()\n",
    "print(set(flights_test.columns) - set(flights_sample_train.columns))"
   ]
  },
  {
   "cell_type": "raw",
   "id": "0b9c99ff-42d5-4c9c-bf79-a5b9e32822b4",
   "metadata": {},
   "source": [
    "## Add missing columns to the test (1st set)\n",
    "\n",
    "## Remove additional columns from the test (2nd set)\n",
    "del flights_test['Aircraft type2_837.0']\n",
    "\n",
    "\n",
    "## Now let's put our columns in the same order:\n",
    "flights_sample_test = flights_sample_test[flights_sample_train.columns]"
   ]
  },
  {
   "cell_type": "code",
   "execution_count": null,
   "id": "7822955e-7d99-4e56-b8c4-7e6a4fdb5f78",
   "metadata": {},
   "outputs": [],
   "source": [
    "# Now let's try to predict the arrival delay for the flights_sample_test data\n",
    "X=flights_test.drop(['Marketer - Unique Carrier Code', 'Operator - Unique Carrier Code', 'Tail Number', 'Flight Number', 'Aircraft group', 'Aircraft type', 'Aircraft configuration', 'Service class', 'Distance (miles)', 'Origin Airport (IATA Code)', 'Airport Type_origin', 'Scheduled Departure Time (local time)', 'Destination Airport (IATA Code)', 'Airport Type_destination', 'Scheduled Arrival Time (local time)', 'Departure Delay (minutes)', 'Arrival Delay (minutes)', 'Carrier Delay (minutes)', 'Weather Delay (minutes)', 'National Air System Delay (minutes)', 'Security Delay (minutes)', 'Late Aircraft Delay (minutes)', 'cancelled', 'cancellation_code', 'diverted'], axis=1)\n",
    "X=X.fillna(0)\n",
    "y=flights_test['Arrival Delay (minutes)']\n",
    "y=y.fillna(0)\n",
    "\n",
    "# convert to numpy array\n",
    "X=X.values\n",
    "y=y.values\n",
    "\n",
    "# make predictions for test data\n",
    "y_pred = model.predict(X)\n",
    "\n",
    "# evaluate predictions\n",
    "rmse = np.sqrt(mean_squared_error(y, y_pred))\n",
    "print(\"RMSE: %f\" % (rmse))"
   ]
  },
  {
   "cell_type": "markdown",
   "id": "a4af4031-a80e-4c68-aefe-e5e11990583e",
   "metadata": {},
   "source": [
    "That can't be right??"
   ]
  },
  {
   "cell_type": "code",
   "execution_count": null,
   "id": "39b5750c-03ec-405a-b53c-2edc77a78091",
   "metadata": {},
   "outputs": [],
   "source": []
  },
  {
   "cell_type": "markdown",
   "id": "0d775f49-890b-477d-854a-8811448662d2",
   "metadata": {
    "jp-MarkdownHeadingCollapsed": true,
    "tags": []
   },
   "source": [
    "# Predict Other Delays"
   ]
  },
  {
   "cell_type": "raw",
   "id": "b043c9ff-d069-4c2a-bd70-d3cc010142de",
   "metadata": {
    "tags": []
   },
   "source": [
    "#Departure Predictions\n",
    "  \n",
    "#B_D - departure -  create variables to create dataframes to use in model. \n",
    "B_D_X = [0, 1, 2, 4, 5, 6, 7, 8, 11, 12, 13, 14, 15, 16, 17, 18, 19, 20, 21, 22, 23, 24, 25, 26, 27, 28, 29, 30, 31, 32, 33, 34, 35, 36, 37, 38, 39, 40, 48, 49, 50, 51, 52, 53, 54, 55, 56, 57, 58, 59, 60, 61, 62, 63, 64, 65, 66, 67, 68, 69, 70, 71, 72, 73, 74, 75, 76, 77, 78, 79, 80, 82, 83, 84, 85, 86, 87, 88, 89, 90, 91, 92, 93, 94, 95, 96, 97, 98, 99, 100, 101, 102, 103, 104, 105, 106, 107, 108, 109, 110, 111, 112, 113, 114, 115, 116, 117, 118, 119, 120, 121, 122, 123, 124, 125, 126, 127, 128, 129, 130, 131, 133, 134, 136, 137]\n",
    "B_D_y = 42\n",
    "\n",
    "B_D_X_df = np.array(flights_sample.iloc[:,B_D_X])\n",
    "B_D_y_df = np.array(flights_sample.iloc[:,B_D_y])    "
   ]
  },
  {
   "cell_type": "raw",
   "id": "8ae3dffb-4cd4-4a45-b703-beecf0fcb138",
   "metadata": {},
   "source": [
    "#Try Linear Regression\n",
    "B_D_model = LinearRegression()\n",
    "B_D_model.fit(B_D_X_df, B_D_y_df)\n",
    "B_D_predictions = B_D_model.predict(B_D_X_df)\n",
    "print(\"linear regression score: \", B_D_model.score(B_D_X_df, B_D_y_df))\n",
    "\n",
    "#Try Ridge Regression\n",
    "scores = []\n",
    "for alpha in [0.1, 1.0, 10.0, 100.0, 1000.0]:\n",
    "    ridge = Ridge(alpha=alpha)\n",
    "    ridge.fit(B_D_X_df, B_D_y_df)\n",
    "    y_pred = ridge.predict(B_D_X_df)\n",
    "    scores.append(ridge.score(B_D_X_df, B_D_y_df))\n",
    "print(\"ridge regression scores: \", scores)\n",
    "\n",
    "#Try Lasso Regression\n",
    "scores=[]\n",
    "for alpha in [0.01, 1.0, 10.0, 20.0, 50.0]:\n",
    "    lasso = Lasso(alpha=alpha)\n",
    "    lasso.fit(B_D_X_df, B_D_y_df)\n",
    "    lasso_pred = lasso.predict(B_D_X_df)\n",
    "    scores.append(lasso.score(B_D_X_df, B_D_y_df))\n",
    "print(\"lasso regression scores: \", scores)\n",
    "\n",
    "#Try Polynomial Regression\n",
    "degree = 3\n",
    "B_D_X_model = PolynomialFeatures(degree=degree, include_bias=False)\n",
    "B_D_model.fit(B_D_X_df, B_D_y_df)\n",
    "B_D_predictions = B_D_model.predict(B_D_X_df)\n",
    "print(\"polynomial regression score: \", B_D_model.score(B_D_X_df, B_D_y_df), \"degree: \", degree)"
   ]
  },
  {
   "cell_type": "raw",
   "id": "25481af7-cfee-40e7-ac98-61b3ca94fe5a",
   "metadata": {},
   "source": [
    "### Predict Other Delay Types"
   ]
  },
  {
   "cell_type": "raw",
   "id": "fda3884e-43ad-4df7-8261-b003245af005",
   "metadata": {
    "tags": []
   },
   "source": [
    "# carrier delay - B_C\n",
    "#Create variables and dfs\n",
    "B_C_X = [0, 1, 2, 3, 4, 5, 6, 7, 8, 9, 10, 11, 12, 13, 14, 15, 16, 17, 18, 19, 20, 21, 22, 23, 24, 25, 26, 27, 28, 29, 30, 31, 32, 33, 34, 35, 36, 37, 38, 39, 40, 48, 49, 50, 51, 52, 53, 54, 55, 56, 57, 58, 59, 60, 61, 62, 63, 64, 65, 66, 67, 68, 69, 70, 71, 72, 73, 74, 75, 76, 77, 78, 79, 80, 81, 82, 83, 84, 85, 86, 87, 88, 89, 90, 91, 92, 93, 94, 95, 96, 97, 98, 99, 100, 101, 102, 103, 104, 105, 106, 107, 108, 109, 110, 111, 112, 113, 114, 115, 116, 117, 118, 119, 120, 121, 122, 123, 124, 125, 126, 127, 128, 129, 130, 131, 132, 133, 134, 135, 136, 137]\n",
    "B_C_y = 43\n",
    "\n",
    "B_C_X_df = flights_sample.iloc[:,B_C_X]\n",
    "B_C_y_df = flights_sample.iloc[:,B_C_y]"
   ]
  },
  {
   "cell_type": "raw",
   "id": "9530e897-23b3-40cf-ba25-7f248a785d35",
   "metadata": {},
   "source": [
    "print(\"# of features used:\", B_C_X_df.shape[1])\n",
    "\n",
    "#Try Linear Regression\n",
    "B_C_model = LinearRegression()\n",
    "B_C_model.fit(B_C_X_df, B_C_y_df)\n",
    "B_C_predictions = B_C_model.predict(B_C_X_df)\n",
    "print(\"linear regression score: \", B_C_model.score(B_C_X_df, B_C_y_df))\n",
    "\n",
    "#Try Ridge Regression\n",
    "scores = []\n",
    "for alpha in [0.1, 1.0, 10.0, 100.0, 1000.0]:\n",
    "    ridge = Ridge(alpha=alpha)\n",
    "    ridge.fit(B_C_X_df, B_C_y_df)\n",
    "    y_pred = ridge.predict(B_C_X_df)\n",
    "    scores.append(ridge.score(B_C_X_df, B_C_y_df))\n",
    "print(\"ridge regression scores: \", scores)\n",
    "\n",
    "#Try Lasso Regression\n",
    "scores=[]\n",
    "for alpha in [0.01, 1.0, 10.0, 20.0, 50.0]:\n",
    "    lasso = Lasso(alpha=alpha)\n",
    "    lasso.fit(B_C_X_df, B_C_y_df)\n",
    "    lasso_pred = lasso.predict(B_C_X_df)\n",
    "    scores.append(lasso.score(B_C_X_df, B_C_y_df))\n",
    "print(\"lasso regression scores: \", scores)\n",
    "\n",
    "#Try Polynomial Regression\n",
    "degree = 2\n",
    "B_C_X_model = PolynomialFeatures(degree=degree, include_bias=False)\n",
    "B_C_model.fit(B_C_X_df, B_C_y_df)\n",
    "B_C_predictions = B_C_model.predict(B_C_X_df)\n",
    "print(\"polynomial regression score: \", B_C_model.score(B_C_X_df, B_C_y_df), \", degree: \", degree)"
   ]
  },
  {
   "cell_type": "raw",
   "id": "074e24ff-0a9e-4d54-9163-0738b55f3f32",
   "metadata": {},
   "source": [
    "# weather delay - B_W\n",
    "B_W_X = [11, 12, 13, 15, 21, 30]\n",
    "B_W_y = 44\n",
    "\n",
    "B_W_X_df = flights_sample.iloc[:,B_W_X]\n",
    "B_W_y_df = flights_sample.iloc[:,B_W_y]"
   ]
  },
  {
   "cell_type": "raw",
   "id": "8eb7df94-7461-4a14-925b-bf9884925496",
   "metadata": {},
   "source": [
    "# NAS delay - B_N\n",
    "B_N_X = [4, 5, 11, 12, 13, 14, 15, 16, 18, 21, 26, 27, 28, 29, 30, 33, 35, 39, 59, 67, 70, 75, 77, 79, 94, 132, 133]\n",
    "B_N_y = 45\n",
    "\n",
    "B_N_X_df = flights_sample.iloc[:,B_N_X]\n",
    "B_N_y_df = flights_sample.iloc[:,B_N_y]"
   ]
  },
  {
   "cell_type": "raw",
   "id": "1eccd0d7-8715-40f5-92a4-5a41d5ba330f",
   "metadata": {},
   "source": [
    "B_L_X = [4, 5, 6, 7, 11, 12, 13, 14, 15, 25, 26, 27, 28, 30, 61, 77, 88, 89, 90, 91, 94, 96, 97, 99, 114, 117, 119, 120, 123, 124, 125, 126]\n",
    "B_L_y = 47\n",
    "\n",
    "B_L_X_df = flights_sample.iloc[:,B_L_X]\n",
    "B_L_y_df = flights_sample.iloc[:,B_L_y]"
   ]
  },
  {
   "cell_type": "markdown",
   "id": "e301f8c7-92b6-401d-9c92-74f296aeffe2",
   "metadata": {},
   "source": [
    "# Export to CSV"
   ]
  },
  {
   "cell_type": "code",
   "execution_count": null,
   "id": "f3cc5b96-588d-45f9-9be1-45cf28343175",
   "metadata": {},
   "outputs": [],
   "source": [
    "# if trainingData == True:\n",
    "#     flights_sample.to_csv('../../data/processed/flights_enriched.csv',index=False) #Training\n",
    "# else:\n",
    "#     flights_sample.to_csv('../../data/processed/flights_test_enriched.csv',index=False) #Testing"
   ]
  },
  {
   "cell_type": "code",
   "execution_count": null,
   "id": "235b0304-881e-4636-8f27-540c1c5c5f97",
   "metadata": {},
   "outputs": [],
   "source": []
  }
 ],
 "metadata": {
  "kernelspec": {
   "display_name": "Python 3 (ipykernel)",
   "language": "python",
   "name": "python3"
  },
  "language_info": {
   "codemirror_mode": {
    "name": "ipython",
    "version": 3
   },
   "file_extension": ".py",
   "mimetype": "text/x-python",
   "name": "python",
   "nbconvert_exporter": "python",
   "pygments_lexer": "ipython3",
   "version": "3.9.13"
  }
 },
 "nbformat": 4,
 "nbformat_minor": 5
}
