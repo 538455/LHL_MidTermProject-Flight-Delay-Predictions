{
 "cells": [
  {
   "cell_type": "code",
   "execution_count": 35,
   "id": "3c987363-ac3f-4ef2-a4ec-5f3bc0c356fa",
   "metadata": {},
   "outputs": [],
   "source": [
    "import pandas as pd\n",
    "import numpy as np"
   ]
  },
  {
   "cell_type": "code",
   "execution_count": 36,
   "id": "734bb675-a0a8-4d8c-bb01-904dc67d8e9e",
   "metadata": {},
   "outputs": [
    {
     "data": {
      "text/html": [
       "<div>\n",
       "<style scoped>\n",
       "    .dataframe tbody tr th:only-of-type {\n",
       "        vertical-align: middle;\n",
       "    }\n",
       "\n",
       "    .dataframe tbody tr th {\n",
       "        vertical-align: top;\n",
       "    }\n",
       "\n",
       "    .dataframe thead th {\n",
       "        text-align: right;\n",
       "    }\n",
       "</style>\n",
       "<table border=\"1\" class=\"dataframe\">\n",
       "  <thead>\n",
       "    <tr style=\"text-align: right;\">\n",
       "      <th></th>\n",
       "      <th>fl_date</th>\n",
       "      <th>origin</th>\n",
       "      <th>dest</th>\n",
       "    </tr>\n",
       "  </thead>\n",
       "  <tbody>\n",
       "    <tr>\n",
       "      <th>0</th>\n",
       "      <td>2019-07-12</td>\n",
       "      <td>MSP</td>\n",
       "      <td>LSE</td>\n",
       "    </tr>\n",
       "    <tr>\n",
       "      <th>1</th>\n",
       "      <td>2019-07-12</td>\n",
       "      <td>MSP</td>\n",
       "      <td>LSE</td>\n",
       "    </tr>\n",
       "    <tr>\n",
       "      <th>2</th>\n",
       "      <td>2019-07-12</td>\n",
       "      <td>DTW</td>\n",
       "      <td>LSE</td>\n",
       "    </tr>\n",
       "    <tr>\n",
       "      <th>3</th>\n",
       "      <td>2019-07-12</td>\n",
       "      <td>LSE</td>\n",
       "      <td>DTW</td>\n",
       "    </tr>\n",
       "    <tr>\n",
       "      <th>4</th>\n",
       "      <td>2019-07-12</td>\n",
       "      <td>DTW</td>\n",
       "      <td>FWA</td>\n",
       "    </tr>\n",
       "  </tbody>\n",
       "</table>\n",
       "</div>"
      ],
      "text/plain": [
       "      fl_date origin dest\n",
       "0  2019-07-12    MSP  LSE\n",
       "1  2019-07-12    MSP  LSE\n",
       "2  2019-07-12    DTW  LSE\n",
       "3  2019-07-12    LSE  DTW\n",
       "4  2019-07-12    DTW  FWA"
      ]
     },
     "execution_count": 36,
     "metadata": {},
     "output_type": "execute_result"
    }
   ],
   "source": [
    "busyness_by_week_month = pd.read_csv('../../data/raw/date_origin_dest.csv')\n",
    "busyness_by_week_month.head()"
   ]
  },
  {
   "cell_type": "code",
   "execution_count": 37,
   "id": "bd7f0f72-5c55-40a9-b385-acd114b44b9d",
   "metadata": {},
   "outputs": [
    {
     "data": {
      "text/html": [
       "<div>\n",
       "<style scoped>\n",
       "    .dataframe tbody tr th:only-of-type {\n",
       "        vertical-align: middle;\n",
       "    }\n",
       "\n",
       "    .dataframe tbody tr th {\n",
       "        vertical-align: top;\n",
       "    }\n",
       "\n",
       "    .dataframe thead th {\n",
       "        text-align: right;\n",
       "    }\n",
       "</style>\n",
       "<table border=\"1\" class=\"dataframe\">\n",
       "  <thead>\n",
       "    <tr style=\"text-align: right;\">\n",
       "      <th></th>\n",
       "      <th>origin</th>\n",
       "      <th>dest</th>\n",
       "      <th>Flight Weekday</th>\n",
       "      <th>Flight Day</th>\n",
       "      <th>Flight Month</th>\n",
       "      <th>Flight Year</th>\n",
       "    </tr>\n",
       "  </thead>\n",
       "  <tbody>\n",
       "    <tr>\n",
       "      <th>0</th>\n",
       "      <td>MSP</td>\n",
       "      <td>LSE</td>\n",
       "      <td>4</td>\n",
       "      <td>12</td>\n",
       "      <td>7</td>\n",
       "      <td>2019</td>\n",
       "    </tr>\n",
       "    <tr>\n",
       "      <th>1</th>\n",
       "      <td>MSP</td>\n",
       "      <td>LSE</td>\n",
       "      <td>4</td>\n",
       "      <td>12</td>\n",
       "      <td>7</td>\n",
       "      <td>2019</td>\n",
       "    </tr>\n",
       "    <tr>\n",
       "      <th>2</th>\n",
       "      <td>DTW</td>\n",
       "      <td>LSE</td>\n",
       "      <td>4</td>\n",
       "      <td>12</td>\n",
       "      <td>7</td>\n",
       "      <td>2019</td>\n",
       "    </tr>\n",
       "    <tr>\n",
       "      <th>3</th>\n",
       "      <td>LSE</td>\n",
       "      <td>DTW</td>\n",
       "      <td>4</td>\n",
       "      <td>12</td>\n",
       "      <td>7</td>\n",
       "      <td>2019</td>\n",
       "    </tr>\n",
       "    <tr>\n",
       "      <th>4</th>\n",
       "      <td>DTW</td>\n",
       "      <td>FWA</td>\n",
       "      <td>4</td>\n",
       "      <td>12</td>\n",
       "      <td>7</td>\n",
       "      <td>2019</td>\n",
       "    </tr>\n",
       "  </tbody>\n",
       "</table>\n",
       "</div>"
      ],
      "text/plain": [
       "  origin dest  Flight Weekday  Flight Day  Flight Month  Flight Year\n",
       "0    MSP  LSE               4          12             7         2019\n",
       "1    MSP  LSE               4          12             7         2019\n",
       "2    DTW  LSE               4          12             7         2019\n",
       "3    LSE  DTW               4          12             7         2019\n",
       "4    DTW  FWA               4          12             7         2019"
      ]
     },
     "execution_count": 37,
     "metadata": {},
     "output_type": "execute_result"
    }
   ],
   "source": [
    "# Create a column with the day/month/year of the flight\n",
    "busyness_by_week_month['Flight Weekday'] = pd.DatetimeIndex(busyness_by_week_month['fl_date']).weekday   #0: Monday, 1:Tuesday, etc.\n",
    "busyness_by_week_month['Flight Day'] = pd.DatetimeIndex(busyness_by_week_month['fl_date']).day\n",
    "busyness_by_week_month['Flight Month'] = pd.DatetimeIndex(busyness_by_week_month['fl_date']).month\n",
    "busyness_by_week_month['Flight Year'] = pd.DatetimeIndex(busyness_by_week_month['fl_date']).year\n",
    "busyness_by_week_month = busyness_by_week_month.drop(labels = 'fl_date', axis = 1)\n",
    "busyness_by_week_month.head()"
   ]
  },
  {
   "cell_type": "markdown",
   "id": "e45ed381-5f0f-4dca-b40d-34e333bacaa9",
   "metadata": {},
   "source": [
    "## Create Busyness Scores for Departures"
   ]
  },
  {
   "cell_type": "code",
   "execution_count": 96,
   "id": "a8ec91c8-d4a0-414b-94b6-21c2bbc1a4d0",
   "metadata": {},
   "outputs": [
    {
     "data": {
      "text/html": [
       "<div>\n",
       "<style scoped>\n",
       "    .dataframe tbody tr th:only-of-type {\n",
       "        vertical-align: middle;\n",
       "    }\n",
       "\n",
       "    .dataframe tbody tr th {\n",
       "        vertical-align: top;\n",
       "    }\n",
       "\n",
       "    .dataframe thead th {\n",
       "        text-align: right;\n",
       "    }\n",
       "</style>\n",
       "<table border=\"1\" class=\"dataframe\">\n",
       "  <thead>\n",
       "    <tr style=\"text-align: right;\">\n",
       "      <th></th>\n",
       "      <th>origin</th>\n",
       "      <th>Flight Weekday</th>\n",
       "      <th>Flight Day</th>\n",
       "      <th>Flight Month</th>\n",
       "      <th>Flight Year</th>\n",
       "    </tr>\n",
       "  </thead>\n",
       "  <tbody>\n",
       "    <tr>\n",
       "      <th>0</th>\n",
       "      <td>MSP</td>\n",
       "      <td>4</td>\n",
       "      <td>12</td>\n",
       "      <td>7</td>\n",
       "      <td>2019</td>\n",
       "    </tr>\n",
       "    <tr>\n",
       "      <th>1</th>\n",
       "      <td>MSP</td>\n",
       "      <td>4</td>\n",
       "      <td>12</td>\n",
       "      <td>7</td>\n",
       "      <td>2019</td>\n",
       "    </tr>\n",
       "    <tr>\n",
       "      <th>2</th>\n",
       "      <td>DTW</td>\n",
       "      <td>4</td>\n",
       "      <td>12</td>\n",
       "      <td>7</td>\n",
       "      <td>2019</td>\n",
       "    </tr>\n",
       "    <tr>\n",
       "      <th>3</th>\n",
       "      <td>LSE</td>\n",
       "      <td>4</td>\n",
       "      <td>12</td>\n",
       "      <td>7</td>\n",
       "      <td>2019</td>\n",
       "    </tr>\n",
       "    <tr>\n",
       "      <th>4</th>\n",
       "      <td>DTW</td>\n",
       "      <td>4</td>\n",
       "      <td>12</td>\n",
       "      <td>7</td>\n",
       "      <td>2019</td>\n",
       "    </tr>\n",
       "  </tbody>\n",
       "</table>\n",
       "</div>"
      ],
      "text/plain": [
       "  origin  Flight Weekday  Flight Day  Flight Month  Flight Year\n",
       "0    MSP               4          12             7         2019\n",
       "1    MSP               4          12             7         2019\n",
       "2    DTW               4          12             7         2019\n",
       "3    LSE               4          12             7         2019\n",
       "4    DTW               4          12             7         2019"
      ]
     },
     "execution_count": 96,
     "metadata": {},
     "output_type": "execute_result"
    }
   ],
   "source": [
    "busyness_by_week_month.columns = ['origin', 'dest', 'Flight Weekday', 'Flight Day', 'Flight Month', 'Flight Year']\n",
    "departures = busyness_by_week_month[['origin', 'Flight Weekday', 'Flight Day', 'Flight Month', 'Flight Year']]\n",
    "departures.head()"
   ]
  },
  {
   "cell_type": "code",
   "execution_count": 69,
   "id": "39d32e1d-4920-4a86-8710-2bcc01ab6ee9",
   "metadata": {},
   "outputs": [
    {
     "data": {
      "text/html": [
       "<div>\n",
       "<style scoped>\n",
       "    .dataframe tbody tr th:only-of-type {\n",
       "        vertical-align: middle;\n",
       "    }\n",
       "\n",
       "    .dataframe tbody tr th {\n",
       "        vertical-align: top;\n",
       "    }\n",
       "\n",
       "    .dataframe thead th {\n",
       "        text-align: right;\n",
       "    }\n",
       "</style>\n",
       "<table border=\"1\" class=\"dataframe\">\n",
       "  <thead>\n",
       "    <tr style=\"text-align: right;\">\n",
       "      <th></th>\n",
       "      <th>origin</th>\n",
       "      <th>Flight Weekday</th>\n",
       "      <th>Flight Day</th>\n",
       "      <th>Flight Month</th>\n",
       "      <th>Flight Year</th>\n",
       "      <th>num_flights</th>\n",
       "    </tr>\n",
       "  </thead>\n",
       "  <tbody>\n",
       "    <tr>\n",
       "      <th>0</th>\n",
       "      <td>MSP</td>\n",
       "      <td>4</td>\n",
       "      <td>12</td>\n",
       "      <td>7</td>\n",
       "      <td>2019</td>\n",
       "      <td>1</td>\n",
       "    </tr>\n",
       "    <tr>\n",
       "      <th>1</th>\n",
       "      <td>MSP</td>\n",
       "      <td>4</td>\n",
       "      <td>12</td>\n",
       "      <td>7</td>\n",
       "      <td>2019</td>\n",
       "      <td>1</td>\n",
       "    </tr>\n",
       "  </tbody>\n",
       "</table>\n",
       "</div>"
      ],
      "text/plain": [
       "  origin  Flight Weekday  Flight Day  Flight Month  Flight Year  num_flights\n",
       "0    MSP               4          12             7         2019            1\n",
       "1    MSP               4          12             7         2019            1"
      ]
     },
     "execution_count": 69,
     "metadata": {},
     "output_type": "execute_result"
    }
   ],
   "source": [
    "departures['num_flights'] = 1\n",
    "departures.head(2)"
   ]
  },
  {
   "cell_type": "code",
   "execution_count": 88,
   "id": "492f81fc-467c-4bc6-b811-da9872c18214",
   "metadata": {},
   "outputs": [
    {
     "data": {
      "text/html": [
       "<div>\n",
       "<style scoped>\n",
       "    .dataframe tbody tr th:only-of-type {\n",
       "        vertical-align: middle;\n",
       "    }\n",
       "\n",
       "    .dataframe tbody tr th {\n",
       "        vertical-align: top;\n",
       "    }\n",
       "\n",
       "    .dataframe thead th {\n",
       "        text-align: right;\n",
       "    }\n",
       "</style>\n",
       "<table border=\"1\" class=\"dataframe\">\n",
       "  <thead>\n",
       "    <tr style=\"text-align: right;\">\n",
       "      <th></th>\n",
       "      <th>origin</th>\n",
       "      <th>Flight Year</th>\n",
       "      <th>Flight Month</th>\n",
       "      <th>Flight Day</th>\n",
       "      <th>Flight Weekday</th>\n",
       "      <th>Total Daily Departures</th>\n",
       "      <th>departure_busyness_id</th>\n",
       "    </tr>\n",
       "  </thead>\n",
       "  <tbody>\n",
       "    <tr>\n",
       "      <th>0</th>\n",
       "      <td>ABE</td>\n",
       "      <td>2018</td>\n",
       "      <td>1</td>\n",
       "      <td>1</td>\n",
       "      <td>0</td>\n",
       "      <td>10</td>\n",
       "      <td>D-ABE-1-0</td>\n",
       "    </tr>\n",
       "    <tr>\n",
       "      <th>1</th>\n",
       "      <td>ABE</td>\n",
       "      <td>2018</td>\n",
       "      <td>1</td>\n",
       "      <td>2</td>\n",
       "      <td>1</td>\n",
       "      <td>12</td>\n",
       "      <td>D-ABE-1-1</td>\n",
       "    </tr>\n",
       "    <tr>\n",
       "      <th>2</th>\n",
       "      <td>ABE</td>\n",
       "      <td>2018</td>\n",
       "      <td>1</td>\n",
       "      <td>3</td>\n",
       "      <td>2</td>\n",
       "      <td>13</td>\n",
       "      <td>D-ABE-1-2</td>\n",
       "    </tr>\n",
       "    <tr>\n",
       "      <th>3</th>\n",
       "      <td>ABE</td>\n",
       "      <td>2018</td>\n",
       "      <td>1</td>\n",
       "      <td>4</td>\n",
       "      <td>3</td>\n",
       "      <td>12</td>\n",
       "      <td>D-ABE-1-3</td>\n",
       "    </tr>\n",
       "    <tr>\n",
       "      <th>4</th>\n",
       "      <td>ABE</td>\n",
       "      <td>2018</td>\n",
       "      <td>1</td>\n",
       "      <td>5</td>\n",
       "      <td>4</td>\n",
       "      <td>12</td>\n",
       "      <td>D-ABE-1-4</td>\n",
       "    </tr>\n",
       "  </tbody>\n",
       "</table>\n",
       "</div>"
      ],
      "text/plain": [
       "  origin  Flight Year  Flight Month  Flight Day  Flight Weekday  \\\n",
       "0    ABE         2018             1           1               0   \n",
       "1    ABE         2018             1           2               1   \n",
       "2    ABE         2018             1           3               2   \n",
       "3    ABE         2018             1           4               3   \n",
       "4    ABE         2018             1           5               4   \n",
       "\n",
       "   Total Daily Departures departure_busyness_id  \n",
       "0                      10             D-ABE-1-0  \n",
       "1                      12             D-ABE-1-1  \n",
       "2                      13             D-ABE-1-2  \n",
       "3                      12             D-ABE-1-3  \n",
       "4                      12             D-ABE-1-4  "
      ]
     },
     "execution_count": 88,
     "metadata": {},
     "output_type": "execute_result"
    }
   ],
   "source": [
    "#Create pivot table to calculate total departures per day\n",
    "dep_busyness_scores_by_date = pd.pivot_table(data = departures, index=['origin','Flight Year','Flight Month','Flight Day','Flight Weekday'], values = 'num_flights', aggfunc='sum')\n",
    "dep_busyness_scores_by_date = dep_busyness_scores_by_date.reset_index()\n",
    "\n",
    "#Rename columns\n",
    "dep_busyness_scores_by_date.columns = [\"origin\", \"Flight Year\", \"Flight Month\", \"Flight Day\", \"Flight Weekday\", \"Total Daily Departures\"]\n",
    "\n",
    "#Create id for departure busyness for future merge\n",
    "dep_busyness_scores_by_date['departure_busyness_id'] = 'D-' + dep_busyness_scores_by_date['origin'] + '-' + dep_busyness_scores_by_date['Flight Month'].astype(str)+ '-' + dep_busyness_scores_by_date['Flight Weekday'].astype(str)\n",
    "\n",
    "dep_busyness_scores_by_date.head()\n"
   ]
  },
  {
   "cell_type": "code",
   "execution_count": 109,
   "id": "33674d72-37c9-48d2-9cb2-0da46bd5146f",
   "metadata": {},
   "outputs": [
    {
     "data": {
      "text/html": [
       "<div>\n",
       "<style scoped>\n",
       "    .dataframe tbody tr th:only-of-type {\n",
       "        vertical-align: middle;\n",
       "    }\n",
       "\n",
       "    .dataframe tbody tr th {\n",
       "        vertical-align: top;\n",
       "    }\n",
       "\n",
       "    .dataframe thead th {\n",
       "        text-align: right;\n",
       "    }\n",
       "</style>\n",
       "<table border=\"1\" class=\"dataframe\">\n",
       "  <thead>\n",
       "    <tr style=\"text-align: right;\">\n",
       "      <th></th>\n",
       "      <th>Departure Busyness ID</th>\n",
       "      <th>Avg Daily Departures (Month and Weekday)</th>\n",
       "    </tr>\n",
       "  </thead>\n",
       "  <tbody>\n",
       "    <tr>\n",
       "      <th>0</th>\n",
       "      <td>D-ABE-1-0</td>\n",
       "      <td>13.888889</td>\n",
       "    </tr>\n",
       "    <tr>\n",
       "      <th>1</th>\n",
       "      <td>D-ABE-1-1</td>\n",
       "      <td>11.800000</td>\n",
       "    </tr>\n",
       "    <tr>\n",
       "      <th>2</th>\n",
       "      <td>D-ABE-1-2</td>\n",
       "      <td>12.900000</td>\n",
       "    </tr>\n",
       "  </tbody>\n",
       "</table>\n",
       "</div>"
      ],
      "text/plain": [
       "  Departure Busyness ID  Avg Daily Departures (Month and Weekday)\n",
       "0             D-ABE-1-0                                 13.888889\n",
       "1             D-ABE-1-1                                 11.800000\n",
       "2             D-ABE-1-2                                 12.900000"
      ]
     },
     "execution_count": 109,
     "metadata": {},
     "output_type": "execute_result"
    }
   ],
   "source": [
    "avg_dep_busyness = pd.pivot_table(data = dep_busyness_scores_by_date, index = 'departure_busyness_id', values = 'Total Daily Departures')\n",
    "avg_dep_busyness = avg_dep_busyness.reset_index()\n",
    "\n",
    "#Rename columns\n",
    "avg_dep_busyness.columns = ['Departure Busyness ID', 'Avg Daily Departures (Month and Weekday)']\n",
    "avg_dep_busyness.head(3)"
   ]
  },
  {
   "cell_type": "code",
   "execution_count": 111,
   "id": "23e43d7c-b12e-4fd4-a9b9-e8b84e6831a6",
   "metadata": {},
   "outputs": [],
   "source": [
    "#save to CSV\n",
    "avg_dep_busyness = avg_dep_busyness.to_csv('../../data/processed/departure_busyness_scores.csv')"
   ]
  },
  {
   "cell_type": "markdown",
   "id": "91be61e3-8d35-42c5-89bf-38814a500050",
   "metadata": {},
   "source": [
    "## Create Busyness Scores for Arrivals"
   ]
  },
  {
   "cell_type": "code",
   "execution_count": 101,
   "id": "579304a9-f163-4de7-a2ec-20d88d555a8a",
   "metadata": {},
   "outputs": [
    {
     "data": {
      "text/html": [
       "<div>\n",
       "<style scoped>\n",
       "    .dataframe tbody tr th:only-of-type {\n",
       "        vertical-align: middle;\n",
       "    }\n",
       "\n",
       "    .dataframe tbody tr th {\n",
       "        vertical-align: top;\n",
       "    }\n",
       "\n",
       "    .dataframe thead th {\n",
       "        text-align: right;\n",
       "    }\n",
       "</style>\n",
       "<table border=\"1\" class=\"dataframe\">\n",
       "  <thead>\n",
       "    <tr style=\"text-align: right;\">\n",
       "      <th></th>\n",
       "      <th>dest</th>\n",
       "      <th>Flight Weekday</th>\n",
       "      <th>Flight Day</th>\n",
       "      <th>Flight Month</th>\n",
       "      <th>Flight Year</th>\n",
       "    </tr>\n",
       "  </thead>\n",
       "  <tbody>\n",
       "    <tr>\n",
       "      <th>0</th>\n",
       "      <td>LSE</td>\n",
       "      <td>4</td>\n",
       "      <td>12</td>\n",
       "      <td>7</td>\n",
       "      <td>2019</td>\n",
       "    </tr>\n",
       "    <tr>\n",
       "      <th>1</th>\n",
       "      <td>LSE</td>\n",
       "      <td>4</td>\n",
       "      <td>12</td>\n",
       "      <td>7</td>\n",
       "      <td>2019</td>\n",
       "    </tr>\n",
       "    <tr>\n",
       "      <th>2</th>\n",
       "      <td>LSE</td>\n",
       "      <td>4</td>\n",
       "      <td>12</td>\n",
       "      <td>7</td>\n",
       "      <td>2019</td>\n",
       "    </tr>\n",
       "    <tr>\n",
       "      <th>3</th>\n",
       "      <td>DTW</td>\n",
       "      <td>4</td>\n",
       "      <td>12</td>\n",
       "      <td>7</td>\n",
       "      <td>2019</td>\n",
       "    </tr>\n",
       "    <tr>\n",
       "      <th>4</th>\n",
       "      <td>FWA</td>\n",
       "      <td>4</td>\n",
       "      <td>12</td>\n",
       "      <td>7</td>\n",
       "      <td>2019</td>\n",
       "    </tr>\n",
       "  </tbody>\n",
       "</table>\n",
       "</div>"
      ],
      "text/plain": [
       "  dest  Flight Weekday  Flight Day  Flight Month  Flight Year\n",
       "0  LSE               4          12             7         2019\n",
       "1  LSE               4          12             7         2019\n",
       "2  LSE               4          12             7         2019\n",
       "3  DTW               4          12             7         2019\n",
       "4  FWA               4          12             7         2019"
      ]
     },
     "execution_count": 101,
     "metadata": {},
     "output_type": "execute_result"
    }
   ],
   "source": [
    "arrivals = busyness_by_week_month[['dest', 'Flight Weekday', 'Flight Day', 'Flight Month', 'Flight Year']]\n",
    "arrivals.head()"
   ]
  },
  {
   "cell_type": "code",
   "execution_count": 102,
   "id": "cd7eab89-6162-41dd-9277-141fc7f0f3de",
   "metadata": {},
   "outputs": [
    {
     "data": {
      "text/html": [
       "<div>\n",
       "<style scoped>\n",
       "    .dataframe tbody tr th:only-of-type {\n",
       "        vertical-align: middle;\n",
       "    }\n",
       "\n",
       "    .dataframe tbody tr th {\n",
       "        vertical-align: top;\n",
       "    }\n",
       "\n",
       "    .dataframe thead th {\n",
       "        text-align: right;\n",
       "    }\n",
       "</style>\n",
       "<table border=\"1\" class=\"dataframe\">\n",
       "  <thead>\n",
       "    <tr style=\"text-align: right;\">\n",
       "      <th></th>\n",
       "      <th>dest</th>\n",
       "      <th>Flight Weekday</th>\n",
       "      <th>Flight Day</th>\n",
       "      <th>Flight Month</th>\n",
       "      <th>Flight Year</th>\n",
       "      <th>num_flights</th>\n",
       "    </tr>\n",
       "  </thead>\n",
       "  <tbody>\n",
       "    <tr>\n",
       "      <th>0</th>\n",
       "      <td>LSE</td>\n",
       "      <td>4</td>\n",
       "      <td>12</td>\n",
       "      <td>7</td>\n",
       "      <td>2019</td>\n",
       "      <td>1</td>\n",
       "    </tr>\n",
       "    <tr>\n",
       "      <th>1</th>\n",
       "      <td>LSE</td>\n",
       "      <td>4</td>\n",
       "      <td>12</td>\n",
       "      <td>7</td>\n",
       "      <td>2019</td>\n",
       "      <td>1</td>\n",
       "    </tr>\n",
       "  </tbody>\n",
       "</table>\n",
       "</div>"
      ],
      "text/plain": [
       "  dest  Flight Weekday  Flight Day  Flight Month  Flight Year  num_flights\n",
       "0  LSE               4          12             7         2019            1\n",
       "1  LSE               4          12             7         2019            1"
      ]
     },
     "execution_count": 102,
     "metadata": {},
     "output_type": "execute_result"
    }
   ],
   "source": [
    "arrivals['num_flights'] = 1\n",
    "arrivals.head(2)"
   ]
  },
  {
   "cell_type": "code",
   "execution_count": 107,
   "id": "9993e48f-d43c-4f3e-bc6c-f1203b2034fe",
   "metadata": {},
   "outputs": [
    {
     "data": {
      "text/html": [
       "<div>\n",
       "<style scoped>\n",
       "    .dataframe tbody tr th:only-of-type {\n",
       "        vertical-align: middle;\n",
       "    }\n",
       "\n",
       "    .dataframe tbody tr th {\n",
       "        vertical-align: top;\n",
       "    }\n",
       "\n",
       "    .dataframe thead th {\n",
       "        text-align: right;\n",
       "    }\n",
       "</style>\n",
       "<table border=\"1\" class=\"dataframe\">\n",
       "  <thead>\n",
       "    <tr style=\"text-align: right;\">\n",
       "      <th></th>\n",
       "      <th>dest</th>\n",
       "      <th>Flight Year</th>\n",
       "      <th>Flight Month</th>\n",
       "      <th>Flight Day</th>\n",
       "      <th>Flight Weekday</th>\n",
       "      <th>Total Daily Arrivals</th>\n",
       "      <th>arrivals_busyness_id</th>\n",
       "    </tr>\n",
       "  </thead>\n",
       "  <tbody>\n",
       "    <tr>\n",
       "      <th>0</th>\n",
       "      <td>ABE</td>\n",
       "      <td>2018</td>\n",
       "      <td>1</td>\n",
       "      <td>1</td>\n",
       "      <td>0</td>\n",
       "      <td>10</td>\n",
       "      <td>A-ABE-1-0</td>\n",
       "    </tr>\n",
       "    <tr>\n",
       "      <th>1</th>\n",
       "      <td>ABE</td>\n",
       "      <td>2018</td>\n",
       "      <td>1</td>\n",
       "      <td>2</td>\n",
       "      <td>1</td>\n",
       "      <td>12</td>\n",
       "      <td>A-ABE-1-1</td>\n",
       "    </tr>\n",
       "    <tr>\n",
       "      <th>2</th>\n",
       "      <td>ABE</td>\n",
       "      <td>2018</td>\n",
       "      <td>1</td>\n",
       "      <td>3</td>\n",
       "      <td>2</td>\n",
       "      <td>13</td>\n",
       "      <td>A-ABE-1-2</td>\n",
       "    </tr>\n",
       "    <tr>\n",
       "      <th>3</th>\n",
       "      <td>ABE</td>\n",
       "      <td>2018</td>\n",
       "      <td>1</td>\n",
       "      <td>4</td>\n",
       "      <td>3</td>\n",
       "      <td>12</td>\n",
       "      <td>A-ABE-1-3</td>\n",
       "    </tr>\n",
       "    <tr>\n",
       "      <th>4</th>\n",
       "      <td>ABE</td>\n",
       "      <td>2018</td>\n",
       "      <td>1</td>\n",
       "      <td>5</td>\n",
       "      <td>4</td>\n",
       "      <td>11</td>\n",
       "      <td>A-ABE-1-4</td>\n",
       "    </tr>\n",
       "  </tbody>\n",
       "</table>\n",
       "</div>"
      ],
      "text/plain": [
       "  dest  Flight Year  Flight Month  Flight Day  Flight Weekday  \\\n",
       "0  ABE         2018             1           1               0   \n",
       "1  ABE         2018             1           2               1   \n",
       "2  ABE         2018             1           3               2   \n",
       "3  ABE         2018             1           4               3   \n",
       "4  ABE         2018             1           5               4   \n",
       "\n",
       "   Total Daily Arrivals arrivals_busyness_id  \n",
       "0                    10            A-ABE-1-0  \n",
       "1                    12            A-ABE-1-1  \n",
       "2                    13            A-ABE-1-2  \n",
       "3                    12            A-ABE-1-3  \n",
       "4                    11            A-ABE-1-4  "
      ]
     },
     "execution_count": 107,
     "metadata": {},
     "output_type": "execute_result"
    }
   ],
   "source": [
    "#Create pivot table to calculate total arrivals per day\n",
    "arr_busyness_scores_by_date = pd.pivot_table(data = arrivals, index=['dest','Flight Year','Flight Month','Flight Day','Flight Weekday'], values = 'num_flights', aggfunc='sum')\n",
    "arr_busyness_scores_by_date = arr_busyness_scores_by_date.reset_index()\n",
    "\n",
    "#Rename columns\n",
    "arr_busyness_scores_by_date.columns = [\"dest\", \"Flight Year\", \"Flight Month\", \"Flight Day\", \"Flight Weekday\", \"Total Daily Arrivals\"]\n",
    "\n",
    "#Create id for arrivals busyness for future merge\n",
    "arr_busyness_scores_by_date['arrivals_busyness_id'] = 'A-' + arr_busyness_scores_by_date['dest'] + '-' + arr_busyness_scores_by_date['Flight Month'].astype(str)+ '-' + arr_busyness_scores_by_date['Flight Weekday'].astype(str)\n",
    "\n",
    "arr_busyness_scores_by_date.head()\n"
   ]
  },
  {
   "cell_type": "code",
   "execution_count": 108,
   "id": "f1679e98-533d-48b8-a516-fcf19d3594d2",
   "metadata": {},
   "outputs": [
    {
     "data": {
      "text/html": [
       "<div>\n",
       "<style scoped>\n",
       "    .dataframe tbody tr th:only-of-type {\n",
       "        vertical-align: middle;\n",
       "    }\n",
       "\n",
       "    .dataframe tbody tr th {\n",
       "        vertical-align: top;\n",
       "    }\n",
       "\n",
       "    .dataframe thead th {\n",
       "        text-align: right;\n",
       "    }\n",
       "</style>\n",
       "<table border=\"1\" class=\"dataframe\">\n",
       "  <thead>\n",
       "    <tr style=\"text-align: right;\">\n",
       "      <th></th>\n",
       "      <th>Arrivals Busyness ID</th>\n",
       "      <th>Avg Daily Arrivals (Month and Weekday)</th>\n",
       "    </tr>\n",
       "  </thead>\n",
       "  <tbody>\n",
       "    <tr>\n",
       "      <th>0</th>\n",
       "      <td>A-ABE-1-0</td>\n",
       "      <td>13.777778</td>\n",
       "    </tr>\n",
       "    <tr>\n",
       "      <th>1</th>\n",
       "      <td>A-ABE-1-1</td>\n",
       "      <td>12.000000</td>\n",
       "    </tr>\n",
       "    <tr>\n",
       "      <th>2</th>\n",
       "      <td>A-ABE-1-2</td>\n",
       "      <td>13.000000</td>\n",
       "    </tr>\n",
       "  </tbody>\n",
       "</table>\n",
       "</div>"
      ],
      "text/plain": [
       "  Arrivals Busyness ID  Avg Daily Arrivals (Month and Weekday)\n",
       "0            A-ABE-1-0                               13.777778\n",
       "1            A-ABE-1-1                               12.000000\n",
       "2            A-ABE-1-2                               13.000000"
      ]
     },
     "execution_count": 108,
     "metadata": {},
     "output_type": "execute_result"
    }
   ],
   "source": [
    "avg_arr_busyness = pd.pivot_table(data = arr_busyness_scores_by_date, index = 'arrivals_busyness_id', values = 'Total Daily Arrivals')\n",
    "avg_arr_busyness = avg_arr_busyness.reset_index()\n",
    "\n",
    "#Rename columns\n",
    "avg_arr_busyness.columns = ['Arrivals Busyness ID', 'Avg Daily Arrivals (Month and Weekday)']\n",
    "avg_arr_busyness.head(3)"
   ]
  },
  {
   "cell_type": "code",
   "execution_count": 112,
   "id": "feef6cb4-4cd3-4dd8-9a5d-1b5c3b9b6ef4",
   "metadata": {},
   "outputs": [],
   "source": [
    "#save to CSV\n",
    "avg_arr_busyness = avg_arr_busyness.to_csv('../../data/processed/arrival_busyness_scores.csv')"
   ]
  },
  {
   "cell_type": "code",
   "execution_count": null,
   "id": "b1ff82de-ca56-4d5f-8dca-ef556bf1a532",
   "metadata": {},
   "outputs": [],
   "source": []
  },
  {
   "cell_type": "markdown",
   "id": "f007db75-9cf2-4ff3-bf79-0d9fc1f04382",
   "metadata": {},
   "source": [
    "## Commented Out Cells"
   ]
  },
  {
   "cell_type": "code",
   "execution_count": 84,
   "id": "16617b25-2fe7-4719-8d3c-a2c17c0006f7",
   "metadata": {},
   "outputs": [],
   "source": [
    "# avg_dep_busyness = pd.pivot_table(data = dep_busyness_scores_by_date, index = 'departure_busyness_id', values = 'Total Daily Departures')\n",
    "# avg_dep_busyness = dep_busyness_scores_by_date.reset_index()\n",
    "# avg_dep_busyness.head(20)"
   ]
  },
  {
   "cell_type": "code",
   "execution_count": null,
   "id": "dcce751f-4462-46cb-b73a-ef073b593aa9",
   "metadata": {},
   "outputs": [],
   "source": [
    "# avg_dep_busyness.columns = ['departure_busyness_id','Average Daily Departures']\n",
    "# avg_dep_busyness.head()"
   ]
  },
  {
   "cell_type": "code",
   "execution_count": null,
   "id": "008a9d6b-a61c-4bd5-84a5-87a94a190d0a",
   "metadata": {
    "tags": []
   },
   "outputs": [],
   "source": [
    "# dep_busyness_scores_by_date = dep_busyness_scores_by_date.drop(labels=['Flight Month', 'Flight Day', 'Flight Weekday'], axis=1)\n",
    "# dep_busyness_scores_by_date.head()"
   ]
  },
  {
   "cell_type": "code",
   "execution_count": 17,
   "id": "0e1b45cb-6677-4486-80c4-bac9e3e39248",
   "metadata": {},
   "outputs": [],
   "source": [
    "# dep_busyness_scores_by_date = dep_busyness_scores_by_date.drop(labels='origin', axis=1)\n",
    "# dep_busyness_scores_by_date.head()"
   ]
  },
  {
   "cell_type": "code",
   "execution_count": 18,
   "id": "7e094d6f-328d-4c8d-9f9d-1527f504d40e",
   "metadata": {},
   "outputs": [],
   "source": [
    "# dep_busyness_scores_by_date = pd.merge(dep_busyness_scores_by_date, avg_dep_busyness, on = 'departure_busyness_id', how = 'left')"
   ]
  },
  {
   "cell_type": "code",
   "execution_count": 53,
   "id": "6318cb2d-a506-4b41-9e51-7ded8f8f3cbe",
   "metadata": {},
   "outputs": [],
   "source": [
    "# dep_busyness_scores_by_date.head()"
   ]
  },
  {
   "cell_type": "code",
   "execution_count": 54,
   "id": "c0d3576b-405d-45b7-8098-012722790208",
   "metadata": {},
   "outputs": [],
   "source": [
    "# dep_busyness_scores_by_date.columns"
   ]
  },
  {
   "cell_type": "code",
   "execution_count": 55,
   "id": "ddd0037d-48cf-4839-b37f-c078e4f0808f",
   "metadata": {},
   "outputs": [],
   "source": [
    "# #rearranage columns\n",
    "# dep_busyness_scores_by_date = dep_busyness_scores_by_date[['Flight Date', 'origin', 'departure_busyness_id', 'Total Daily Departures', 'Average Daily Departures']]\n",
    "# dep_busyness_scores_by_date.head()"
   ]
  },
  {
   "cell_type": "code",
   "execution_count": 56,
   "id": "2e023108-9898-489c-bd3e-4546743fb806",
   "metadata": {},
   "outputs": [],
   "source": [
    "# dep_busyness_scores_by_date['dep_busyness_score'] = dep_busyness_scores_by_date['Total Daily Departures'] / dep_busyness_scores_by_date['Average Daily Departures']\n",
    "# dep_busyness_scores_by_date.head()"
   ]
  },
  {
   "cell_type": "code",
   "execution_count": 57,
   "id": "7e358d20-63a7-4406-83c3-2c48ac8ed0b4",
   "metadata": {},
   "outputs": [],
   "source": [
    "# dep_busyness_scores_by_date = dep_busyness_scores_by_date.drop(labels = ['Total Daily Departures', 'Average Daily Departures', 'departure_busyness_id'], axis=1)"
   ]
  },
  {
   "cell_type": "code",
   "execution_count": 58,
   "id": "c96fce2d-943e-4a52-835c-a3c39cd84aa0",
   "metadata": {},
   "outputs": [],
   "source": [
    "# dep_busyness_scores_by_date.head()"
   ]
  },
  {
   "cell_type": "code",
   "execution_count": null,
   "id": "329b9455-5397-4770-b199-db046a4272a0",
   "metadata": {},
   "outputs": [],
   "source": [
    "dep_busyness_scores_by_date.columns = ['Flight Date', 'Origin Airport (IATA Code)', 'Departure Busyness Score']\n",
    "dep_busyness_scores_by_date.head()"
   ]
  },
  {
   "cell_type": "code",
   "execution_count": 33,
   "id": "518885a4-c1e1-47a5-a796-242272ed9776",
   "metadata": {},
   "outputs": [],
   "source": [
    "dep_busyness_scores_by_date.to_csv('../../data/processed/departure_busyness_scores.csv')"
   ]
  },
  {
   "cell_type": "code",
   "execution_count": 25,
   "id": "6a606b00-d879-459a-a09c-eee9e0c85cdd",
   "metadata": {},
   "outputs": [],
   "source": [
    "# departures_by_day = pd.pivot_table(data = departures, index = [\"origin\", \"Flight Year\", \"Flight Month\", \"Flight Day\", \"Flight Weekday\"], values = 'num_flights', aggfunc='count')\n",
    "# departures_by_day = departures_by_day.reset_index()\n",
    "# departures_by_day"
   ]
  },
  {
   "cell_type": "code",
   "execution_count": 26,
   "id": "877c257e-625a-40d2-b9d9-9cd1d313f155",
   "metadata": {},
   "outputs": [],
   "source": [
    "# departures_by_day.sort_values(\"num_flights\", ascending=False)"
   ]
  },
  {
   "cell_type": "code",
   "execution_count": 27,
   "id": "2cd48077-0897-45a1-be7c-0c526eb5d456",
   "metadata": {},
   "outputs": [],
   "source": [
    "# departures_by_day.info()"
   ]
  },
  {
   "cell_type": "code",
   "execution_count": 28,
   "id": "8c61b246-89b3-4ac7-9f67-0f6bce12e9b8",
   "metadata": {},
   "outputs": [],
   "source": [
    "# avg_departures_by_day = pd.pivot_table(data = departures_by_day, index = [\"origin\", \"Flight Month\", \"Flight Weekday\"], values = \"num_flights\")\n",
    "# avg_departures_by_day = avg_departures_by_day.reset_index()\n",
    "# avg_departures_by_day.sort_values(\"num_flights\", ascending=False)"
   ]
  },
  {
   "cell_type": "code",
   "execution_count": 29,
   "id": "666b073f-703d-46c0-bf9e-42890b824d8c",
   "metadata": {
    "tags": []
   },
   "outputs": [],
   "source": [
    "# avg_departures_by_day['departure_busyness_id'] = avg_departures_by_day['origin'] + '-' + avg_departures_by_day['Flight Month'].astype(str)+ '-' + avg_departures_by_day['Flight Weekday'].astype(str)\n",
    "# avg_departures_by_day.head()"
   ]
  },
  {
   "cell_type": "code",
   "execution_count": 30,
   "id": "9c9e10f2-2c57-435d-9af4-ea821764f876",
   "metadata": {},
   "outputs": [],
   "source": [
    "# arrivals.head()"
   ]
  },
  {
   "cell_type": "code",
   "execution_count": 31,
   "id": "494ae829-74be-4f91-8888-a03175c1e4e9",
   "metadata": {},
   "outputs": [],
   "source": [
    "# arrivals['num_flights'] = 1\n",
    "# arrivals.head()"
   ]
  },
  {
   "cell_type": "code",
   "execution_count": null,
   "id": "fcce3086-f998-4d7a-94f6-142ba3930b20",
   "metadata": {},
   "outputs": [],
   "source": []
  }
 ],
 "metadata": {
  "kernelspec": {
   "display_name": "Python 3 (ipykernel)",
   "language": "python",
   "name": "python3"
  },
  "language_info": {
   "codemirror_mode": {
    "name": "ipython",
    "version": 3
   },
   "file_extension": ".py",
   "mimetype": "text/x-python",
   "name": "python",
   "nbconvert_exporter": "python",
   "pygments_lexer": "ipython3",
   "version": "3.9.12"
  }
 },
 "nbformat": 4,
 "nbformat_minor": 5
}
