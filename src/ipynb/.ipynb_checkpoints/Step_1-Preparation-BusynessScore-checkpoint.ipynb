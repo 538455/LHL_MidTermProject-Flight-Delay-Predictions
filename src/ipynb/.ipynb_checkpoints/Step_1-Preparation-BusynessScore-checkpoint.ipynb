{
 "cells": [
  {
   "cell_type": "code",
   "execution_count": 1,
   "id": "3c987363-ac3f-4ef2-a4ec-5f3bc0c356fa",
   "metadata": {},
   "outputs": [],
   "source": [
    "import pandas as pd\n",
    "import numpy as np"
   ]
  },
  {
   "cell_type": "markdown",
   "id": "0bc25bec-7514-483e-a101-5e49d7af7ad8",
   "metadata": {},
   "source": [
    "# Import the tables"
   ]
  },
  {
   "cell_type": "markdown",
   "id": "7ccb0263-ada1-40b4-a36e-32fe6ca91a4f",
   "metadata": {},
   "source": [
    "This csv is a pull of all the flights (date with arrival/departure airport)"
   ]
  },
  {
   "cell_type": "code",
   "execution_count": 2,
   "id": "734bb675-a0a8-4d8c-bb01-904dc67d8e9e",
   "metadata": {},
   "outputs": [],
   "source": [
    "flights = pd.read_csv('../../data/raw/date_origin_dest.csv')\n",
    "\n",
    "# Create a column with the day/month/year of the flight\n",
    "flights['Flight Weekday'] = pd.DatetimeIndex(flights['fl_date']).weekday   #0: Monday, 1:Tuesday, etc.\n",
    "flights['Flight Day'] = pd.DatetimeIndex(flights['fl_date']).day\n",
    "flights['Flight Month'] = pd.DatetimeIndex(flights['fl_date']).month\n",
    "flights['Flight Year'] = pd.DatetimeIndex(flights['fl_date']).year\n",
    "flights = flights.drop(labels = 'fl_date', axis = 1)\n",
    "\n",
    "# Rename the origin and arrival columns of flights\n",
    "flights = flights.rename(columns = {'origin': 'Origin Airport (IATA Code)', 'dest': 'Destination Airport (IATA Code)'})"
   ]
  },
  {
   "cell_type": "markdown",
   "id": "cb4984bf-dacc-4fea-9bdc-a3c8785d3380",
   "metadata": {},
   "source": [
    "What do we do with this? We count how many times an airport is an arrival/departure per day.\n",
    "\n",
    "This will allow us to assess the busyness of every airport"
   ]
  },
  {
   "cell_type": "markdown",
   "id": "c801181c-3275-4f1f-9885-bb9025ecc5f0",
   "metadata": {},
   "source": [
    "Let's bring the provided 2020 data from the flights_test as well. We have it, let's use it"
   ]
  },
  {
   "cell_type": "code",
   "execution_count": 3,
   "id": "cdac877f-d0b5-4e2d-a5db-43081aae9f72",
   "metadata": {
    "tags": []
   },
   "outputs": [],
   "source": [
    "flights_test = pd.read_csv('../../data/raw/Cleaned-flights_test.csv')\n",
    "\n",
    "flights_test = flights_test[['Flight Year', 'Flight Month', 'Flight Day', 'Flight Weekday', 'Origin Airport (IATA Code)','Destination Airport (IATA Code)']]"
   ]
  },
  {
   "cell_type": "markdown",
   "id": "2d5a60fe-9f6b-42a9-950c-3e153cb37a39",
   "metadata": {},
   "source": [
    "Let's merge both:"
   ]
  },
  {
   "cell_type": "code",
   "execution_count": 4,
   "id": "e759a559-e095-43f2-9392-16845e848dfd",
   "metadata": {},
   "outputs": [],
   "source": [
    "flights = pd.concat([flights, flights_test], ignore_index=True)"
   ]
  },
  {
   "cell_type": "markdown",
   "id": "11d27782-99c5-436b-ab03-b18bd2e5e52e",
   "metadata": {},
   "source": [
    "# Get a count of flights per airport and year, month, day"
   ]
  },
  {
   "cell_type": "code",
   "execution_count": 5,
   "id": "88b0a3cc-80aa-479c-8805-9fe5438f9007",
   "metadata": {},
   "outputs": [],
   "source": [
    "# Let's create a new dataframe with the counts\n",
    "flights_count_orig = flights.groupby(['Flight Year', 'Flight Month', 'Flight Day', 'Flight Weekday', 'Origin Airport (IATA Code)']).count().reset_index()\n",
    "\n",
    "# same for the destination\n",
    "flights_count_dest = flights.groupby(['Flight Year', 'Flight Month', 'Flight Day', 'Flight Weekday', 'Destination Airport (IATA Code)']).count().reset_index()\n"
   ]
  },
  {
   "cell_type": "code",
   "execution_count": 6,
   "id": "e03096dd-ad6d-4298-832f-8baa1481b6da",
   "metadata": {},
   "outputs": [],
   "source": [
    "# Let's rename the columns to make it easier to merge\n",
    "flights_count_orig = flights_count_orig.rename(columns = {'Origin Airport (IATA Code)': 'Airport (IATA Code)', 'Destination Airport (IATA Code)': 'Flights Count'})\n",
    "flights_count_dest = flights_count_dest.rename(columns = {'Destination Airport (IATA Code)': 'Airport (IATA Code)', 'Origin Airport (IATA Code)': 'Flights Count'})"
   ]
  },
  {
   "cell_type": "code",
   "execution_count": 7,
   "id": "139b0a4d-77d6-49a6-9126-d891edd6b32e",
   "metadata": {},
   "outputs": [],
   "source": [
    "# And now we can merge\n",
    "flights_count = pd.concat([flights_count_orig, flights_count_dest], ignore_index=True)"
   ]
  },
  {
   "cell_type": "code",
   "execution_count": 8,
   "id": "fa2869d8-e73b-4515-bb9a-a408a9c6a7b8",
   "metadata": {},
   "outputs": [
    {
     "data": {
      "text/html": [
       "<div>\n",
       "<style scoped>\n",
       "    .dataframe tbody tr th:only-of-type {\n",
       "        vertical-align: middle;\n",
       "    }\n",
       "\n",
       "    .dataframe tbody tr th {\n",
       "        vertical-align: top;\n",
       "    }\n",
       "\n",
       "    .dataframe thead th {\n",
       "        text-align: right;\n",
       "    }\n",
       "</style>\n",
       "<table border=\"1\" class=\"dataframe\">\n",
       "  <thead>\n",
       "    <tr style=\"text-align: right;\">\n",
       "      <th></th>\n",
       "      <th>Flight Year</th>\n",
       "      <th>Flight Month</th>\n",
       "      <th>Flight Day</th>\n",
       "      <th>Flight Weekday</th>\n",
       "      <th>Airport (IATA Code)</th>\n",
       "      <th>Flights Count</th>\n",
       "    </tr>\n",
       "  </thead>\n",
       "  <tbody>\n",
       "    <tr>\n",
       "      <th>0</th>\n",
       "      <td>2018</td>\n",
       "      <td>1</td>\n",
       "      <td>1</td>\n",
       "      <td>0</td>\n",
       "      <td>ABE</td>\n",
       "      <td>10</td>\n",
       "    </tr>\n",
       "    <tr>\n",
       "      <th>1</th>\n",
       "      <td>2018</td>\n",
       "      <td>1</td>\n",
       "      <td>1</td>\n",
       "      <td>0</td>\n",
       "      <td>ABI</td>\n",
       "      <td>6</td>\n",
       "    </tr>\n",
       "    <tr>\n",
       "      <th>2</th>\n",
       "      <td>2018</td>\n",
       "      <td>1</td>\n",
       "      <td>1</td>\n",
       "      <td>0</td>\n",
       "      <td>ABQ</td>\n",
       "      <td>80</td>\n",
       "    </tr>\n",
       "    <tr>\n",
       "      <th>3</th>\n",
       "      <td>2018</td>\n",
       "      <td>1</td>\n",
       "      <td>1</td>\n",
       "      <td>0</td>\n",
       "      <td>ABR</td>\n",
       "      <td>2</td>\n",
       "    </tr>\n",
       "    <tr>\n",
       "      <th>4</th>\n",
       "      <td>2018</td>\n",
       "      <td>1</td>\n",
       "      <td>1</td>\n",
       "      <td>0</td>\n",
       "      <td>ABY</td>\n",
       "      <td>2</td>\n",
       "    </tr>\n",
       "    <tr>\n",
       "      <th>...</th>\n",
       "      <td>...</td>\n",
       "      <td>...</td>\n",
       "      <td>...</td>\n",
       "      <td>...</td>\n",
       "      <td>...</td>\n",
       "      <td>...</td>\n",
       "    </tr>\n",
       "    <tr>\n",
       "      <th>539263</th>\n",
       "      <td>2020</td>\n",
       "      <td>1</td>\n",
       "      <td>31</td>\n",
       "      <td>4</td>\n",
       "      <td>XNA</td>\n",
       "      <td>48</td>\n",
       "    </tr>\n",
       "    <tr>\n",
       "      <th>539264</th>\n",
       "      <td>2020</td>\n",
       "      <td>1</td>\n",
       "      <td>31</td>\n",
       "      <td>4</td>\n",
       "      <td>XWA</td>\n",
       "      <td>5</td>\n",
       "    </tr>\n",
       "    <tr>\n",
       "      <th>539265</th>\n",
       "      <td>2020</td>\n",
       "      <td>1</td>\n",
       "      <td>31</td>\n",
       "      <td>4</td>\n",
       "      <td>YAK</td>\n",
       "      <td>2</td>\n",
       "    </tr>\n",
       "    <tr>\n",
       "      <th>539266</th>\n",
       "      <td>2020</td>\n",
       "      <td>1</td>\n",
       "      <td>31</td>\n",
       "      <td>4</td>\n",
       "      <td>YKM</td>\n",
       "      <td>4</td>\n",
       "    </tr>\n",
       "    <tr>\n",
       "      <th>539267</th>\n",
       "      <td>2020</td>\n",
       "      <td>1</td>\n",
       "      <td>31</td>\n",
       "      <td>4</td>\n",
       "      <td>YUM</td>\n",
       "      <td>6</td>\n",
       "    </tr>\n",
       "  </tbody>\n",
       "</table>\n",
       "<p>539268 rows × 6 columns</p>\n",
       "</div>"
      ],
      "text/plain": [
       "        Flight Year  Flight Month  Flight Day  Flight Weekday  \\\n",
       "0              2018             1           1               0   \n",
       "1              2018             1           1               0   \n",
       "2              2018             1           1               0   \n",
       "3              2018             1           1               0   \n",
       "4              2018             1           1               0   \n",
       "...             ...           ...         ...             ...   \n",
       "539263         2020             1          31               4   \n",
       "539264         2020             1          31               4   \n",
       "539265         2020             1          31               4   \n",
       "539266         2020             1          31               4   \n",
       "539267         2020             1          31               4   \n",
       "\n",
       "       Airport (IATA Code)  Flights Count  \n",
       "0                      ABE             10  \n",
       "1                      ABI              6  \n",
       "2                      ABQ             80  \n",
       "3                      ABR              2  \n",
       "4                      ABY              2  \n",
       "...                    ...            ...  \n",
       "539263                 XNA             48  \n",
       "539264                 XWA              5  \n",
       "539265                 YAK              2  \n",
       "539266                 YKM              4  \n",
       "539267                 YUM              6  \n",
       "\n",
       "[539268 rows x 6 columns]"
      ]
     },
     "execution_count": 8,
     "metadata": {},
     "output_type": "execute_result"
    }
   ],
   "source": [
    "flights_count"
   ]
  },
  {
   "cell_type": "markdown",
   "id": "643df053-bb60-4090-9f1b-ed005c582c78",
   "metadata": {},
   "source": [
    "# Create the busyness score"
   ]
  },
  {
   "cell_type": "markdown",
   "id": "a6876bbb-362e-49af-bb7c-beea23ec25be",
   "metadata": {},
   "source": [
    "To get this score, we'll compare the amount of flights the airport has that day compared to its daily average"
   ]
  },
  {
   "cell_type": "markdown",
   "id": "4c931382-e852-4c9c-9e0c-29459822cf68",
   "metadata": {},
   "source": [
    "## Get the daily average"
   ]
  },
  {
   "cell_type": "code",
   "execution_count": 9,
   "id": "de978969-0826-413c-a895-d1b717852a34",
   "metadata": {},
   "outputs": [
    {
     "data": {
      "text/plain": [
       "761"
      ]
     },
     "execution_count": 9,
     "metadata": {},
     "output_type": "execute_result"
    }
   ],
   "source": [
    "# Let's count how many days we have in the dataset\n",
    "\n",
    "# VERY unproductive, but let's re-create a date column to with the year, month and day\n",
    "flights_count['date'] = flights_count['Flight Year'].astype(str) + '-' + flights_count['Flight Month'].astype(str) + '-' + flights_count['Flight Day'].astype(str)\n",
    "\n",
    "# now let's count how many unique dates we have\n",
    "flights_count['date'].nunique()\n"
   ]
  },
  {
   "cell_type": "code",
   "execution_count": 10,
   "id": "e98c11bc-5812-4d6d-a099-cb41767576d5",
   "metadata": {},
   "outputs": [],
   "source": [
    "#Counting total flights per airport\n",
    "flights_per_airport = flights_count.groupby(['Airport (IATA Code)']).sum().reset_index()\n",
    "\n",
    "# Removing as not needed:\n",
    "flights_per_airport = flights_per_airport.drop(labels = ['Flight Year', 'Flight Month', 'Flight Day', 'Flight Weekday'], axis = 1)\n",
    "\n",
    "# Let's create a new column with the average flights per day, dividing flights count by the number of days we have: 761\n",
    "flights_per_airport['Average Flights Per Day'] = flights_per_airport['Flights Count'] / 761\n",
    "flights_per_airport = flights_per_airport.drop(labels = 'Flights Count', axis = 1)"
   ]
  },
  {
   "cell_type": "markdown",
   "id": "8bb121e8-d7dd-4e15-b60d-d3529eb7749c",
   "metadata": {},
   "source": [
    "## Add daily average to flights_count and calculate busyness score"
   ]
  },
  {
   "cell_type": "code",
   "execution_count": 11,
   "id": "dbbb8c58-6dcb-4f42-bd7d-f606e4264a4f",
   "metadata": {},
   "outputs": [],
   "source": [
    "flights_count = pd.merge(flights_count, flights_per_airport, on = 'Airport (IATA Code)', how = 'left')\n",
    "flights_count['Busyness Score'] = flights_count['Flights Count'] / flights_count['Average Flights Per Day']"
   ]
  },
  {
   "cell_type": "code",
   "execution_count": 12,
   "id": "c3d90509-a382-4541-aae9-fc79560761cf",
   "metadata": {},
   "outputs": [
    {
     "data": {
      "text/html": [
       "<div>\n",
       "<style scoped>\n",
       "    .dataframe tbody tr th:only-of-type {\n",
       "        vertical-align: middle;\n",
       "    }\n",
       "\n",
       "    .dataframe tbody tr th {\n",
       "        vertical-align: top;\n",
       "    }\n",
       "\n",
       "    .dataframe thead th {\n",
       "        text-align: right;\n",
       "    }\n",
       "</style>\n",
       "<table border=\"1\" class=\"dataframe\">\n",
       "  <thead>\n",
       "    <tr style=\"text-align: right;\">\n",
       "      <th></th>\n",
       "      <th>Flight Year</th>\n",
       "      <th>Flight Month</th>\n",
       "      <th>Flight Day</th>\n",
       "      <th>Flight Weekday</th>\n",
       "      <th>Airport (IATA Code)</th>\n",
       "      <th>Flights Count</th>\n",
       "      <th>date</th>\n",
       "      <th>Average Flights Per Day</th>\n",
       "      <th>Busyness Score</th>\n",
       "    </tr>\n",
       "  </thead>\n",
       "  <tbody>\n",
       "    <tr>\n",
       "      <th>0</th>\n",
       "      <td>2018</td>\n",
       "      <td>1</td>\n",
       "      <td>1</td>\n",
       "      <td>0</td>\n",
       "      <td>ABE</td>\n",
       "      <td>10</td>\n",
       "      <td>2018-1-1</td>\n",
       "      <td>32.929041</td>\n",
       "      <td>0.303683</td>\n",
       "    </tr>\n",
       "    <tr>\n",
       "      <th>1</th>\n",
       "      <td>2018</td>\n",
       "      <td>1</td>\n",
       "      <td>1</td>\n",
       "      <td>0</td>\n",
       "      <td>ABI</td>\n",
       "      <td>6</td>\n",
       "      <td>2018-1-1</td>\n",
       "      <td>11.718791</td>\n",
       "      <td>0.511998</td>\n",
       "    </tr>\n",
       "    <tr>\n",
       "      <th>2</th>\n",
       "      <td>2018</td>\n",
       "      <td>1</td>\n",
       "      <td>1</td>\n",
       "      <td>0</td>\n",
       "      <td>ABQ</td>\n",
       "      <td>80</td>\n",
       "      <td>2018-1-1</td>\n",
       "      <td>148.130092</td>\n",
       "      <td>0.540066</td>\n",
       "    </tr>\n",
       "    <tr>\n",
       "      <th>3</th>\n",
       "      <td>2018</td>\n",
       "      <td>1</td>\n",
       "      <td>1</td>\n",
       "      <td>0</td>\n",
       "      <td>ABR</td>\n",
       "      <td>2</td>\n",
       "      <td>2018-1-1</td>\n",
       "      <td>4.086728</td>\n",
       "      <td>0.489389</td>\n",
       "    </tr>\n",
       "    <tr>\n",
       "      <th>4</th>\n",
       "      <td>2018</td>\n",
       "      <td>1</td>\n",
       "      <td>1</td>\n",
       "      <td>0</td>\n",
       "      <td>ABY</td>\n",
       "      <td>2</td>\n",
       "      <td>2018-1-1</td>\n",
       "      <td>5.529566</td>\n",
       "      <td>0.361692</td>\n",
       "    </tr>\n",
       "    <tr>\n",
       "      <th>...</th>\n",
       "      <td>...</td>\n",
       "      <td>...</td>\n",
       "      <td>...</td>\n",
       "      <td>...</td>\n",
       "      <td>...</td>\n",
       "      <td>...</td>\n",
       "      <td>...</td>\n",
       "      <td>...</td>\n",
       "      <td>...</td>\n",
       "    </tr>\n",
       "    <tr>\n",
       "      <th>539263</th>\n",
       "      <td>2020</td>\n",
       "      <td>1</td>\n",
       "      <td>31</td>\n",
       "      <td>4</td>\n",
       "      <td>XNA</td>\n",
       "      <td>48</td>\n",
       "      <td>2020-1-31</td>\n",
       "      <td>81.617608</td>\n",
       "      <td>0.588108</td>\n",
       "    </tr>\n",
       "    <tr>\n",
       "      <th>539264</th>\n",
       "      <td>2020</td>\n",
       "      <td>1</td>\n",
       "      <td>31</td>\n",
       "      <td>4</td>\n",
       "      <td>XWA</td>\n",
       "      <td>5</td>\n",
       "      <td>2020-1-31</td>\n",
       "      <td>1.503285</td>\n",
       "      <td>3.326049</td>\n",
       "    </tr>\n",
       "    <tr>\n",
       "      <th>539265</th>\n",
       "      <td>2020</td>\n",
       "      <td>1</td>\n",
       "      <td>31</td>\n",
       "      <td>4</td>\n",
       "      <td>YAK</td>\n",
       "      <td>2</td>\n",
       "      <td>2020-1-31</td>\n",
       "      <td>3.948752</td>\n",
       "      <td>0.506489</td>\n",
       "    </tr>\n",
       "    <tr>\n",
       "      <th>539266</th>\n",
       "      <td>2020</td>\n",
       "      <td>1</td>\n",
       "      <td>31</td>\n",
       "      <td>4</td>\n",
       "      <td>YKM</td>\n",
       "      <td>4</td>\n",
       "      <td>2020-1-31</td>\n",
       "      <td>6.925099</td>\n",
       "      <td>0.577609</td>\n",
       "    </tr>\n",
       "    <tr>\n",
       "      <th>539267</th>\n",
       "      <td>2020</td>\n",
       "      <td>1</td>\n",
       "      <td>31</td>\n",
       "      <td>4</td>\n",
       "      <td>YUM</td>\n",
       "      <td>6</td>\n",
       "      <td>2020-1-31</td>\n",
       "      <td>9.149803</td>\n",
       "      <td>0.655752</td>\n",
       "    </tr>\n",
       "  </tbody>\n",
       "</table>\n",
       "<p>539268 rows × 9 columns</p>\n",
       "</div>"
      ],
      "text/plain": [
       "        Flight Year  Flight Month  Flight Day  Flight Weekday  \\\n",
       "0              2018             1           1               0   \n",
       "1              2018             1           1               0   \n",
       "2              2018             1           1               0   \n",
       "3              2018             1           1               0   \n",
       "4              2018             1           1               0   \n",
       "...             ...           ...         ...             ...   \n",
       "539263         2020             1          31               4   \n",
       "539264         2020             1          31               4   \n",
       "539265         2020             1          31               4   \n",
       "539266         2020             1          31               4   \n",
       "539267         2020             1          31               4   \n",
       "\n",
       "       Airport (IATA Code)  Flights Count       date  Average Flights Per Day  \\\n",
       "0                      ABE             10   2018-1-1                32.929041   \n",
       "1                      ABI              6   2018-1-1                11.718791   \n",
       "2                      ABQ             80   2018-1-1               148.130092   \n",
       "3                      ABR              2   2018-1-1                 4.086728   \n",
       "4                      ABY              2   2018-1-1                 5.529566   \n",
       "...                    ...            ...        ...                      ...   \n",
       "539263                 XNA             48  2020-1-31                81.617608   \n",
       "539264                 XWA              5  2020-1-31                 1.503285   \n",
       "539265                 YAK              2  2020-1-31                 3.948752   \n",
       "539266                 YKM              4  2020-1-31                 6.925099   \n",
       "539267                 YUM              6  2020-1-31                 9.149803   \n",
       "\n",
       "        Busyness Score  \n",
       "0             0.303683  \n",
       "1             0.511998  \n",
       "2             0.540066  \n",
       "3             0.489389  \n",
       "4             0.361692  \n",
       "...                ...  \n",
       "539263        0.588108  \n",
       "539264        3.326049  \n",
       "539265        0.506489  \n",
       "539266        0.577609  \n",
       "539267        0.655752  \n",
       "\n",
       "[539268 rows x 9 columns]"
      ]
     },
     "execution_count": 12,
     "metadata": {},
     "output_type": "execute_result"
    }
   ],
   "source": [
    "flights_count"
   ]
  },
  {
   "cell_type": "markdown",
   "id": "a34bf365-2cc5-4670-8ef5-4884393f82ab",
   "metadata": {},
   "source": [
    "What a beautiful busyness score!"
   ]
  },
  {
   "cell_type": "markdown",
   "id": "c68667af-f1b9-41ed-8e1f-7545b85c3439",
   "metadata": {},
   "source": [
    "# Create an ID column to easily add data as enrichment"
   ]
  },
  {
   "cell_type": "code",
   "execution_count": 13,
   "id": "7c081cfb-e8c6-4b9a-b7b8-d5d86c5b3b0a",
   "metadata": {},
   "outputs": [],
   "source": [
    "# let's take the date field since we no longer need it.\n",
    "\n",
    "flights_count['date'] = flights_count['date'] + '-' + flights_count['Airport (IATA Code)']\n",
    "flights_count = flights_count.rename(columns = {'date': 'ID'})"
   ]
  },
  {
   "cell_type": "markdown",
   "id": "32ccc736-a01c-49b9-8349-978762c3ac65",
   "metadata": {},
   "source": [
    "# Export to CSV"
   ]
  },
  {
   "cell_type": "code",
   "execution_count": 14,
   "id": "2af812d0-6765-4d85-8d0c-5e9dc4fc12a7",
   "metadata": {},
   "outputs": [],
   "source": [
    "flights_count.to_csv('../../data/processed/flights_enrichment_busyness_score.csv', index = False)"
   ]
  }
 ],
 "metadata": {
  "kernelspec": {
   "display_name": "Python 3 (ipykernel)",
   "language": "python",
   "name": "python3"
  },
  "language_info": {
   "codemirror_mode": {
    "name": "ipython",
    "version": 3
   },
   "file_extension": ".py",
   "mimetype": "text/x-python",
   "name": "python",
   "nbconvert_exporter": "python",
   "pygments_lexer": "ipython3",
   "version": "3.9.13"
  }
 },
 "nbformat": 4,
 "nbformat_minor": 5
}
