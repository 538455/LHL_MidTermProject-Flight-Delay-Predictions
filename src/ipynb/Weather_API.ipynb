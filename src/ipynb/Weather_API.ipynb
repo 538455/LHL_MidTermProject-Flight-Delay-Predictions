{
 "cells": [
  {
   "cell_type": "markdown",
   "id": "65d26012-92bc-45d2-851c-4ed2ff339f10",
   "metadata": {},
   "source": [
    "# Preparation"
   ]
  },
  {
   "cell_type": "code",
   "execution_count": 1,
   "id": "25c48004-dd6f-4fa5-872c-fa3481b3ce53",
   "metadata": {},
   "outputs": [],
   "source": [
    "import pandas as pd\n",
    "import numpy as np\n",
    "import matplotlib.pyplot as plt\n",
    "import seaborn as sns"
   ]
  },
  {
   "cell_type": "code",
   "execution_count": 2,
   "id": "21f57948-11aa-4cd0-a261-1999222d9409",
   "metadata": {
    "tags": []
   },
   "outputs": [],
   "source": [
    "flights_sample = pd.read_csv(\"../../data/processed/flights_sample.csv\", index_col=None)\n",
    "\n",
    "### Some Feature Engineering:\n",
    "\n",
    "# Change the column dtypes to the correct type for the date columns\n",
    "flights_sample['Scheduled Departure Time (local time)'] = pd.to_datetime(flights_sample['Scheduled Departure Time (local time)'])\n",
    "flights_sample['Actual Departure Time (local time)'] = pd.to_datetime(flights_sample['Actual Departure Time (local time)'])\n",
    "flights_sample['Wheels Off (local time)'] = pd.to_datetime(flights_sample['Wheels Off (local time)'])\n",
    "flights_sample['Wheels On (local time)'] = pd.to_datetime(flights_sample['Wheels On (local time)'])\n",
    "flights_sample['Scheduled Arrival Time (local time)'] = pd.to_datetime(flights_sample['Scheduled Arrival Time (local time)'])\n",
    "flights_sample['Actual Arrival Time (local time)'] = pd.to_datetime(flights_sample['Actual Arrival Time (local time)'])\n",
    "\n",
    "#Create a new column for the hour of the day for actual departure time and for wheels on time\n",
    "flights_sample['Actual Departure Hour'] = flights_sample['Actual Departure Time (local time)'].dt.hour  #I don't like that they are FLOATS.. would prefer int but having an error code because of NANs\n",
    "flights_sample['Wheels On Hour'] = flights_sample['Wheels On (local time)'].dt.hour #I don't like that they are FLOATS.. would prefer int but having an error code because of NANs\n",
    "\n",
    "# Create a new columns that calculates the difference between the departure delay and arrival delay\n",
    "flights_sample['Difference in Delay (Dep - Arr [minutes])'] = flights_sample['Departure Delay (minutes)'] - flights_sample['Arrival Delay (minutes)']\n",
    "\n",
    "#Create departure and arrival state column\n",
    "flights_sample['Departure State'] = flights_sample['Origin Airport (City, State)'].str[-2:]\n",
    "flights_sample['Arrival State'] = flights_sample['Destination Airport (City, State)'].str[-2:]"
   ]
  },
  {
   "cell_type": "code",
   "execution_count": 3,
   "id": "7e373770-93f3-4c15-a21b-649e6e2023bf",
   "metadata": {
    "collapsed": true,
    "jupyter": {
     "outputs_hidden": true
    },
    "tags": []
   },
   "outputs": [
    {
     "name": "stdout",
     "output_type": "stream",
     "text": [
      "<class 'pandas.core.frame.DataFrame'>\n",
      "RangeIndex: 199350 entries, 0 to 199349\n",
      "Data columns (total 42 columns):\n",
      " #   Column                                      Non-Null Count   Dtype         \n",
      "---  ------                                      --------------   -----         \n",
      " 0   Flight Year                                 199350 non-null  int64         \n",
      " 1   Flight Month                                199350 non-null  int64         \n",
      " 2   Flight Day                                  199350 non-null  int64         \n",
      " 3   Flight Weekday                              199350 non-null  int64         \n",
      " 4   Marketer - Unique Carrier Code              199350 non-null  object        \n",
      " 5   Operator - Unique Carrier Code              199350 non-null  object        \n",
      " 6   Different Marketer & Operator Carrier Code  199350 non-null  int64         \n",
      " 7   Tail Number                                 199350 non-null  object        \n",
      " 8   Flight Number                               199350 non-null  int64         \n",
      " 9   Origin Airport (ID)                         199350 non-null  int64         \n",
      " 10  Origin Airport (IATA Code)                  199350 non-null  object        \n",
      " 11  Origin Airport (City, State)                199350 non-null  object        \n",
      " 12  Destination Airport (ID)                    199350 non-null  int64         \n",
      " 13  Destination Airport (IATA Code)             199350 non-null  object        \n",
      " 14  Destination Airport (City, State)           199350 non-null  object        \n",
      " 15  Departure Delay (minutes)                   199350 non-null  int64         \n",
      " 16  Arrival Delay (minutes)                     199350 non-null  int64         \n",
      " 17  Cancelled                                   199350 non-null  int64         \n",
      " 18  Cancellation Code                           2753 non-null    object        \n",
      " 19  Diverted                                    199350 non-null  int64         \n",
      " 20  Scheduled Departure Time (local time)       199350 non-null  datetime64[ns]\n",
      " 21  Actual Departure Time (local time)          196744 non-null  datetime64[ns]\n",
      " 22  Taxi Out (minutes)                          196542 non-null  object        \n",
      " 23  Wheels Off (local time)                     196542 non-null  datetime64[ns]\n",
      " 24  Wheels On (local time)                      196434 non-null  datetime64[ns]\n",
      " 25  Taxi In (minutes)                           196434 non-null  object        \n",
      " 26  Scheduled Arrival Time (local time)         199350 non-null  datetime64[ns]\n",
      " 27  Actual Arrival Time (local time)            196516 non-null  datetime64[ns]\n",
      " 28  Scheduled Elapsed Time                      199350 non-null  int64         \n",
      " 29  Actual Elapsed Time                         199350 non-null  int64         \n",
      " 30  Air Time                                    199350 non-null  int64         \n",
      " 31  Distance (miles)                            199350 non-null  int64         \n",
      " 32  Carrier Delay (minutes)                     199350 non-null  int64         \n",
      " 33  Weather Delay (minutes)                     199350 non-null  int64         \n",
      " 34  National Air System Delay (minutes)         199350 non-null  int64         \n",
      " 35  Security Delay (minutes)                    199350 non-null  int64         \n",
      " 36  Late Aircraft Delay (minutes)               199350 non-null  int64         \n",
      " 37  Actual Departure Hour                       196744 non-null  float64       \n",
      " 38  Wheels On Hour                              196434 non-null  float64       \n",
      " 39  Difference in Delay (Dep - Arr [minutes])   199350 non-null  int64         \n",
      " 40  Departure State                             199350 non-null  object        \n",
      " 41  Arrival State                               199350 non-null  object        \n",
      "dtypes: datetime64[ns](6), float64(2), int64(22), object(12)\n",
      "memory usage: 63.9+ MB\n"
     ]
    }
   ],
   "source": [
    "flights_sample.info()"
   ]
  },
  {
   "cell_type": "markdown",
   "id": "2e475dcb-d7f4-43ac-b705-3b0ea5928433",
   "metadata": {},
   "source": [
    "# Orientation"
   ]
  },
  {
   "cell_type": "code",
   "execution_count": 17,
   "id": "7c3d1c1c-60f2-4a8f-b1d8-07c591958a6d",
   "metadata": {},
   "outputs": [
    {
     "data": {
      "text/plain": [
       "array(['LAS', 'SYR', 'ELP', 'DEN', 'ATL', 'TRI', 'SMF', 'EWR', 'CLT',\n",
       "       'EUG', 'AUS', 'DCA', 'GRR', 'STL', 'FAI', 'SEA', 'SJC', 'ORD',\n",
       "       'BWI', 'LFT', 'HOU', 'BOS', 'LAX', 'SFB', 'DTW', 'JLN', 'JFK',\n",
       "       'PHL', 'MEM', 'DFW', 'PHX', 'IAD', 'SDF', 'KOA', 'MCO', 'BTV',\n",
       "       'ORF', 'ABQ', 'MKE', 'LGA', 'FLL', 'MDT', 'MIA', 'CLE', 'PWM',\n",
       "       'SNA', 'HNL', 'HSV', 'IND', 'IAH', 'RNO', 'SLC', 'ROC', 'RSW',\n",
       "       'SAT', 'CMI', 'MSP', 'LRD', 'PDX', 'SFO', 'RIC', 'MSY', 'MDW',\n",
       "       'OMA', 'RDU', 'EWN', 'ECP', 'ACY', 'CAK', 'CMH', 'OAK', 'DRO',\n",
       "       'CVG', 'GEG', 'LIT', 'BNA', 'CHA', 'BUF', 'ANC', 'JAX', 'COS',\n",
       "       'SAN', 'HPN', 'XNA', 'ONT', 'SRQ', 'AGS', 'ROA', 'SAV', 'RDD',\n",
       "       'BTR', 'TPA', 'PVD', 'PSP', 'MYR', 'BDL', 'MSN', 'BZN', 'JAN',\n",
       "       'SAF', 'LWS', 'GRB', 'CAE', 'DAL', 'PBG', 'BUR', 'VPS', 'CHS',\n",
       "       'PAH', 'FSD', 'LIH', 'ALW', 'OKC', 'OGG', 'GSP', 'COU', 'BOI',\n",
       "       'SPS', 'BHM', 'GSO', 'MFE', 'ALB', 'ERI', 'IPT', 'LGB', 'GFK',\n",
       "       'MSO', 'MGM', 'BET', 'ITO', 'GTF', 'MCI', 'VLD', 'ICT', 'TYS',\n",
       "       'ASE', 'BLI', 'SCC', 'BGR', 'SGF', 'SJU', 'BFL', 'BRO', 'LBE',\n",
       "       'EVV', 'AZO', 'MFR', 'GPT', 'AVL', 'JAC', 'MTJ', 'ROW', 'PIT',\n",
       "       'BPT', 'TVC', 'ATW', 'PNS', 'DSM', 'DAY', 'AVP', 'PIB', 'ABE',\n",
       "       'FCA', 'ELM', 'PHF', 'FWA', 'CRP', 'BIL', 'PBI', 'CSG', 'LNK',\n",
       "       'MHT', 'AEX', 'HRL', 'MLI', 'MRY', 'PAE', 'GJT', 'JNU', 'TUL',\n",
       "       'RAP', 'FAR', 'MLB', 'STT', 'SJT', 'TLH', 'GCC', 'ABR', 'SUX',\n",
       "       'ILM', 'MOB', 'MBS', 'CID', 'MLU', 'BQN', 'LBB', 'FLO', 'TUS',\n",
       "       'LEX', 'CRW', 'IDA', 'PSG', 'ALO', 'SBA', 'HLN', 'TTN', 'ACK',\n",
       "       'CHO', 'MAF', 'TWF', 'ACV', 'TOL', 'SHD', 'ACT', 'SGU', 'PSC',\n",
       "       'PIE', 'COD', 'SHV', 'PLN', 'MHK', 'YUM', 'ITH', 'MEI', 'IAG',\n",
       "       'EKO', 'SBN', 'PGD', 'FAY', 'FAT', 'HIB', 'LAN', 'ISN', 'CMX',\n",
       "       'DIK', 'ABI', 'FNT', 'TYR', 'RDM', 'DVL', 'AMA', 'PQI', 'STS',\n",
       "       'JHM', 'SWF', 'KTN', 'AZA', 'ABY', 'SUN', 'RKS', 'SIT', 'LYH',\n",
       "       'GGG', 'PUB', 'EAU', 'LSE', 'MKK', 'CIU', 'GNV', 'GUM', 'SBY',\n",
       "       'EYW', 'BIS', 'RST', 'USA', 'YKM', 'DAB', 'BMI', 'OTH', 'PSM',\n",
       "       'SCK', 'CNY', 'YAK', 'EAT', 'GRK', 'ISP', 'RHI', 'DLH', 'GRI',\n",
       "       'SPN', 'HDN', 'CLL', 'BLV', 'SLN', 'CPR', 'CWA', 'SBP', 'HHH',\n",
       "       'HYS', 'SCE', 'PIA', 'BRD', 'HTS', 'FLG', 'MOT', 'BGM', 'INL',\n",
       "       'GTR', 'UIN', 'LAW', 'EGE', 'LNY', 'STX', 'DBQ', 'BQK', 'EAR',\n",
       "       'SPI', 'XWA', 'OTZ', 'ADQ', 'RFD', 'GUC', 'OME', 'BRW', 'IMT',\n",
       "       'SWO', 'OGS', 'LBF', 'OAJ', 'BFF', 'CKB', 'ORH', 'JMS', 'TXK',\n",
       "       'PUW', 'MMH', 'MVY', 'LCK', 'VEL', 'LWB', 'DRT', 'PRC', 'CGI',\n",
       "       'ROP', 'MQT', 'DHN', 'GCK', 'WRG', 'HOB', 'FSM', 'HVN', 'PIH',\n",
       "       'PVU', 'LCH', 'LAR', 'PGV', 'PSE', 'ESC', 'CDC', 'ART', 'BKG',\n",
       "       'MKG', 'CDV', 'LBL', 'HGR', 'DUT', 'OWB', 'OGD', 'CYS', 'BJI',\n",
       "       'APN', 'ATY', 'WYS', 'GST', 'SMX', 'BTM', 'PPG', 'PIR', 'DLG',\n",
       "       'HYA', 'STC', 'ADK', 'YNG', 'BFM', 'ORD', 'CLT', 'DAL', 'CHS',\n",
       "       'TPA', 'LAS', 'JAX', 'BOS', 'DEN', 'IAD', 'MCI', 'ATL', 'STL',\n",
       "       'SEA', 'PHL', 'HNL', 'DCA', 'BDL', 'DFW', 'PHX', 'LAX', 'MFE',\n",
       "       'MCO', 'PSC', 'ANC', 'RDU', 'ORF', 'TUS', 'FLL', 'MSP', 'CHA',\n",
       "       'SLC', 'TXK', 'CLE', 'CAE', 'BWI', 'PRC', 'MHT', 'EWR', 'MDT',\n",
       "       'ATW', 'SBY', 'TYS', 'MIA', 'DTW', 'ICT', 'LGA', 'OAK', 'MFR',\n",
       "       'IND', 'PDX', 'SDF', 'SGU', 'JFK', 'BUF', 'SFO', 'SAT', 'BUR',\n",
       "       'GRB', 'BNA', 'ONT', 'RSW', 'CVG', 'MDW', 'AUS', 'GSP', 'SNA',\n",
       "       'CMH', 'GEG', 'PBI', 'SCC', 'MLI', 'ABQ', 'SJC', 'CLL', 'SCE',\n",
       "       'IAH', 'STS', 'PHF', 'HDN', 'EYW', 'DSM', 'PIT', 'SMF', 'HSV',\n",
       "       'SPS', 'RDM', 'AVL', 'LGB', 'IPT', 'BOI', 'DAY', 'SAN', 'ELP',\n",
       "       'LAN', 'ILM', 'SAV', 'BLV', 'MSO', 'OKC', 'RNO', 'LIH', 'GRK',\n",
       "       'RST', 'GSO', 'FAT', 'MSY', 'BTV', 'TUL', 'BHM', 'SYR', 'LEX',\n",
       "       'CRP', 'PSP', 'MKE', 'AZA', 'FAR', 'GPT', 'CAK', 'HOU', 'SBP',\n",
       "       'GTF', 'COD', 'RIC', 'LYH', 'XNA', 'PVD', 'LRD', 'OMA', 'ROC',\n",
       "       'TRI', 'LBB', 'LFT', 'ACY', 'MSN', 'LNY', 'ITH', 'MYR', 'SGF',\n",
       "       'MEM', 'ROA', 'SBN', 'GNV', 'MLB', 'ERI', 'SRQ', 'PUB', 'LNK',\n",
       "       'CWA', 'ACK', 'AMA', 'SJU', 'OTZ', 'FWA', 'SAF', 'ELM', 'OGG',\n",
       "       'PWM', 'FCA', 'CDV', 'FSD', 'APN', 'TOL', 'TLH', 'BTR', 'ABE',\n",
       "       'PAE', 'EVV', 'FAI', 'GRR', 'FLO', 'BIL', 'DRO', 'JHM', 'DAB',\n",
       "       'DIK', 'CRW', 'BGR', 'CHO', 'LIT', 'MAF', 'VPS', 'GJT', 'HPN',\n",
       "       'BZN', 'SBA', 'ALB', 'BLI', 'EUG', 'PIA', 'KOA', 'AGS', 'DBQ',\n",
       "       'HLN', 'GCC', 'JNU', 'FLG', 'WRG', 'ECP', 'SHV', 'COS', 'JAC',\n",
       "       'MLU', 'OAJ', 'CMI', 'PIE', 'MOB', 'ADQ', 'BRO', 'BQN', 'USA',\n",
       "       'ASE', 'IDA', 'IAG', 'AVP', 'GCK', 'LAR', 'MTJ', 'ISP', 'PIB',\n",
       "       'ITO', 'LSE', 'ABY', 'LCH', 'PNS', 'ABR', 'PGV', 'SFB', 'CID',\n",
       "       'TYR', 'JAN', 'HRL', 'STT', 'LCK', 'STX', 'MBS', 'SUN', 'AZO',\n",
       "       'HIB', 'TVC', 'PBG', 'TTN', 'BGM', 'MHK', 'MMH', 'HTS', 'BFL',\n",
       "       'RFD', 'BPT', 'FNT', 'MOT', 'BMI', 'BET', 'JLN', 'BTM', 'UIN',\n",
       "       'SPN', 'AEX', 'COU', 'FAY', 'SIT', 'EKO', 'PIH', 'ACV', 'LBF',\n",
       "       'DLH', 'ABI', 'PGD', 'ALO', 'GUM', 'SJT', 'CGI', 'ORH', 'INL',\n",
       "       'RAP', 'BIS', 'MEI', 'EAT', 'HYS', 'ALW', 'OGS', 'SLN', 'LBE',\n",
       "       'SWF', 'SUX', 'ART', 'YKM', 'LWB', 'MGM', 'MRY', 'GFK', 'PAH',\n",
       "       'CPR', 'FSM', 'CNY', 'YUM', 'CMX', 'OTH', 'EAR', 'JMS', 'LBL',\n",
       "       'OME', 'DHN', 'WYS', 'SPI', 'KTN', 'HHH', 'ESC', 'HGR', 'ACT',\n",
       "       'PUW', 'BQK', 'LAW', 'GGG', 'XWA', 'GUC', 'CKB', 'PLN', 'EWN',\n",
       "       'CDC', 'LWS', 'DVL', 'VEL', 'RDD', 'BKG', 'PSE', 'EGE', 'GTR',\n",
       "       'MKK', 'GRI', 'ISN', 'PSG', 'SWO', 'CIU', 'DUT', 'ROW', 'PIR',\n",
       "       'BRW', 'TWF', 'BRD', 'MVY', 'PQI', 'VLD', 'SCK', 'IMT', 'OGD',\n",
       "       'RKS', 'MQT', 'PVU', 'SMX', 'EAU', 'BFF', 'PSM', 'RHI', 'HVN',\n",
       "       'HOB', 'CSG', 'OWB', 'SHD', 'DRT', 'CYS', 'MKG', 'YAK', 'ATY',\n",
       "       'BJI', 'HYA', 'BFM', 'PPG', 'ROP', 'STC', 'DLG'], dtype=object)"
      ]
     },
     "execution_count": 17,
     "metadata": {},
     "output_type": "execute_result"
    }
   ],
   "source": [
    "# Get a list of all Airport codes\n",
    "departure_airports = flights_sample['Origin Airport (IATA Code)'].unique()\n",
    "arrival_airports = flights_sample['Destination Airport (IATA Code)'].unique()\n",
    "airport_codes = np.concatenate((departure_airports, arrival_airports))\n",
    "#airport_codes.size\n",
    "airport_codes"
   ]
  },
  {
   "cell_type": "markdown",
   "id": "1f80e8be-53e3-4a35-b795-a753c4e14d84",
   "metadata": {},
   "source": [
    "Okay, so we need to look at 745x different airports we would need to get the weather from, on a daily basis for 2 years and 7x days"
   ]
  },
  {
   "cell_type": "code",
   "execution_count": 16,
   "id": "2d4370f0-ffcb-46ae-ba2d-1ad30fd379d4",
   "metadata": {},
   "outputs": [
    {
     "data": {
      "text/plain": [
       "37.25"
      ]
     },
     "execution_count": 16,
     "metadata": {},
     "output_type": "execute_result"
    }
   ],
   "source": [
    "(745 * ((2 * 12) + 1)) / 500"
   ]
  },
  {
   "cell_type": "markdown",
   "id": "83872e2a-87ef-4d81-87d1-0c9734d85a75",
   "metadata": {},
   "source": [
    "If we're going by day. that's a total of ~550,000 API calls.. and this is just for the sample.. we could have more than 745 airports to look at.. \n",
    "\n",
    "World Weather API is only allowing 500 request a day, so if we can pull 2x yars per API call, we should be able to pull all airports in 2x days\n",
    "- The local History API can only pull a month at a time.. that's a bummer"
   ]
  },
  {
   "cell_type": "markdown",
   "id": "82e8e7f1-e1bb-4c74-b39a-37346d6424f8",
   "metadata": {},
   "source": [
    "https://home.openweathermap.org/history_bulks/new\n",
    "\n",
    "Allows to do complete history pulls for 10USD a pull.. wow.. "
   ]
  },
  {
   "cell_type": "markdown",
   "id": "825c9abe-0b42-4387-9130-f9699bda76e1",
   "metadata": {},
   "source": [
    "https://rapidapi.com/iddogino/api/global-weather-history/pricing\n",
    "\n",
    "This guy allows 10,000 pull a month"
   ]
  },
  {
   "cell_type": "code",
   "execution_count": 29,
   "id": "564be935-19c8-4e84-b1a3-571968f57579",
   "metadata": {},
   "outputs": [
    {
     "data": {
      "text/plain": [
       "20.0"
      ]
     },
     "execution_count": 29,
     "metadata": {},
     "output_type": "execute_result"
    }
   ],
   "source": [
    "#World Weather API can pull a month at a time.. 500x calls a day.. \n",
    "500 / 25"
   ]
  },
  {
   "cell_type": "markdown",
   "id": "60912fd2-6dd2-4a62-adcc-3ad73ffffdbb",
   "metadata": {},
   "source": [
    "If we can break down in roughly 20 values we could be good.. what about per states?"
   ]
  },
  {
   "cell_type": "code",
   "execution_count": 36,
   "id": "f01c4afe-bf5c-43a8-a02d-f2bdb99ac02a",
   "metadata": {},
   "outputs": [
    {
     "data": {
      "text/plain": [
       "(53,)"
      ]
     },
     "execution_count": 36,
     "metadata": {},
     "output_type": "execute_result"
    }
   ],
   "source": [
    "# Consolidate the States into a single list\n",
    "departure_states = flights_sample['Departure State'].unique()\n",
    "arrival_states = flights_sample['Arrival State'].unique()\n",
    "states = np.concatenate((departure_states, arrival_states))\n",
    "# remove the duplicates\n",
    "states = np.unique(states)\n",
    "states.shape"
   ]
  },
  {
   "cell_type": "code",
   "execution_count": null,
   "id": "c7c437e6-18eb-4b12-a92f-d37f99452dc5",
   "metadata": {},
   "outputs": [],
   "source": []
  },
  {
   "cell_type": "code",
   "execution_count": null,
   "id": "d05388ab-3d72-4501-8d07-3bd2d6d27c47",
   "metadata": {},
   "outputs": [],
   "source": []
  },
  {
   "cell_type": "code",
   "execution_count": null,
   "id": "69cc8ab9-2b7f-4010-9844-6a1dec38e98e",
   "metadata": {},
   "outputs": [],
   "source": []
  },
  {
   "cell_type": "markdown",
   "id": "5828403d-1fe8-4f5c-b2fa-6e9017aca117",
   "metadata": {
    "jupyter": {
     "source_hidden": true
    },
    "tags": []
   },
   "source": [
    "Found this article that is scrapping Weather Underground Data using BeautifulSoup.\n",
    "https://flowingdata.com/2007/07/09/grabbing-weather-underground-data-with-beautifulsoup/\n",
    "\n",
    "Will use it as a foundation for ours"
   ]
  },
  {
   "cell_type": "markdown",
   "id": "4a0390e0-39b2-4195-ad2f-812380c2cd53",
   "metadata": {},
   "source": []
  },
  {
   "cell_type": "code",
   "execution_count": 25,
   "id": "9884bf50-260b-4858-bfd8-ada681bba06e",
   "metadata": {
    "collapsed": true,
    "jupyter": {
     "outputs_hidden": true,
     "source_hidden": true
    },
    "tags": []
   },
   "outputs": [
    {
     "name": "stdout",
     "output_type": "stream",
     "text": [
      "Requirement already satisfied: BeautifulSoup4 in c:\\users\\987\\anaconda3\\envs\\main_ide\\lib\\site-packages (4.11.1)\n",
      "Requirement already satisfied: soupsieve>1.2 in c:\\users\\987\\anaconda3\\envs\\main_ide\\lib\\site-packages (from BeautifulSoup4) (2.3.2.post1)\n"
     ]
    }
   ],
   "source": [
    "!pip install BeautifulSoup4"
   ]
  },
  {
   "cell_type": "code",
   "execution_count": 26,
   "id": "d5f49984-3e39-42b0-a9d1-68c9b1a8a04c",
   "metadata": {},
   "outputs": [],
   "source": [
    "# Let's use BeautifulSoup to parse Weather Underground's HTML\n",
    "\n",
    "def getWeather(airport):\n",
    "    from urllib.request import urlopen\n",
    "    from bs4 import BeautifulSoup\n",
    "\n",
    "    # set a the value that will store the daily weather\n",
    "    daily_weather = pd.DataFrame()\n",
    "\n",
    "    #Iterate through each days between 1 Jan 2018 and 31 Jan 2020\n",
    "    for year in range(2018,2020):\n",
    "        for m in range(1,13):\n",
    "            for d in range(1,32):\n",
    "\n",
    "                #Check if leap year\n",
    "                if year%4 == 0:\n",
    "                    leap = True\n",
    "                elif year%100 == 0:\n",
    "                    leap = False\n",
    "                elif year%400 == 0:\n",
    "                    leap = True\n",
    "                else:\n",
    "                    leap = False\n",
    "\n",
    "                #Check if already already gone through the month\n",
    "                if (m == 2 and leap and d>29):\n",
    "                    continue\n",
    "                elif (m == 2 and not leap and d>28):\n",
    "                    continue\n",
    "                elif (m in [4,6,9,11] and d>30): #original had 10 instead of 11, but 11 is correct (november has 30 days, not october)\n",
    "                    continue\n",
    "\n",
    "                # Open the URL and read the HTML\n",
    "                url = \"https://www.wunderground.com/history/daily/us/ny/new-york-city/K{}/date/{}-{}-{}\".format(airport,year,m,d)\n",
    "                page = urlopen(url).read()\n",
    "\n",
    "                # Get temperature\n",
    "                soup = BeautifulSoup(page)\n",
    "                dayTemp = soup.body.nobr.b.string\n",
    "\n",
    "                # Add to dataframe\n",
    "                daily_weather = daily_weather.append({'Date': \"{}-{}-{}\".format(year,m,d), 'Temp': dayTemp, 'Airport': airport}, ignore_index=True)"
   ]
  },
  {
   "cell_type": "code",
   "execution_count": 27,
   "id": "bbb90f13-b006-46a7-9db9-a70efb087d25",
   "metadata": {},
   "outputs": [
    {
     "ename": "AttributeError",
     "evalue": "'NoneType' object has no attribute 'b'",
     "output_type": "error",
     "traceback": [
      "\u001b[1;31m---------------------------------------------------------------------------\u001b[0m",
      "\u001b[1;31mAttributeError\u001b[0m                            Traceback (most recent call last)",
      "Input \u001b[1;32mIn [27]\u001b[0m, in \u001b[0;36m<cell line: 1>\u001b[1;34m()\u001b[0m\n\u001b[1;32m----> 1\u001b[0m \u001b[43mgetWeather\u001b[49m\u001b[43m(\u001b[49m\u001b[38;5;124;43m'\u001b[39;49m\u001b[38;5;124;43mRDU\u001b[39;49m\u001b[38;5;124;43m'\u001b[39;49m\u001b[43m)\u001b[49m\n",
      "Input \u001b[1;32mIn [26]\u001b[0m, in \u001b[0;36mgetWeather\u001b[1;34m(airport)\u001b[0m\n\u001b[0;32m     37\u001b[0m \u001b[38;5;66;03m# Get temperature\u001b[39;00m\n\u001b[0;32m     38\u001b[0m soup \u001b[38;5;241m=\u001b[39m BeautifulSoup(page)\n\u001b[1;32m---> 39\u001b[0m dayTemp \u001b[38;5;241m=\u001b[39m \u001b[43msoup\u001b[49m\u001b[38;5;241;43m.\u001b[39;49m\u001b[43mbody\u001b[49m\u001b[38;5;241;43m.\u001b[39;49m\u001b[43mnobr\u001b[49m\u001b[38;5;241;43m.\u001b[39;49m\u001b[43mb\u001b[49m\u001b[38;5;241m.\u001b[39mstring\n\u001b[0;32m     41\u001b[0m \u001b[38;5;66;03m# Add to dataframe\u001b[39;00m\n\u001b[0;32m     42\u001b[0m daily_weather \u001b[38;5;241m=\u001b[39m daily_weather\u001b[38;5;241m.\u001b[39mappend({\u001b[38;5;124m'\u001b[39m\u001b[38;5;124mDate\u001b[39m\u001b[38;5;124m'\u001b[39m: \u001b[38;5;124m\"\u001b[39m\u001b[38;5;132;01m{}\u001b[39;00m\u001b[38;5;124m-\u001b[39m\u001b[38;5;132;01m{}\u001b[39;00m\u001b[38;5;124m-\u001b[39m\u001b[38;5;132;01m{}\u001b[39;00m\u001b[38;5;124m\"\u001b[39m\u001b[38;5;241m.\u001b[39mformat(year,m,d), \u001b[38;5;124m'\u001b[39m\u001b[38;5;124mTemp\u001b[39m\u001b[38;5;124m'\u001b[39m: dayTemp, \u001b[38;5;124m'\u001b[39m\u001b[38;5;124mAirport\u001b[39m\u001b[38;5;124m'\u001b[39m: airport}, ignore_index\u001b[38;5;241m=\u001b[39m\u001b[38;5;28;01mTrue\u001b[39;00m)\n",
      "\u001b[1;31mAttributeError\u001b[0m: 'NoneType' object has no attribute 'b'"
     ]
    }
   ],
   "source": [
    "getWeather('RDU')"
   ]
  },
  {
   "cell_type": "code",
   "execution_count": null,
   "id": "44d8fd00-9ba9-4548-a5cb-9c4d78089517",
   "metadata": {},
   "outputs": [],
   "source": []
  }
 ],
 "metadata": {
  "kernelspec": {
   "display_name": "Main_IDE",
   "language": "python",
   "name": "main_ide"
  },
  "language_info": {
   "codemirror_mode": {
    "name": "ipython",
    "version": 3
   },
   "file_extension": ".py",
   "mimetype": "text/x-python",
   "name": "python",
   "nbconvert_exporter": "python",
   "pygments_lexer": "ipython3",
   "version": "3.9.13"
  }
 },
 "nbformat": 4,
 "nbformat_minor": 5
}
